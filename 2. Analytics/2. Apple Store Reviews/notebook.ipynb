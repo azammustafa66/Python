{
 "cells": [
  {
   "cell_type": "markdown",
   "metadata": {},
   "source": [
    "# Apple Store Reviews\n",
    "As a data Analyst you will apply key statistical concepts to analyze a dataset of Apple Store product reviews. Your objective is to perform descriptive and inferential statistical analysis to draw meaningful insights from the data."
   ]
  },
  {
   "cell_type": "code",
   "execution_count": 2,
   "metadata": {},
   "outputs": [],
   "source": [
    "import numpy as np\n",
    "import pandas as pd\n",
    "import matplotlib.pyplot as plt\n",
    "import seaborn as sns\n",
    "import scipy.stats as stats"
   ]
  },
  {
   "cell_type": "code",
   "execution_count": 3,
   "metadata": {},
   "outputs": [
    {
     "data": {
      "text/html": [
       "<div>\n",
       "<style scoped>\n",
       "    .dataframe tbody tr th:only-of-type {\n",
       "        vertical-align: middle;\n",
       "    }\n",
       "\n",
       "    .dataframe tbody tr th {\n",
       "        vertical-align: top;\n",
       "    }\n",
       "\n",
       "    .dataframe thead th {\n",
       "        text-align: right;\n",
       "    }\n",
       "</style>\n",
       "<table border=\"1\" class=\"dataframe\">\n",
       "  <thead>\n",
       "    <tr style=\"text-align: right;\">\n",
       "      <th></th>\n",
       "      <th>Review_ID</th>\n",
       "      <th>App_Name</th>\n",
       "      <th>User_Age</th>\n",
       "      <th>Review_Date</th>\n",
       "      <th>Rating</th>\n",
       "      <th>Review_Text</th>\n",
       "      <th>Likes</th>\n",
       "      <th>Device_Type</th>\n",
       "      <th>Version_Used</th>\n",
       "      <th>Country</th>\n",
       "      <th>Purchase_Amount</th>\n",
       "      <th>Category</th>\n",
       "    </tr>\n",
       "  </thead>\n",
       "  <tbody>\n",
       "    <tr>\n",
       "      <th>0</th>\n",
       "      <td>1</td>\n",
       "      <td>Candy Crush Saga</td>\n",
       "      <td>21</td>\n",
       "      <td>2023-01-16</td>\n",
       "      <td>4</td>\n",
       "      <td>Great game, but too many in-game purchases.</td>\n",
       "      <td>70</td>\n",
       "      <td>iPhone 12</td>\n",
       "      <td>3.231.19</td>\n",
       "      <td>Australia</td>\n",
       "      <td>0.00</td>\n",
       "      <td>Games</td>\n",
       "    </tr>\n",
       "    <tr>\n",
       "      <th>1</th>\n",
       "      <td>2</td>\n",
       "      <td>Spotify</td>\n",
       "      <td>57</td>\n",
       "      <td>2024-02-01</td>\n",
       "      <td>1</td>\n",
       "      <td>Good, but has connection issues sometimes.</td>\n",
       "      <td>49</td>\n",
       "      <td>iPhone SE</td>\n",
       "      <td>4.102.9</td>\n",
       "      <td>Germany</td>\n",
       "      <td>7.15</td>\n",
       "      <td>Music</td>\n",
       "    </tr>\n",
       "    <tr>\n",
       "      <th>2</th>\n",
       "      <td>3</td>\n",
       "      <td>TikTok</td>\n",
       "      <td>33</td>\n",
       "      <td>2023-11-30</td>\n",
       "      <td>5</td>\n",
       "      <td>Awesome app! Best entertainment content.</td>\n",
       "      <td>98</td>\n",
       "      <td>iPhone 12</td>\n",
       "      <td>7.52.0</td>\n",
       "      <td>Germany</td>\n",
       "      <td>4.98</td>\n",
       "      <td>Entertainment</td>\n",
       "    </tr>\n",
       "    <tr>\n",
       "      <th>3</th>\n",
       "      <td>4</td>\n",
       "      <td>Audible</td>\n",
       "      <td>40</td>\n",
       "      <td>2023-04-03</td>\n",
       "      <td>5</td>\n",
       "      <td>Great app, but it's a bit pricey.</td>\n",
       "      <td>74</td>\n",
       "      <td>iPhone 13</td>\n",
       "      <td>5.260.15</td>\n",
       "      <td>Australia</td>\n",
       "      <td>0.00</td>\n",
       "      <td>Books</td>\n",
       "    </tr>\n",
       "    <tr>\n",
       "      <th>4</th>\n",
       "      <td>5</td>\n",
       "      <td>Spotify</td>\n",
       "      <td>44</td>\n",
       "      <td>2023-05-01</td>\n",
       "      <td>1</td>\n",
       "      <td>Good, but has connection issues sometimes.</td>\n",
       "      <td>47</td>\n",
       "      <td>iPhone SE</td>\n",
       "      <td>4.50.18</td>\n",
       "      <td>Australia</td>\n",
       "      <td>14.31</td>\n",
       "      <td>Music</td>\n",
       "    </tr>\n",
       "    <tr>\n",
       "      <th>5</th>\n",
       "      <td>6</td>\n",
       "      <td>Headspace</td>\n",
       "      <td>28</td>\n",
       "      <td>2024-05-04</td>\n",
       "      <td>3</td>\n",
       "      <td>Could be better. Some sessions don't work.</td>\n",
       "      <td>26</td>\n",
       "      <td>iPhone 13</td>\n",
       "      <td>7.191.0</td>\n",
       "      <td>India</td>\n",
       "      <td>7.45</td>\n",
       "      <td>Health</td>\n",
       "    </tr>\n",
       "    <tr>\n",
       "      <th>6</th>\n",
       "      <td>7</td>\n",
       "      <td>WhatsApp</td>\n",
       "      <td>30</td>\n",
       "      <td>2024-09-14</td>\n",
       "      <td>1</td>\n",
       "      <td>Terrible experience. The app doesn't work prop...</td>\n",
       "      <td>10</td>\n",
       "      <td>iPhone 14</td>\n",
       "      <td>4.279.13</td>\n",
       "      <td>Australia</td>\n",
       "      <td>9.78</td>\n",
       "      <td>Social</td>\n",
       "    </tr>\n",
       "    <tr>\n",
       "      <th>7</th>\n",
       "      <td>8</td>\n",
       "      <td>Clash of Clans</td>\n",
       "      <td>44</td>\n",
       "      <td>2022-12-07</td>\n",
       "      <td>1</td>\n",
       "      <td>Not worth the download. Keeps crashing.</td>\n",
       "      <td>20</td>\n",
       "      <td>iPhone 13</td>\n",
       "      <td>2.232.7</td>\n",
       "      <td>Australia</td>\n",
       "      <td>12.83</td>\n",
       "      <td>Games</td>\n",
       "    </tr>\n",
       "    <tr>\n",
       "      <th>8</th>\n",
       "      <td>9</td>\n",
       "      <td>TikTok</td>\n",
       "      <td>34</td>\n",
       "      <td>2024-02-11</td>\n",
       "      <td>1</td>\n",
       "      <td>Terrible! Hard to navigate and slow.</td>\n",
       "      <td>7</td>\n",
       "      <td>iPhone 11</td>\n",
       "      <td>2.102.4</td>\n",
       "      <td>Australia</td>\n",
       "      <td>0.00</td>\n",
       "      <td>Entertainment</td>\n",
       "    </tr>\n",
       "    <tr>\n",
       "      <th>9</th>\n",
       "      <td>10</td>\n",
       "      <td>Zoom</td>\n",
       "      <td>55</td>\n",
       "      <td>2023-02-25</td>\n",
       "      <td>1</td>\n",
       "      <td>Worst experience. Constantly crashes during me...</td>\n",
       "      <td>5</td>\n",
       "      <td>iPhone SE</td>\n",
       "      <td>1.294.20</td>\n",
       "      <td>US</td>\n",
       "      <td>0.00</td>\n",
       "      <td>Business</td>\n",
       "    </tr>\n",
       "  </tbody>\n",
       "</table>\n",
       "</div>"
      ],
      "text/plain": [
       "   Review_ID          App_Name  User_Age Review_Date  Rating  \\\n",
       "0          1  Candy Crush Saga        21  2023-01-16       4   \n",
       "1          2           Spotify        57  2024-02-01       1   \n",
       "2          3            TikTok        33  2023-11-30       5   \n",
       "3          4           Audible        40  2023-04-03       5   \n",
       "4          5           Spotify        44  2023-05-01       1   \n",
       "5          6         Headspace        28  2024-05-04       3   \n",
       "6          7          WhatsApp        30  2024-09-14       1   \n",
       "7          8    Clash of Clans        44  2022-12-07       1   \n",
       "8          9            TikTok        34  2024-02-11       1   \n",
       "9         10              Zoom        55  2023-02-25       1   \n",
       "\n",
       "                                         Review_Text  Likes Device_Type  \\\n",
       "0        Great game, but too many in-game purchases.     70   iPhone 12   \n",
       "1         Good, but has connection issues sometimes.     49   iPhone SE   \n",
       "2           Awesome app! Best entertainment content.     98   iPhone 12   \n",
       "3                  Great app, but it's a bit pricey.     74   iPhone 13   \n",
       "4         Good, but has connection issues sometimes.     47   iPhone SE   \n",
       "5         Could be better. Some sessions don't work.     26   iPhone 13   \n",
       "6  Terrible experience. The app doesn't work prop...     10   iPhone 14   \n",
       "7            Not worth the download. Keeps crashing.     20   iPhone 13   \n",
       "8               Terrible! Hard to navigate and slow.      7   iPhone 11   \n",
       "9  Worst experience. Constantly crashes during me...      5   iPhone SE   \n",
       "\n",
       "  Version_Used    Country  Purchase_Amount       Category  \n",
       "0     3.231.19  Australia             0.00          Games  \n",
       "1      4.102.9    Germany             7.15          Music  \n",
       "2       7.52.0    Germany             4.98  Entertainment  \n",
       "3     5.260.15  Australia             0.00          Books  \n",
       "4      4.50.18  Australia            14.31          Music  \n",
       "5      7.191.0      India             7.45         Health  \n",
       "6     4.279.13  Australia             9.78         Social  \n",
       "7      2.232.7  Australia            12.83          Games  \n",
       "8      2.102.4  Australia             0.00  Entertainment  \n",
       "9     1.294.20         US             0.00       Business  "
      ]
     },
     "execution_count": 3,
     "metadata": {},
     "output_type": "execute_result"
    }
   ],
   "source": [
    "df = pd.read_csv('./Apple_Store_Reviews.csv')\n",
    "df.head(10)"
   ]
  },
  {
   "cell_type": "code",
   "execution_count": 4,
   "metadata": {},
   "outputs": [
    {
     "data": {
      "text/html": [
       "<div>\n",
       "<style scoped>\n",
       "    .dataframe tbody tr th:only-of-type {\n",
       "        vertical-align: middle;\n",
       "    }\n",
       "\n",
       "    .dataframe tbody tr th {\n",
       "        vertical-align: top;\n",
       "    }\n",
       "\n",
       "    .dataframe thead th {\n",
       "        text-align: right;\n",
       "    }\n",
       "</style>\n",
       "<table border=\"1\" class=\"dataframe\">\n",
       "  <thead>\n",
       "    <tr style=\"text-align: right;\">\n",
       "      <th></th>\n",
       "      <th>Review_ID</th>\n",
       "      <th>App_Name</th>\n",
       "      <th>User_Age</th>\n",
       "      <th>Review_Date</th>\n",
       "      <th>Rating</th>\n",
       "      <th>Review_Text</th>\n",
       "      <th>Likes</th>\n",
       "      <th>Device_Type</th>\n",
       "      <th>Version_Used</th>\n",
       "      <th>Country</th>\n",
       "      <th>Purchase_Amount</th>\n",
       "      <th>Category</th>\n",
       "    </tr>\n",
       "  </thead>\n",
       "  <tbody>\n",
       "    <tr>\n",
       "      <th>990</th>\n",
       "      <td>991</td>\n",
       "      <td>Candy Crush Saga</td>\n",
       "      <td>31</td>\n",
       "      <td>2024-03-25</td>\n",
       "      <td>1</td>\n",
       "      <td>Not worth the download. Keeps crashing.</td>\n",
       "      <td>7</td>\n",
       "      <td>iPhone 11</td>\n",
       "      <td>2.125.4</td>\n",
       "      <td>Australia</td>\n",
       "      <td>0.00</td>\n",
       "      <td>Games</td>\n",
       "    </tr>\n",
       "    <tr>\n",
       "      <th>991</th>\n",
       "      <td>992</td>\n",
       "      <td>Clash of Clans</td>\n",
       "      <td>28</td>\n",
       "      <td>2022-11-26</td>\n",
       "      <td>1</td>\n",
       "      <td>Not worth the download. Keeps crashing.</td>\n",
       "      <td>13</td>\n",
       "      <td>iPhone 11</td>\n",
       "      <td>9.46.20</td>\n",
       "      <td>Australia</td>\n",
       "      <td>13.22</td>\n",
       "      <td>Games</td>\n",
       "    </tr>\n",
       "    <tr>\n",
       "      <th>992</th>\n",
       "      <td>993</td>\n",
       "      <td>Audible</td>\n",
       "      <td>27</td>\n",
       "      <td>2023-06-27</td>\n",
       "      <td>1</td>\n",
       "      <td>Terrible. Very limited selection of books.</td>\n",
       "      <td>6</td>\n",
       "      <td>iPhone 14</td>\n",
       "      <td>8.249.2</td>\n",
       "      <td>US</td>\n",
       "      <td>0.00</td>\n",
       "      <td>Books</td>\n",
       "    </tr>\n",
       "    <tr>\n",
       "      <th>993</th>\n",
       "      <td>994</td>\n",
       "      <td>Audible</td>\n",
       "      <td>29</td>\n",
       "      <td>2023-09-18</td>\n",
       "      <td>1</td>\n",
       "      <td>Good, but needs more features for listeners.</td>\n",
       "      <td>36</td>\n",
       "      <td>iPhone X</td>\n",
       "      <td>10.41.0</td>\n",
       "      <td>US</td>\n",
       "      <td>13.66</td>\n",
       "      <td>Books</td>\n",
       "    </tr>\n",
       "    <tr>\n",
       "      <th>994</th>\n",
       "      <td>995</td>\n",
       "      <td>Headspace</td>\n",
       "      <td>54</td>\n",
       "      <td>2022-11-02</td>\n",
       "      <td>1</td>\n",
       "      <td>Not helpful at all. Content is repetitive.</td>\n",
       "      <td>16</td>\n",
       "      <td>iPhone X</td>\n",
       "      <td>1.177.15</td>\n",
       "      <td>France</td>\n",
       "      <td>0.00</td>\n",
       "      <td>Health</td>\n",
       "    </tr>\n",
       "    <tr>\n",
       "      <th>995</th>\n",
       "      <td>996</td>\n",
       "      <td>Headspace</td>\n",
       "      <td>30</td>\n",
       "      <td>2023-11-15</td>\n",
       "      <td>3</td>\n",
       "      <td>Good, but the premium content is expensive.</td>\n",
       "      <td>65</td>\n",
       "      <td>iPhone SE</td>\n",
       "      <td>6.284.11</td>\n",
       "      <td>US</td>\n",
       "      <td>0.00</td>\n",
       "      <td>Health</td>\n",
       "    </tr>\n",
       "    <tr>\n",
       "      <th>996</th>\n",
       "      <td>997</td>\n",
       "      <td>Duolingo</td>\n",
       "      <td>19</td>\n",
       "      <td>2024-09-27</td>\n",
       "      <td>1</td>\n",
       "      <td>Disappointing. Hard to follow and buggy.</td>\n",
       "      <td>4</td>\n",
       "      <td>iPhone SE</td>\n",
       "      <td>6.293.8</td>\n",
       "      <td>Canada</td>\n",
       "      <td>7.25</td>\n",
       "      <td>Education</td>\n",
       "    </tr>\n",
       "    <tr>\n",
       "      <th>997</th>\n",
       "      <td>998</td>\n",
       "      <td>Duolingo</td>\n",
       "      <td>38</td>\n",
       "      <td>2023-06-07</td>\n",
       "      <td>5</td>\n",
       "      <td>Excellent for learning new skills!</td>\n",
       "      <td>85</td>\n",
       "      <td>iPhone 11</td>\n",
       "      <td>10.277.15</td>\n",
       "      <td>Mexico</td>\n",
       "      <td>13.33</td>\n",
       "      <td>Education</td>\n",
       "    </tr>\n",
       "    <tr>\n",
       "      <th>998</th>\n",
       "      <td>999</td>\n",
       "      <td>Instagram</td>\n",
       "      <td>52</td>\n",
       "      <td>2024-03-04</td>\n",
       "      <td>4</td>\n",
       "      <td>Great app, but sometimes it lags.</td>\n",
       "      <td>55</td>\n",
       "      <td>iPhone 13</td>\n",
       "      <td>3.52.20</td>\n",
       "      <td>US</td>\n",
       "      <td>6.37</td>\n",
       "      <td>Social</td>\n",
       "    </tr>\n",
       "    <tr>\n",
       "      <th>999</th>\n",
       "      <td>1000</td>\n",
       "      <td>Audible</td>\n",
       "      <td>25</td>\n",
       "      <td>2024-02-20</td>\n",
       "      <td>2</td>\n",
       "      <td>Terrible. Very limited selection of books.</td>\n",
       "      <td>7</td>\n",
       "      <td>iPhone 13</td>\n",
       "      <td>9.150.8</td>\n",
       "      <td>India</td>\n",
       "      <td>8.32</td>\n",
       "      <td>Books</td>\n",
       "    </tr>\n",
       "  </tbody>\n",
       "</table>\n",
       "</div>"
      ],
      "text/plain": [
       "     Review_ID          App_Name  User_Age Review_Date  Rating  \\\n",
       "990        991  Candy Crush Saga        31  2024-03-25       1   \n",
       "991        992    Clash of Clans        28  2022-11-26       1   \n",
       "992        993           Audible        27  2023-06-27       1   \n",
       "993        994           Audible        29  2023-09-18       1   \n",
       "994        995         Headspace        54  2022-11-02       1   \n",
       "995        996         Headspace        30  2023-11-15       3   \n",
       "996        997          Duolingo        19  2024-09-27       1   \n",
       "997        998          Duolingo        38  2023-06-07       5   \n",
       "998        999         Instagram        52  2024-03-04       4   \n",
       "999       1000           Audible        25  2024-02-20       2   \n",
       "\n",
       "                                      Review_Text  Likes Device_Type  \\\n",
       "990       Not worth the download. Keeps crashing.      7   iPhone 11   \n",
       "991       Not worth the download. Keeps crashing.     13   iPhone 11   \n",
       "992    Terrible. Very limited selection of books.      6   iPhone 14   \n",
       "993  Good, but needs more features for listeners.     36    iPhone X   \n",
       "994    Not helpful at all. Content is repetitive.     16    iPhone X   \n",
       "995   Good, but the premium content is expensive.     65   iPhone SE   \n",
       "996      Disappointing. Hard to follow and buggy.      4   iPhone SE   \n",
       "997            Excellent for learning new skills!     85   iPhone 11   \n",
       "998             Great app, but sometimes it lags.     55   iPhone 13   \n",
       "999    Terrible. Very limited selection of books.      7   iPhone 13   \n",
       "\n",
       "    Version_Used    Country  Purchase_Amount   Category  \n",
       "990      2.125.4  Australia             0.00      Games  \n",
       "991      9.46.20  Australia            13.22      Games  \n",
       "992      8.249.2         US             0.00      Books  \n",
       "993      10.41.0         US            13.66      Books  \n",
       "994     1.177.15     France             0.00     Health  \n",
       "995     6.284.11         US             0.00     Health  \n",
       "996      6.293.8     Canada             7.25  Education  \n",
       "997    10.277.15     Mexico            13.33  Education  \n",
       "998      3.52.20         US             6.37     Social  \n",
       "999      9.150.8      India             8.32      Books  "
      ]
     },
     "execution_count": 4,
     "metadata": {},
     "output_type": "execute_result"
    }
   ],
   "source": [
    "df.tail(10)"
   ]
  },
  {
   "cell_type": "code",
   "execution_count": 5,
   "metadata": {},
   "outputs": [
    {
     "name": "stdout",
     "output_type": "stream",
     "text": [
      "<class 'pandas.core.frame.DataFrame'>\n",
      "RangeIndex: 1000 entries, 0 to 999\n",
      "Data columns (total 12 columns):\n",
      " #   Column           Non-Null Count  Dtype  \n",
      "---  ------           --------------  -----  \n",
      " 0   Review_ID        1000 non-null   int64  \n",
      " 1   App_Name         1000 non-null   object \n",
      " 2   User_Age         1000 non-null   int64  \n",
      " 3   Review_Date      1000 non-null   object \n",
      " 4   Rating           1000 non-null   int64  \n",
      " 5   Review_Text      1000 non-null   object \n",
      " 6   Likes            1000 non-null   int64  \n",
      " 7   Device_Type      1000 non-null   object \n",
      " 8   Version_Used     1000 non-null   object \n",
      " 9   Country          1000 non-null   object \n",
      " 10  Purchase_Amount  1000 non-null   float64\n",
      " 11  Category         1000 non-null   object \n",
      "dtypes: float64(1), int64(4), object(7)\n",
      "memory usage: 93.9+ KB\n"
     ]
    }
   ],
   "source": [
    "df.info()"
   ]
  },
  {
   "cell_type": "code",
   "execution_count": 6,
   "metadata": {},
   "outputs": [
    {
     "data": {
      "text/plain": [
       "(1000, 12)"
      ]
     },
     "execution_count": 6,
     "metadata": {},
     "output_type": "execute_result"
    }
   ],
   "source": [
    "df.shape"
   ]
  },
  {
   "cell_type": "markdown",
   "metadata": {},
   "source": [
    "*Calculate the mean, median, and mode of the app ratings in the dataset. Which measure (mean, median, or mode) best represents the central tendency of the ratings?*"
   ]
  },
  {
   "cell_type": "code",
   "execution_count": 7,
   "metadata": {},
   "outputs": [
    {
     "name": "stdout",
     "output_type": "stream",
     "text": [
      "Mean:  2.869\n",
      "Median:  3.0\n",
      "Mode:  0    1\n",
      "Name: Rating, dtype: int64\n"
     ]
    }
   ],
   "source": [
    "mean = df['Rating'].mean()\n",
    "median = df['Rating'].median()\n",
    "mode = df['Rating'].mode()\n",
    "\n",
    "print('Mean: ', mean)\n",
    "print('Median: ', median)\n",
    "print('Mode: ', mode)"
   ]
  },
  {
   "cell_type": "markdown",
   "metadata": {},
   "source": [
    "The mean and median are very close with only 0.2 difference indicating data is normally distributed"
   ]
  },
  {
   "cell_type": "markdown",
   "metadata": {},
   "source": [
    "*Find the range and interquartile range (IQR) of the Purchase_Amount in the dataset. How do these values help in understanding the spread of the data?*\n"
   ]
  },
  {
   "cell_type": "code",
   "execution_count": 8,
   "metadata": {},
   "outputs": [
    {
     "name": "stdout",
     "output_type": "stream",
     "text": [
      "Range:  19.97\n",
      "IQR: 10.19\n"
     ]
    }
   ],
   "source": [
    "df_range = df['Purchase_Amount'].max() - df['Purchase_Amount'].min()\n",
    "iqr = df['Purchase_Amount'].quantile(0.75) - df['Purchase_Amount'].quantile(0.25)\n",
    "\n",
    "print('Range: ', df_range)\n",
    "print('IQR: {:.2f}'.format(iqr))"
   ]
  },
  {
   "cell_type": "markdown",
   "metadata": {},
   "source": [
    "The range and IQR have a difference of almost 9 suggesting data is spread out having significant extreme values."
   ]
  },
  {
   "cell_type": "markdown",
   "metadata": {},
   "source": [
    "*Calculate the variance and standard deviation for the number of likes received on reviews. What does the standard deviation indicate about the spread of the data?*"
   ]
  },
  {
   "cell_type": "code",
   "execution_count": 9,
   "metadata": {},
   "outputs": [
    {
     "name": "stdout",
     "output_type": "stream",
     "text": [
      "Variance: 2.15\n",
      "Standard Deviation: 1.47\n"
     ]
    }
   ],
   "source": [
    "variance = df['Rating'].var()\n",
    "std_dev = df['Rating'].std()\n",
    "\n",
    "print('Variance: {:.2f}'.format(variance))\n",
    "print('Standard Deviation: {:.2f}'.format(std_dev))"
   ]
  },
  {
   "cell_type": "markdown",
   "metadata": {},
   "source": [
    "Variance and standard deviation have a difference of about 0.6 suggesting that data is clustered around mean and not spread out like `Purchase_Amount`"
   ]
  },
  {
   "cell_type": "markdown",
   "metadata": {},
   "source": [
    "*Determine the correlation between the likes and the rating given. Is there a positive, negative, or no correlation between these variables?*"
   ]
  },
  {
   "cell_type": "code",
   "execution_count": 10,
   "metadata": {},
   "outputs": [
    {
     "name": "stdout",
     "output_type": "stream",
     "text": [
      "Correlation between Likes and Rating: 0.84\n"
     ]
    }
   ],
   "source": [
    "corr_likes_rating = df['Likes'].corr(df['Rating'])\n",
    "\n",
    "print('Correlation between Likes and Rating: {:.2f}'.format(corr_likes_rating))"
   ]
  },
  {
   "cell_type": "markdown",
   "metadata": {},
   "source": [
    "The correlation being almost close to 1 suggesting a strong relation between likes and rating which implicates that a larger population is facing the same problem on average."
   ]
  },
  {
   "cell_type": "markdown",
   "metadata": {},
   "source": [
    "*Plot the distribution of the app ratings. Is the distribution positively or negatively skewed? What does this indicate about user satisfaction?*"
   ]
  },
  {
   "cell_type": "code",
   "execution_count": 11,
   "metadata": {},
   "outputs": [
    {
     "data": {
      "image/png": "[encoded data removed]",
      "text/plain": [
       "<Figure size 1000x600 with 1 Axes>"
      ]
     },
     "metadata": {},
     "output_type": "display_data"
    }
   ],
   "source": [
    "plt.figure(figsize=(10, 6))\n",
    "sns.kdeplot(df['Rating'], color='blue', fill=True)\n",
    "plt.title('Rating Distribution')\n",
    "plt.xlabel('Rating')\n",
    "plt.ylabel('Frequency')\n",
    "plt.show()"
   ]
  },
  {
   "cell_type": "markdown",
   "metadata": {},
   "source": [
    "The KDE plot indicates that most users are either dissatisfied (with lower ratings) or neutral (at a rating of 3), as it shows a higher concentration of ratings at 3 compared to 4 or 5. This suggests that users are generally more dissatisfied or indifferent rather than satisfied."
   ]
  },
  {
   "cell_type": "markdown",
   "metadata": {},
   "source": [
    "*Perform a hypothesis test to determine if the average rating for Instagram is significantly higher than the average rating for WhatsApp. Use a 95% confidence level.*"
   ]
  },
  {
   "cell_type": "code",
   "execution_count": 14,
   "metadata": {},
   "outputs": [
    {
     "name": "stdout",
     "output_type": "stream",
     "text": [
      "Fail to reject the null hypothesis: No significant difference between Instagram's and WhatsApp's ratings.\n",
      "WhatsApp Mean Rating: 2.9327\n",
      "Instagram Mean Rating: 2.7739\n",
      "t-statistic: 0.796742\n",
      "p-value: 0.2132\n"
     ]
    }
   ],
   "source": [
    "whatsapp_rating = df[df['App_Name'] == 'WhatsApp']['Rating']\n",
    "instagram_rating = df[df['App_Name'] == 'Instagram']['Rating']\n",
    "\n",
    "whatsapp_mean = whatsapp_rating.mean()\n",
    "instagram_mean = instagram_rating.mean()\n",
    "\n",
    "whatsapp_std = whatsapp_rating.std()\n",
    "instagram_std = instagram_rating.std()\n",
    "\n",
    "whatsapp_size = len(whatsapp_rating)\n",
    "instagram_size = len(instagram_rating)\n",
    "\n",
    "t_stat, p_val = stats.ttest_ind(whatsapp_rating, instagram_rating, alternative='greater')\n",
    "\n",
    "alpha = 0.05\n",
    "\n",
    "if p_val < alpha:\n",
    "    print(f\"Reject the null hypothesis: Instagram's average rating is significantly higher than WhatsApp's.\")\n",
    "else:\n",
    "    print(f\"Fail to reject the null hypothesis: No significant difference between Instagram's and WhatsApp's ratings.\")\n",
    "\n",
    "print(f\"WhatsApp Mean Rating: {whatsapp_mean:.4f}\")\n",
    "print(f\"Instagram Mean Rating: {instagram_mean:.4f}\")\n",
    "print(f\"t-statistic: {t_stat:4f}\")\n",
    "print(f\"p-value: {p_val:.4f}\")"
   ]
  },
  {
   "cell_type": "markdown",
   "metadata": {},
   "source": [
    "*Take random samples of ratings from the dataset and calculate their means. Create a sampling distribution and explain how this relates to the Central Limit Theorem.*"
   ]
  },
  {
   "cell_type": "code",
   "execution_count": 15,
   "metadata": {},
   "outputs": [
    {
     "data": {
      "image/png": "[encoded data removed]",
      "text/plain": [
       "<Figure size 1000x600 with 1 Axes>"
      ]
     },
     "metadata": {},
     "output_type": "display_data"
    }
   ],
   "source": [
    "ratings = df['Rating']\n",
    "\n",
    "sample_size = 30\n",
    "num_samples = 1000\n",
    "\n",
    "sample_means = np.zeros(num_samples)\n",
    "\n",
    "for i in range(num_samples):\n",
    "    sample = np.random.choice(ratings, sample_size, replace=True)\n",
    "    sample_means[i] = sample.mean()\n",
    "\n",
    "plt.figure(figsize=(10, 6))\n",
    "sns.kdeplot(sample_means, color='blue', fill=True)\n",
    "plt.title('Sampling Distribution of the Mean')\n",
    "plt.xlabel('Mean Rating')\n",
    "plt.ylabel('Frequency')\n",
    "plt.show()"
   ]
  },
  {
   "cell_type": "markdown",
   "metadata": {},
   "source": [
    "The Central Limit Theorem tells us that the sampling distribution of the sample means will approach a normal distribution as we increase the number of samples and the sample size, even if the original data distribution is skewed or not normal."
   ]
  }
 ],
 "metadata": {
  "kernelspec": {
   "display_name": ".venv",
   "language": "python",
   "name": "python3"
  },
  "language_info": {
   "codemirror_mode": {
    "name": "ipython",
    "version": 3
   },
   "file_extension": ".py",
   "mimetype": "text/x-python",
   "name": "python",
   "nbconvert_exporter": "python",
   "pygments_lexer": "ipython3",
   "version": "3.12.4"
  }
 },
 "nbformat": 4,
 "nbformat_minor": 2
}
