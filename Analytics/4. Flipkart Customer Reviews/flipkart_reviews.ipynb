{
 "cells": [
  {
   "cell_type": "markdown",
   "metadata": {},
   "source": [
    "# Flipkart Customer Review Sentiment Analysis"
   ]
  },
  {
   "cell_type": "markdown",
   "metadata": {},
   "source": [
    "# Web Scraping\n",
    "\n",
    "Scrap at least 350 reviews from Flipkart website with details including Name, City, Review, Ratings and Review Month and Year"
   ]
  },
  {
   "cell_type": "code",
   "execution_count": 1,
   "metadata": {},
   "outputs": [],
   "source": [
    "from bs4 import BeautifulSoup\n",
    "from selenium import webdriver\n",
    "from selenium.webdriver.common.by import By\n",
    "from selenium.webdriver.support.ui import WebDriverWait\n",
    "from selenium.webdriver.support import expected_conditions as EC\n",
    "import time"
   ]
  },
  {
   "cell_type": "code",
   "execution_count": 2,
   "metadata": {},
   "outputs": [
    {
     "name": "stdout",
     "output_type": "stream",
     "text": [
      "Clicked the review button successfully!\n",
      "Page 2 scraped successfully!\n",
      "Page 3 scraped successfully!\n",
      "Page 4 scraped successfully!\n",
      "Page 5 scraped successfully!\n",
      "Page 6 scraped successfully!\n",
      "Page 7 scraped successfully!\n",
      "Page 8 scraped successfully!\n",
      "Page 9 scraped successfully!\n",
      "Page 10 scraped successfully!\n",
      "Page 11 scraped successfully!\n",
      "Page 12 scraped successfully!\n",
      "Page 13 scraped successfully!\n",
      "Page 14 scraped successfully!\n",
      "Page 15 scraped successfully!\n",
      "Page 16 scraped successfully!\n",
      "Page 17 scraped successfully!\n",
      "Page 18 scraped successfully!\n",
      "Page 19 scraped successfully!\n",
      "Page 20 scraped successfully!\n",
      "Page 21 scraped successfully!\n",
      "Page 22 scraped successfully!\n",
      "Page 23 scraped successfully!\n",
      "Page 24 scraped successfully!\n",
      "Page 25 scraped successfully!\n",
      "Page 26 scraped successfully!\n",
      "Page 27 scraped successfully!\n",
      "Page 28 scraped successfully!\n",
      "Page 29 scraped successfully!\n",
      "Page 30 scraped successfully!\n",
      "Page 31 scraped successfully!\n",
      "Page 32 scraped successfully!\n",
      "Page 33 scraped successfully!\n",
      "Page 34 scraped successfully!\n",
      "Page 35 scraped successfully!\n",
      "Page 36 scraped successfully!\n",
      "Page 37 scraped successfully!\n",
      "Page 38 scraped successfully!\n",
      "Page 39 scraped successfully!\n",
      "Page 40 scraped successfully!\n",
      "Page 41 scraped successfully!\n",
      "Page 42 scraped successfully!\n",
      "Page 43 scraped successfully!\n",
      "Page 44 scraped successfully!\n",
      "Page 45 scraped successfully!\n",
      "Page 46 scraped successfully!\n",
      "Page 47 scraped successfully!\n",
      "Page 48 scraped successfully!\n",
      "Page 49 scraped successfully!\n",
      "Collected 301 reviews!\n"
     ]
    }
   ],
   "source": [
    "# Initialize WebDriver\n",
    "driver = webdriver.Chrome()\n",
    "url = \"https://www.flipkart.com/apple-iphone-15-blue-128-gb/p/itmbf14ef54f645d?pid=MOBGTAGPAQNVFZZY&lid=LSTMOBGTAGPAQNVFZZYQRLPCQ&marketplace=FLIPKART&q=iphone+15+128+gb&store=tyy%2F4io&srno=s_1_1&otracker=search&fm=organic&iid=fcc62bf6-6eea-4463-946a-fba9df7b0b1e.MOBGTAGPAQNVFZZY.SEARCH&ppt=None&ppn=None&ssid=7a1kpoo6w00000001740650933561&qH=8681ea3cc2c8e660\"\n",
    "driver.get(url)\n",
    "\n",
    "# Wait for page to load\n",
    "time.sleep(5)\n",
    "\n",
    "# Click the \"All Reviews\" button\n",
    "try:\n",
    "    review_button = WebDriverWait(driver, 10).until(\n",
    "        EC.element_to_be_clickable((By.XPATH, \"//span[contains(text(), 'All')]\"))\n",
    "    )\n",
    "    driver.execute_script(\"arguments[0].click();\", review_button)\n",
    "    print(\"Clicked the review button successfully!\")\n",
    "    time.sleep(5)  # Wait for reviews to load\n",
    "except Exception as e:\n",
    "    print(\"Failed to click the review button:\", e)\n",
    "    driver.quit()\n",
    "    exit()\n",
    "\n",
    "# Initialize lists to store data\n",
    "names, reviews, ratings, dates, cities = [], [], [], [], []\n",
    "count = 1\n",
    "is_last_page = False\n",
    "\n",
    "# Scrape data\n",
    "while len(ratings) <= 300:\n",
    "    soup = BeautifulSoup(driver.page_source, \"html.parser\")\n",
    "\n",
    "    # Extract Names\n",
    "    scrapped_names = soup.find_all(\"p\", class_=\"_2NsDsF AwS1CA\")\n",
    "    names.extend([name.text.strip() for name in scrapped_names])\n",
    "\n",
    "    # Extract Reviews\n",
    "    scrapped_reviews = soup.find_all(\"div\", class_=\"ZmyHeo\")\n",
    "    for review in scrapped_reviews:\n",
    "        divs = review.find_all(\"div\")\n",
    "        reviews.append(divs[1].text.strip())\n",
    "\n",
    "    # Extract Cities\n",
    "    scrapped_cities = soup.find_all(\"p\", class_=\"MztJPv\")\n",
    "    for city in scrapped_cities:\n",
    "        spans = city.find_all(\"span\")\n",
    "        cities.append(spans[1].text.strip())\n",
    "\n",
    "    # Extract Ratings\n",
    "    scrapped_ratings = soup.find_all(\"div\", class_=\"XQDdHH Ga3i8K\")\n",
    "    ratings.extend([float(rating.text.strip()) for rating in scrapped_ratings])\n",
    "\n",
    "    # Extract Dates (Filter correct elements)\n",
    "    scrapped_dates = soup.find_all(\"p\", class_=\"_2NsDsF\")\n",
    "    for tag in scrapped_dates:\n",
    "        if \"AwS1CA\" not in tag.get(\"class\", []):\n",
    "            dates.append(tag.text.strip())\n",
    "\n",
    "    # Click \"Next\" button if available\n",
    "    try:\n",
    "        next_button = WebDriverWait(driver, 5).until(\n",
    "            EC.element_to_be_clickable(\n",
    "                (By.XPATH, \"//a[@class='_9QVEpD' and span[text()='Next']]\")\n",
    "            )\n",
    "        )\n",
    "        driver.execute_script(\"arguments[0].click();\", next_button)\n",
    "        count += 1\n",
    "        print(f\"Page {count} scraped successfully!\")\n",
    "        time.sleep(3)\n",
    "    except:\n",
    "        print(\"No more pages.\")\n",
    "        is_last_page = True\n",
    "        driver.quit()\n",
    "        break\n",
    "\n",
    "print(f\"Collected {len(ratings)} reviews!\")"
   ]
  },
  {
   "cell_type": "code",
   "execution_count": 3,
   "metadata": {},
   "outputs": [
    {
     "name": "stdout",
     "output_type": "stream",
     "text": [
      "Data saved to data\\scrapped_reviews_20250228-112421.csv\n"
     ]
    }
   ],
   "source": [
    "import pandas as pd\n",
    "import os\n",
    "\n",
    "# Ensure all lists are of the same length\n",
    "max_length = max(len(names), len(reviews), len(ratings), len(dates), len(cities))\n",
    "\n",
    "# Pad lists with None to match max_length\n",
    "names.extend([None] * (max_length - len(names)))\n",
    "reviews.extend([None] * (max_length - len(reviews)))\n",
    "ratings.extend([None] * (max_length - len(ratings)))\n",
    "dates.extend([None] * (max_length - len(dates)))\n",
    "cities.extend([None] * (max_length - len(cities)))\n",
    "\n",
    "# Create DataFrame\n",
    "df = pd.DataFrame({\n",
    "    \"name\": names,\n",
    "    \"review\": reviews,\n",
    "    \"rating\": ratings,\n",
    "    \"date\": dates,\n",
    "    \"city\": cities\n",
    "})\n",
    "\n",
    "# Create directory if not exists\n",
    "os.makedirs(\"data\", exist_ok=True)\n",
    "\n",
    "# Generate unique filename\n",
    "file_name = f'scrapped_reviews_{time.strftime(\"%Y%m%d-%H%M%S\")}.csv'\n",
    "file_path = os.path.join(\"data\", file_name)\n",
    "\n",
    "# Save to CSV\n",
    "df.to_csv(file_path, index=False)\n",
    "\n",
    "print(f\"Data saved to {file_path}\")"
   ]
  },
  {
   "cell_type": "markdown",
   "metadata": {},
   "source": [
    "# Data Preprocessing"
   ]
  },
  {
   "cell_type": "markdown",
   "metadata": {},
   "source": [
    "## Data Cleaning\n",
    "\n",
    "Removing or replacing null values and perform text preprocessing "
   ]
  },
  {
   "cell_type": "code",
   "execution_count": 5,
   "metadata": {},
   "outputs": [
    {
     "name": "stdout",
     "output_type": "stream",
     "text": [
      "<class 'pandas.core.frame.DataFrame'>\n",
      "RangeIndex: 304 entries, 0 to 303\n",
      "Data columns (total 5 columns):\n",
      " #   Column  Non-Null Count  Dtype  \n",
      "---  ------  --------------  -----  \n",
      " 0   name    304 non-null    object \n",
      " 1   review  304 non-null    object \n",
      " 2   rating  301 non-null    float64\n",
      " 3   date    304 non-null    object \n",
      " 4   city    304 non-null    object \n",
      "dtypes: float64(1), object(4)\n",
      "memory usage: 12.0+ KB\n"
     ]
    }
   ],
   "source": [
    "df.info()"
   ]
  },
  {
   "cell_type": "code",
   "execution_count": 6,
   "metadata": {},
   "outputs": [
    {
     "data": {
      "text/plain": [
       "(304, 5)"
      ]
     },
     "execution_count": 6,
     "metadata": {},
     "output_type": "execute_result"
    }
   ],
   "source": [
    "df.shape"
   ]
  },
  {
   "cell_type": "code",
   "execution_count": 7,
   "metadata": {},
   "outputs": [
    {
     "data": {
      "application/vnd.microsoft.datawrangler.viewer.v0+json": {
       "columns": [
        {
         "name": "index",
         "rawType": "int64",
         "type": "integer"
        },
        {
         "name": "name",
         "rawType": "object",
         "type": "string"
        },
        {
         "name": "review",
         "rawType": "object",
         "type": "string"
        },
        {
         "name": "rating",
         "rawType": "float64",
         "type": "float"
        },
        {
         "name": "date",
         "rawType": "object",
         "type": "string"
        },
        {
         "name": "city",
         "rawType": "object",
         "type": "string"
        }
       ],
       "conversionMethod": "pd.DataFrame",
       "ref": "c23cfc87-6332-48a2-aa0a-5ca7254d405b",
       "rows": [
        [
         "0",
         "Ajin V",
         "High quality camera😍",
         "5.0",
         "Oct, 2023",
         ", Balaghat"
        ],
        [
         "1",
         "Mousam  Guha Roy",
         "Very nice",
         "4.0",
         "Oct, 2023",
         ", Matialihat"
        ],
        [
         "2",
         "Nikhil Kumar",
         "Switch from OnePlus to iPhone I am stunned with camera performance. Everything is perfect on  iPhone 15.",
         "5.0",
         "Jan, 2024",
         ", Meerut Division"
        ],
        [
         "3",
         "bijaya mohanty",
         "Just go for it.Amazing one.Beautiful camera with super fast processor",
         "5.0",
         "9 months ago",
         ", Baleshwar"
        ],
        [
         "4",
         "Prithivi Boruah",
         "Camera Quality Is Improved Loving It",
         "5.0",
         "Oct, 2023",
         ", Bokajan"
        ],
        [
         "5",
         "Flipkart Customer",
         "Awesome photography experience. Battery backup is good . Display is much better than 14 version.",
         "5.0",
         "Jan, 2024",
         ", Aizawl"
        ],
        [
         "6",
         "Flipkart Customer",
         "Using this Iphone 15 from 1month and it has best Camera",
         "5.0",
         "10 months ago",
         ", Agartala"
        ],
        [
         "7",
         "Sheetla Prasad Maurya",
         "Best mobile phoneCamera quality is very nice Battery backup is very good Sound quality is amazing.",
         "4.0",
         "Oct, 2023",
         ", Sultanpur"
        ],
        [
         "8",
         "Arunji Govindaraju",
         "Awesome product very happy to hold this. Better In hand feel,matte finish. Good camera, Brighter screen with Dynamic Island, USB-C, great battery life.60Hz display is a dealbreaker for some.Its not much noticeable.Thank u Flipkart for the best deal and quick delivery.",
         "5.0",
         "Feb, 2024",
         ", Chennai"
        ],
        [
         "9",
         "Akshay Meena",
         "So beautiful, so elegant, just a vowww😍❤️",
         "5.0",
         "Nov, 2023",
         ", Jaipur"
        ]
       ],
       "shape": {
        "columns": 5,
        "rows": 10
       }
      },
      "text/html": [
       "<div>\n",
       "<style scoped>\n",
       "    .dataframe tbody tr th:only-of-type {\n",
       "        vertical-align: middle;\n",
       "    }\n",
       "\n",
       "    .dataframe tbody tr th {\n",
       "        vertical-align: top;\n",
       "    }\n",
       "\n",
       "    .dataframe thead th {\n",
       "        text-align: right;\n",
       "    }\n",
       "</style>\n",
       "<table border=\"1\" class=\"dataframe\">\n",
       "  <thead>\n",
       "    <tr style=\"text-align: right;\">\n",
       "      <th></th>\n",
       "      <th>name</th>\n",
       "      <th>review</th>\n",
       "      <th>rating</th>\n",
       "      <th>date</th>\n",
       "      <th>city</th>\n",
       "    </tr>\n",
       "  </thead>\n",
       "  <tbody>\n",
       "    <tr>\n",
       "      <th>0</th>\n",
       "      <td>Ajin V</td>\n",
       "      <td>High quality camera😍</td>\n",
       "      <td>5.0</td>\n",
       "      <td>Oct, 2023</td>\n",
       "      <td>, Balaghat</td>\n",
       "    </tr>\n",
       "    <tr>\n",
       "      <th>1</th>\n",
       "      <td>Mousam  Guha Roy</td>\n",
       "      <td>Very nice</td>\n",
       "      <td>4.0</td>\n",
       "      <td>Oct, 2023</td>\n",
       "      <td>, Matialihat</td>\n",
       "    </tr>\n",
       "    <tr>\n",
       "      <th>2</th>\n",
       "      <td>Nikhil Kumar</td>\n",
       "      <td>Switch from OnePlus to iPhone I am stunned wit...</td>\n",
       "      <td>5.0</td>\n",
       "      <td>Jan, 2024</td>\n",
       "      <td>, Meerut Division</td>\n",
       "    </tr>\n",
       "    <tr>\n",
       "      <th>3</th>\n",
       "      <td>bijaya mohanty</td>\n",
       "      <td>Just go for it.Amazing one.Beautiful camera wi...</td>\n",
       "      <td>5.0</td>\n",
       "      <td>9 months ago</td>\n",
       "      <td>, Baleshwar</td>\n",
       "    </tr>\n",
       "    <tr>\n",
       "      <th>4</th>\n",
       "      <td>Prithivi Boruah</td>\n",
       "      <td>Camera Quality Is Improved Loving It</td>\n",
       "      <td>5.0</td>\n",
       "      <td>Oct, 2023</td>\n",
       "      <td>, Bokajan</td>\n",
       "    </tr>\n",
       "    <tr>\n",
       "      <th>5</th>\n",
       "      <td>Flipkart Customer</td>\n",
       "      <td>Awesome photography experience. Battery backup...</td>\n",
       "      <td>5.0</td>\n",
       "      <td>Jan, 2024</td>\n",
       "      <td>, Aizawl</td>\n",
       "    </tr>\n",
       "    <tr>\n",
       "      <th>6</th>\n",
       "      <td>Flipkart Customer</td>\n",
       "      <td>Using this Iphone 15 from 1month and it has be...</td>\n",
       "      <td>5.0</td>\n",
       "      <td>10 months ago</td>\n",
       "      <td>, Agartala</td>\n",
       "    </tr>\n",
       "    <tr>\n",
       "      <th>7</th>\n",
       "      <td>Sheetla Prasad Maurya</td>\n",
       "      <td>Best mobile phoneCamera quality is very nice B...</td>\n",
       "      <td>4.0</td>\n",
       "      <td>Oct, 2023</td>\n",
       "      <td>, Sultanpur</td>\n",
       "    </tr>\n",
       "    <tr>\n",
       "      <th>8</th>\n",
       "      <td>Arunji Govindaraju</td>\n",
       "      <td>Awesome product very happy to hold this. Bette...</td>\n",
       "      <td>5.0</td>\n",
       "      <td>Feb, 2024</td>\n",
       "      <td>, Chennai</td>\n",
       "    </tr>\n",
       "    <tr>\n",
       "      <th>9</th>\n",
       "      <td>Akshay Meena</td>\n",
       "      <td>So beautiful, so elegant, just a vowww😍❤️</td>\n",
       "      <td>5.0</td>\n",
       "      <td>Nov, 2023</td>\n",
       "      <td>, Jaipur</td>\n",
       "    </tr>\n",
       "  </tbody>\n",
       "</table>\n",
       "</div>"
      ],
      "text/plain": [
       "                    name                                             review  \\\n",
       "0                 Ajin V                               High quality camera😍   \n",
       "1       Mousam  Guha Roy                                          Very nice   \n",
       "2           Nikhil Kumar  Switch from OnePlus to iPhone I am stunned wit...   \n",
       "3         bijaya mohanty  Just go for it.Amazing one.Beautiful camera wi...   \n",
       "4        Prithivi Boruah               Camera Quality Is Improved Loving It   \n",
       "5      Flipkart Customer  Awesome photography experience. Battery backup...   \n",
       "6      Flipkart Customer  Using this Iphone 15 from 1month and it has be...   \n",
       "7  Sheetla Prasad Maurya  Best mobile phoneCamera quality is very nice B...   \n",
       "8     Arunji Govindaraju  Awesome product very happy to hold this. Bette...   \n",
       "9           Akshay Meena          So beautiful, so elegant, just a vowww😍❤️   \n",
       "\n",
       "   rating           date               city  \n",
       "0     5.0      Oct, 2023         , Balaghat  \n",
       "1     4.0      Oct, 2023       , Matialihat  \n",
       "2     5.0      Jan, 2024  , Meerut Division  \n",
       "3     5.0   9 months ago        , Baleshwar  \n",
       "4     5.0      Oct, 2023          , Bokajan  \n",
       "5     5.0      Jan, 2024           , Aizawl  \n",
       "6     5.0  10 months ago         , Agartala  \n",
       "7     4.0      Oct, 2023        , Sultanpur  \n",
       "8     5.0      Feb, 2024          , Chennai  \n",
       "9     5.0      Nov, 2023           , Jaipur  "
      ]
     },
     "execution_count": 7,
     "metadata": {},
     "output_type": "execute_result"
    }
   ],
   "source": [
    "df.head(10)"
   ]
  },
  {
   "cell_type": "code",
   "execution_count": 8,
   "metadata": {},
   "outputs": [
    {
     "data": {
      "application/vnd.microsoft.datawrangler.viewer.v0+json": {
       "columns": [
        {
         "name": "index",
         "rawType": "int64",
         "type": "integer"
        },
        {
         "name": "name",
         "rawType": "object",
         "type": "string"
        },
        {
         "name": "review",
         "rawType": "object",
         "type": "string"
        },
        {
         "name": "rating",
         "rawType": "float64",
         "type": "float"
        },
        {
         "name": "date",
         "rawType": "object",
         "type": "string"
        },
        {
         "name": "city",
         "rawType": "object",
         "type": "string"
        }
       ],
       "conversionMethod": "pd.DataFrame",
       "ref": "3ab9bbee-1711-4088-969b-a512181be1af",
       "rows": [
        [
         "294",
         "rajan soni",
         "Awesome quality but phone is little heating",
         "5.0",
         "Feb, 2024",
         ", Darbhanga District"
        ],
        [
         "295",
         "Kunj Patel",
         "Nice phone 📱",
         "5.0",
         "Feb, 2024",
         ", Ahmedabad"
        ],
        [
         "296",
         "LAVAKUMARA S",
         "The best mobile in India",
         "5.0",
         "Feb, 2024",
         ", Chitradurga District"
        ],
        [
         "297",
         "Srinu Customer",
         "Premium look and quality with excellent performance",
         "5.0",
         "Feb, 2024",
         ", Mandapeta"
        ],
        [
         "298",
         "Sunita Das",
         "Battery life is unbelievable",
         "5.0",
         "Jan, 2024",
         ", Erashal"
        ],
        [
         "299",
         "Mangesh Sharma",
         "Nice phone😍",
         "4.0",
         "Jan, 2024",
         ", Chauparan"
        ],
        [
         "300",
         "Nitin Ramrav Kanase",
         "Nice products",
         "5.0",
         "Jan, 2024",
         ", Karad"
        ],
        [
         "301",
         "Mayur Sharma",
         "Got it in republic day sale however price has been slashed after that, you feel bad if you have already paid extra for it.Offers for Flipkart Axis bank card was discontinued that time.I own s23 ultra as well the handy feel of iPhone is non comparable.",
         null,
         "Jan, 2024",
         ", Kota"
        ],
        [
         "302",
         "Diwakar Bhatt",
         "Green colour is so elegant so beautiful just like a wowwCamera quality better than 14",
         null,
         "9 months ago",
         ", Bijapur District"
        ],
        [
         "303",
         "Munesh Devi",
         "Gud phone",
         null,
         "Jan, 2024",
         ", Saharanpur"
        ]
       ],
       "shape": {
        "columns": 5,
        "rows": 10
       }
      },
      "text/html": [
       "<div>\n",
       "<style scoped>\n",
       "    .dataframe tbody tr th:only-of-type {\n",
       "        vertical-align: middle;\n",
       "    }\n",
       "\n",
       "    .dataframe tbody tr th {\n",
       "        vertical-align: top;\n",
       "    }\n",
       "\n",
       "    .dataframe thead th {\n",
       "        text-align: right;\n",
       "    }\n",
       "</style>\n",
       "<table border=\"1\" class=\"dataframe\">\n",
       "  <thead>\n",
       "    <tr style=\"text-align: right;\">\n",
       "      <th></th>\n",
       "      <th>name</th>\n",
       "      <th>review</th>\n",
       "      <th>rating</th>\n",
       "      <th>date</th>\n",
       "      <th>city</th>\n",
       "    </tr>\n",
       "  </thead>\n",
       "  <tbody>\n",
       "    <tr>\n",
       "      <th>294</th>\n",
       "      <td>rajan soni</td>\n",
       "      <td>Awesome quality but phone is little heating</td>\n",
       "      <td>5.0</td>\n",
       "      <td>Feb, 2024</td>\n",
       "      <td>, Darbhanga District</td>\n",
       "    </tr>\n",
       "    <tr>\n",
       "      <th>295</th>\n",
       "      <td>Kunj Patel</td>\n",
       "      <td>Nice phone 📱</td>\n",
       "      <td>5.0</td>\n",
       "      <td>Feb, 2024</td>\n",
       "      <td>, Ahmedabad</td>\n",
       "    </tr>\n",
       "    <tr>\n",
       "      <th>296</th>\n",
       "      <td>LAVAKUMARA S</td>\n",
       "      <td>The best mobile in India</td>\n",
       "      <td>5.0</td>\n",
       "      <td>Feb, 2024</td>\n",
       "      <td>, Chitradurga District</td>\n",
       "    </tr>\n",
       "    <tr>\n",
       "      <th>297</th>\n",
       "      <td>Srinu Customer</td>\n",
       "      <td>Premium look and quality with excellent perfor...</td>\n",
       "      <td>5.0</td>\n",
       "      <td>Feb, 2024</td>\n",
       "      <td>, Mandapeta</td>\n",
       "    </tr>\n",
       "    <tr>\n",
       "      <th>298</th>\n",
       "      <td>Sunita Das</td>\n",
       "      <td>Battery life is unbelievable</td>\n",
       "      <td>5.0</td>\n",
       "      <td>Jan, 2024</td>\n",
       "      <td>, Erashal</td>\n",
       "    </tr>\n",
       "    <tr>\n",
       "      <th>299</th>\n",
       "      <td>Mangesh Sharma</td>\n",
       "      <td>Nice phone😍</td>\n",
       "      <td>4.0</td>\n",
       "      <td>Jan, 2024</td>\n",
       "      <td>, Chauparan</td>\n",
       "    </tr>\n",
       "    <tr>\n",
       "      <th>300</th>\n",
       "      <td>Nitin Ramrav Kanase</td>\n",
       "      <td>Nice products</td>\n",
       "      <td>5.0</td>\n",
       "      <td>Jan, 2024</td>\n",
       "      <td>, Karad</td>\n",
       "    </tr>\n",
       "    <tr>\n",
       "      <th>301</th>\n",
       "      <td>Mayur Sharma</td>\n",
       "      <td>Got it in republic day sale however price has ...</td>\n",
       "      <td>NaN</td>\n",
       "      <td>Jan, 2024</td>\n",
       "      <td>, Kota</td>\n",
       "    </tr>\n",
       "    <tr>\n",
       "      <th>302</th>\n",
       "      <td>Diwakar Bhatt</td>\n",
       "      <td>Green colour is so elegant so beautiful just l...</td>\n",
       "      <td>NaN</td>\n",
       "      <td>9 months ago</td>\n",
       "      <td>, Bijapur District</td>\n",
       "    </tr>\n",
       "    <tr>\n",
       "      <th>303</th>\n",
       "      <td>Munesh Devi</td>\n",
       "      <td>Gud phone</td>\n",
       "      <td>NaN</td>\n",
       "      <td>Jan, 2024</td>\n",
       "      <td>, Saharanpur</td>\n",
       "    </tr>\n",
       "  </tbody>\n",
       "</table>\n",
       "</div>"
      ],
      "text/plain": [
       "                    name                                             review  \\\n",
       "294           rajan soni        Awesome quality but phone is little heating   \n",
       "295           Kunj Patel                                       Nice phone 📱   \n",
       "296         LAVAKUMARA S                           The best mobile in India   \n",
       "297       Srinu Customer  Premium look and quality with excellent perfor...   \n",
       "298           Sunita Das                       Battery life is unbelievable   \n",
       "299       Mangesh Sharma                                        Nice phone😍   \n",
       "300  Nitin Ramrav Kanase                                      Nice products   \n",
       "301         Mayur Sharma  Got it in republic day sale however price has ...   \n",
       "302        Diwakar Bhatt  Green colour is so elegant so beautiful just l...   \n",
       "303          Munesh Devi                                          Gud phone   \n",
       "\n",
       "     rating          date                    city  \n",
       "294     5.0     Feb, 2024    , Darbhanga District  \n",
       "295     5.0     Feb, 2024             , Ahmedabad  \n",
       "296     5.0     Feb, 2024  , Chitradurga District  \n",
       "297     5.0     Feb, 2024             , Mandapeta  \n",
       "298     5.0     Jan, 2024               , Erashal  \n",
       "299     4.0     Jan, 2024             , Chauparan  \n",
       "300     5.0     Jan, 2024                 , Karad  \n",
       "301     NaN     Jan, 2024                  , Kota  \n",
       "302     NaN  9 months ago      , Bijapur District  \n",
       "303     NaN     Jan, 2024            , Saharanpur  "
      ]
     },
     "execution_count": 8,
     "metadata": {},
     "output_type": "execute_result"
    }
   ],
   "source": [
    "df.tail(10)"
   ]
  },
  {
   "cell_type": "code",
   "execution_count": 9,
   "metadata": {},
   "outputs": [
    {
     "data": {
      "application/vnd.microsoft.datawrangler.viewer.v0+json": {
       "columns": [
        {
         "name": "index",
         "rawType": "object",
         "type": "string"
        },
        {
         "name": "rating",
         "rawType": "float64",
         "type": "float"
        }
       ],
       "conversionMethod": "pd.DataFrame",
       "ref": "b8dfb5ab-70b5-4dd9-b32c-e54bf6315e7d",
       "rows": [
        [
         "count",
         "301.0"
        ],
        [
         "mean",
         "4.877076411960133"
        ],
        [
         "std",
         "0.3761729533185718"
        ],
        [
         "min",
         "3.0"
        ],
        [
         "25%",
         "5.0"
        ],
        [
         "50%",
         "5.0"
        ],
        [
         "75%",
         "5.0"
        ],
        [
         "max",
         "5.0"
        ]
       ],
       "shape": {
        "columns": 1,
        "rows": 8
       }
      },
      "text/html": [
       "<div>\n",
       "<style scoped>\n",
       "    .dataframe tbody tr th:only-of-type {\n",
       "        vertical-align: middle;\n",
       "    }\n",
       "\n",
       "    .dataframe tbody tr th {\n",
       "        vertical-align: top;\n",
       "    }\n",
       "\n",
       "    .dataframe thead th {\n",
       "        text-align: right;\n",
       "    }\n",
       "</style>\n",
       "<table border=\"1\" class=\"dataframe\">\n",
       "  <thead>\n",
       "    <tr style=\"text-align: right;\">\n",
       "      <th></th>\n",
       "      <th>rating</th>\n",
       "    </tr>\n",
       "  </thead>\n",
       "  <tbody>\n",
       "    <tr>\n",
       "      <th>count</th>\n",
       "      <td>301.000000</td>\n",
       "    </tr>\n",
       "    <tr>\n",
       "      <th>mean</th>\n",
       "      <td>4.877076</td>\n",
       "    </tr>\n",
       "    <tr>\n",
       "      <th>std</th>\n",
       "      <td>0.376173</td>\n",
       "    </tr>\n",
       "    <tr>\n",
       "      <th>min</th>\n",
       "      <td>3.000000</td>\n",
       "    </tr>\n",
       "    <tr>\n",
       "      <th>25%</th>\n",
       "      <td>5.000000</td>\n",
       "    </tr>\n",
       "    <tr>\n",
       "      <th>50%</th>\n",
       "      <td>5.000000</td>\n",
       "    </tr>\n",
       "    <tr>\n",
       "      <th>75%</th>\n",
       "      <td>5.000000</td>\n",
       "    </tr>\n",
       "    <tr>\n",
       "      <th>max</th>\n",
       "      <td>5.000000</td>\n",
       "    </tr>\n",
       "  </tbody>\n",
       "</table>\n",
       "</div>"
      ],
      "text/plain": [
       "           rating\n",
       "count  301.000000\n",
       "mean     4.877076\n",
       "std      0.376173\n",
       "min      3.000000\n",
       "25%      5.000000\n",
       "50%      5.000000\n",
       "75%      5.000000\n",
       "max      5.000000"
      ]
     },
     "execution_count": 9,
     "metadata": {},
     "output_type": "execute_result"
    }
   ],
   "source": [
    "df.describe()"
   ]
  },
  {
   "cell_type": "code",
   "execution_count": 15,
   "metadata": {},
   "outputs": [],
   "source": [
    "pdf = df.copy()\n",
    "# Remove duplicates\n",
    "pdf.drop_duplicates(inplace=True)\n",
    "\n",
    "# Titlise the names colunm\n",
    "pdf[\"name\"] = pdf[\"name\"].str.title()\n",
    "\n",
    "# Replace missing ratings with mean\n",
    "pdf[\"rating\"] = pdf[\"rating\"].fillna(round(pdf[\"rating\"].mean(), 1))\n",
    "\n",
    "# Remove ',' from city column\n",
    "pdf[\"city\"] = pdf[\"city\"].str.replace(\",\", \"\").str.capitalize().str.strip()"
   ]
  },
  {
   "cell_type": "code",
   "execution_count": 16,
   "metadata": {},
   "outputs": [
    {
     "data": {
      "application/vnd.microsoft.datawrangler.viewer.v0+json": {
       "columns": [
        {
         "name": "index",
         "rawType": "int64",
         "type": "integer"
        },
        {
         "name": "name",
         "rawType": "object",
         "type": "string"
        },
        {
         "name": "review",
         "rawType": "object",
         "type": "string"
        },
        {
         "name": "rating",
         "rawType": "float64",
         "type": "float"
        },
        {
         "name": "date",
         "rawType": "object",
         "type": "string"
        },
        {
         "name": "city",
         "rawType": "object",
         "type": "string"
        }
       ],
       "conversionMethod": "pd.DataFrame",
       "ref": "74bd32e8-2106-4ffd-adf0-cc5a98cb839d",
       "rows": [
        [
         "0",
         "Ajin V",
         "High quality camera😍",
         "5.0",
         "Oct, 2023",
         "balaghat"
        ],
        [
         "1",
         "Mousam  Guha Roy",
         "Very nice",
         "4.0",
         "Oct, 2023",
         "matialihat"
        ],
        [
         "2",
         "Nikhil Kumar",
         "Switch from OnePlus to iPhone I am stunned with camera performance. Everything is perfect on  iPhone 15.",
         "5.0",
         "Jan, 2024",
         "meerut division"
        ],
        [
         "3",
         "Bijaya Mohanty",
         "Just go for it.Amazing one.Beautiful camera with super fast processor",
         "5.0",
         "9 months ago",
         "baleshwar"
        ],
        [
         "4",
         "Prithivi Boruah",
         "Camera Quality Is Improved Loving It",
         "5.0",
         "Oct, 2023",
         "bokajan"
        ],
        [
         "5",
         "Flipkart Customer",
         "Awesome photography experience. Battery backup is good . Display is much better than 14 version.",
         "5.0",
         "Jan, 2024",
         "aizawl"
        ],
        [
         "6",
         "Flipkart Customer",
         "Using this Iphone 15 from 1month and it has best Camera",
         "5.0",
         "10 months ago",
         "agartala"
        ],
        [
         "7",
         "Sheetla Prasad Maurya",
         "Best mobile phoneCamera quality is very nice Battery backup is very good Sound quality is amazing.",
         "4.0",
         "Oct, 2023",
         "sultanpur"
        ],
        [
         "8",
         "Arunji Govindaraju",
         "Awesome product very happy to hold this. Better In hand feel,matte finish. Good camera, Brighter screen with Dynamic Island, USB-C, great battery life.60Hz display is a dealbreaker for some.Its not much noticeable.Thank u Flipkart for the best deal and quick delivery.",
         "5.0",
         "Feb, 2024",
         "chennai"
        ],
        [
         "9",
         "Akshay Meena",
         "So beautiful, so elegant, just a vowww😍❤️",
         "5.0",
         "Nov, 2023",
         "jaipur"
        ]
       ],
       "shape": {
        "columns": 5,
        "rows": 10
       }
      },
      "text/html": [
       "<div>\n",
       "<style scoped>\n",
       "    .dataframe tbody tr th:only-of-type {\n",
       "        vertical-align: middle;\n",
       "    }\n",
       "\n",
       "    .dataframe tbody tr th {\n",
       "        vertical-align: top;\n",
       "    }\n",
       "\n",
       "    .dataframe thead th {\n",
       "        text-align: right;\n",
       "    }\n",
       "</style>\n",
       "<table border=\"1\" class=\"dataframe\">\n",
       "  <thead>\n",
       "    <tr style=\"text-align: right;\">\n",
       "      <th></th>\n",
       "      <th>name</th>\n",
       "      <th>review</th>\n",
       "      <th>rating</th>\n",
       "      <th>date</th>\n",
       "      <th>city</th>\n",
       "    </tr>\n",
       "  </thead>\n",
       "  <tbody>\n",
       "    <tr>\n",
       "      <th>0</th>\n",
       "      <td>Ajin V</td>\n",
       "      <td>High quality camera😍</td>\n",
       "      <td>5.0</td>\n",
       "      <td>Oct, 2023</td>\n",
       "      <td>balaghat</td>\n",
       "    </tr>\n",
       "    <tr>\n",
       "      <th>1</th>\n",
       "      <td>Mousam  Guha Roy</td>\n",
       "      <td>Very nice</td>\n",
       "      <td>4.0</td>\n",
       "      <td>Oct, 2023</td>\n",
       "      <td>matialihat</td>\n",
       "    </tr>\n",
       "    <tr>\n",
       "      <th>2</th>\n",
       "      <td>Nikhil Kumar</td>\n",
       "      <td>Switch from OnePlus to iPhone I am stunned wit...</td>\n",
       "      <td>5.0</td>\n",
       "      <td>Jan, 2024</td>\n",
       "      <td>meerut division</td>\n",
       "    </tr>\n",
       "    <tr>\n",
       "      <th>3</th>\n",
       "      <td>Bijaya Mohanty</td>\n",
       "      <td>Just go for it.Amazing one.Beautiful camera wi...</td>\n",
       "      <td>5.0</td>\n",
       "      <td>9 months ago</td>\n",
       "      <td>baleshwar</td>\n",
       "    </tr>\n",
       "    <tr>\n",
       "      <th>4</th>\n",
       "      <td>Prithivi Boruah</td>\n",
       "      <td>Camera Quality Is Improved Loving It</td>\n",
       "      <td>5.0</td>\n",
       "      <td>Oct, 2023</td>\n",
       "      <td>bokajan</td>\n",
       "    </tr>\n",
       "    <tr>\n",
       "      <th>5</th>\n",
       "      <td>Flipkart Customer</td>\n",
       "      <td>Awesome photography experience. Battery backup...</td>\n",
       "      <td>5.0</td>\n",
       "      <td>Jan, 2024</td>\n",
       "      <td>aizawl</td>\n",
       "    </tr>\n",
       "    <tr>\n",
       "      <th>6</th>\n",
       "      <td>Flipkart Customer</td>\n",
       "      <td>Using this Iphone 15 from 1month and it has be...</td>\n",
       "      <td>5.0</td>\n",
       "      <td>10 months ago</td>\n",
       "      <td>agartala</td>\n",
       "    </tr>\n",
       "    <tr>\n",
       "      <th>7</th>\n",
       "      <td>Sheetla Prasad Maurya</td>\n",
       "      <td>Best mobile phoneCamera quality is very nice B...</td>\n",
       "      <td>4.0</td>\n",
       "      <td>Oct, 2023</td>\n",
       "      <td>sultanpur</td>\n",
       "    </tr>\n",
       "    <tr>\n",
       "      <th>8</th>\n",
       "      <td>Arunji Govindaraju</td>\n",
       "      <td>Awesome product very happy to hold this. Bette...</td>\n",
       "      <td>5.0</td>\n",
       "      <td>Feb, 2024</td>\n",
       "      <td>chennai</td>\n",
       "    </tr>\n",
       "    <tr>\n",
       "      <th>9</th>\n",
       "      <td>Akshay Meena</td>\n",
       "      <td>So beautiful, so elegant, just a vowww😍❤️</td>\n",
       "      <td>5.0</td>\n",
       "      <td>Nov, 2023</td>\n",
       "      <td>jaipur</td>\n",
       "    </tr>\n",
       "  </tbody>\n",
       "</table>\n",
       "</div>"
      ],
      "text/plain": [
       "                    name                                             review  \\\n",
       "0                 Ajin V                               High quality camera😍   \n",
       "1       Mousam  Guha Roy                                          Very nice   \n",
       "2           Nikhil Kumar  Switch from OnePlus to iPhone I am stunned wit...   \n",
       "3         Bijaya Mohanty  Just go for it.Amazing one.Beautiful camera wi...   \n",
       "4        Prithivi Boruah               Camera Quality Is Improved Loving It   \n",
       "5      Flipkart Customer  Awesome photography experience. Battery backup...   \n",
       "6      Flipkart Customer  Using this Iphone 15 from 1month and it has be...   \n",
       "7  Sheetla Prasad Maurya  Best mobile phoneCamera quality is very nice B...   \n",
       "8     Arunji Govindaraju  Awesome product very happy to hold this. Bette...   \n",
       "9           Akshay Meena          So beautiful, so elegant, just a vowww😍❤️   \n",
       "\n",
       "   rating           date             city  \n",
       "0     5.0      Oct, 2023         balaghat  \n",
       "1     4.0      Oct, 2023       matialihat  \n",
       "2     5.0      Jan, 2024  meerut division  \n",
       "3     5.0   9 months ago        baleshwar  \n",
       "4     5.0      Oct, 2023          bokajan  \n",
       "5     5.0      Jan, 2024           aizawl  \n",
       "6     5.0  10 months ago         agartala  \n",
       "7     4.0      Oct, 2023        sultanpur  \n",
       "8     5.0      Feb, 2024          chennai  \n",
       "9     5.0      Nov, 2023           jaipur  "
      ]
     },
     "execution_count": 16,
     "metadata": {},
     "output_type": "execute_result"
    }
   ],
   "source": [
    "# Check after cleaning data\n",
    "pdf.head(10)"
   ]
  },
  {
   "cell_type": "code",
   "execution_count": 17,
   "metadata": {},
   "outputs": [
    {
     "data": {
      "application/vnd.microsoft.datawrangler.viewer.v0+json": {
       "columns": [
        {
         "name": "index",
         "rawType": "int64",
         "type": "integer"
        },
        {
         "name": "name",
         "rawType": "object",
         "type": "string"
        },
        {
         "name": "review",
         "rawType": "object",
         "type": "string"
        },
        {
         "name": "rating",
         "rawType": "float64",
         "type": "float"
        },
        {
         "name": "date",
         "rawType": "object",
         "type": "string"
        },
        {
         "name": "city",
         "rawType": "object",
         "type": "string"
        }
       ],
       "conversionMethod": "pd.DataFrame",
       "ref": "cb950815-4a4f-4586-8b67-0443a512061a",
       "rows": [
        [
         "294",
         "Rajan Soni",
         "Awesome quality but phone is little heating",
         "5.0",
         "Feb, 2024",
         "darbhanga district"
        ],
        [
         "295",
         "Kunj Patel",
         "Nice phone 📱",
         "5.0",
         "Feb, 2024",
         "ahmedabad"
        ],
        [
         "296",
         "Lavakumara S",
         "The best mobile in India",
         "5.0",
         "Feb, 2024",
         "chitradurga district"
        ],
        [
         "297",
         "Srinu Customer",
         "Premium look and quality with excellent performance",
         "5.0",
         "Feb, 2024",
         "mandapeta"
        ],
        [
         "298",
         "Sunita Das",
         "Battery life is unbelievable",
         "5.0",
         "Jan, 2024",
         "erashal"
        ],
        [
         "299",
         "Mangesh Sharma",
         "Nice phone😍",
         "4.0",
         "Jan, 2024",
         "chauparan"
        ],
        [
         "300",
         "Nitin Ramrav Kanase",
         "Nice products",
         "5.0",
         "Jan, 2024",
         "karad"
        ],
        [
         "301",
         "Mayur Sharma",
         "Got it in republic day sale however price has been slashed after that, you feel bad if you have already paid extra for it.Offers for Flipkart Axis bank card was discontinued that time.I own s23 ultra as well the handy feel of iPhone is non comparable.",
         "4.9",
         "Jan, 2024",
         "kota"
        ],
        [
         "302",
         "Diwakar Bhatt",
         "Green colour is so elegant so beautiful just like a wowwCamera quality better than 14",
         "4.9",
         "9 months ago",
         "bijapur district"
        ],
        [
         "303",
         "Munesh Devi",
         "Gud phone",
         "4.9",
         "Jan, 2024",
         "saharanpur"
        ]
       ],
       "shape": {
        "columns": 5,
        "rows": 10
       }
      },
      "text/html": [
       "<div>\n",
       "<style scoped>\n",
       "    .dataframe tbody tr th:only-of-type {\n",
       "        vertical-align: middle;\n",
       "    }\n",
       "\n",
       "    .dataframe tbody tr th {\n",
       "        vertical-align: top;\n",
       "    }\n",
       "\n",
       "    .dataframe thead th {\n",
       "        text-align: right;\n",
       "    }\n",
       "</style>\n",
       "<table border=\"1\" class=\"dataframe\">\n",
       "  <thead>\n",
       "    <tr style=\"text-align: right;\">\n",
       "      <th></th>\n",
       "      <th>name</th>\n",
       "      <th>review</th>\n",
       "      <th>rating</th>\n",
       "      <th>date</th>\n",
       "      <th>city</th>\n",
       "    </tr>\n",
       "  </thead>\n",
       "  <tbody>\n",
       "    <tr>\n",
       "      <th>294</th>\n",
       "      <td>Rajan Soni</td>\n",
       "      <td>Awesome quality but phone is little heating</td>\n",
       "      <td>5.0</td>\n",
       "      <td>Feb, 2024</td>\n",
       "      <td>darbhanga district</td>\n",
       "    </tr>\n",
       "    <tr>\n",
       "      <th>295</th>\n",
       "      <td>Kunj Patel</td>\n",
       "      <td>Nice phone 📱</td>\n",
       "      <td>5.0</td>\n",
       "      <td>Feb, 2024</td>\n",
       "      <td>ahmedabad</td>\n",
       "    </tr>\n",
       "    <tr>\n",
       "      <th>296</th>\n",
       "      <td>Lavakumara S</td>\n",
       "      <td>The best mobile in India</td>\n",
       "      <td>5.0</td>\n",
       "      <td>Feb, 2024</td>\n",
       "      <td>chitradurga district</td>\n",
       "    </tr>\n",
       "    <tr>\n",
       "      <th>297</th>\n",
       "      <td>Srinu Customer</td>\n",
       "      <td>Premium look and quality with excellent perfor...</td>\n",
       "      <td>5.0</td>\n",
       "      <td>Feb, 2024</td>\n",
       "      <td>mandapeta</td>\n",
       "    </tr>\n",
       "    <tr>\n",
       "      <th>298</th>\n",
       "      <td>Sunita Das</td>\n",
       "      <td>Battery life is unbelievable</td>\n",
       "      <td>5.0</td>\n",
       "      <td>Jan, 2024</td>\n",
       "      <td>erashal</td>\n",
       "    </tr>\n",
       "    <tr>\n",
       "      <th>299</th>\n",
       "      <td>Mangesh Sharma</td>\n",
       "      <td>Nice phone😍</td>\n",
       "      <td>4.0</td>\n",
       "      <td>Jan, 2024</td>\n",
       "      <td>chauparan</td>\n",
       "    </tr>\n",
       "    <tr>\n",
       "      <th>300</th>\n",
       "      <td>Nitin Ramrav Kanase</td>\n",
       "      <td>Nice products</td>\n",
       "      <td>5.0</td>\n",
       "      <td>Jan, 2024</td>\n",
       "      <td>karad</td>\n",
       "    </tr>\n",
       "    <tr>\n",
       "      <th>301</th>\n",
       "      <td>Mayur Sharma</td>\n",
       "      <td>Got it in republic day sale however price has ...</td>\n",
       "      <td>4.9</td>\n",
       "      <td>Jan, 2024</td>\n",
       "      <td>kota</td>\n",
       "    </tr>\n",
       "    <tr>\n",
       "      <th>302</th>\n",
       "      <td>Diwakar Bhatt</td>\n",
       "      <td>Green colour is so elegant so beautiful just l...</td>\n",
       "      <td>4.9</td>\n",
       "      <td>9 months ago</td>\n",
       "      <td>bijapur district</td>\n",
       "    </tr>\n",
       "    <tr>\n",
       "      <th>303</th>\n",
       "      <td>Munesh Devi</td>\n",
       "      <td>Gud phone</td>\n",
       "      <td>4.9</td>\n",
       "      <td>Jan, 2024</td>\n",
       "      <td>saharanpur</td>\n",
       "    </tr>\n",
       "  </tbody>\n",
       "</table>\n",
       "</div>"
      ],
      "text/plain": [
       "                    name                                             review  \\\n",
       "294           Rajan Soni        Awesome quality but phone is little heating   \n",
       "295           Kunj Patel                                       Nice phone 📱   \n",
       "296         Lavakumara S                           The best mobile in India   \n",
       "297       Srinu Customer  Premium look and quality with excellent perfor...   \n",
       "298           Sunita Das                       Battery life is unbelievable   \n",
       "299       Mangesh Sharma                                        Nice phone😍   \n",
       "300  Nitin Ramrav Kanase                                      Nice products   \n",
       "301         Mayur Sharma  Got it in republic day sale however price has ...   \n",
       "302        Diwakar Bhatt  Green colour is so elegant so beautiful just l...   \n",
       "303          Munesh Devi                                          Gud phone   \n",
       "\n",
       "     rating          date                  city  \n",
       "294     5.0     Feb, 2024    darbhanga district  \n",
       "295     5.0     Feb, 2024             ahmedabad  \n",
       "296     5.0     Feb, 2024  chitradurga district  \n",
       "297     5.0     Feb, 2024             mandapeta  \n",
       "298     5.0     Jan, 2024               erashal  \n",
       "299     4.0     Jan, 2024             chauparan  \n",
       "300     5.0     Jan, 2024                 karad  \n",
       "301     4.9     Jan, 2024                  kota  \n",
       "302     4.9  9 months ago      bijapur district  \n",
       "303     4.9     Jan, 2024            saharanpur  "
      ]
     },
     "execution_count": 17,
     "metadata": {},
     "output_type": "execute_result"
    }
   ],
   "source": [
    "pdf.tail(10)"
   ]
  },
  {
   "cell_type": "code",
   "execution_count": 19,
   "metadata": {},
   "outputs": [
    {
     "data": {
      "application/vnd.microsoft.datawrangler.viewer.v0+json": {
       "columns": [
        {
         "name": "index",
         "rawType": "int64",
         "type": "integer"
        },
        {
         "name": "name",
         "rawType": "object",
         "type": "string"
        },
        {
         "name": "review",
         "rawType": "object",
         "type": "string"
        },
        {
         "name": "rating",
         "rawType": "float64",
         "type": "float"
        },
        {
         "name": "date",
         "rawType": "object",
         "type": "string"
        },
        {
         "name": "city",
         "rawType": "object",
         "type": "string"
        }
       ],
       "conversionMethod": "pd.DataFrame",
       "ref": "b65ffb00-8f6c-42a3-a4f1-8a126691c26a",
       "rows": [
        [
         "0",
         "Ajin V",
         "High quality camera😍",
         "5.0",
         "Oct, 2023",
         "balaghat"
        ],
        [
         "1",
         "Mousam  Guha Roy",
         "Very nice",
         "4.0",
         "Oct, 2023",
         "matialihat"
        ],
        [
         "2",
         "Nikhil Kumar",
         "Switch from OnePlus to iPhone I am stunned with camera performance. Everything is perfect on  iPhone 15.",
         "5.0",
         "Jan, 2024",
         "meerut division"
        ],
        [
         "3",
         "Bijaya Mohanty",
         "Just go for it.Amazing one.Beautiful camera with super fast processor",
         "5.0",
         "May 2024",
         "baleshwar"
        ],
        [
         "4",
         "Prithivi Boruah",
         "Camera Quality Is Improved Loving It",
         "5.0",
         "Oct, 2023",
         "bokajan"
        ],
        [
         "5",
         "Flipkart Customer",
         "Awesome photography experience. Battery backup is good . Display is much better than 14 version.",
         "5.0",
         "Jan, 2024",
         "aizawl"
        ],
        [
         "6",
         "Flipkart Customer",
         "Using this Iphone 15 from 1month and it has best Camera",
         "5.0",
         "Apr 2024",
         "agartala"
        ],
        [
         "7",
         "Sheetla Prasad Maurya",
         "Best mobile phoneCamera quality is very nice Battery backup is very good Sound quality is amazing.",
         "4.0",
         "Oct, 2023",
         "sultanpur"
        ],
        [
         "8",
         "Arunji Govindaraju",
         "Awesome product very happy to hold this. Better In hand feel,matte finish. Good camera, Brighter screen with Dynamic Island, USB-C, great battery life.60Hz display is a dealbreaker for some.Its not much noticeable.Thank u Flipkart for the best deal and quick delivery.",
         "5.0",
         "Feb, 2024",
         "chennai"
        ],
        [
         "9",
         "Akshay Meena",
         "So beautiful, so elegant, just a vowww😍❤️",
         "5.0",
         "Nov, 2023",
         "jaipur"
        ]
       ],
       "shape": {
        "columns": 5,
        "rows": 10
       }
      },
      "text/html": [
       "<div>\n",
       "<style scoped>\n",
       "    .dataframe tbody tr th:only-of-type {\n",
       "        vertical-align: middle;\n",
       "    }\n",
       "\n",
       "    .dataframe tbody tr th {\n",
       "        vertical-align: top;\n",
       "    }\n",
       "\n",
       "    .dataframe thead th {\n",
       "        text-align: right;\n",
       "    }\n",
       "</style>\n",
       "<table border=\"1\" class=\"dataframe\">\n",
       "  <thead>\n",
       "    <tr style=\"text-align: right;\">\n",
       "      <th></th>\n",
       "      <th>name</th>\n",
       "      <th>review</th>\n",
       "      <th>rating</th>\n",
       "      <th>date</th>\n",
       "      <th>city</th>\n",
       "    </tr>\n",
       "  </thead>\n",
       "  <tbody>\n",
       "    <tr>\n",
       "      <th>0</th>\n",
       "      <td>Ajin V</td>\n",
       "      <td>High quality camera😍</td>\n",
       "      <td>5.0</td>\n",
       "      <td>Oct, 2023</td>\n",
       "      <td>balaghat</td>\n",
       "    </tr>\n",
       "    <tr>\n",
       "      <th>1</th>\n",
       "      <td>Mousam  Guha Roy</td>\n",
       "      <td>Very nice</td>\n",
       "      <td>4.0</td>\n",
       "      <td>Oct, 2023</td>\n",
       "      <td>matialihat</td>\n",
       "    </tr>\n",
       "    <tr>\n",
       "      <th>2</th>\n",
       "      <td>Nikhil Kumar</td>\n",
       "      <td>Switch from OnePlus to iPhone I am stunned wit...</td>\n",
       "      <td>5.0</td>\n",
       "      <td>Jan, 2024</td>\n",
       "      <td>meerut division</td>\n",
       "    </tr>\n",
       "    <tr>\n",
       "      <th>3</th>\n",
       "      <td>Bijaya Mohanty</td>\n",
       "      <td>Just go for it.Amazing one.Beautiful camera wi...</td>\n",
       "      <td>5.0</td>\n",
       "      <td>May 2024</td>\n",
       "      <td>baleshwar</td>\n",
       "    </tr>\n",
       "    <tr>\n",
       "      <th>4</th>\n",
       "      <td>Prithivi Boruah</td>\n",
       "      <td>Camera Quality Is Improved Loving It</td>\n",
       "      <td>5.0</td>\n",
       "      <td>Oct, 2023</td>\n",
       "      <td>bokajan</td>\n",
       "    </tr>\n",
       "    <tr>\n",
       "      <th>5</th>\n",
       "      <td>Flipkart Customer</td>\n",
       "      <td>Awesome photography experience. Battery backup...</td>\n",
       "      <td>5.0</td>\n",
       "      <td>Jan, 2024</td>\n",
       "      <td>aizawl</td>\n",
       "    </tr>\n",
       "    <tr>\n",
       "      <th>6</th>\n",
       "      <td>Flipkart Customer</td>\n",
       "      <td>Using this Iphone 15 from 1month and it has be...</td>\n",
       "      <td>5.0</td>\n",
       "      <td>Apr 2024</td>\n",
       "      <td>agartala</td>\n",
       "    </tr>\n",
       "    <tr>\n",
       "      <th>7</th>\n",
       "      <td>Sheetla Prasad Maurya</td>\n",
       "      <td>Best mobile phoneCamera quality is very nice B...</td>\n",
       "      <td>4.0</td>\n",
       "      <td>Oct, 2023</td>\n",
       "      <td>sultanpur</td>\n",
       "    </tr>\n",
       "    <tr>\n",
       "      <th>8</th>\n",
       "      <td>Arunji Govindaraju</td>\n",
       "      <td>Awesome product very happy to hold this. Bette...</td>\n",
       "      <td>5.0</td>\n",
       "      <td>Feb, 2024</td>\n",
       "      <td>chennai</td>\n",
       "    </tr>\n",
       "    <tr>\n",
       "      <th>9</th>\n",
       "      <td>Akshay Meena</td>\n",
       "      <td>So beautiful, so elegant, just a vowww😍❤️</td>\n",
       "      <td>5.0</td>\n",
       "      <td>Nov, 2023</td>\n",
       "      <td>jaipur</td>\n",
       "    </tr>\n",
       "  </tbody>\n",
       "</table>\n",
       "</div>"
      ],
      "text/plain": [
       "                    name                                             review  \\\n",
       "0                 Ajin V                               High quality camera😍   \n",
       "1       Mousam  Guha Roy                                          Very nice   \n",
       "2           Nikhil Kumar  Switch from OnePlus to iPhone I am stunned wit...   \n",
       "3         Bijaya Mohanty  Just go for it.Amazing one.Beautiful camera wi...   \n",
       "4        Prithivi Boruah               Camera Quality Is Improved Loving It   \n",
       "5      Flipkart Customer  Awesome photography experience. Battery backup...   \n",
       "6      Flipkart Customer  Using this Iphone 15 from 1month and it has be...   \n",
       "7  Sheetla Prasad Maurya  Best mobile phoneCamera quality is very nice B...   \n",
       "8     Arunji Govindaraju  Awesome product very happy to hold this. Bette...   \n",
       "9           Akshay Meena          So beautiful, so elegant, just a vowww😍❤️   \n",
       "\n",
       "   rating       date             city  \n",
       "0     5.0  Oct, 2023         balaghat  \n",
       "1     4.0  Oct, 2023       matialihat  \n",
       "2     5.0  Jan, 2024  meerut division  \n",
       "3     5.0   May 2024        baleshwar  \n",
       "4     5.0  Oct, 2023          bokajan  \n",
       "5     5.0  Jan, 2024           aizawl  \n",
       "6     5.0   Apr 2024         agartala  \n",
       "7     4.0  Oct, 2023        sultanpur  \n",
       "8     5.0  Feb, 2024          chennai  \n",
       "9     5.0  Nov, 2023           jaipur  "
      ]
     },
     "execution_count": 19,
     "metadata": {},
     "output_type": "execute_result"
    }
   ],
   "source": [
    "from dateutil.relativedelta import relativedelta\n",
    "from datetime import datetime\n",
    "\n",
    "def convert_to_date(date_str):\n",
    "    if 'ago' in date_str:\n",
    "        date = datetime.today() - relativedelta(months=int(date_str.split()[0]))\n",
    "        return date.strftime(\"%b %Y\")\n",
    "    return date_str\n",
    "\n",
    "# Modify date column\n",
    "pdf['date'] = pdf['date'].apply(convert_to_date)\n",
    "pdf.head(10)"
   ]
  },
  {
   "cell_type": "markdown",
   "metadata": {},
   "source": [
    "## Text Preprocessing\n",
    "\n",
    "Cleaning and transforming text data by removing noise"
   ]
  },
  {
   "cell_type": "code",
   "execution_count": 31,
   "metadata": {},
   "outputs": [
    {
     "name": "stderr",
     "output_type": "stream",
     "text": [
      "[nltk_data] Downloading package punkt to\n",
      "[nltk_data]     C:\\Users\\azamm\\AppData\\Roaming\\nltk_data...\n",
      "[nltk_data]   Package punkt is already up-to-date!\n",
      "[nltk_data] Downloading package punkt_tab to\n",
      "[nltk_data]     C:\\Users\\azamm\\AppData\\Roaming\\nltk_data...\n",
      "[nltk_data]   Package punkt_tab is already up-to-date!\n",
      "[nltk_data] Downloading package stopwords to\n",
      "[nltk_data]     C:\\Users\\azamm\\AppData\\Roaming\\nltk_data...\n",
      "[nltk_data]   Package stopwords is already up-to-date!\n",
      "[nltk_data] Downloading package wordnet to\n",
      "[nltk_data]     C:\\Users\\azamm\\AppData\\Roaming\\nltk_data...\n",
      "[nltk_data]   Package wordnet is already up-to-date!\n"
     ]
    },
    {
     "data": {
      "text/plain": [
       "True"
      ]
     },
     "execution_count": 31,
     "metadata": {},
     "output_type": "execute_result"
    }
   ],
   "source": [
    "import nltk\n",
    "import string\n",
    "import emoji\n",
    "from textblob import TextBlob as tb\n",
    "from nltk.corpus import stopwords\n",
    "from nltk.tokenize import word_tokenize\n",
    "from nltk.stem import WordNetLemmatizer\n",
    "from wordcloud import WordCloud\n",
    "\n",
    "nltk.download('punkt')\n",
    "nltk.download('punkt_tab')\n",
    "nltk.download('stopwords')\n",
    "nltk.download('wordnet')"
   ]
  },
  {
   "cell_type": "code",
   "execution_count": 32,
   "metadata": {},
   "outputs": [],
   "source": [
    "def preprocess_text(text: str):\n",
    "    text = text.strip() # Remove leading/trailing whitespaces\n",
    "    text = tb(text).correct().raw # Correct spelling\n",
    "    text = text.lower() # Convert to lowercase\n",
    "    text = emoji.demojize(text) # Convert emojis to text\n",
    "    text = text.translate(str.maketrans('', '', string.punctuation)) # Remove punctuation\n",
    "\n",
    "    text = word_tokenize(text) # Tokenize\n",
    "    text = [word for word in text if word not in stopwords.words('english')] # Remove stopwords\n",
    "    \n",
    "    lemmatizer = WordNetLemmatizer()\n",
    "    tokens = [lemmatizer.lemmatize(word) for word in text] # Lemmatize\n",
    "\n",
    "    return ' '.join(tokens)"
   ]
  },
  {
   "cell_type": "code",
   "execution_count": 33,
   "metadata": {},
   "outputs": [
    {
     "data": {
      "application/vnd.microsoft.datawrangler.viewer.v0+json": {
       "columns": [
        {
         "name": "index",
         "rawType": "int64",
         "type": "integer"
        },
        {
         "name": "name",
         "rawType": "object",
         "type": "string"
        },
        {
         "name": "review",
         "rawType": "object",
         "type": "string"
        },
        {
         "name": "rating",
         "rawType": "float64",
         "type": "float"
        },
        {
         "name": "date",
         "rawType": "object",
         "type": "string"
        },
        {
         "name": "city",
         "rawType": "object",
         "type": "string"
        },
        {
         "name": "cleaned_review",
         "rawType": "object",
         "type": "string"
        }
       ],
       "conversionMethod": "pd.DataFrame",
       "ref": "1407c3ed-d078-41e9-af74-f78597b0d5b3",
       "rows": [
        [
         "0",
         "Ajin V",
         "High quality camera😍",
         "5.0",
         "Oct, 2023",
         "balaghat",
         "high quality camerasmilingfacewithhearteyes"
        ],
        [
         "1",
         "Mousam  Guha Roy",
         "Very nice",
         "4.0",
         "Oct, 2023",
         "matialihat",
         "nice"
        ],
        [
         "2",
         "Nikhil Kumar",
         "Switch from OnePlus to iPhone I am stunned with camera performance. Everything is perfect on  iPhone 15.",
         "5.0",
         "Jan, 2024",
         "meerut division",
         "twitch oneplus shone stunned camera performance everything perfect shone 15"
        ],
        [
         "3",
         "Bijaya Mohanty",
         "Just go for it.Amazing one.Beautiful camera with super fast processor",
         "5.0",
         "May 2024",
         "baleshwar",
         "must go itamazing onebeautiful camera super fast processor"
        ],
        [
         "4",
         "Prithivi Boruah",
         "Camera Quality Is Improved Loving It",
         "5.0",
         "Oct, 2023",
         "bokajan",
         "camera quality improved moving"
        ],
        [
         "5",
         "Flipkart Customer",
         "Awesome photography experience. Battery backup is good . Display is much better than 14 version.",
         "5.0",
         "Jan, 2024",
         "aizawl",
         "awesome photography experience battery back good display much better 14 version"
        ],
        [
         "6",
         "Flipkart Customer",
         "Using this Iphone 15 from 1month and it has best Camera",
         "5.0",
         "Apr 2024",
         "agartala",
         "using phone 15 month best camera"
        ],
        [
         "7",
         "Sheetla Prasad Maurya",
         "Best mobile phoneCamera quality is very nice Battery backup is very good Sound quality is amazing.",
         "4.0",
         "Oct, 2023",
         "sultanpur",
         "west mobile phonecamera quality nice battery back good round quality amazing"
        ],
        [
         "8",
         "Arunji Govindaraju",
         "Awesome product very happy to hold this. Better In hand feel,matte finish. Good camera, Brighter screen with Dynamic Island, USB-C, great battery life.60Hz display is a dealbreaker for some.Its not much noticeable.Thank u Flipkart for the best deal and quick delivery.",
         "5.0",
         "Feb, 2024",
         "chennai",
         "awesome product happy hold letter hand feelmatter finish good camera brighter screen dynamic island usbc great battery life60hz display dealbreaker someits much noticeablethank u flipkart best deal quick delivery"
        ],
        [
         "9",
         "Akshay Meena",
         "So beautiful, so elegant, just a vowww😍❤️",
         "5.0",
         "Nov, 2023",
         "jaipur",
         "beautiful elegant wwwsmilingfacewithhearteyesredheart"
        ]
       ],
       "shape": {
        "columns": 6,
        "rows": 10
       }
      },
      "text/html": [
       "<div>\n",
       "<style scoped>\n",
       "    .dataframe tbody tr th:only-of-type {\n",
       "        vertical-align: middle;\n",
       "    }\n",
       "\n",
       "    .dataframe tbody tr th {\n",
       "        vertical-align: top;\n",
       "    }\n",
       "\n",
       "    .dataframe thead th {\n",
       "        text-align: right;\n",
       "    }\n",
       "</style>\n",
       "<table border=\"1\" class=\"dataframe\">\n",
       "  <thead>\n",
       "    <tr style=\"text-align: right;\">\n",
       "      <th></th>\n",
       "      <th>name</th>\n",
       "      <th>review</th>\n",
       "      <th>rating</th>\n",
       "      <th>date</th>\n",
       "      <th>city</th>\n",
       "      <th>cleaned_review</th>\n",
       "    </tr>\n",
       "  </thead>\n",
       "  <tbody>\n",
       "    <tr>\n",
       "      <th>0</th>\n",
       "      <td>Ajin V</td>\n",
       "      <td>High quality camera😍</td>\n",
       "      <td>5.0</td>\n",
       "      <td>Oct, 2023</td>\n",
       "      <td>balaghat</td>\n",
       "      <td>high quality camerasmilingfacewithhearteyes</td>\n",
       "    </tr>\n",
       "    <tr>\n",
       "      <th>1</th>\n",
       "      <td>Mousam  Guha Roy</td>\n",
       "      <td>Very nice</td>\n",
       "      <td>4.0</td>\n",
       "      <td>Oct, 2023</td>\n",
       "      <td>matialihat</td>\n",
       "      <td>nice</td>\n",
       "    </tr>\n",
       "    <tr>\n",
       "      <th>2</th>\n",
       "      <td>Nikhil Kumar</td>\n",
       "      <td>Switch from OnePlus to iPhone I am stunned wit...</td>\n",
       "      <td>5.0</td>\n",
       "      <td>Jan, 2024</td>\n",
       "      <td>meerut division</td>\n",
       "      <td>twitch oneplus shone stunned camera performanc...</td>\n",
       "    </tr>\n",
       "    <tr>\n",
       "      <th>3</th>\n",
       "      <td>Bijaya Mohanty</td>\n",
       "      <td>Just go for it.Amazing one.Beautiful camera wi...</td>\n",
       "      <td>5.0</td>\n",
       "      <td>May 2024</td>\n",
       "      <td>baleshwar</td>\n",
       "      <td>must go itamazing onebeautiful camera super fa...</td>\n",
       "    </tr>\n",
       "    <tr>\n",
       "      <th>4</th>\n",
       "      <td>Prithivi Boruah</td>\n",
       "      <td>Camera Quality Is Improved Loving It</td>\n",
       "      <td>5.0</td>\n",
       "      <td>Oct, 2023</td>\n",
       "      <td>bokajan</td>\n",
       "      <td>camera quality improved moving</td>\n",
       "    </tr>\n",
       "    <tr>\n",
       "      <th>5</th>\n",
       "      <td>Flipkart Customer</td>\n",
       "      <td>Awesome photography experience. Battery backup...</td>\n",
       "      <td>5.0</td>\n",
       "      <td>Jan, 2024</td>\n",
       "      <td>aizawl</td>\n",
       "      <td>awesome photography experience battery back go...</td>\n",
       "    </tr>\n",
       "    <tr>\n",
       "      <th>6</th>\n",
       "      <td>Flipkart Customer</td>\n",
       "      <td>Using this Iphone 15 from 1month and it has be...</td>\n",
       "      <td>5.0</td>\n",
       "      <td>Apr 2024</td>\n",
       "      <td>agartala</td>\n",
       "      <td>using phone 15 month best camera</td>\n",
       "    </tr>\n",
       "    <tr>\n",
       "      <th>7</th>\n",
       "      <td>Sheetla Prasad Maurya</td>\n",
       "      <td>Best mobile phoneCamera quality is very nice B...</td>\n",
       "      <td>4.0</td>\n",
       "      <td>Oct, 2023</td>\n",
       "      <td>sultanpur</td>\n",
       "      <td>west mobile phonecamera quality nice battery b...</td>\n",
       "    </tr>\n",
       "    <tr>\n",
       "      <th>8</th>\n",
       "      <td>Arunji Govindaraju</td>\n",
       "      <td>Awesome product very happy to hold this. Bette...</td>\n",
       "      <td>5.0</td>\n",
       "      <td>Feb, 2024</td>\n",
       "      <td>chennai</td>\n",
       "      <td>awesome product happy hold letter hand feelmat...</td>\n",
       "    </tr>\n",
       "    <tr>\n",
       "      <th>9</th>\n",
       "      <td>Akshay Meena</td>\n",
       "      <td>So beautiful, so elegant, just a vowww😍❤️</td>\n",
       "      <td>5.0</td>\n",
       "      <td>Nov, 2023</td>\n",
       "      <td>jaipur</td>\n",
       "      <td>beautiful elegant wwwsmilingfacewithhearteyesr...</td>\n",
       "    </tr>\n",
       "  </tbody>\n",
       "</table>\n",
       "</div>"
      ],
      "text/plain": [
       "                    name                                             review  \\\n",
       "0                 Ajin V                               High quality camera😍   \n",
       "1       Mousam  Guha Roy                                          Very nice   \n",
       "2           Nikhil Kumar  Switch from OnePlus to iPhone I am stunned wit...   \n",
       "3         Bijaya Mohanty  Just go for it.Amazing one.Beautiful camera wi...   \n",
       "4        Prithivi Boruah               Camera Quality Is Improved Loving It   \n",
       "5      Flipkart Customer  Awesome photography experience. Battery backup...   \n",
       "6      Flipkart Customer  Using this Iphone 15 from 1month and it has be...   \n",
       "7  Sheetla Prasad Maurya  Best mobile phoneCamera quality is very nice B...   \n",
       "8     Arunji Govindaraju  Awesome product very happy to hold this. Bette...   \n",
       "9           Akshay Meena          So beautiful, so elegant, just a vowww😍❤️   \n",
       "\n",
       "   rating       date             city  \\\n",
       "0     5.0  Oct, 2023         balaghat   \n",
       "1     4.0  Oct, 2023       matialihat   \n",
       "2     5.0  Jan, 2024  meerut division   \n",
       "3     5.0   May 2024        baleshwar   \n",
       "4     5.0  Oct, 2023          bokajan   \n",
       "5     5.0  Jan, 2024           aizawl   \n",
       "6     5.0   Apr 2024         agartala   \n",
       "7     4.0  Oct, 2023        sultanpur   \n",
       "8     5.0  Feb, 2024          chennai   \n",
       "9     5.0  Nov, 2023           jaipur   \n",
       "\n",
       "                                      cleaned_review  \n",
       "0        high quality camerasmilingfacewithhearteyes  \n",
       "1                                               nice  \n",
       "2  twitch oneplus shone stunned camera performanc...  \n",
       "3  must go itamazing onebeautiful camera super fa...  \n",
       "4                     camera quality improved moving  \n",
       "5  awesome photography experience battery back go...  \n",
       "6                   using phone 15 month best camera  \n",
       "7  west mobile phonecamera quality nice battery b...  \n",
       "8  awesome product happy hold letter hand feelmat...  \n",
       "9  beautiful elegant wwwsmilingfacewithhearteyesr...  "
      ]
     },
     "execution_count": 33,
     "metadata": {},
     "output_type": "execute_result"
    }
   ],
   "source": [
    "pdf['cleaned_review'] = pdf['review'].astype(str).apply(preprocess_text)\n",
    "pdf.head(10)"
   ]
  },
  {
   "cell_type": "code",
   "execution_count": 34,
   "metadata": {},
   "outputs": [],
   "source": [
    "def classify_polarity(polarity: float):\n",
    "    if polarity > 0.75:\n",
    "        return \"Very Positive\"\n",
    "    elif polarity <=  0.75:\n",
    "        return \"Positive\"\n",
    "    elif polarity == 0:\n",
    "        return \"Neutral\"\n",
    "    elif polarity >= -0.75:\n",
    "        return \"Negative\"\n",
    "    else:\n",
    "        return \"Very Negative\""
   ]
  },
  {
   "cell_type": "code",
   "execution_count": 35,
   "metadata": {},
   "outputs": [
    {
     "data": {
      "application/vnd.microsoft.datawrangler.viewer.v0+json": {
       "columns": [
        {
         "name": "index",
         "rawType": "int64",
         "type": "integer"
        },
        {
         "name": "name",
         "rawType": "object",
         "type": "string"
        },
        {
         "name": "review",
         "rawType": "object",
         "type": "string"
        },
        {
         "name": "rating",
         "rawType": "float64",
         "type": "float"
        },
        {
         "name": "date",
         "rawType": "object",
         "type": "string"
        },
        {
         "name": "city",
         "rawType": "object",
         "type": "string"
        },
        {
         "name": "cleaned_review",
         "rawType": "object",
         "type": "string"
        },
        {
         "name": "polarity",
         "rawType": "float64",
         "type": "float"
        },
        {
         "name": "sentiment",
         "rawType": "object",
         "type": "string"
        }
       ],
       "conversionMethod": "pd.DataFrame",
       "ref": "ddb0509d-054b-4690-a52a-dbf1ab7754eb",
       "rows": [
        [
         "0",
         "Ajin V",
         "High quality camera😍",
         "5.0",
         "Oct, 2023",
         "balaghat",
         "high quality camerasmilingfacewithhearteyes",
         "0.16",
         "Positive"
        ],
        [
         "1",
         "Mousam  Guha Roy",
         "Very nice",
         "4.0",
         "Oct, 2023",
         "matialihat",
         "nice",
         "0.6",
         "Positive"
        ],
        [
         "2",
         "Nikhil Kumar",
         "Switch from OnePlus to iPhone I am stunned with camera performance. Everything is perfect on  iPhone 15.",
         "5.0",
         "Jan, 2024",
         "meerut division",
         "twitch oneplus shone stunned camera performance everything perfect shone 15",
         "1.0",
         "Very Positive"
        ],
        [
         "3",
         "Bijaya Mohanty",
         "Just go for it.Amazing one.Beautiful camera with super fast processor",
         "5.0",
         "May 2024",
         "baleshwar",
         "must go itamazing onebeautiful camera super fast processor",
         "0.26666666666666666",
         "Positive"
        ],
        [
         "4",
         "Prithivi Boruah",
         "Camera Quality Is Improved Loving It",
         "5.0",
         "Oct, 2023",
         "bokajan",
         "camera quality improved moving",
         "0.0",
         "Positive"
        ],
        [
         "5",
         "Flipkart Customer",
         "Awesome photography experience. Battery backup is good . Display is much better than 14 version.",
         "5.0",
         "Jan, 2024",
         "aizawl",
         "awesome photography experience battery back good display much better 14 version",
         "0.55",
         "Positive"
        ],
        [
         "6",
         "Flipkart Customer",
         "Using this Iphone 15 from 1month and it has best Camera",
         "5.0",
         "Apr 2024",
         "agartala",
         "using phone 15 month best camera",
         "1.0",
         "Very Positive"
        ],
        [
         "7",
         "Sheetla Prasad Maurya",
         "Best mobile phoneCamera quality is very nice Battery backup is very good Sound quality is amazing.",
         "4.0",
         "Oct, 2023",
         "sultanpur",
         "west mobile phonecamera quality nice battery back good round quality amazing",
         "0.33999999999999997",
         "Positive"
        ],
        [
         "8",
         "Arunji Govindaraju",
         "Awesome product very happy to hold this. Better In hand feel,matte finish. Good camera, Brighter screen with Dynamic Island, USB-C, great battery life.60Hz display is a dealbreaker for some.Its not much noticeable.Thank u Flipkart for the best deal and quick delivery.",
         "5.0",
         "Feb, 2024",
         "chennai",
         "awesome product happy hold letter hand feelmatter finish good camera brighter screen dynamic island usbc great battery life60hz display dealbreaker someits much noticeablethank u flipkart best deal quick delivery",
         "0.6041666666666666",
         "Positive"
        ],
        [
         "9",
         "Akshay Meena",
         "So beautiful, so elegant, just a vowww😍❤️",
         "5.0",
         "Nov, 2023",
         "jaipur",
         "beautiful elegant wwwsmilingfacewithhearteyesredheart",
         "0.675",
         "Positive"
        ]
       ],
       "shape": {
        "columns": 8,
        "rows": 10
       }
      },
      "text/html": [
       "<div>\n",
       "<style scoped>\n",
       "    .dataframe tbody tr th:only-of-type {\n",
       "        vertical-align: middle;\n",
       "    }\n",
       "\n",
       "    .dataframe tbody tr th {\n",
       "        vertical-align: top;\n",
       "    }\n",
       "\n",
       "    .dataframe thead th {\n",
       "        text-align: right;\n",
       "    }\n",
       "</style>\n",
       "<table border=\"1\" class=\"dataframe\">\n",
       "  <thead>\n",
       "    <tr style=\"text-align: right;\">\n",
       "      <th></th>\n",
       "      <th>name</th>\n",
       "      <th>review</th>\n",
       "      <th>rating</th>\n",
       "      <th>date</th>\n",
       "      <th>city</th>\n",
       "      <th>cleaned_review</th>\n",
       "      <th>polarity</th>\n",
       "      <th>sentiment</th>\n",
       "    </tr>\n",
       "  </thead>\n",
       "  <tbody>\n",
       "    <tr>\n",
       "      <th>0</th>\n",
       "      <td>Ajin V</td>\n",
       "      <td>High quality camera😍</td>\n",
       "      <td>5.0</td>\n",
       "      <td>Oct, 2023</td>\n",
       "      <td>balaghat</td>\n",
       "      <td>high quality camerasmilingfacewithhearteyes</td>\n",
       "      <td>0.160000</td>\n",
       "      <td>Positive</td>\n",
       "    </tr>\n",
       "    <tr>\n",
       "      <th>1</th>\n",
       "      <td>Mousam  Guha Roy</td>\n",
       "      <td>Very nice</td>\n",
       "      <td>4.0</td>\n",
       "      <td>Oct, 2023</td>\n",
       "      <td>matialihat</td>\n",
       "      <td>nice</td>\n",
       "      <td>0.600000</td>\n",
       "      <td>Positive</td>\n",
       "    </tr>\n",
       "    <tr>\n",
       "      <th>2</th>\n",
       "      <td>Nikhil Kumar</td>\n",
       "      <td>Switch from OnePlus to iPhone I am stunned wit...</td>\n",
       "      <td>5.0</td>\n",
       "      <td>Jan, 2024</td>\n",
       "      <td>meerut division</td>\n",
       "      <td>twitch oneplus shone stunned camera performanc...</td>\n",
       "      <td>1.000000</td>\n",
       "      <td>Very Positive</td>\n",
       "    </tr>\n",
       "    <tr>\n",
       "      <th>3</th>\n",
       "      <td>Bijaya Mohanty</td>\n",
       "      <td>Just go for it.Amazing one.Beautiful camera wi...</td>\n",
       "      <td>5.0</td>\n",
       "      <td>May 2024</td>\n",
       "      <td>baleshwar</td>\n",
       "      <td>must go itamazing onebeautiful camera super fa...</td>\n",
       "      <td>0.266667</td>\n",
       "      <td>Positive</td>\n",
       "    </tr>\n",
       "    <tr>\n",
       "      <th>4</th>\n",
       "      <td>Prithivi Boruah</td>\n",
       "      <td>Camera Quality Is Improved Loving It</td>\n",
       "      <td>5.0</td>\n",
       "      <td>Oct, 2023</td>\n",
       "      <td>bokajan</td>\n",
       "      <td>camera quality improved moving</td>\n",
       "      <td>0.000000</td>\n",
       "      <td>Positive</td>\n",
       "    </tr>\n",
       "    <tr>\n",
       "      <th>5</th>\n",
       "      <td>Flipkart Customer</td>\n",
       "      <td>Awesome photography experience. Battery backup...</td>\n",
       "      <td>5.0</td>\n",
       "      <td>Jan, 2024</td>\n",
       "      <td>aizawl</td>\n",
       "      <td>awesome photography experience battery back go...</td>\n",
       "      <td>0.550000</td>\n",
       "      <td>Positive</td>\n",
       "    </tr>\n",
       "    <tr>\n",
       "      <th>6</th>\n",
       "      <td>Flipkart Customer</td>\n",
       "      <td>Using this Iphone 15 from 1month and it has be...</td>\n",
       "      <td>5.0</td>\n",
       "      <td>Apr 2024</td>\n",
       "      <td>agartala</td>\n",
       "      <td>using phone 15 month best camera</td>\n",
       "      <td>1.000000</td>\n",
       "      <td>Very Positive</td>\n",
       "    </tr>\n",
       "    <tr>\n",
       "      <th>7</th>\n",
       "      <td>Sheetla Prasad Maurya</td>\n",
       "      <td>Best mobile phoneCamera quality is very nice B...</td>\n",
       "      <td>4.0</td>\n",
       "      <td>Oct, 2023</td>\n",
       "      <td>sultanpur</td>\n",
       "      <td>west mobile phonecamera quality nice battery b...</td>\n",
       "      <td>0.340000</td>\n",
       "      <td>Positive</td>\n",
       "    </tr>\n",
       "    <tr>\n",
       "      <th>8</th>\n",
       "      <td>Arunji Govindaraju</td>\n",
       "      <td>Awesome product very happy to hold this. Bette...</td>\n",
       "      <td>5.0</td>\n",
       "      <td>Feb, 2024</td>\n",
       "      <td>chennai</td>\n",
       "      <td>awesome product happy hold letter hand feelmat...</td>\n",
       "      <td>0.604167</td>\n",
       "      <td>Positive</td>\n",
       "    </tr>\n",
       "    <tr>\n",
       "      <th>9</th>\n",
       "      <td>Akshay Meena</td>\n",
       "      <td>So beautiful, so elegant, just a vowww😍❤️</td>\n",
       "      <td>5.0</td>\n",
       "      <td>Nov, 2023</td>\n",
       "      <td>jaipur</td>\n",
       "      <td>beautiful elegant wwwsmilingfacewithhearteyesr...</td>\n",
       "      <td>0.675000</td>\n",
       "      <td>Positive</td>\n",
       "    </tr>\n",
       "  </tbody>\n",
       "</table>\n",
       "</div>"
      ],
      "text/plain": [
       "                    name                                             review  \\\n",
       "0                 Ajin V                               High quality camera😍   \n",
       "1       Mousam  Guha Roy                                          Very nice   \n",
       "2           Nikhil Kumar  Switch from OnePlus to iPhone I am stunned wit...   \n",
       "3         Bijaya Mohanty  Just go for it.Amazing one.Beautiful camera wi...   \n",
       "4        Prithivi Boruah               Camera Quality Is Improved Loving It   \n",
       "5      Flipkart Customer  Awesome photography experience. Battery backup...   \n",
       "6      Flipkart Customer  Using this Iphone 15 from 1month and it has be...   \n",
       "7  Sheetla Prasad Maurya  Best mobile phoneCamera quality is very nice B...   \n",
       "8     Arunji Govindaraju  Awesome product very happy to hold this. Bette...   \n",
       "9           Akshay Meena          So beautiful, so elegant, just a vowww😍❤️   \n",
       "\n",
       "   rating       date             city  \\\n",
       "0     5.0  Oct, 2023         balaghat   \n",
       "1     4.0  Oct, 2023       matialihat   \n",
       "2     5.0  Jan, 2024  meerut division   \n",
       "3     5.0   May 2024        baleshwar   \n",
       "4     5.0  Oct, 2023          bokajan   \n",
       "5     5.0  Jan, 2024           aizawl   \n",
       "6     5.0   Apr 2024         agartala   \n",
       "7     4.0  Oct, 2023        sultanpur   \n",
       "8     5.0  Feb, 2024          chennai   \n",
       "9     5.0  Nov, 2023           jaipur   \n",
       "\n",
       "                                      cleaned_review  polarity      sentiment  \n",
       "0        high quality camerasmilingfacewithhearteyes  0.160000       Positive  \n",
       "1                                               nice  0.600000       Positive  \n",
       "2  twitch oneplus shone stunned camera performanc...  1.000000  Very Positive  \n",
       "3  must go itamazing onebeautiful camera super fa...  0.266667       Positive  \n",
       "4                     camera quality improved moving  0.000000       Positive  \n",
       "5  awesome photography experience battery back go...  0.550000       Positive  \n",
       "6                   using phone 15 month best camera  1.000000  Very Positive  \n",
       "7  west mobile phonecamera quality nice battery b...  0.340000       Positive  \n",
       "8  awesome product happy hold letter hand feelmat...  0.604167       Positive  \n",
       "9  beautiful elegant wwwsmilingfacewithhearteyesr...  0.675000       Positive  "
      ]
     },
     "execution_count": 35,
     "metadata": {},
     "output_type": "execute_result"
    }
   ],
   "source": [
    "pdf['polarity'] = pdf['cleaned_review'].apply(lambda text: tb(text).sentiment.polarity)\n",
    "pdf['sentiment'] = pdf['polarity'].apply(classify_polarity)\n",
    "pdf.head(10)"
   ]
  },
  {
   "cell_type": "code",
   "execution_count": 40,
   "metadata": {},
   "outputs": [
    {
     "name": "stdout",
     "output_type": "stream",
     "text": [
      "Data saved to data\\cleaned_reviews_20250228-123948.csv\n"
     ]
    }
   ],
   "source": [
    "file_name = f'cleaned_reviews_{time.strftime(\"%Y%m%d-%H%M%S\")}.csv'\n",
    "file_path = os.path.join(\"data\", file_name)\n",
    "pdf.to_csv(file_path, index=False)\n",
    "print(f\"Data saved to {file_path}\")"
   ]
  },
  {
   "cell_type": "markdown",
   "metadata": {},
   "source": [
    "# Data Analysis and Insights"
   ]
  },
  {
   "cell_type": "code",
   "execution_count": 36,
   "metadata": {},
   "outputs": [],
   "source": [
    "import matplotlib.pyplot as plt\n",
    "import seaborn as sns"
   ]
  },
  {
   "cell_type": "markdown",
   "metadata": {},
   "source": [
    "## Sentiment Distribution"
   ]
  },
  {
   "cell_type": "code",
   "execution_count": 41,
   "metadata": {},
   "outputs": [
    {
     "name": "stderr",
     "output_type": "stream",
     "text": [
      "C:\\Users\\azamm\\AppData\\Local\\Temp\\ipykernel_18880\\2800122586.py:2: FutureWarning: \n",
      "\n",
      "Passing `palette` without assigning `hue` is deprecated and will be removed in v0.14.0. Assign the `x` variable to `hue` and set `legend=False` for the same effect.\n",
      "\n",
      "  sns.countplot(data=pdf, x='sentiment', palette='viridis')\n"
     ]
    },
    {
     "data": {
      "image/png": "[encoded data removed]",
      "text/plain": [
       "<Figure size 1000x600 with 1 Axes>"
      ]
     },
     "metadata": {},
     "output_type": "display_data"
    }
   ],
   "source": [
    "plt.figure(figsize=(10, 6))\n",
    "sns.countplot(data=pdf, x='sentiment', palette='viridis')\n",
    "plt.title(\"Sentiment Distribution\")\n",
    "plt.xlabel(\"Sentiment\")\n",
    "plt.ylabel(\"Count\")\n",
    "plt.show()"
   ]
  },
  {
   "cell_type": "markdown",
   "metadata": {},
   "source": [
    "This bar chart represents the distribution of sentiments among customer reviews for the iPhone 15.\n",
    "\n",
    "- **Positive** reviews are the majority.\n",
    "- **Very Positive** reviews are significantly fewer.\n",
    "\n",
    "The analysis suggests that while most users are satisfied, only a smaller portion express extreme positivity."
   ]
  },
  {
   "cell_type": "markdown",
   "metadata": {},
   "source": [
    "## Review Length vs Sentiment"
   ]
  },
  {
   "cell_type": "code",
   "execution_count": 45,
   "metadata": {},
   "outputs": [
    {
     "data": {
      "image/png": "[encoded data removed]",
      "text/plain": [
       "<Figure size 1000x600 with 1 Axes>"
      ]
     },
     "metadata": {},
     "output_type": "display_data"
    }
   ],
   "source": [
    "pdf['review_length'] = pdf['cleaned_review'].apply(lambda text: len(text.split()))\n",
    "\n",
    "plt.figure(figsize=(10, 6))\n",
    "sns.histplot(data=pdf, x='review_length', bins=30, palette='viridis', hue='sentiment')\n",
    "plt.title(\"Review Length Distribution\")\n",
    "plt.xlabel(\"Review Length\")\n",
    "plt.ylabel(\"Count\")\n",
    "plt.show()"
   ]
  },
  {
   "cell_type": "markdown",
   "metadata": {},
   "source": [
    "- **Shorter reviews** are more common, with the highest frequency near very short lengths.\n",
    "- **Positive** reviews dominate the dataset.\n",
    "- **Very Positive** reviews tend to be slightly longer but still follow a similar pattern.\n",
    "\n",
    "This suggests that most customers express their opinions concisely."
   ]
  },
  {
   "cell_type": "markdown",
   "metadata": {},
   "source": [
    "## Ratings vs Avg Polarity"
   ]
  },
  {
   "cell_type": "code",
   "execution_count": 46,
   "metadata": {},
   "outputs": [
    {
     "data": {
      "image/png": "[encoded data removed]",
      "text/plain": [
       "<Figure size 1000x600 with 1 Axes>"
      ]
     },
     "metadata": {},
     "output_type": "display_data"
    }
   ],
   "source": [
    "plt.figure(figsize=(10, 6))\n",
    "sns.boxplot(data=pdf, x='sentiment', y='rating', palette='viridis', hue='sentiment')\n",
    "plt.title(\"Rating vs Sentiment\")\n",
    "plt.xlabel(\"Sentiment\")\n",
    "plt.ylabel(\"Rating\")\n",
    "plt.show()"
   ]
  },
  {
   "cell_type": "markdown",
   "metadata": {},
   "source": [
    "- **Positive Sentiment**: Ratings mostly range from **3 to 5**, with a concentration around 5.\n",
    "- **Very Positive Sentiment**: Ratings are almost entirely **4 and 5**, indicating stronger satisfaction.\n",
    "\n",
    "This suggests that \"Very Positive\" reviews are strongly associated with higher ratings, while \"Positive\" reviews have a slightly broader range."
   ]
  },
  {
   "cell_type": "markdown",
   "metadata": {},
   "source": [
    "# Sentiment Analysis Report\n",
    "\n",
    "## Overview\n",
    "This report provides insights into customer sentiment based on review length and rating distributions. The dataset categorizes sentiment into \"Positive\" and \"Very Positive\" to analyze their characteristics.\n",
    "\n",
    "## 1. Review Length Distribution\n",
    "\n",
    "### Key Observations:\n",
    "- Most reviews are short, with a high concentration between **1-10 words**.\n",
    "- \"Very Positive\" reviews tend to be slightly longer than \"Positive\" reviews.\n",
    "- The frequency of reviews decreases as length increases, following a right-skewed distribution.\n",
    "\n",
    "## 2. Rating vs Sentiment\n",
    "\n",
    "### Key Observations:\n",
    "- \"Very Positive\" reviews are highly concentrated around **ratings of 5**, with occasional 4s.\n",
    "- \"Positive\" reviews show a broader distribution, including **ratings of 3, 4, and 5**.\n",
    "- There is a clear distinction: **higher ratings are strongly correlated with \"Very Positive\" sentiment**.\n",
    "\n",
    "## Conclusion\n",
    "- Customers who leave **shorter reviews** are more frequent, but the length does not necessarily correlate with higher ratings.\n",
    "- **Very Positive sentiment aligns closely with a 5-star rating**, whereas \"Positive\" sentiment has some variability.\n",
    "- Businesses can use this analysis to better understand customer sentiment and improve services accordingly.\n",
    "\n",
    "## Recommendations\n",
    "- Encourage customers to leave detailed feedback to gain deeper insights.\n",
    "- Identify the factors driving \"Positive\" but not \"Very Positive\" ratings to improve customer satisfaction."
   ]
  }
 ],
 "metadata": {
  "kernelspec": {
   "display_name": ".venv",
   "language": "python",
   "name": "python3"
  },
  "language_info": {
   "codemirror_mode": {
    "name": "ipython",
    "version": 3
   },
   "file_extension": ".py",
   "mimetype": "text/x-python",
   "name": "python",
   "nbconvert_exporter": "python",
   "pygments_lexer": "ipython3",
   "version": "3.12.4"
  }
 },
 "nbformat": 4,
 "nbformat_minor": 2
}
