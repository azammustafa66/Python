{
 "cells": [
  {
   "cell_type": "markdown",
   "metadata": {},
   "source": [
    "# EDA of Hospitality Data"
   ]
  },
  {
   "cell_type": "markdown",
   "metadata": {},
   "source": [
    "## Data Exploration"
   ]
  },
  {
   "cell_type": "code",
   "execution_count": 1,
   "metadata": {},
   "outputs": [],
   "source": [
    "import pandas as pd"
   ]
  },
  {
   "cell_type": "code",
   "execution_count": 2,
   "metadata": {},
   "outputs": [
    {
     "data": {
      "application/vnd.microsoft.datawrangler.viewer.v0+json": {
       "columns": [
        {
         "name": "index",
         "rawType": "int64",
         "type": "integer"
        },
        {
         "name": "booking_id",
         "rawType": "object",
         "type": "string"
        },
        {
         "name": "property_id",
         "rawType": "int64",
         "type": "integer"
        },
        {
         "name": "booking_date",
         "rawType": "object",
         "type": "string"
        },
        {
         "name": "check_in_date",
         "rawType": "object",
         "type": "string"
        },
        {
         "name": "checkout_date",
         "rawType": "object",
         "type": "string"
        },
        {
         "name": "no_guests",
         "rawType": "float64",
         "type": "float"
        },
        {
         "name": "room_category",
         "rawType": "object",
         "type": "string"
        },
        {
         "name": "booking_platform",
         "rawType": "object",
         "type": "string"
        },
        {
         "name": "ratings_given",
         "rawType": "float64",
         "type": "float"
        },
        {
         "name": "booking_status",
         "rawType": "object",
         "type": "string"
        },
        {
         "name": "revenue_generated",
         "rawType": "int64",
         "type": "integer"
        },
        {
         "name": "revenue_realized",
         "rawType": "int64",
         "type": "integer"
        }
       ],
       "conversionMethod": "pd.DataFrame",
       "ref": "69ac3803-7959-41a0-8bbf-418f51e253fd",
       "rows": [
        [
         "0",
         "May012216558RT11",
         "16558",
         "27-04-2022",
         "01-05-2022",
         "02-05-2022",
         "-3.0",
         "RT1",
         "direct online",
         "1.0",
         "Checked Out",
         "10010",
         "10010"
        ],
        [
         "1",
         "May012216558RT12",
         "16558",
         "30-04-2022",
         "01-05-2022",
         "02-05-2022",
         "2.0",
         "RT1",
         "others",
         null,
         "Cancelled",
         "9100",
         "3640"
        ],
        [
         "2",
         "May012216558RT13",
         "16558",
         "28-04-2022",
         "01-05-2022",
         "04-05-2022",
         "2.0",
         "RT1",
         "logtrip",
         "5.0",
         "Checked Out",
         "9100",
         "9100"
        ],
        [
         "3",
         "May012216558RT14",
         "16558",
         "28-04-2022",
         "01-05-2022",
         "02-05-2022",
         "-2.0",
         "RT1",
         "others",
         null,
         "Cancelled",
         "9100",
         "3640"
        ],
        [
         "4",
         "May012216558RT15",
         "16558",
         "27-04-2022",
         "01-05-2022",
         "02-05-2022",
         "4.0",
         "RT1",
         "direct online",
         "5.0",
         "Checked Out",
         "10920",
         "10920"
        ],
        [
         "5",
         "May012216558RT16",
         "16558",
         "01-05-2022",
         "01-05-2022",
         "03-05-2022",
         "2.0",
         "RT1",
         "others",
         "4.0",
         "Checked Out",
         "9100",
         "9100"
        ],
        [
         "6",
         "May012216558RT17",
         "16558",
         "28-04-2022",
         "01-05-2022",
         "06-05-2022",
         "2.0",
         "RT1",
         "others",
         null,
         "Cancelled",
         "9100",
         "3640"
        ],
        [
         "7",
         "May012216558RT18",
         "16558",
         "26-04-2022",
         "01-05-2022",
         "03-05-2022",
         "2.0",
         "RT1",
         "logtrip",
         null,
         "No Show",
         "9100",
         "9100"
        ],
        [
         "8",
         "May012216558RT19",
         "16558",
         "30-04-2022",
         "01-05-2022",
         "02-05-2022",
         "2.0",
         "RT1",
         "tripster",
         null,
         "Checked Out",
         "9100",
         "9100"
        ],
        [
         "9",
         "May012216558RT110",
         "16558",
         "28-04-2022",
         "01-05-2022",
         "02-05-2022",
         "1.0",
         "RT1",
         "others",
         "4.0",
         "Checked Out",
         "9100",
         "9100"
        ]
       ],
       "shape": {
        "columns": 12,
        "rows": 10
       }
      },
      "text/html": [
       "<div>\n",
       "<style scoped>\n",
       "    .dataframe tbody tr th:only-of-type {\n",
       "        vertical-align: middle;\n",
       "    }\n",
       "\n",
       "    .dataframe tbody tr th {\n",
       "        vertical-align: top;\n",
       "    }\n",
       "\n",
       "    .dataframe thead th {\n",
       "        text-align: right;\n",
       "    }\n",
       "</style>\n",
       "<table border=\"1\" class=\"dataframe\">\n",
       "  <thead>\n",
       "    <tr style=\"text-align: right;\">\n",
       "      <th></th>\n",
       "      <th>booking_id</th>\n",
       "      <th>property_id</th>\n",
       "      <th>booking_date</th>\n",
       "      <th>check_in_date</th>\n",
       "      <th>checkout_date</th>\n",
       "      <th>no_guests</th>\n",
       "      <th>room_category</th>\n",
       "      <th>booking_platform</th>\n",
       "      <th>ratings_given</th>\n",
       "      <th>booking_status</th>\n",
       "      <th>revenue_generated</th>\n",
       "      <th>revenue_realized</th>\n",
       "    </tr>\n",
       "  </thead>\n",
       "  <tbody>\n",
       "    <tr>\n",
       "      <th>0</th>\n",
       "      <td>May012216558RT11</td>\n",
       "      <td>16558</td>\n",
       "      <td>27-04-2022</td>\n",
       "      <td>01-05-2022</td>\n",
       "      <td>02-05-2022</td>\n",
       "      <td>-3.0</td>\n",
       "      <td>RT1</td>\n",
       "      <td>direct online</td>\n",
       "      <td>1.0</td>\n",
       "      <td>Checked Out</td>\n",
       "      <td>10010</td>\n",
       "      <td>10010</td>\n",
       "    </tr>\n",
       "    <tr>\n",
       "      <th>1</th>\n",
       "      <td>May012216558RT12</td>\n",
       "      <td>16558</td>\n",
       "      <td>30-04-2022</td>\n",
       "      <td>01-05-2022</td>\n",
       "      <td>02-05-2022</td>\n",
       "      <td>2.0</td>\n",
       "      <td>RT1</td>\n",
       "      <td>others</td>\n",
       "      <td>NaN</td>\n",
       "      <td>Cancelled</td>\n",
       "      <td>9100</td>\n",
       "      <td>3640</td>\n",
       "    </tr>\n",
       "    <tr>\n",
       "      <th>2</th>\n",
       "      <td>May012216558RT13</td>\n",
       "      <td>16558</td>\n",
       "      <td>28-04-2022</td>\n",
       "      <td>01-05-2022</td>\n",
       "      <td>04-05-2022</td>\n",
       "      <td>2.0</td>\n",
       "      <td>RT1</td>\n",
       "      <td>logtrip</td>\n",
       "      <td>5.0</td>\n",
       "      <td>Checked Out</td>\n",
       "      <td>9100</td>\n",
       "      <td>9100</td>\n",
       "    </tr>\n",
       "    <tr>\n",
       "      <th>3</th>\n",
       "      <td>May012216558RT14</td>\n",
       "      <td>16558</td>\n",
       "      <td>28-04-2022</td>\n",
       "      <td>01-05-2022</td>\n",
       "      <td>02-05-2022</td>\n",
       "      <td>-2.0</td>\n",
       "      <td>RT1</td>\n",
       "      <td>others</td>\n",
       "      <td>NaN</td>\n",
       "      <td>Cancelled</td>\n",
       "      <td>9100</td>\n",
       "      <td>3640</td>\n",
       "    </tr>\n",
       "    <tr>\n",
       "      <th>4</th>\n",
       "      <td>May012216558RT15</td>\n",
       "      <td>16558</td>\n",
       "      <td>27-04-2022</td>\n",
       "      <td>01-05-2022</td>\n",
       "      <td>02-05-2022</td>\n",
       "      <td>4.0</td>\n",
       "      <td>RT1</td>\n",
       "      <td>direct online</td>\n",
       "      <td>5.0</td>\n",
       "      <td>Checked Out</td>\n",
       "      <td>10920</td>\n",
       "      <td>10920</td>\n",
       "    </tr>\n",
       "    <tr>\n",
       "      <th>5</th>\n",
       "      <td>May012216558RT16</td>\n",
       "      <td>16558</td>\n",
       "      <td>01-05-2022</td>\n",
       "      <td>01-05-2022</td>\n",
       "      <td>03-05-2022</td>\n",
       "      <td>2.0</td>\n",
       "      <td>RT1</td>\n",
       "      <td>others</td>\n",
       "      <td>4.0</td>\n",
       "      <td>Checked Out</td>\n",
       "      <td>9100</td>\n",
       "      <td>9100</td>\n",
       "    </tr>\n",
       "    <tr>\n",
       "      <th>6</th>\n",
       "      <td>May012216558RT17</td>\n",
       "      <td>16558</td>\n",
       "      <td>28-04-2022</td>\n",
       "      <td>01-05-2022</td>\n",
       "      <td>06-05-2022</td>\n",
       "      <td>2.0</td>\n",
       "      <td>RT1</td>\n",
       "      <td>others</td>\n",
       "      <td>NaN</td>\n",
       "      <td>Cancelled</td>\n",
       "      <td>9100</td>\n",
       "      <td>3640</td>\n",
       "    </tr>\n",
       "    <tr>\n",
       "      <th>7</th>\n",
       "      <td>May012216558RT18</td>\n",
       "      <td>16558</td>\n",
       "      <td>26-04-2022</td>\n",
       "      <td>01-05-2022</td>\n",
       "      <td>03-05-2022</td>\n",
       "      <td>2.0</td>\n",
       "      <td>RT1</td>\n",
       "      <td>logtrip</td>\n",
       "      <td>NaN</td>\n",
       "      <td>No Show</td>\n",
       "      <td>9100</td>\n",
       "      <td>9100</td>\n",
       "    </tr>\n",
       "    <tr>\n",
       "      <th>8</th>\n",
       "      <td>May012216558RT19</td>\n",
       "      <td>16558</td>\n",
       "      <td>30-04-2022</td>\n",
       "      <td>01-05-2022</td>\n",
       "      <td>02-05-2022</td>\n",
       "      <td>2.0</td>\n",
       "      <td>RT1</td>\n",
       "      <td>tripster</td>\n",
       "      <td>NaN</td>\n",
       "      <td>Checked Out</td>\n",
       "      <td>9100</td>\n",
       "      <td>9100</td>\n",
       "    </tr>\n",
       "    <tr>\n",
       "      <th>9</th>\n",
       "      <td>May012216558RT110</td>\n",
       "      <td>16558</td>\n",
       "      <td>28-04-2022</td>\n",
       "      <td>01-05-2022</td>\n",
       "      <td>02-05-2022</td>\n",
       "      <td>1.0</td>\n",
       "      <td>RT1</td>\n",
       "      <td>others</td>\n",
       "      <td>4.0</td>\n",
       "      <td>Checked Out</td>\n",
       "      <td>9100</td>\n",
       "      <td>9100</td>\n",
       "    </tr>\n",
       "  </tbody>\n",
       "</table>\n",
       "</div>"
      ],
      "text/plain": [
       "          booking_id  property_id booking_date check_in_date checkout_date  \\\n",
       "0   May012216558RT11        16558   27-04-2022    01-05-2022    02-05-2022   \n",
       "1   May012216558RT12        16558   30-04-2022    01-05-2022    02-05-2022   \n",
       "2   May012216558RT13        16558   28-04-2022    01-05-2022    04-05-2022   \n",
       "3   May012216558RT14        16558   28-04-2022    01-05-2022    02-05-2022   \n",
       "4   May012216558RT15        16558   27-04-2022    01-05-2022    02-05-2022   \n",
       "5   May012216558RT16        16558   01-05-2022    01-05-2022    03-05-2022   \n",
       "6   May012216558RT17        16558   28-04-2022    01-05-2022    06-05-2022   \n",
       "7   May012216558RT18        16558   26-04-2022    01-05-2022    03-05-2022   \n",
       "8   May012216558RT19        16558   30-04-2022    01-05-2022    02-05-2022   \n",
       "9  May012216558RT110        16558   28-04-2022    01-05-2022    02-05-2022   \n",
       "\n",
       "   no_guests room_category booking_platform  ratings_given booking_status  \\\n",
       "0       -3.0           RT1    direct online            1.0    Checked Out   \n",
       "1        2.0           RT1           others            NaN      Cancelled   \n",
       "2        2.0           RT1          logtrip            5.0    Checked Out   \n",
       "3       -2.0           RT1           others            NaN      Cancelled   \n",
       "4        4.0           RT1    direct online            5.0    Checked Out   \n",
       "5        2.0           RT1           others            4.0    Checked Out   \n",
       "6        2.0           RT1           others            NaN      Cancelled   \n",
       "7        2.0           RT1          logtrip            NaN        No Show   \n",
       "8        2.0           RT1         tripster            NaN    Checked Out   \n",
       "9        1.0           RT1           others            4.0    Checked Out   \n",
       "\n",
       "   revenue_generated  revenue_realized  \n",
       "0              10010             10010  \n",
       "1               9100              3640  \n",
       "2               9100              9100  \n",
       "3               9100              3640  \n",
       "4              10920             10920  \n",
       "5               9100              9100  \n",
       "6               9100              3640  \n",
       "7               9100              9100  \n",
       "8               9100              9100  \n",
       "9               9100              9100  "
      ]
     },
     "execution_count": 2,
     "metadata": {},
     "output_type": "execute_result"
    }
   ],
   "source": [
    "df_bookings = pd.read_csv('./datasets/fact_bookings.csv')\n",
    "df_bookings.head(10)"
   ]
  },
  {
   "cell_type": "code",
   "execution_count": 3,
   "metadata": {},
   "outputs": [
    {
     "data": {
      "text/plain": [
       "(134590, 12)"
      ]
     },
     "execution_count": 3,
     "metadata": {},
     "output_type": "execute_result"
    }
   ],
   "source": [
    "df_bookings.shape"
   ]
  },
  {
   "cell_type": "code",
   "execution_count": 4,
   "metadata": {},
   "outputs": [
    {
     "data": {
      "text/plain": [
       "array(['RT1', 'RT2', 'RT3', 'RT4'], dtype=object)"
      ]
     },
     "execution_count": 4,
     "metadata": {},
     "output_type": "execute_result"
    }
   ],
   "source": [
    "df_bookings['room_category'].unique()"
   ]
  },
  {
   "cell_type": "code",
   "execution_count": 5,
   "metadata": {},
   "outputs": [
    {
     "data": {
      "text/plain": [
       "array(['direct online', 'others', 'logtrip', 'tripster', 'makeyourtrip',\n",
       "       'journey', 'direct offline'], dtype=object)"
      ]
     },
     "execution_count": 5,
     "metadata": {},
     "output_type": "execute_result"
    }
   ],
   "source": [
    "df_bookings['booking_platform'].unique()"
   ]
  },
  {
   "cell_type": "code",
   "execution_count": 6,
   "metadata": {},
   "outputs": [
    {
     "data": {
      "text/plain": [
       "booking_platform\n",
       "others            55066\n",
       "makeyourtrip      26898\n",
       "logtrip           14756\n",
       "direct online     13379\n",
       "tripster           9630\n",
       "journey            8106\n",
       "direct offline     6755\n",
       "Name: count, dtype: int64"
      ]
     },
     "execution_count": 6,
     "metadata": {},
     "output_type": "execute_result"
    }
   ],
   "source": [
    "df_bookings['booking_platform'].value_counts().sort_values(ascending=False)"
   ]
  },
  {
   "cell_type": "code",
   "execution_count": 7,
   "metadata": {},
   "outputs": [
    {
     "data": {
      "text/plain": [
       "<Axes: ylabel='booking_platform'>"
      ]
     },
     "execution_count": 7,
     "metadata": {},
     "output_type": "execute_result"
    },
    {
     "data": {
      "image/png": "[encoded data removed]",
      "text/plain": [
       "<Figure size 640x480 with 1 Axes>"
      ]
     },
     "metadata": {},
     "output_type": "display_data"
    }
   ],
   "source": [
    "df_bookings.booking_platform.value_counts().plot(kind='barh')"
   ]
  },
  {
   "cell_type": "code",
   "execution_count": 8,
   "metadata": {},
   "outputs": [
    {
     "data": {
      "application/vnd.microsoft.datawrangler.viewer.v0+json": {
       "columns": [
        {
         "name": "index",
         "rawType": "object",
         "type": "string"
        },
        {
         "name": "property_id",
         "rawType": "float64",
         "type": "float"
        },
        {
         "name": "no_guests",
         "rawType": "float64",
         "type": "float"
        },
        {
         "name": "ratings_given",
         "rawType": "float64",
         "type": "float"
        },
        {
         "name": "revenue_generated",
         "rawType": "float64",
         "type": "float"
        },
        {
         "name": "revenue_realized",
         "rawType": "float64",
         "type": "float"
        }
       ],
       "conversionMethod": "pd.DataFrame",
       "ref": "c8d90317-a2b5-4cc1-a742-aa993714acf8",
       "rows": [
        [
         "count",
         "134590.0",
         "134587.0",
         "56683.0",
         "134590.0",
         "134590.0"
        ],
        [
         "mean",
         "18061.113492830078",
         "2.0361699123986714",
         "3.619003934160154",
         "15310.508990266737",
         "12696.123255813953"
        ],
        [
         "std",
         "1093.0558465988563",
         "1.0348852636174959",
         "1.235008610491633",
         "89679.97206997451",
         "6928.108124022361"
        ],
        [
         "min",
         "16558.0",
         "-17.0",
         "1.0",
         "6500.0",
         "2600.0"
        ],
        [
         "25%",
         "17558.0",
         "1.0",
         "3.0",
         "9900.0",
         "7600.0"
        ],
        [
         "50%",
         "17564.0",
         "2.0",
         "4.0",
         "13500.0",
         "11700.0"
        ],
        [
         "75%",
         "18563.0",
         "2.0",
         "5.0",
         "18000.0",
         "15300.0"
        ],
        [
         "max",
         "19563.0",
         "6.0",
         "5.0",
         "28560000.0",
         "45220.0"
        ]
       ],
       "shape": {
        "columns": 5,
        "rows": 8
       }
      },
      "text/html": [
       "<div>\n",
       "<style scoped>\n",
       "    .dataframe tbody tr th:only-of-type {\n",
       "        vertical-align: middle;\n",
       "    }\n",
       "\n",
       "    .dataframe tbody tr th {\n",
       "        vertical-align: top;\n",
       "    }\n",
       "\n",
       "    .dataframe thead th {\n",
       "        text-align: right;\n",
       "    }\n",
       "</style>\n",
       "<table border=\"1\" class=\"dataframe\">\n",
       "  <thead>\n",
       "    <tr style=\"text-align: right;\">\n",
       "      <th></th>\n",
       "      <th>property_id</th>\n",
       "      <th>no_guests</th>\n",
       "      <th>ratings_given</th>\n",
       "      <th>revenue_generated</th>\n",
       "      <th>revenue_realized</th>\n",
       "    </tr>\n",
       "  </thead>\n",
       "  <tbody>\n",
       "    <tr>\n",
       "      <th>count</th>\n",
       "      <td>134590.000000</td>\n",
       "      <td>134587.000000</td>\n",
       "      <td>56683.000000</td>\n",
       "      <td>1.345900e+05</td>\n",
       "      <td>134590.000000</td>\n",
       "    </tr>\n",
       "    <tr>\n",
       "      <th>mean</th>\n",
       "      <td>18061.113493</td>\n",
       "      <td>2.036170</td>\n",
       "      <td>3.619004</td>\n",
       "      <td>1.531051e+04</td>\n",
       "      <td>12696.123256</td>\n",
       "    </tr>\n",
       "    <tr>\n",
       "      <th>std</th>\n",
       "      <td>1093.055847</td>\n",
       "      <td>1.034885</td>\n",
       "      <td>1.235009</td>\n",
       "      <td>8.967997e+04</td>\n",
       "      <td>6928.108124</td>\n",
       "    </tr>\n",
       "    <tr>\n",
       "      <th>min</th>\n",
       "      <td>16558.000000</td>\n",
       "      <td>-17.000000</td>\n",
       "      <td>1.000000</td>\n",
       "      <td>6.500000e+03</td>\n",
       "      <td>2600.000000</td>\n",
       "    </tr>\n",
       "    <tr>\n",
       "      <th>25%</th>\n",
       "      <td>17558.000000</td>\n",
       "      <td>1.000000</td>\n",
       "      <td>3.000000</td>\n",
       "      <td>9.900000e+03</td>\n",
       "      <td>7600.000000</td>\n",
       "    </tr>\n",
       "    <tr>\n",
       "      <th>50%</th>\n",
       "      <td>17564.000000</td>\n",
       "      <td>2.000000</td>\n",
       "      <td>4.000000</td>\n",
       "      <td>1.350000e+04</td>\n",
       "      <td>11700.000000</td>\n",
       "    </tr>\n",
       "    <tr>\n",
       "      <th>75%</th>\n",
       "      <td>18563.000000</td>\n",
       "      <td>2.000000</td>\n",
       "      <td>5.000000</td>\n",
       "      <td>1.800000e+04</td>\n",
       "      <td>15300.000000</td>\n",
       "    </tr>\n",
       "    <tr>\n",
       "      <th>max</th>\n",
       "      <td>19563.000000</td>\n",
       "      <td>6.000000</td>\n",
       "      <td>5.000000</td>\n",
       "      <td>2.856000e+07</td>\n",
       "      <td>45220.000000</td>\n",
       "    </tr>\n",
       "  </tbody>\n",
       "</table>\n",
       "</div>"
      ],
      "text/plain": [
       "         property_id      no_guests  ratings_given  revenue_generated  \\\n",
       "count  134590.000000  134587.000000   56683.000000       1.345900e+05   \n",
       "mean    18061.113493       2.036170       3.619004       1.531051e+04   \n",
       "std      1093.055847       1.034885       1.235009       8.967997e+04   \n",
       "min     16558.000000     -17.000000       1.000000       6.500000e+03   \n",
       "25%     17558.000000       1.000000       3.000000       9.900000e+03   \n",
       "50%     17564.000000       2.000000       4.000000       1.350000e+04   \n",
       "75%     18563.000000       2.000000       5.000000       1.800000e+04   \n",
       "max     19563.000000       6.000000       5.000000       2.856000e+07   \n",
       "\n",
       "       revenue_realized  \n",
       "count     134590.000000  \n",
       "mean       12696.123256  \n",
       "std         6928.108124  \n",
       "min         2600.000000  \n",
       "25%         7600.000000  \n",
       "50%        11700.000000  \n",
       "75%        15300.000000  \n",
       "max        45220.000000  "
      ]
     },
     "execution_count": 8,
     "metadata": {},
     "output_type": "execute_result"
    }
   ],
   "source": [
    "df_bookings.describe()"
   ]
  },
  {
   "cell_type": "code",
   "execution_count": 9,
   "metadata": {},
   "outputs": [
    {
     "data": {
      "text/plain": [
       "(np.int64(6500), np.int64(28560000))"
      ]
     },
     "execution_count": 9,
     "metadata": {},
     "output_type": "execute_result"
    }
   ],
   "source": [
    "df_bookings['revenue_generated'].min(), df_bookings['revenue_generated'].max()"
   ]
  },
  {
   "cell_type": "code",
   "execution_count": 10,
   "metadata": {},
   "outputs": [],
   "source": [
    "df_date = pd.read_csv('./datasets/dim_date.csv')\n",
    "df_hotels = pd.read_csv('./datasets/dim_hotels.csv')\n",
    "df_rooms = pd.read_csv('./datasets/dim_rooms.csv')\n",
    "df_agg_bookings = pd.read_csv('./datasets/fact_aggregated_bookings.csv')"
   ]
  },
  {
   "cell_type": "code",
   "execution_count": 11,
   "metadata": {},
   "outputs": [
    {
     "data": {
      "text/plain": [
       "(25, 4)"
      ]
     },
     "execution_count": 11,
     "metadata": {},
     "output_type": "execute_result"
    }
   ],
   "source": [
    "df_hotels.shape"
   ]
  },
  {
   "cell_type": "code",
   "execution_count": 12,
   "metadata": {},
   "outputs": [
    {
     "data": {
      "application/vnd.microsoft.datawrangler.viewer.v0+json": {
       "columns": [
        {
         "name": "index",
         "rawType": "int64",
         "type": "integer"
        },
        {
         "name": "property_id",
         "rawType": "int64",
         "type": "integer"
        },
        {
         "name": "property_name",
         "rawType": "object",
         "type": "string"
        },
        {
         "name": "category",
         "rawType": "object",
         "type": "string"
        },
        {
         "name": "city",
         "rawType": "object",
         "type": "string"
        }
       ],
       "conversionMethod": "pd.DataFrame",
       "ref": "03b4d379-8a03-426e-8145-bdc7529b1384",
       "rows": [
        [
         "0",
         "16558",
         "Atliq Grands",
         "Luxury",
         "Delhi"
        ],
        [
         "1",
         "16559",
         "Atliq Exotica",
         "Luxury",
         "Mumbai"
        ],
        [
         "2",
         "16560",
         "Atliq City",
         "Business",
         "Delhi"
        ],
        [
         "3",
         "16561",
         "Atliq Blu",
         "Luxury",
         "Delhi"
        ],
        [
         "4",
         "16562",
         "Atliq Bay",
         "Luxury",
         "Delhi"
        ],
        [
         "5",
         "16563",
         "Atliq Palace",
         "Business",
         "Delhi"
        ],
        [
         "6",
         "17558",
         "Atliq Grands",
         "Luxury",
         "Mumbai"
        ],
        [
         "7",
         "17559",
         "Atliq Exotica",
         "Luxury",
         "Mumbai"
        ],
        [
         "8",
         "17560",
         "Atliq City",
         "Business",
         "Mumbai"
        ],
        [
         "9",
         "17561",
         "Atliq Blu",
         "Luxury",
         "Mumbai"
        ]
       ],
       "shape": {
        "columns": 4,
        "rows": 10
       }
      },
      "text/html": [
       "<div>\n",
       "<style scoped>\n",
       "    .dataframe tbody tr th:only-of-type {\n",
       "        vertical-align: middle;\n",
       "    }\n",
       "\n",
       "    .dataframe tbody tr th {\n",
       "        vertical-align: top;\n",
       "    }\n",
       "\n",
       "    .dataframe thead th {\n",
       "        text-align: right;\n",
       "    }\n",
       "</style>\n",
       "<table border=\"1\" class=\"dataframe\">\n",
       "  <thead>\n",
       "    <tr style=\"text-align: right;\">\n",
       "      <th></th>\n",
       "      <th>property_id</th>\n",
       "      <th>property_name</th>\n",
       "      <th>category</th>\n",
       "      <th>city</th>\n",
       "    </tr>\n",
       "  </thead>\n",
       "  <tbody>\n",
       "    <tr>\n",
       "      <th>0</th>\n",
       "      <td>16558</td>\n",
       "      <td>Atliq Grands</td>\n",
       "      <td>Luxury</td>\n",
       "      <td>Delhi</td>\n",
       "    </tr>\n",
       "    <tr>\n",
       "      <th>1</th>\n",
       "      <td>16559</td>\n",
       "      <td>Atliq Exotica</td>\n",
       "      <td>Luxury</td>\n",
       "      <td>Mumbai</td>\n",
       "    </tr>\n",
       "    <tr>\n",
       "      <th>2</th>\n",
       "      <td>16560</td>\n",
       "      <td>Atliq City</td>\n",
       "      <td>Business</td>\n",
       "      <td>Delhi</td>\n",
       "    </tr>\n",
       "    <tr>\n",
       "      <th>3</th>\n",
       "      <td>16561</td>\n",
       "      <td>Atliq Blu</td>\n",
       "      <td>Luxury</td>\n",
       "      <td>Delhi</td>\n",
       "    </tr>\n",
       "    <tr>\n",
       "      <th>4</th>\n",
       "      <td>16562</td>\n",
       "      <td>Atliq Bay</td>\n",
       "      <td>Luxury</td>\n",
       "      <td>Delhi</td>\n",
       "    </tr>\n",
       "    <tr>\n",
       "      <th>5</th>\n",
       "      <td>16563</td>\n",
       "      <td>Atliq Palace</td>\n",
       "      <td>Business</td>\n",
       "      <td>Delhi</td>\n",
       "    </tr>\n",
       "    <tr>\n",
       "      <th>6</th>\n",
       "      <td>17558</td>\n",
       "      <td>Atliq Grands</td>\n",
       "      <td>Luxury</td>\n",
       "      <td>Mumbai</td>\n",
       "    </tr>\n",
       "    <tr>\n",
       "      <th>7</th>\n",
       "      <td>17559</td>\n",
       "      <td>Atliq Exotica</td>\n",
       "      <td>Luxury</td>\n",
       "      <td>Mumbai</td>\n",
       "    </tr>\n",
       "    <tr>\n",
       "      <th>8</th>\n",
       "      <td>17560</td>\n",
       "      <td>Atliq City</td>\n",
       "      <td>Business</td>\n",
       "      <td>Mumbai</td>\n",
       "    </tr>\n",
       "    <tr>\n",
       "      <th>9</th>\n",
       "      <td>17561</td>\n",
       "      <td>Atliq Blu</td>\n",
       "      <td>Luxury</td>\n",
       "      <td>Mumbai</td>\n",
       "    </tr>\n",
       "  </tbody>\n",
       "</table>\n",
       "</div>"
      ],
      "text/plain": [
       "   property_id  property_name  category    city\n",
       "0        16558   Atliq Grands    Luxury   Delhi\n",
       "1        16559  Atliq Exotica    Luxury  Mumbai\n",
       "2        16560     Atliq City  Business   Delhi\n",
       "3        16561      Atliq Blu    Luxury   Delhi\n",
       "4        16562      Atliq Bay    Luxury   Delhi\n",
       "5        16563   Atliq Palace  Business   Delhi\n",
       "6        17558   Atliq Grands    Luxury  Mumbai\n",
       "7        17559  Atliq Exotica    Luxury  Mumbai\n",
       "8        17560     Atliq City  Business  Mumbai\n",
       "9        17561      Atliq Blu    Luxury  Mumbai"
      ]
     },
     "execution_count": 12,
     "metadata": {},
     "output_type": "execute_result"
    }
   ],
   "source": [
    "df_hotels.head(10)"
   ]
  },
  {
   "cell_type": "code",
   "execution_count": 13,
   "metadata": {},
   "outputs": [
    {
     "data": {
      "text/plain": [
       "category\n",
       "Luxury      16\n",
       "Business     9\n",
       "Name: count, dtype: int64"
      ]
     },
     "execution_count": 13,
     "metadata": {},
     "output_type": "execute_result"
    }
   ],
   "source": [
    "df_hotels.category.value_counts()"
   ]
  },
  {
   "cell_type": "code",
   "execution_count": 14,
   "metadata": {},
   "outputs": [
    {
     "data": {
      "text/plain": [
       "city\n",
       "Mumbai       8\n",
       "Hyderabad    6\n",
       "Bangalore    6\n",
       "Delhi        5\n",
       "Name: count, dtype: int64"
      ]
     },
     "execution_count": 14,
     "metadata": {},
     "output_type": "execute_result"
    }
   ],
   "source": [
    "df_hotels.city.value_counts()"
   ]
  },
  {
   "cell_type": "code",
   "execution_count": 15,
   "metadata": {},
   "outputs": [
    {
     "data": {
      "application/vnd.microsoft.datawrangler.viewer.v0+json": {
       "columns": [
        {
         "name": "index",
         "rawType": "int64",
         "type": "integer"
        },
        {
         "name": "property_id",
         "rawType": "int64",
         "type": "integer"
        },
        {
         "name": "check_in_date",
         "rawType": "object",
         "type": "string"
        },
        {
         "name": "room_category",
         "rawType": "object",
         "type": "string"
        },
        {
         "name": "successful_bookings",
         "rawType": "int64",
         "type": "integer"
        },
        {
         "name": "capacity",
         "rawType": "float64",
         "type": "float"
        }
       ],
       "conversionMethod": "pd.DataFrame",
       "ref": "0b13d704-96f3-406d-ba1e-8e74c3e11231",
       "rows": [
        [
         "0",
         "16559",
         "01-May-22",
         "RT1",
         "25",
         "30.0"
        ],
        [
         "1",
         "19562",
         "01-May-22",
         "RT1",
         "28",
         "30.0"
        ],
        [
         "2",
         "19563",
         "01-May-22",
         "RT1",
         "23",
         "30.0"
        ],
        [
         "3",
         "17558",
         "01-May-22",
         "RT1",
         "30",
         "19.0"
        ],
        [
         "4",
         "16558",
         "01-May-22",
         "RT1",
         "18",
         "19.0"
        ],
        [
         "5",
         "17560",
         "01-May-22",
         "RT1",
         "28",
         "40.0"
        ],
        [
         "6",
         "19558",
         "01-May-22",
         "RT1",
         "25",
         "40.0"
        ],
        [
         "7",
         "19560",
         "01-May-22",
         "RT1",
         "23",
         "26.0"
        ],
        [
         "8",
         "17561",
         "01-May-22",
         "RT1",
         "22",
         null
        ],
        [
         "9",
         "16560",
         "01-May-22",
         "RT1",
         "24",
         "34.0"
        ]
       ],
       "shape": {
        "columns": 5,
        "rows": 10
       }
      },
      "text/html": [
       "<div>\n",
       "<style scoped>\n",
       "    .dataframe tbody tr th:only-of-type {\n",
       "        vertical-align: middle;\n",
       "    }\n",
       "\n",
       "    .dataframe tbody tr th {\n",
       "        vertical-align: top;\n",
       "    }\n",
       "\n",
       "    .dataframe thead th {\n",
       "        text-align: right;\n",
       "    }\n",
       "</style>\n",
       "<table border=\"1\" class=\"dataframe\">\n",
       "  <thead>\n",
       "    <tr style=\"text-align: right;\">\n",
       "      <th></th>\n",
       "      <th>property_id</th>\n",
       "      <th>check_in_date</th>\n",
       "      <th>room_category</th>\n",
       "      <th>successful_bookings</th>\n",
       "      <th>capacity</th>\n",
       "    </tr>\n",
       "  </thead>\n",
       "  <tbody>\n",
       "    <tr>\n",
       "      <th>0</th>\n",
       "      <td>16559</td>\n",
       "      <td>01-May-22</td>\n",
       "      <td>RT1</td>\n",
       "      <td>25</td>\n",
       "      <td>30.0</td>\n",
       "    </tr>\n",
       "    <tr>\n",
       "      <th>1</th>\n",
       "      <td>19562</td>\n",
       "      <td>01-May-22</td>\n",
       "      <td>RT1</td>\n",
       "      <td>28</td>\n",
       "      <td>30.0</td>\n",
       "    </tr>\n",
       "    <tr>\n",
       "      <th>2</th>\n",
       "      <td>19563</td>\n",
       "      <td>01-May-22</td>\n",
       "      <td>RT1</td>\n",
       "      <td>23</td>\n",
       "      <td>30.0</td>\n",
       "    </tr>\n",
       "    <tr>\n",
       "      <th>3</th>\n",
       "      <td>17558</td>\n",
       "      <td>01-May-22</td>\n",
       "      <td>RT1</td>\n",
       "      <td>30</td>\n",
       "      <td>19.0</td>\n",
       "    </tr>\n",
       "    <tr>\n",
       "      <th>4</th>\n",
       "      <td>16558</td>\n",
       "      <td>01-May-22</td>\n",
       "      <td>RT1</td>\n",
       "      <td>18</td>\n",
       "      <td>19.0</td>\n",
       "    </tr>\n",
       "    <tr>\n",
       "      <th>5</th>\n",
       "      <td>17560</td>\n",
       "      <td>01-May-22</td>\n",
       "      <td>RT1</td>\n",
       "      <td>28</td>\n",
       "      <td>40.0</td>\n",
       "    </tr>\n",
       "    <tr>\n",
       "      <th>6</th>\n",
       "      <td>19558</td>\n",
       "      <td>01-May-22</td>\n",
       "      <td>RT1</td>\n",
       "      <td>25</td>\n",
       "      <td>40.0</td>\n",
       "    </tr>\n",
       "    <tr>\n",
       "      <th>7</th>\n",
       "      <td>19560</td>\n",
       "      <td>01-May-22</td>\n",
       "      <td>RT1</td>\n",
       "      <td>23</td>\n",
       "      <td>26.0</td>\n",
       "    </tr>\n",
       "    <tr>\n",
       "      <th>8</th>\n",
       "      <td>17561</td>\n",
       "      <td>01-May-22</td>\n",
       "      <td>RT1</td>\n",
       "      <td>22</td>\n",
       "      <td>NaN</td>\n",
       "    </tr>\n",
       "    <tr>\n",
       "      <th>9</th>\n",
       "      <td>16560</td>\n",
       "      <td>01-May-22</td>\n",
       "      <td>RT1</td>\n",
       "      <td>24</td>\n",
       "      <td>34.0</td>\n",
       "    </tr>\n",
       "  </tbody>\n",
       "</table>\n",
       "</div>"
      ],
      "text/plain": [
       "   property_id check_in_date room_category  successful_bookings  capacity\n",
       "0        16559     01-May-22           RT1                   25      30.0\n",
       "1        19562     01-May-22           RT1                   28      30.0\n",
       "2        19563     01-May-22           RT1                   23      30.0\n",
       "3        17558     01-May-22           RT1                   30      19.0\n",
       "4        16558     01-May-22           RT1                   18      19.0\n",
       "5        17560     01-May-22           RT1                   28      40.0\n",
       "6        19558     01-May-22           RT1                   25      40.0\n",
       "7        19560     01-May-22           RT1                   23      26.0\n",
       "8        17561     01-May-22           RT1                   22       NaN\n",
       "9        16560     01-May-22           RT1                   24      34.0"
      ]
     },
     "execution_count": 15,
     "metadata": {},
     "output_type": "execute_result"
    }
   ],
   "source": [
    "df_agg_bookings.head(10)"
   ]
  },
  {
   "cell_type": "code",
   "execution_count": 16,
   "metadata": {},
   "outputs": [
    {
     "data": {
      "text/plain": [
       "array([16559, 19562, 19563, 17558, 16558, 17560, 19558, 19560, 17561,\n",
       "       16560, 16561, 16562, 16563, 17559, 17562, 17563, 18558, 18559,\n",
       "       18561, 18562, 18563, 19559, 19561, 17564, 18560])"
      ]
     },
     "execution_count": 16,
     "metadata": {},
     "output_type": "execute_result"
    }
   ],
   "source": [
    "df_agg_bookings.property_id.unique()"
   ]
  },
  {
   "cell_type": "code",
   "execution_count": 17,
   "metadata": {},
   "outputs": [
    {
     "data": {
      "text/plain": [
       "property_id\n",
       "16559    7338\n",
       "18562    7333\n",
       "16563    7211\n",
       "18560    6638\n",
       "18561    6458\n",
       "17563    6337\n",
       "17559    6142\n",
       "19560    6079\n",
       "17560    6013\n",
       "19562    5812\n",
       "19561    5736\n",
       "19563    5413\n",
       "18559    5256\n",
       "17561    5183\n",
       "17558    5053\n",
       "16562    4820\n",
       "18563    4737\n",
       "19559    4729\n",
       "16560    4693\n",
       "18558    4475\n",
       "16561    4418\n",
       "19558    4400\n",
       "17564    3982\n",
       "17562    3424\n",
       "16558    3153\n",
       "Name: successful_bookings, dtype: int64"
      ]
     },
     "execution_count": 17,
     "metadata": {},
     "output_type": "execute_result"
    }
   ],
   "source": [
    "df_agg_bookings.groupby(\"property_id\")[\"successful_bookings\"].sum().sort_values(ascending=False)"
   ]
  },
  {
   "cell_type": "code",
   "execution_count": 18,
   "metadata": {},
   "outputs": [
    {
     "data": {
      "application/vnd.microsoft.datawrangler.viewer.v0+json": {
       "columns": [
        {
         "name": "index",
         "rawType": "int64",
         "type": "integer"
        },
        {
         "name": "property_id",
         "rawType": "int64",
         "type": "integer"
        },
        {
         "name": "check_in_date",
         "rawType": "object",
         "type": "string"
        },
        {
         "name": "room_category",
         "rawType": "object",
         "type": "string"
        },
        {
         "name": "successful_bookings",
         "rawType": "int64",
         "type": "integer"
        },
        {
         "name": "capacity",
         "rawType": "float64",
         "type": "float"
        }
       ],
       "conversionMethod": "pd.DataFrame",
       "ref": "bd6fb5a6-eeb8-4f59-b108-3743cf512387",
       "rows": [
        [
         "3",
         "17558",
         "01-May-22",
         "RT1",
         "30",
         "19.0"
        ],
        [
         "12",
         "16563",
         "01-May-22",
         "RT1",
         "100",
         "41.0"
        ],
        [
         "4136",
         "19558",
         "11-Jun-22",
         "RT2",
         "50",
         "39.0"
        ],
        [
         "6209",
         "19560",
         "02-Jul-22",
         "RT1",
         "123",
         "26.0"
        ],
        [
         "8522",
         "19559",
         "25-Jul-22",
         "RT1",
         "35",
         "24.0"
        ],
        [
         "9194",
         "18563",
         "31-Jul-22",
         "RT4",
         "20",
         "18.0"
        ]
       ],
       "shape": {
        "columns": 5,
        "rows": 6
       }
      },
      "text/html": [
       "<div>\n",
       "<style scoped>\n",
       "    .dataframe tbody tr th:only-of-type {\n",
       "        vertical-align: middle;\n",
       "    }\n",
       "\n",
       "    .dataframe tbody tr th {\n",
       "        vertical-align: top;\n",
       "    }\n",
       "\n",
       "    .dataframe thead th {\n",
       "        text-align: right;\n",
       "    }\n",
       "</style>\n",
       "<table border=\"1\" class=\"dataframe\">\n",
       "  <thead>\n",
       "    <tr style=\"text-align: right;\">\n",
       "      <th></th>\n",
       "      <th>property_id</th>\n",
       "      <th>check_in_date</th>\n",
       "      <th>room_category</th>\n",
       "      <th>successful_bookings</th>\n",
       "      <th>capacity</th>\n",
       "    </tr>\n",
       "  </thead>\n",
       "  <tbody>\n",
       "    <tr>\n",
       "      <th>3</th>\n",
       "      <td>17558</td>\n",
       "      <td>01-May-22</td>\n",
       "      <td>RT1</td>\n",
       "      <td>30</td>\n",
       "      <td>19.0</td>\n",
       "    </tr>\n",
       "    <tr>\n",
       "      <th>12</th>\n",
       "      <td>16563</td>\n",
       "      <td>01-May-22</td>\n",
       "      <td>RT1</td>\n",
       "      <td>100</td>\n",
       "      <td>41.0</td>\n",
       "    </tr>\n",
       "    <tr>\n",
       "      <th>4136</th>\n",
       "      <td>19558</td>\n",
       "      <td>11-Jun-22</td>\n",
       "      <td>RT2</td>\n",
       "      <td>50</td>\n",
       "      <td>39.0</td>\n",
       "    </tr>\n",
       "    <tr>\n",
       "      <th>6209</th>\n",
       "      <td>19560</td>\n",
       "      <td>02-Jul-22</td>\n",
       "      <td>RT1</td>\n",
       "      <td>123</td>\n",
       "      <td>26.0</td>\n",
       "    </tr>\n",
       "    <tr>\n",
       "      <th>8522</th>\n",
       "      <td>19559</td>\n",
       "      <td>25-Jul-22</td>\n",
       "      <td>RT1</td>\n",
       "      <td>35</td>\n",
       "      <td>24.0</td>\n",
       "    </tr>\n",
       "    <tr>\n",
       "      <th>9194</th>\n",
       "      <td>18563</td>\n",
       "      <td>31-Jul-22</td>\n",
       "      <td>RT4</td>\n",
       "      <td>20</td>\n",
       "      <td>18.0</td>\n",
       "    </tr>\n",
       "  </tbody>\n",
       "</table>\n",
       "</div>"
      ],
      "text/plain": [
       "      property_id check_in_date room_category  successful_bookings  capacity\n",
       "3           17558     01-May-22           RT1                   30      19.0\n",
       "12          16563     01-May-22           RT1                  100      41.0\n",
       "4136        19558     11-Jun-22           RT2                   50      39.0\n",
       "6209        19560     02-Jul-22           RT1                  123      26.0\n",
       "8522        19559     25-Jul-22           RT1                   35      24.0\n",
       "9194        18563     31-Jul-22           RT4                   20      18.0"
      ]
     },
     "execution_count": 18,
     "metadata": {},
     "output_type": "execute_result"
    }
   ],
   "source": [
    "df_agg_bookings[df_agg_bookings['successful_bookings'] > df_agg_bookings['capacity']]"
   ]
  },
  {
   "cell_type": "code",
   "execution_count": 19,
   "metadata": {},
   "outputs": [
    {
     "data": {
      "application/vnd.microsoft.datawrangler.viewer.v0+json": {
       "columns": [
        {
         "name": "index",
         "rawType": "int64",
         "type": "integer"
        },
        {
         "name": "property_id",
         "rawType": "int64",
         "type": "integer"
        },
        {
         "name": "capacity",
         "rawType": "float64",
         "type": "float"
        }
       ],
       "conversionMethod": "pd.DataFrame",
       "ref": "6f7e6797-292f-4473-be04-e657ee5b785f",
       "rows": [
        [
         "6",
         "17558",
         "50.0"
        ],
        [
         "8",
         "17560",
         "45.0"
        ],
        [
         "22",
         "19561",
         "45.0"
        ],
        [
         "24",
         "19563",
         "45.0"
        ],
        [
         "11",
         "17563",
         "44.0"
        ],
        [
         "14",
         "18559",
         "44.0"
        ],
        [
         "4",
         "16562",
         "43.0"
        ],
        [
         "5",
         "16563",
         "41.0"
        ],
        [
         "1",
         "16559",
         "41.0"
        ],
        [
         "20",
         "19559",
         "41.0"
        ]
       ],
       "shape": {
        "columns": 2,
        "rows": 10
       }
      },
      "text/html": [
       "<div>\n",
       "<style scoped>\n",
       "    .dataframe tbody tr th:only-of-type {\n",
       "        vertical-align: middle;\n",
       "    }\n",
       "\n",
       "    .dataframe tbody tr th {\n",
       "        vertical-align: top;\n",
       "    }\n",
       "\n",
       "    .dataframe thead th {\n",
       "        text-align: right;\n",
       "    }\n",
       "</style>\n",
       "<table border=\"1\" class=\"dataframe\">\n",
       "  <thead>\n",
       "    <tr style=\"text-align: right;\">\n",
       "      <th></th>\n",
       "      <th>property_id</th>\n",
       "      <th>capacity</th>\n",
       "    </tr>\n",
       "  </thead>\n",
       "  <tbody>\n",
       "    <tr>\n",
       "      <th>6</th>\n",
       "      <td>17558</td>\n",
       "      <td>50.0</td>\n",
       "    </tr>\n",
       "    <tr>\n",
       "      <th>8</th>\n",
       "      <td>17560</td>\n",
       "      <td>45.0</td>\n",
       "    </tr>\n",
       "    <tr>\n",
       "      <th>22</th>\n",
       "      <td>19561</td>\n",
       "      <td>45.0</td>\n",
       "    </tr>\n",
       "    <tr>\n",
       "      <th>24</th>\n",
       "      <td>19563</td>\n",
       "      <td>45.0</td>\n",
       "    </tr>\n",
       "    <tr>\n",
       "      <th>11</th>\n",
       "      <td>17563</td>\n",
       "      <td>44.0</td>\n",
       "    </tr>\n",
       "    <tr>\n",
       "      <th>14</th>\n",
       "      <td>18559</td>\n",
       "      <td>44.0</td>\n",
       "    </tr>\n",
       "    <tr>\n",
       "      <th>4</th>\n",
       "      <td>16562</td>\n",
       "      <td>43.0</td>\n",
       "    </tr>\n",
       "    <tr>\n",
       "      <th>5</th>\n",
       "      <td>16563</td>\n",
       "      <td>41.0</td>\n",
       "    </tr>\n",
       "    <tr>\n",
       "      <th>1</th>\n",
       "      <td>16559</td>\n",
       "      <td>41.0</td>\n",
       "    </tr>\n",
       "    <tr>\n",
       "      <th>20</th>\n",
       "      <td>19559</td>\n",
       "      <td>41.0</td>\n",
       "    </tr>\n",
       "  </tbody>\n",
       "</table>\n",
       "</div>"
      ],
      "text/plain": [
       "    property_id  capacity\n",
       "6         17558      50.0\n",
       "8         17560      45.0\n",
       "22        19561      45.0\n",
       "24        19563      45.0\n",
       "11        17563      44.0\n",
       "14        18559      44.0\n",
       "4         16562      43.0\n",
       "5         16563      41.0\n",
       "1         16559      41.0\n",
       "20        19559      41.0"
      ]
     },
     "execution_count": 19,
     "metadata": {},
     "output_type": "execute_result"
    }
   ],
   "source": [
    "df_agg_bookings.groupby('property_id', as_index=False)['capacity'].max().sort_values(by='capacity', ascending=False).head(10)\n"
   ]
  },
  {
   "cell_type": "markdown",
   "metadata": {},
   "source": [
    "***\n",
    "**Data Cleaning**\n",
    "***"
   ]
  },
  {
   "cell_type": "code",
   "execution_count": 20,
   "metadata": {},
   "outputs": [
    {
     "data": {
      "application/vnd.microsoft.datawrangler.viewer.v0+json": {
       "columns": [
        {
         "name": "index",
         "rawType": "object",
         "type": "string"
        },
        {
         "name": "property_id",
         "rawType": "float64",
         "type": "float"
        },
        {
         "name": "no_guests",
         "rawType": "float64",
         "type": "float"
        },
        {
         "name": "ratings_given",
         "rawType": "float64",
         "type": "float"
        },
        {
         "name": "revenue_generated",
         "rawType": "float64",
         "type": "float"
        },
        {
         "name": "revenue_realized",
         "rawType": "float64",
         "type": "float"
        }
       ],
       "conversionMethod": "pd.DataFrame",
       "ref": "2b647be2-1851-4ae0-bf9e-20d8dd99ca42",
       "rows": [
        [
         "count",
         "134590.0",
         "134587.0",
         "56683.0",
         "134590.0",
         "134590.0"
        ],
        [
         "mean",
         "18061.113492830078",
         "2.0361699123986714",
         "3.619003934160154",
         "15310.508990266737",
         "12696.123255813953"
        ],
        [
         "std",
         "1093.0558465988563",
         "1.0348852636174959",
         "1.235008610491633",
         "89679.97206997451",
         "6928.108124022361"
        ],
        [
         "min",
         "16558.0",
         "-17.0",
         "1.0",
         "6500.0",
         "2600.0"
        ],
        [
         "25%",
         "17558.0",
         "1.0",
         "3.0",
         "9900.0",
         "7600.0"
        ],
        [
         "50%",
         "17564.0",
         "2.0",
         "4.0",
         "13500.0",
         "11700.0"
        ],
        [
         "75%",
         "18563.0",
         "2.0",
         "5.0",
         "18000.0",
         "15300.0"
        ],
        [
         "max",
         "19563.0",
         "6.0",
         "5.0",
         "28560000.0",
         "45220.0"
        ]
       ],
       "shape": {
        "columns": 5,
        "rows": 8
       }
      },
      "text/html": [
       "<div>\n",
       "<style scoped>\n",
       "    .dataframe tbody tr th:only-of-type {\n",
       "        vertical-align: middle;\n",
       "    }\n",
       "\n",
       "    .dataframe tbody tr th {\n",
       "        vertical-align: top;\n",
       "    }\n",
       "\n",
       "    .dataframe thead th {\n",
       "        text-align: right;\n",
       "    }\n",
       "</style>\n",
       "<table border=\"1\" class=\"dataframe\">\n",
       "  <thead>\n",
       "    <tr style=\"text-align: right;\">\n",
       "      <th></th>\n",
       "      <th>property_id</th>\n",
       "      <th>no_guests</th>\n",
       "      <th>ratings_given</th>\n",
       "      <th>revenue_generated</th>\n",
       "      <th>revenue_realized</th>\n",
       "    </tr>\n",
       "  </thead>\n",
       "  <tbody>\n",
       "    <tr>\n",
       "      <th>count</th>\n",
       "      <td>134590.000000</td>\n",
       "      <td>134587.000000</td>\n",
       "      <td>56683.000000</td>\n",
       "      <td>1.345900e+05</td>\n",
       "      <td>134590.000000</td>\n",
       "    </tr>\n",
       "    <tr>\n",
       "      <th>mean</th>\n",
       "      <td>18061.113493</td>\n",
       "      <td>2.036170</td>\n",
       "      <td>3.619004</td>\n",
       "      <td>1.531051e+04</td>\n",
       "      <td>12696.123256</td>\n",
       "    </tr>\n",
       "    <tr>\n",
       "      <th>std</th>\n",
       "      <td>1093.055847</td>\n",
       "      <td>1.034885</td>\n",
       "      <td>1.235009</td>\n",
       "      <td>8.967997e+04</td>\n",
       "      <td>6928.108124</td>\n",
       "    </tr>\n",
       "    <tr>\n",
       "      <th>min</th>\n",
       "      <td>16558.000000</td>\n",
       "      <td>-17.000000</td>\n",
       "      <td>1.000000</td>\n",
       "      <td>6.500000e+03</td>\n",
       "      <td>2600.000000</td>\n",
       "    </tr>\n",
       "    <tr>\n",
       "      <th>25%</th>\n",
       "      <td>17558.000000</td>\n",
       "      <td>1.000000</td>\n",
       "      <td>3.000000</td>\n",
       "      <td>9.900000e+03</td>\n",
       "      <td>7600.000000</td>\n",
       "    </tr>\n",
       "    <tr>\n",
       "      <th>50%</th>\n",
       "      <td>17564.000000</td>\n",
       "      <td>2.000000</td>\n",
       "      <td>4.000000</td>\n",
       "      <td>1.350000e+04</td>\n",
       "      <td>11700.000000</td>\n",
       "    </tr>\n",
       "    <tr>\n",
       "      <th>75%</th>\n",
       "      <td>18563.000000</td>\n",
       "      <td>2.000000</td>\n",
       "      <td>5.000000</td>\n",
       "      <td>1.800000e+04</td>\n",
       "      <td>15300.000000</td>\n",
       "    </tr>\n",
       "    <tr>\n",
       "      <th>max</th>\n",
       "      <td>19563.000000</td>\n",
       "      <td>6.000000</td>\n",
       "      <td>5.000000</td>\n",
       "      <td>2.856000e+07</td>\n",
       "      <td>45220.000000</td>\n",
       "    </tr>\n",
       "  </tbody>\n",
       "</table>\n",
       "</div>"
      ],
      "text/plain": [
       "         property_id      no_guests  ratings_given  revenue_generated  \\\n",
       "count  134590.000000  134587.000000   56683.000000       1.345900e+05   \n",
       "mean    18061.113493       2.036170       3.619004       1.531051e+04   \n",
       "std      1093.055847       1.034885       1.235009       8.967997e+04   \n",
       "min     16558.000000     -17.000000       1.000000       6.500000e+03   \n",
       "25%     17558.000000       1.000000       3.000000       9.900000e+03   \n",
       "50%     17564.000000       2.000000       4.000000       1.350000e+04   \n",
       "75%     18563.000000       2.000000       5.000000       1.800000e+04   \n",
       "max     19563.000000       6.000000       5.000000       2.856000e+07   \n",
       "\n",
       "       revenue_realized  \n",
       "count     134590.000000  \n",
       "mean       12696.123256  \n",
       "std         6928.108124  \n",
       "min         2600.000000  \n",
       "25%         7600.000000  \n",
       "50%        11700.000000  \n",
       "75%        15300.000000  \n",
       "max        45220.000000  "
      ]
     },
     "execution_count": 20,
     "metadata": {},
     "output_type": "execute_result"
    }
   ],
   "source": [
    "df_bookings.describe()"
   ]
  },
  {
   "cell_type": "code",
   "execution_count": 21,
   "metadata": {},
   "outputs": [
    {
     "data": {
      "application/vnd.microsoft.datawrangler.viewer.v0+json": {
       "columns": [
        {
         "name": "index",
         "rawType": "int64",
         "type": "integer"
        },
        {
         "name": "booking_id",
         "rawType": "object",
         "type": "string"
        },
        {
         "name": "property_id",
         "rawType": "int64",
         "type": "integer"
        },
        {
         "name": "booking_date",
         "rawType": "object",
         "type": "string"
        },
        {
         "name": "check_in_date",
         "rawType": "object",
         "type": "string"
        },
        {
         "name": "checkout_date",
         "rawType": "object",
         "type": "string"
        },
        {
         "name": "no_guests",
         "rawType": "float64",
         "type": "float"
        },
        {
         "name": "room_category",
         "rawType": "object",
         "type": "string"
        },
        {
         "name": "booking_platform",
         "rawType": "object",
         "type": "string"
        },
        {
         "name": "ratings_given",
         "rawType": "float64",
         "type": "float"
        },
        {
         "name": "booking_status",
         "rawType": "object",
         "type": "string"
        },
        {
         "name": "revenue_generated",
         "rawType": "int64",
         "type": "integer"
        },
        {
         "name": "revenue_realized",
         "rawType": "int64",
         "type": "integer"
        }
       ],
       "conversionMethod": "pd.DataFrame",
       "ref": "ed4802f0-6215-4438-b4f8-4cc02a981fee",
       "rows": [
        [
         "0",
         "May012216558RT11",
         "16558",
         "27-04-2022",
         "01-05-2022",
         "02-05-2022",
         "-3.0",
         "RT1",
         "direct online",
         "1.0",
         "Checked Out",
         "10010",
         "10010"
        ],
        [
         "3",
         "May012216558RT14",
         "16558",
         "28-04-2022",
         "01-05-2022",
         "02-05-2022",
         "-2.0",
         "RT1",
         "others",
         null,
         "Cancelled",
         "9100",
         "3640"
        ],
        [
         "17924",
         "May122218559RT44",
         "18559",
         "12-05-2022",
         "12-05-2022",
         "14-05-2022",
         "-10.0",
         "RT4",
         "direct online",
         null,
         "No Show",
         "20900",
         "20900"
        ],
        [
         "18020",
         "May122218561RT22",
         "18561",
         "08-05-2022",
         "12-05-2022",
         "14-05-2022",
         "-12.0",
         "RT2",
         "makeyourtrip",
         null,
         "Cancelled",
         "9000",
         "3600"
        ],
        [
         "18119",
         "May122218562RT311",
         "18562",
         "05-05-2022",
         "12-05-2022",
         "17-05-2022",
         "-6.0",
         "RT3",
         "direct offline",
         "5.0",
         "Checked Out",
         "16800",
         "16800"
        ],
        [
         "18121",
         "May122218562RT313",
         "18562",
         "10-05-2022",
         "12-05-2022",
         "17-05-2022",
         "-4.0",
         "RT3",
         "direct online",
         null,
         "Cancelled",
         "14400",
         "5760"
        ],
        [
         "56715",
         "Jun082218562RT12",
         "18562",
         "05-06-2022",
         "08-06-2022",
         "13-06-2022",
         "-17.0",
         "RT1",
         "others",
         null,
         "Checked Out",
         "6500",
         "6500"
        ],
        [
         "119765",
         "Jul202219560RT220",
         "19560",
         "19-07-2022",
         "20-07-2022",
         "22-07-2022",
         "-1.0",
         "RT2",
         "others",
         null,
         "Checked Out",
         "13500",
         "13500"
        ],
        [
         "134586",
         "Jul312217564RT47",
         "17564",
         "30-07-2022",
         "31-07-2022",
         "01-08-2022",
         "-4.0",
         "RT4",
         "logtrip",
         "2.0",
         "Checked Out",
         "38760",
         "38760"
        ]
       ],
       "shape": {
        "columns": 12,
        "rows": 9
       }
      },
      "text/html": [
       "<div>\n",
       "<style scoped>\n",
       "    .dataframe tbody tr th:only-of-type {\n",
       "        vertical-align: middle;\n",
       "    }\n",
       "\n",
       "    .dataframe tbody tr th {\n",
       "        vertical-align: top;\n",
       "    }\n",
       "\n",
       "    .dataframe thead th {\n",
       "        text-align: right;\n",
       "    }\n",
       "</style>\n",
       "<table border=\"1\" class=\"dataframe\">\n",
       "  <thead>\n",
       "    <tr style=\"text-align: right;\">\n",
       "      <th></th>\n",
       "      <th>booking_id</th>\n",
       "      <th>property_id</th>\n",
       "      <th>booking_date</th>\n",
       "      <th>check_in_date</th>\n",
       "      <th>checkout_date</th>\n",
       "      <th>no_guests</th>\n",
       "      <th>room_category</th>\n",
       "      <th>booking_platform</th>\n",
       "      <th>ratings_given</th>\n",
       "      <th>booking_status</th>\n",
       "      <th>revenue_generated</th>\n",
       "      <th>revenue_realized</th>\n",
       "    </tr>\n",
       "  </thead>\n",
       "  <tbody>\n",
       "    <tr>\n",
       "      <th>0</th>\n",
       "      <td>May012216558RT11</td>\n",
       "      <td>16558</td>\n",
       "      <td>27-04-2022</td>\n",
       "      <td>01-05-2022</td>\n",
       "      <td>02-05-2022</td>\n",
       "      <td>-3.0</td>\n",
       "      <td>RT1</td>\n",
       "      <td>direct online</td>\n",
       "      <td>1.0</td>\n",
       "      <td>Checked Out</td>\n",
       "      <td>10010</td>\n",
       "      <td>10010</td>\n",
       "    </tr>\n",
       "    <tr>\n",
       "      <th>3</th>\n",
       "      <td>May012216558RT14</td>\n",
       "      <td>16558</td>\n",
       "      <td>28-04-2022</td>\n",
       "      <td>01-05-2022</td>\n",
       "      <td>02-05-2022</td>\n",
       "      <td>-2.0</td>\n",
       "      <td>RT1</td>\n",
       "      <td>others</td>\n",
       "      <td>NaN</td>\n",
       "      <td>Cancelled</td>\n",
       "      <td>9100</td>\n",
       "      <td>3640</td>\n",
       "    </tr>\n",
       "    <tr>\n",
       "      <th>17924</th>\n",
       "      <td>May122218559RT44</td>\n",
       "      <td>18559</td>\n",
       "      <td>12-05-2022</td>\n",
       "      <td>12-05-2022</td>\n",
       "      <td>14-05-2022</td>\n",
       "      <td>-10.0</td>\n",
       "      <td>RT4</td>\n",
       "      <td>direct online</td>\n",
       "      <td>NaN</td>\n",
       "      <td>No Show</td>\n",
       "      <td>20900</td>\n",
       "      <td>20900</td>\n",
       "    </tr>\n",
       "    <tr>\n",
       "      <th>18020</th>\n",
       "      <td>May122218561RT22</td>\n",
       "      <td>18561</td>\n",
       "      <td>08-05-2022</td>\n",
       "      <td>12-05-2022</td>\n",
       "      <td>14-05-2022</td>\n",
       "      <td>-12.0</td>\n",
       "      <td>RT2</td>\n",
       "      <td>makeyourtrip</td>\n",
       "      <td>NaN</td>\n",
       "      <td>Cancelled</td>\n",
       "      <td>9000</td>\n",
       "      <td>3600</td>\n",
       "    </tr>\n",
       "    <tr>\n",
       "      <th>18119</th>\n",
       "      <td>May122218562RT311</td>\n",
       "      <td>18562</td>\n",
       "      <td>05-05-2022</td>\n",
       "      <td>12-05-2022</td>\n",
       "      <td>17-05-2022</td>\n",
       "      <td>-6.0</td>\n",
       "      <td>RT3</td>\n",
       "      <td>direct offline</td>\n",
       "      <td>5.0</td>\n",
       "      <td>Checked Out</td>\n",
       "      <td>16800</td>\n",
       "      <td>16800</td>\n",
       "    </tr>\n",
       "    <tr>\n",
       "      <th>18121</th>\n",
       "      <td>May122218562RT313</td>\n",
       "      <td>18562</td>\n",
       "      <td>10-05-2022</td>\n",
       "      <td>12-05-2022</td>\n",
       "      <td>17-05-2022</td>\n",
       "      <td>-4.0</td>\n",
       "      <td>RT3</td>\n",
       "      <td>direct online</td>\n",
       "      <td>NaN</td>\n",
       "      <td>Cancelled</td>\n",
       "      <td>14400</td>\n",
       "      <td>5760</td>\n",
       "    </tr>\n",
       "    <tr>\n",
       "      <th>56715</th>\n",
       "      <td>Jun082218562RT12</td>\n",
       "      <td>18562</td>\n",
       "      <td>05-06-2022</td>\n",
       "      <td>08-06-2022</td>\n",
       "      <td>13-06-2022</td>\n",
       "      <td>-17.0</td>\n",
       "      <td>RT1</td>\n",
       "      <td>others</td>\n",
       "      <td>NaN</td>\n",
       "      <td>Checked Out</td>\n",
       "      <td>6500</td>\n",
       "      <td>6500</td>\n",
       "    </tr>\n",
       "    <tr>\n",
       "      <th>119765</th>\n",
       "      <td>Jul202219560RT220</td>\n",
       "      <td>19560</td>\n",
       "      <td>19-07-2022</td>\n",
       "      <td>20-07-2022</td>\n",
       "      <td>22-07-2022</td>\n",
       "      <td>-1.0</td>\n",
       "      <td>RT2</td>\n",
       "      <td>others</td>\n",
       "      <td>NaN</td>\n",
       "      <td>Checked Out</td>\n",
       "      <td>13500</td>\n",
       "      <td>13500</td>\n",
       "    </tr>\n",
       "    <tr>\n",
       "      <th>134586</th>\n",
       "      <td>Jul312217564RT47</td>\n",
       "      <td>17564</td>\n",
       "      <td>30-07-2022</td>\n",
       "      <td>31-07-2022</td>\n",
       "      <td>01-08-2022</td>\n",
       "      <td>-4.0</td>\n",
       "      <td>RT4</td>\n",
       "      <td>logtrip</td>\n",
       "      <td>2.0</td>\n",
       "      <td>Checked Out</td>\n",
       "      <td>38760</td>\n",
       "      <td>38760</td>\n",
       "    </tr>\n",
       "  </tbody>\n",
       "</table>\n",
       "</div>"
      ],
      "text/plain": [
       "               booking_id  property_id booking_date check_in_date  \\\n",
       "0        May012216558RT11        16558   27-04-2022    01-05-2022   \n",
       "3        May012216558RT14        16558   28-04-2022    01-05-2022   \n",
       "17924    May122218559RT44        18559   12-05-2022    12-05-2022   \n",
       "18020    May122218561RT22        18561   08-05-2022    12-05-2022   \n",
       "18119   May122218562RT311        18562   05-05-2022    12-05-2022   \n",
       "18121   May122218562RT313        18562   10-05-2022    12-05-2022   \n",
       "56715    Jun082218562RT12        18562   05-06-2022    08-06-2022   \n",
       "119765  Jul202219560RT220        19560   19-07-2022    20-07-2022   \n",
       "134586   Jul312217564RT47        17564   30-07-2022    31-07-2022   \n",
       "\n",
       "       checkout_date  no_guests room_category booking_platform  ratings_given  \\\n",
       "0         02-05-2022       -3.0           RT1    direct online            1.0   \n",
       "3         02-05-2022       -2.0           RT1           others            NaN   \n",
       "17924     14-05-2022      -10.0           RT4    direct online            NaN   \n",
       "18020     14-05-2022      -12.0           RT2     makeyourtrip            NaN   \n",
       "18119     17-05-2022       -6.0           RT3   direct offline            5.0   \n",
       "18121     17-05-2022       -4.0           RT3    direct online            NaN   \n",
       "56715     13-06-2022      -17.0           RT1           others            NaN   \n",
       "119765    22-07-2022       -1.0           RT2           others            NaN   \n",
       "134586    01-08-2022       -4.0           RT4          logtrip            2.0   \n",
       "\n",
       "       booking_status  revenue_generated  revenue_realized  \n",
       "0         Checked Out              10010             10010  \n",
       "3           Cancelled               9100              3640  \n",
       "17924         No Show              20900             20900  \n",
       "18020       Cancelled               9000              3600  \n",
       "18119     Checked Out              16800             16800  \n",
       "18121       Cancelled              14400              5760  \n",
       "56715     Checked Out               6500              6500  \n",
       "119765    Checked Out              13500             13500  \n",
       "134586    Checked Out              38760             38760  "
      ]
     },
     "execution_count": 21,
     "metadata": {},
     "output_type": "execute_result"
    }
   ],
   "source": [
    "df_bookings[df_bookings['no_guests'] <= 0]"
   ]
  },
  {
   "cell_type": "code",
   "execution_count": 22,
   "metadata": {},
   "outputs": [
    {
     "data": {
      "text/plain": [
       "(134578, 12)"
      ]
     },
     "execution_count": 22,
     "metadata": {},
     "output_type": "execute_result"
    }
   ],
   "source": [
    "df_bookings = df_bookings[df_bookings['no_guests'] > 0]\n",
    "df_bookings.shape"
   ]
  },
  {
   "cell_type": "code",
   "execution_count": 23,
   "metadata": {},
   "outputs": [
    {
     "data": {
      "text/plain": [
       "np.float64(15310.49)"
      ]
     },
     "execution_count": 23,
     "metadata": {},
     "output_type": "execute_result"
    }
   ],
   "source": [
    "mean_revenue_generated = df_bookings.revenue_generated.mean().round(2)\n",
    "mean_revenue_generated"
   ]
  },
  {
   "cell_type": "code",
   "execution_count": 24,
   "metadata": {},
   "outputs": [
    {
     "data": {
      "text/plain": [
       "np.float64(89683.94)"
      ]
     },
     "execution_count": 24,
     "metadata": {},
     "output_type": "execute_result"
    }
   ],
   "source": [
    "std_revenue_generated = df_bookings.revenue_generated.std().round(2)\n",
    "std_revenue_generated"
   ]
  },
  {
   "cell_type": "code",
   "execution_count": 25,
   "metadata": {},
   "outputs": [
    {
     "data": {
      "text/plain": [
       "(np.float64(284362.31), np.float64(-253741.33000000002))"
      ]
     },
     "execution_count": 25,
     "metadata": {},
     "output_type": "execute_result"
    }
   ],
   "source": [
    "upper_limit, lower_limit = (\n",
    "    mean_revenue_generated + 3 * std_revenue_generated,\n",
    "    mean_revenue_generated - 3 * std_revenue_generated,\n",
    ")\n",
    "upper_limit, lower_limit"
   ]
  },
  {
   "cell_type": "code",
   "execution_count": 26,
   "metadata": {},
   "outputs": [
    {
     "data": {
      "application/vnd.microsoft.datawrangler.viewer.v0+json": {
       "columns": [
        {
         "name": "index",
         "rawType": "int64",
         "type": "integer"
        },
        {
         "name": "booking_id",
         "rawType": "object",
         "type": "string"
        },
        {
         "name": "property_id",
         "rawType": "int64",
         "type": "integer"
        },
        {
         "name": "booking_date",
         "rawType": "object",
         "type": "string"
        },
        {
         "name": "check_in_date",
         "rawType": "object",
         "type": "string"
        },
        {
         "name": "checkout_date",
         "rawType": "object",
         "type": "string"
        },
        {
         "name": "no_guests",
         "rawType": "float64",
         "type": "float"
        },
        {
         "name": "room_category",
         "rawType": "object",
         "type": "string"
        },
        {
         "name": "booking_platform",
         "rawType": "object",
         "type": "string"
        },
        {
         "name": "ratings_given",
         "rawType": "float64",
         "type": "float"
        },
        {
         "name": "booking_status",
         "rawType": "object",
         "type": "string"
        },
        {
         "name": "revenue_generated",
         "rawType": "int64",
         "type": "integer"
        },
        {
         "name": "revenue_realized",
         "rawType": "int64",
         "type": "integer"
        }
       ],
       "conversionMethod": "pd.DataFrame",
       "ref": "e2f3f848-cf38-493a-9510-f5d2f44ae3df",
       "rows": [
        [
         "111",
         "May012216559RT32",
         "16559",
         "29-04-2022",
         "01-05-2022",
         "02-05-2022",
         "6.0",
         "RT3",
         "direct online",
         null,
         "Checked Out",
         "28560000",
         "28560"
        ],
        [
         "315",
         "May012216562RT22",
         "16562",
         "28-04-2022",
         "01-05-2022",
         "04-05-2022",
         "2.0",
         "RT2",
         "direct offline",
         "3.0",
         "Checked Out",
         "12600000",
         "12600"
        ],
        [
         "562",
         "May012217559RT118",
         "17559",
         "26-04-2022",
         "01-05-2022",
         "02-05-2022",
         "2.0",
         "RT1",
         "others",
         null,
         "Cancelled",
         "2000000",
         "4420"
        ],
        [
         "129176",
         "Jul282216562RT26",
         "16562",
         "21-07-2022",
         "28-07-2022",
         "29-07-2022",
         "2.0",
         "RT2",
         "direct online",
         "3.0",
         "Checked Out",
         "10000000",
         "12600"
        ]
       ],
       "shape": {
        "columns": 12,
        "rows": 4
       }
      },
      "text/html": [
       "<div>\n",
       "<style scoped>\n",
       "    .dataframe tbody tr th:only-of-type {\n",
       "        vertical-align: middle;\n",
       "    }\n",
       "\n",
       "    .dataframe tbody tr th {\n",
       "        vertical-align: top;\n",
       "    }\n",
       "\n",
       "    .dataframe thead th {\n",
       "        text-align: right;\n",
       "    }\n",
       "</style>\n",
       "<table border=\"1\" class=\"dataframe\">\n",
       "  <thead>\n",
       "    <tr style=\"text-align: right;\">\n",
       "      <th></th>\n",
       "      <th>booking_id</th>\n",
       "      <th>property_id</th>\n",
       "      <th>booking_date</th>\n",
       "      <th>check_in_date</th>\n",
       "      <th>checkout_date</th>\n",
       "      <th>no_guests</th>\n",
       "      <th>room_category</th>\n",
       "      <th>booking_platform</th>\n",
       "      <th>ratings_given</th>\n",
       "      <th>booking_status</th>\n",
       "      <th>revenue_generated</th>\n",
       "      <th>revenue_realized</th>\n",
       "    </tr>\n",
       "  </thead>\n",
       "  <tbody>\n",
       "    <tr>\n",
       "      <th>111</th>\n",
       "      <td>May012216559RT32</td>\n",
       "      <td>16559</td>\n",
       "      <td>29-04-2022</td>\n",
       "      <td>01-05-2022</td>\n",
       "      <td>02-05-2022</td>\n",
       "      <td>6.0</td>\n",
       "      <td>RT3</td>\n",
       "      <td>direct online</td>\n",
       "      <td>NaN</td>\n",
       "      <td>Checked Out</td>\n",
       "      <td>28560000</td>\n",
       "      <td>28560</td>\n",
       "    </tr>\n",
       "    <tr>\n",
       "      <th>315</th>\n",
       "      <td>May012216562RT22</td>\n",
       "      <td>16562</td>\n",
       "      <td>28-04-2022</td>\n",
       "      <td>01-05-2022</td>\n",
       "      <td>04-05-2022</td>\n",
       "      <td>2.0</td>\n",
       "      <td>RT2</td>\n",
       "      <td>direct offline</td>\n",
       "      <td>3.0</td>\n",
       "      <td>Checked Out</td>\n",
       "      <td>12600000</td>\n",
       "      <td>12600</td>\n",
       "    </tr>\n",
       "    <tr>\n",
       "      <th>562</th>\n",
       "      <td>May012217559RT118</td>\n",
       "      <td>17559</td>\n",
       "      <td>26-04-2022</td>\n",
       "      <td>01-05-2022</td>\n",
       "      <td>02-05-2022</td>\n",
       "      <td>2.0</td>\n",
       "      <td>RT1</td>\n",
       "      <td>others</td>\n",
       "      <td>NaN</td>\n",
       "      <td>Cancelled</td>\n",
       "      <td>2000000</td>\n",
       "      <td>4420</td>\n",
       "    </tr>\n",
       "    <tr>\n",
       "      <th>129176</th>\n",
       "      <td>Jul282216562RT26</td>\n",
       "      <td>16562</td>\n",
       "      <td>21-07-2022</td>\n",
       "      <td>28-07-2022</td>\n",
       "      <td>29-07-2022</td>\n",
       "      <td>2.0</td>\n",
       "      <td>RT2</td>\n",
       "      <td>direct online</td>\n",
       "      <td>3.0</td>\n",
       "      <td>Checked Out</td>\n",
       "      <td>10000000</td>\n",
       "      <td>12600</td>\n",
       "    </tr>\n",
       "  </tbody>\n",
       "</table>\n",
       "</div>"
      ],
      "text/plain": [
       "               booking_id  property_id booking_date check_in_date  \\\n",
       "111      May012216559RT32        16559   29-04-2022    01-05-2022   \n",
       "315      May012216562RT22        16562   28-04-2022    01-05-2022   \n",
       "562     May012217559RT118        17559   26-04-2022    01-05-2022   \n",
       "129176   Jul282216562RT26        16562   21-07-2022    28-07-2022   \n",
       "\n",
       "       checkout_date  no_guests room_category booking_platform  ratings_given  \\\n",
       "111       02-05-2022        6.0           RT3    direct online            NaN   \n",
       "315       04-05-2022        2.0           RT2   direct offline            3.0   \n",
       "562       02-05-2022        2.0           RT1           others            NaN   \n",
       "129176    29-07-2022        2.0           RT2    direct online            3.0   \n",
       "\n",
       "       booking_status  revenue_generated  revenue_realized  \n",
       "111       Checked Out           28560000             28560  \n",
       "315       Checked Out           12600000             12600  \n",
       "562         Cancelled            2000000              4420  \n",
       "129176    Checked Out           10000000             12600  "
      ]
     },
     "execution_count": 26,
     "metadata": {},
     "output_type": "execute_result"
    }
   ],
   "source": [
    "df_bookings[df_bookings['revenue_generated'] > upper_limit]"
   ]
  },
  {
   "cell_type": "code",
   "execution_count": 27,
   "metadata": {},
   "outputs": [],
   "source": [
    "df_bookings[\"revenue_generated\"] = df_bookings[\"revenue_realized\"].where(\n",
    "    (df_bookings[\"revenue_generated\"] > upper_limit) & (df_bookings[\"booking_status\"] == \"Checked Out\"),\n",
    "    df_bookings[\"revenue_generated\"]\n",
    ")\n",
    "df_bookings = df_bookings[df_bookings['revenue_generated'] < upper_limit]"
   ]
  },
  {
   "cell_type": "code",
   "execution_count": 28,
   "metadata": {},
   "outputs": [
    {
     "data": {
      "text/plain": [
       "count    134577.000000\n",
       "mean      12696.073319\n",
       "std        6927.830648\n",
       "min        2600.000000\n",
       "25%        7600.000000\n",
       "50%       11700.000000\n",
       "75%       15300.000000\n",
       "max       45220.000000\n",
       "Name: revenue_realized, dtype: float64"
      ]
     },
     "execution_count": 28,
     "metadata": {},
     "output_type": "execute_result"
    }
   ],
   "source": [
    "df_bookings.revenue_realized.describe()"
   ]
  },
  {
   "cell_type": "code",
   "execution_count": 29,
   "metadata": {},
   "outputs": [
    {
     "data": {
      "text/plain": [
       "(np.float64(12696.07), np.float64(6927.83))"
      ]
     },
     "execution_count": 29,
     "metadata": {},
     "output_type": "execute_result"
    }
   ],
   "source": [
    "mean_revenue_realized, std_revenue_realized = df_bookings.revenue_realized.mean().round(\n",
    "    2\n",
    "), df_bookings.revenue_realized.std().round(2)\n",
    "mean_revenue_realized, std_revenue_realized"
   ]
  },
  {
   "cell_type": "code",
   "execution_count": 30,
   "metadata": {},
   "outputs": [
    {
     "data": {
      "text/plain": [
       "(np.float64(33479.56), np.float64(-8087.419999999998))"
      ]
     },
     "execution_count": 30,
     "metadata": {},
     "output_type": "execute_result"
    }
   ],
   "source": [
    "upper_limit_revenue_realized, lower_limit_revenue_realized = (\n",
    "    mean_revenue_realized + 3 * std_revenue_realized,\n",
    "    mean_revenue_realized - 3 * std_revenue_realized,\n",
    ")\n",
    "upper_limit_revenue_realized, lower_limit_revenue_realized"
   ]
  },
  {
   "cell_type": "code",
   "execution_count": 31,
   "metadata": {},
   "outputs": [
    {
     "data": {
      "application/vnd.microsoft.datawrangler.viewer.v0+json": {
       "columns": [
        {
         "name": "index",
         "rawType": "int64",
         "type": "integer"
        },
        {
         "name": "booking_id",
         "rawType": "object",
         "type": "string"
        },
        {
         "name": "property_id",
         "rawType": "int64",
         "type": "integer"
        },
        {
         "name": "booking_date",
         "rawType": "object",
         "type": "string"
        },
        {
         "name": "check_in_date",
         "rawType": "object",
         "type": "string"
        },
        {
         "name": "checkout_date",
         "rawType": "object",
         "type": "string"
        },
        {
         "name": "no_guests",
         "rawType": "float64",
         "type": "float"
        },
        {
         "name": "room_category",
         "rawType": "object",
         "type": "string"
        },
        {
         "name": "booking_platform",
         "rawType": "object",
         "type": "string"
        },
        {
         "name": "ratings_given",
         "rawType": "float64",
         "type": "float"
        },
        {
         "name": "booking_status",
         "rawType": "object",
         "type": "string"
        },
        {
         "name": "revenue_generated",
         "rawType": "int64",
         "type": "integer"
        },
        {
         "name": "revenue_realized",
         "rawType": "int64",
         "type": "integer"
        }
       ],
       "conversionMethod": "pd.DataFrame",
       "ref": "adcf2427-57d6-42ec-acc4-892af266bd10",
       "rows": [
        [
         "137",
         "May012216559RT41",
         "16559",
         "27-04-2022",
         "01-05-2022",
         "07-05-2022",
         "4.0",
         "RT4",
         "others",
         null,
         "Checked Out",
         "38760",
         "38760"
        ],
        [
         "139",
         "May012216559RT43",
         "16559",
         "01-05-2022",
         "01-05-2022",
         "02-05-2022",
         "6.0",
         "RT4",
         "tripster",
         "3.0",
         "Checked Out",
         "45220",
         "45220"
        ],
        [
         "143",
         "May012216559RT47",
         "16559",
         "28-04-2022",
         "01-05-2022",
         "03-05-2022",
         "3.0",
         "RT4",
         "others",
         "5.0",
         "Checked Out",
         "35530",
         "35530"
        ],
        [
         "149",
         "May012216559RT413",
         "16559",
         "24-04-2022",
         "01-05-2022",
         "07-05-2022",
         "5.0",
         "RT4",
         "logtrip",
         null,
         "Checked Out",
         "41990",
         "41990"
        ],
        [
         "222",
         "May012216560RT45",
         "16560",
         "30-04-2022",
         "01-05-2022",
         "03-05-2022",
         "5.0",
         "RT4",
         "others",
         "3.0",
         "Checked Out",
         "34580",
         "34580"
        ],
        [
         "456",
         "May012216563RT45",
         "16563",
         "01-05-2022",
         "01-05-2022",
         "02-05-2022",
         "5.0",
         "RT4",
         "logtrip",
         "5.0",
         "Checked Out",
         "34580",
         "34580"
        ],
        [
         "460",
         "May012216563RT49",
         "16563",
         "30-04-2022",
         "01-05-2022",
         "02-05-2022",
         "5.0",
         "RT4",
         "logtrip",
         null,
         "Checked Out",
         "34580",
         "34580"
        ],
        [
         "465",
         "May012216563RT414",
         "16563",
         "27-04-2022",
         "01-05-2022",
         "02-05-2022",
         "5.0",
         "RT4",
         "logtrip",
         "5.0",
         "Checked Out",
         "34580",
         "34580"
        ],
        [
         "544",
         "May012217558RT44",
         "17558",
         "28-04-2022",
         "01-05-2022",
         "02-05-2022",
         "5.0",
         "RT4",
         "others",
         null,
         "Checked Out",
         "41990",
         "41990"
        ],
        [
         "620",
         "May012217559RT42",
         "17559",
         "10-04-2022",
         "01-05-2022",
         "03-05-2022",
         "3.0",
         "RT4",
         "others",
         null,
         "Checked Out",
         "35530",
         "35530"
        ],
        [
         "625",
         "May012217559RT47",
         "17559",
         "28-04-2022",
         "01-05-2022",
         "02-05-2022",
         "3.0",
         "RT4",
         "logtrip",
         "5.0",
         "Checked Out",
         "35530",
         "35530"
        ],
        [
         "630",
         "May012217559RT412",
         "17559",
         "30-04-2022",
         "01-05-2022",
         "05-05-2022",
         "3.0",
         "RT4",
         "others",
         null,
         "Checked Out",
         "35530",
         "35530"
        ],
        [
         "631",
         "May012217559RT413",
         "17559",
         "26-04-2022",
         "01-05-2022",
         "06-05-2022",
         "3.0",
         "RT4",
         "others",
         "5.0",
         "Checked Out",
         "35530",
         "35530"
        ],
        [
         "715",
         "May012217560RT46",
         "17560",
         "28-04-2022",
         "01-05-2022",
         "02-05-2022",
         "6.0",
         "RT4",
         "makeyourtrip",
         "3.0",
         "Checked Out",
         "45220",
         "45220"
        ],
        [
         "719",
         "May012217560RT410",
         "17560",
         "01-05-2022",
         "01-05-2022",
         "04-05-2022",
         "6.0",
         "RT4",
         "others",
         "2.0",
         "Checked Out",
         "45220",
         "45220"
        ],
        [
         "1676",
         "May012219560RT46",
         "19560",
         "27-04-2022",
         "01-05-2022",
         "02-05-2022",
         "4.0",
         "RT4",
         "tripster",
         null,
         "Checked Out",
         "34200",
         "34200"
        ],
        [
         "1680",
         "May012219560RT410",
         "19560",
         "01-05-2022",
         "01-05-2022",
         "02-05-2022",
         "6.0",
         "RT4",
         "makeyourtrip",
         "3.0",
         "Checked Out",
         "39900",
         "39900"
        ],
        [
         "1769",
         "May012219561RT41",
         "19561",
         "27-04-2022",
         "01-05-2022",
         "02-05-2022",
         "6.0",
         "RT4",
         "others",
         null,
         "Checked Out",
         "39900",
         "39900"
        ],
        [
         "1851",
         "May012219562RT42",
         "19562",
         "28-04-2022",
         "01-05-2022",
         "03-05-2022",
         "6.0",
         "RT4",
         "makeyourtrip",
         "5.0",
         "Checked Out",
         "39900",
         "39900"
        ],
        [
         "1858",
         "May012219562RT49",
         "19562",
         "27-04-2022",
         "01-05-2022",
         "04-05-2022",
         "4.0",
         "RT4",
         "others",
         "5.0",
         "Checked Out",
         "34200",
         "34200"
        ],
        [
         "1945",
         "May012219563RT44",
         "19563",
         "30-04-2022",
         "01-05-2022",
         "03-05-2022",
         "4.0",
         "RT4",
         "logtrip",
         "4.0",
         "Checked Out",
         "34200",
         "34200"
        ],
        [
         "2004",
         "May012217564RT49",
         "17564",
         "29-04-2022",
         "01-05-2022",
         "02-05-2022",
         "3.0",
         "RT4",
         "others",
         "2.0",
         "Checked Out",
         "35530",
         "35530"
        ],
        [
         "2107",
         "May022216559RT47",
         "16559",
         "28-04-2022",
         "02-05-2022",
         "04-05-2022",
         "6.0",
         "RT4",
         "logtrip",
         null,
         "Checked Out",
         "45220",
         "45220"
        ],
        [
         "2109",
         "May022216559RT49",
         "16559",
         "30-04-2022",
         "02-05-2022",
         "03-05-2022",
         "3.0",
         "RT4",
         "journey",
         "5.0",
         "Checked Out",
         "35530",
         "35530"
        ],
        [
         "2112",
         "May022216559RT412",
         "16559",
         "25-04-2022",
         "02-05-2022",
         "03-05-2022",
         "4.0",
         "RT4",
         "others",
         "5.0",
         "Checked Out",
         "38760",
         "38760"
        ],
        [
         "2200",
         "May022216561RT41",
         "16561",
         "30-04-2022",
         "02-05-2022",
         "03-05-2022",
         "6.0",
         "RT4",
         "tripster",
         null,
         "Checked Out",
         "37240",
         "37240"
        ],
        [
         "2381",
         "May022217558RT42",
         "17558",
         "25-04-2022",
         "02-05-2022",
         "08-05-2022",
         "6.0",
         "RT4",
         "makeyourtrip",
         "3.0",
         "Checked Out",
         "45220",
         "45220"
        ],
        [
         "2439",
         "May022217559RT41",
         "17559",
         "27-04-2022",
         "02-05-2022",
         "03-05-2022",
         "3.0",
         "RT4",
         "others",
         null,
         "No Show",
         "35530",
         "35530"
        ],
        [
         "2446",
         "May022217559RT48",
         "17559",
         "27-04-2022",
         "02-05-2022",
         "07-05-2022",
         "4.0",
         "RT4",
         "others",
         null,
         "Checked Out",
         "38760",
         "38760"
        ],
        [
         "3240",
         "May022219561RT43",
         "19561",
         "27-04-2022",
         "02-05-2022",
         "04-05-2022",
         "6.0",
         "RT4",
         "makeyourtrip",
         "3.0",
         "Checked Out",
         "39900",
         "39900"
        ],
        [
         "3299",
         "May022219562RT45",
         "19562",
         "26-04-2022",
         "02-05-2022",
         "04-05-2022",
         "6.0",
         "RT4",
         "others",
         null,
         "Checked Out",
         "39900",
         "39900"
        ],
        [
         "3302",
         "May022219562RT48",
         "19562",
         "29-04-2022",
         "02-05-2022",
         "04-05-2022",
         "4.0",
         "RT4",
         "others",
         "5.0",
         "Checked Out",
         "34200",
         "34200"
        ],
        [
         "3354",
         "May022219563RT44",
         "19563",
         "02-05-2022",
         "02-05-2022",
         "04-05-2022",
         "6.0",
         "RT4",
         "makeyourtrip",
         null,
         "No Show",
         "39900",
         "39900"
        ],
        [
         "3713",
         "May032216563RT411",
         "16563",
         "03-05-2022",
         "03-05-2022",
         "05-05-2022",
         "5.0",
         "RT4",
         "others",
         "3.0",
         "Checked Out",
         "34580",
         "34580"
        ],
        [
         "3766",
         "May032217558RT43",
         "17558",
         "12-04-2022",
         "03-05-2022",
         "05-05-2022",
         "3.0",
         "RT4",
         "makeyourtrip",
         null,
         "Checked Out",
         "35530",
         "35530"
        ],
        [
         "3826",
         "May032217559RT46",
         "17559",
         "28-04-2022",
         "03-05-2022",
         "07-05-2022",
         "4.0",
         "RT4",
         "others",
         null,
         "Checked Out",
         "38760",
         "38760"
        ],
        [
         "3828",
         "May032217559RT48",
         "17559",
         "26-04-2022",
         "03-05-2022",
         "04-05-2022",
         "4.0",
         "RT4",
         "others",
         "5.0",
         "Checked Out",
         "38760",
         "38760"
        ],
        [
         "3885",
         "May032217560RT43",
         "17560",
         "03-05-2022",
         "03-05-2022",
         "05-05-2022",
         "3.0",
         "RT4",
         "others",
         "3.0",
         "Checked Out",
         "35530",
         "35530"
        ],
        [
         "3981",
         "May032217562RT41",
         "17562",
         "01-05-2022",
         "03-05-2022",
         "09-05-2022",
         "3.0",
         "RT4",
         "tripster",
         null,
         "Checked Out",
         "35530",
         "35530"
        ],
        [
         "4449",
         "May032219558RT41",
         "19558",
         "01-05-2022",
         "03-05-2022",
         "04-05-2022",
         "4.0",
         "RT4",
         "others",
         null,
         "Checked Out",
         "34200",
         "34200"
        ],
        [
         "4619",
         "May032219561RT43",
         "19561",
         "27-04-2022",
         "03-05-2022",
         "08-05-2022",
         "4.0",
         "RT4",
         "tripster",
         "3.0",
         "Checked Out",
         "34200",
         "34200"
        ],
        [
         "4677",
         "May032219562RT46",
         "19562",
         "28-04-2022",
         "03-05-2022",
         "04-05-2022",
         "4.0",
         "RT4",
         "journey",
         null,
         "Checked Out",
         "34200",
         "34200"
        ],
        [
         "4679",
         "May032219562RT48",
         "19562",
         "01-05-2022",
         "03-05-2022",
         "09-05-2022",
         "4.0",
         "RT4",
         "makeyourtrip",
         null,
         "Checked Out",
         "34200",
         "34200"
        ],
        [
         "4737",
         "May032219563RT44",
         "19563",
         "29-04-2022",
         "03-05-2022",
         "04-05-2022",
         "4.0",
         "RT4",
         "others",
         null,
         "Checked Out",
         "34200",
         "34200"
        ],
        [
         "4771",
         "May032217564RT41",
         "17564",
         "02-05-2022",
         "03-05-2022",
         "04-05-2022",
         "5.0",
         "RT4",
         "logtrip",
         null,
         "Checked Out",
         "41990",
         "41990"
        ],
        [
         "4776",
         "May032217564RT46",
         "17564",
         "27-04-2022",
         "03-05-2022",
         "04-05-2022",
         "3.0",
         "RT4",
         "makeyourtrip",
         "1.0",
         "Checked Out",
         "35530",
         "35530"
        ],
        [
         "4884",
         "May042216559RT44",
         "16559",
         "02-05-2022",
         "04-05-2022",
         "05-05-2022",
         "3.0",
         "RT4",
         "logtrip",
         "2.0",
         "Checked Out",
         "35530",
         "35530"
        ],
        [
         "4889",
         "May042216559RT49",
         "16559",
         "01-05-2022",
         "04-05-2022",
         "05-05-2022",
         "3.0",
         "RT4",
         "others",
         "5.0",
         "Checked Out",
         "35530",
         "35530"
        ],
        [
         "4891",
         "May042216559RT411",
         "16559",
         "29-04-2022",
         "04-05-2022",
         "09-05-2022",
         "6.0",
         "RT4",
         "makeyourtrip",
         null,
         "Checked Out",
         "45220",
         "45220"
        ],
        [
         "4984",
         "May042216561RT43",
         "16561",
         "02-05-2022",
         "04-05-2022",
         "05-05-2022",
         "6.0",
         "RT4",
         "others",
         "2.0",
         "Checked Out",
         "37240",
         "37240"
        ]
       ],
       "shape": {
        "columns": 12,
        "rows": 1299
       }
      },
      "text/html": [
       "<div>\n",
       "<style scoped>\n",
       "    .dataframe tbody tr th:only-of-type {\n",
       "        vertical-align: middle;\n",
       "    }\n",
       "\n",
       "    .dataframe tbody tr th {\n",
       "        vertical-align: top;\n",
       "    }\n",
       "\n",
       "    .dataframe thead th {\n",
       "        text-align: right;\n",
       "    }\n",
       "</style>\n",
       "<table border=\"1\" class=\"dataframe\">\n",
       "  <thead>\n",
       "    <tr style=\"text-align: right;\">\n",
       "      <th></th>\n",
       "      <th>booking_id</th>\n",
       "      <th>property_id</th>\n",
       "      <th>booking_date</th>\n",
       "      <th>check_in_date</th>\n",
       "      <th>checkout_date</th>\n",
       "      <th>no_guests</th>\n",
       "      <th>room_category</th>\n",
       "      <th>booking_platform</th>\n",
       "      <th>ratings_given</th>\n",
       "      <th>booking_status</th>\n",
       "      <th>revenue_generated</th>\n",
       "      <th>revenue_realized</th>\n",
       "    </tr>\n",
       "  </thead>\n",
       "  <tbody>\n",
       "    <tr>\n",
       "      <th>137</th>\n",
       "      <td>May012216559RT41</td>\n",
       "      <td>16559</td>\n",
       "      <td>27-04-2022</td>\n",
       "      <td>01-05-2022</td>\n",
       "      <td>07-05-2022</td>\n",
       "      <td>4.0</td>\n",
       "      <td>RT4</td>\n",
       "      <td>others</td>\n",
       "      <td>NaN</td>\n",
       "      <td>Checked Out</td>\n",
       "      <td>38760</td>\n",
       "      <td>38760</td>\n",
       "    </tr>\n",
       "    <tr>\n",
       "      <th>139</th>\n",
       "      <td>May012216559RT43</td>\n",
       "      <td>16559</td>\n",
       "      <td>01-05-2022</td>\n",
       "      <td>01-05-2022</td>\n",
       "      <td>02-05-2022</td>\n",
       "      <td>6.0</td>\n",
       "      <td>RT4</td>\n",
       "      <td>tripster</td>\n",
       "      <td>3.0</td>\n",
       "      <td>Checked Out</td>\n",
       "      <td>45220</td>\n",
       "      <td>45220</td>\n",
       "    </tr>\n",
       "    <tr>\n",
       "      <th>143</th>\n",
       "      <td>May012216559RT47</td>\n",
       "      <td>16559</td>\n",
       "      <td>28-04-2022</td>\n",
       "      <td>01-05-2022</td>\n",
       "      <td>03-05-2022</td>\n",
       "      <td>3.0</td>\n",
       "      <td>RT4</td>\n",
       "      <td>others</td>\n",
       "      <td>5.0</td>\n",
       "      <td>Checked Out</td>\n",
       "      <td>35530</td>\n",
       "      <td>35530</td>\n",
       "    </tr>\n",
       "    <tr>\n",
       "      <th>149</th>\n",
       "      <td>May012216559RT413</td>\n",
       "      <td>16559</td>\n",
       "      <td>24-04-2022</td>\n",
       "      <td>01-05-2022</td>\n",
       "      <td>07-05-2022</td>\n",
       "      <td>5.0</td>\n",
       "      <td>RT4</td>\n",
       "      <td>logtrip</td>\n",
       "      <td>NaN</td>\n",
       "      <td>Checked Out</td>\n",
       "      <td>41990</td>\n",
       "      <td>41990</td>\n",
       "    </tr>\n",
       "    <tr>\n",
       "      <th>222</th>\n",
       "      <td>May012216560RT45</td>\n",
       "      <td>16560</td>\n",
       "      <td>30-04-2022</td>\n",
       "      <td>01-05-2022</td>\n",
       "      <td>03-05-2022</td>\n",
       "      <td>5.0</td>\n",
       "      <td>RT4</td>\n",
       "      <td>others</td>\n",
       "      <td>3.0</td>\n",
       "      <td>Checked Out</td>\n",
       "      <td>34580</td>\n",
       "      <td>34580</td>\n",
       "    </tr>\n",
       "    <tr>\n",
       "      <th>...</th>\n",
       "      <td>...</td>\n",
       "      <td>...</td>\n",
       "      <td>...</td>\n",
       "      <td>...</td>\n",
       "      <td>...</td>\n",
       "      <td>...</td>\n",
       "      <td>...</td>\n",
       "      <td>...</td>\n",
       "      <td>...</td>\n",
       "      <td>...</td>\n",
       "      <td>...</td>\n",
       "      <td>...</td>\n",
       "    </tr>\n",
       "    <tr>\n",
       "      <th>134328</th>\n",
       "      <td>Jul312219560RT49</td>\n",
       "      <td>19560</td>\n",
       "      <td>31-07-2022</td>\n",
       "      <td>31-07-2022</td>\n",
       "      <td>02-08-2022</td>\n",
       "      <td>6.0</td>\n",
       "      <td>RT4</td>\n",
       "      <td>direct online</td>\n",
       "      <td>5.0</td>\n",
       "      <td>Checked Out</td>\n",
       "      <td>39900</td>\n",
       "      <td>39900</td>\n",
       "    </tr>\n",
       "    <tr>\n",
       "      <th>134331</th>\n",
       "      <td>Jul312219560RT412</td>\n",
       "      <td>19560</td>\n",
       "      <td>31-07-2022</td>\n",
       "      <td>31-07-2022</td>\n",
       "      <td>01-08-2022</td>\n",
       "      <td>6.0</td>\n",
       "      <td>RT4</td>\n",
       "      <td>others</td>\n",
       "      <td>2.0</td>\n",
       "      <td>Checked Out</td>\n",
       "      <td>39900</td>\n",
       "      <td>39900</td>\n",
       "    </tr>\n",
       "    <tr>\n",
       "      <th>134467</th>\n",
       "      <td>Jul312219562RT45</td>\n",
       "      <td>19562</td>\n",
       "      <td>28-07-2022</td>\n",
       "      <td>31-07-2022</td>\n",
       "      <td>01-08-2022</td>\n",
       "      <td>6.0</td>\n",
       "      <td>RT4</td>\n",
       "      <td>makeyourtrip</td>\n",
       "      <td>4.0</td>\n",
       "      <td>Checked Out</td>\n",
       "      <td>39900</td>\n",
       "      <td>39900</td>\n",
       "    </tr>\n",
       "    <tr>\n",
       "      <th>134474</th>\n",
       "      <td>Jul312219562RT412</td>\n",
       "      <td>19562</td>\n",
       "      <td>25-07-2022</td>\n",
       "      <td>31-07-2022</td>\n",
       "      <td>06-08-2022</td>\n",
       "      <td>5.0</td>\n",
       "      <td>RT4</td>\n",
       "      <td>direct offline</td>\n",
       "      <td>5.0</td>\n",
       "      <td>Checked Out</td>\n",
       "      <td>37050</td>\n",
       "      <td>37050</td>\n",
       "    </tr>\n",
       "    <tr>\n",
       "      <th>134581</th>\n",
       "      <td>Jul312217564RT42</td>\n",
       "      <td>17564</td>\n",
       "      <td>31-07-2022</td>\n",
       "      <td>31-07-2022</td>\n",
       "      <td>01-08-2022</td>\n",
       "      <td>4.0</td>\n",
       "      <td>RT4</td>\n",
       "      <td>makeyourtrip</td>\n",
       "      <td>4.0</td>\n",
       "      <td>Checked Out</td>\n",
       "      <td>38760</td>\n",
       "      <td>38760</td>\n",
       "    </tr>\n",
       "  </tbody>\n",
       "</table>\n",
       "<p>1299 rows × 12 columns</p>\n",
       "</div>"
      ],
      "text/plain": [
       "               booking_id  property_id booking_date check_in_date  \\\n",
       "137      May012216559RT41        16559   27-04-2022    01-05-2022   \n",
       "139      May012216559RT43        16559   01-05-2022    01-05-2022   \n",
       "143      May012216559RT47        16559   28-04-2022    01-05-2022   \n",
       "149     May012216559RT413        16559   24-04-2022    01-05-2022   \n",
       "222      May012216560RT45        16560   30-04-2022    01-05-2022   \n",
       "...                   ...          ...          ...           ...   \n",
       "134328   Jul312219560RT49        19560   31-07-2022    31-07-2022   \n",
       "134331  Jul312219560RT412        19560   31-07-2022    31-07-2022   \n",
       "134467   Jul312219562RT45        19562   28-07-2022    31-07-2022   \n",
       "134474  Jul312219562RT412        19562   25-07-2022    31-07-2022   \n",
       "134581   Jul312217564RT42        17564   31-07-2022    31-07-2022   \n",
       "\n",
       "       checkout_date  no_guests room_category booking_platform  ratings_given  \\\n",
       "137       07-05-2022        4.0           RT4           others            NaN   \n",
       "139       02-05-2022        6.0           RT4         tripster            3.0   \n",
       "143       03-05-2022        3.0           RT4           others            5.0   \n",
       "149       07-05-2022        5.0           RT4          logtrip            NaN   \n",
       "222       03-05-2022        5.0           RT4           others            3.0   \n",
       "...              ...        ...           ...              ...            ...   \n",
       "134328    02-08-2022        6.0           RT4    direct online            5.0   \n",
       "134331    01-08-2022        6.0           RT4           others            2.0   \n",
       "134467    01-08-2022        6.0           RT4     makeyourtrip            4.0   \n",
       "134474    06-08-2022        5.0           RT4   direct offline            5.0   \n",
       "134581    01-08-2022        4.0           RT4     makeyourtrip            4.0   \n",
       "\n",
       "       booking_status  revenue_generated  revenue_realized  \n",
       "137       Checked Out              38760             38760  \n",
       "139       Checked Out              45220             45220  \n",
       "143       Checked Out              35530             35530  \n",
       "149       Checked Out              41990             41990  \n",
       "222       Checked Out              34580             34580  \n",
       "...               ...                ...               ...  \n",
       "134328    Checked Out              39900             39900  \n",
       "134331    Checked Out              39900             39900  \n",
       "134467    Checked Out              39900             39900  \n",
       "134474    Checked Out              37050             37050  \n",
       "134581    Checked Out              38760             38760  \n",
       "\n",
       "[1299 rows x 12 columns]"
      ]
     },
     "execution_count": 31,
     "metadata": {},
     "output_type": "execute_result"
    }
   ],
   "source": [
    "df_bookings[df_bookings['revenue_realized'] > upper_limit_revenue_realized]"
   ]
  },
  {
   "cell_type": "code",
   "execution_count": 32,
   "metadata": {},
   "outputs": [
    {
     "data": {
      "application/vnd.microsoft.datawrangler.viewer.v0+json": {
       "columns": [
        {
         "name": "index",
         "rawType": "int64",
         "type": "integer"
        },
        {
         "name": "property_id",
         "rawType": "int64",
         "type": "integer"
        },
        {
         "name": "check_in_date",
         "rawType": "object",
         "type": "string"
        },
        {
         "name": "room_category",
         "rawType": "object",
         "type": "string"
        },
        {
         "name": "successful_bookings",
         "rawType": "int64",
         "type": "integer"
        },
        {
         "name": "capacity",
         "rawType": "float64",
         "type": "float"
        }
       ],
       "conversionMethod": "pd.DataFrame",
       "ref": "9a2a5732-9826-4d4d-ae4f-5937479efaa4",
       "rows": [
        [
         "8",
         "17561",
         "01-May-22",
         "RT1",
         "22",
         null
        ],
        [
         "14",
         "17562",
         "01-May-22",
         "RT1",
         "12",
         null
        ]
       ],
       "shape": {
        "columns": 5,
        "rows": 2
       }
      },
      "text/html": [
       "<div>\n",
       "<style scoped>\n",
       "    .dataframe tbody tr th:only-of-type {\n",
       "        vertical-align: middle;\n",
       "    }\n",
       "\n",
       "    .dataframe tbody tr th {\n",
       "        vertical-align: top;\n",
       "    }\n",
       "\n",
       "    .dataframe thead th {\n",
       "        text-align: right;\n",
       "    }\n",
       "</style>\n",
       "<table border=\"1\" class=\"dataframe\">\n",
       "  <thead>\n",
       "    <tr style=\"text-align: right;\">\n",
       "      <th></th>\n",
       "      <th>property_id</th>\n",
       "      <th>check_in_date</th>\n",
       "      <th>room_category</th>\n",
       "      <th>successful_bookings</th>\n",
       "      <th>capacity</th>\n",
       "    </tr>\n",
       "  </thead>\n",
       "  <tbody>\n",
       "    <tr>\n",
       "      <th>8</th>\n",
       "      <td>17561</td>\n",
       "      <td>01-May-22</td>\n",
       "      <td>RT1</td>\n",
       "      <td>22</td>\n",
       "      <td>NaN</td>\n",
       "    </tr>\n",
       "    <tr>\n",
       "      <th>14</th>\n",
       "      <td>17562</td>\n",
       "      <td>01-May-22</td>\n",
       "      <td>RT1</td>\n",
       "      <td>12</td>\n",
       "      <td>NaN</td>\n",
       "    </tr>\n",
       "  </tbody>\n",
       "</table>\n",
       "</div>"
      ],
      "text/plain": [
       "    property_id check_in_date room_category  successful_bookings  capacity\n",
       "8         17561     01-May-22           RT1                   22       NaN\n",
       "14        17562     01-May-22           RT1                   12       NaN"
      ]
     },
     "execution_count": 32,
     "metadata": {},
     "output_type": "execute_result"
    }
   ],
   "source": [
    "df_agg_bookings[df_agg_bookings.isna().any(axis=1)]"
   ]
  },
  {
   "cell_type": "code",
   "execution_count": 33,
   "metadata": {},
   "outputs": [
    {
     "data": {
      "application/vnd.microsoft.datawrangler.viewer.v0+json": {
       "columns": [
        {
         "name": "index",
         "rawType": "int64",
         "type": "integer"
        },
        {
         "name": "property_id",
         "rawType": "int64",
         "type": "integer"
        },
        {
         "name": "check_in_date",
         "rawType": "object",
         "type": "string"
        },
        {
         "name": "room_category",
         "rawType": "object",
         "type": "string"
        },
        {
         "name": "successful_bookings",
         "rawType": "int64",
         "type": "integer"
        },
        {
         "name": "capacity",
         "rawType": "float64",
         "type": "float"
        }
       ],
       "conversionMethod": "pd.DataFrame",
       "ref": "8fc6657f-e230-4955-aa4c-626c92b07c5e",
       "rows": [
        [
         "0",
         "16559",
         "01-May-22",
         "RT1",
         "25",
         "30.0"
        ],
        [
         "1",
         "19562",
         "01-May-22",
         "RT1",
         "28",
         "30.0"
        ],
        [
         "2",
         "19563",
         "01-May-22",
         "RT1",
         "23",
         "30.0"
        ],
        [
         "3",
         "17558",
         "01-May-22",
         "RT1",
         "30",
         "19.0"
        ],
        [
         "4",
         "16558",
         "01-May-22",
         "RT1",
         "18",
         "19.0"
        ],
        [
         "5",
         "17560",
         "01-May-22",
         "RT1",
         "28",
         "40.0"
        ],
        [
         "6",
         "19558",
         "01-May-22",
         "RT1",
         "25",
         "40.0"
        ],
        [
         "7",
         "19560",
         "01-May-22",
         "RT1",
         "23",
         "26.0"
        ],
        [
         "8",
         "17561",
         "01-May-22",
         "RT1",
         "22",
         null
        ],
        [
         "9",
         "16560",
         "01-May-22",
         "RT1",
         "24",
         "34.0"
        ]
       ],
       "shape": {
        "columns": 5,
        "rows": 10
       }
      },
      "text/html": [
       "<div>\n",
       "<style scoped>\n",
       "    .dataframe tbody tr th:only-of-type {\n",
       "        vertical-align: middle;\n",
       "    }\n",
       "\n",
       "    .dataframe tbody tr th {\n",
       "        vertical-align: top;\n",
       "    }\n",
       "\n",
       "    .dataframe thead th {\n",
       "        text-align: right;\n",
       "    }\n",
       "</style>\n",
       "<table border=\"1\" class=\"dataframe\">\n",
       "  <thead>\n",
       "    <tr style=\"text-align: right;\">\n",
       "      <th></th>\n",
       "      <th>property_id</th>\n",
       "      <th>check_in_date</th>\n",
       "      <th>room_category</th>\n",
       "      <th>successful_bookings</th>\n",
       "      <th>capacity</th>\n",
       "    </tr>\n",
       "  </thead>\n",
       "  <tbody>\n",
       "    <tr>\n",
       "      <th>0</th>\n",
       "      <td>16559</td>\n",
       "      <td>01-May-22</td>\n",
       "      <td>RT1</td>\n",
       "      <td>25</td>\n",
       "      <td>30.0</td>\n",
       "    </tr>\n",
       "    <tr>\n",
       "      <th>1</th>\n",
       "      <td>19562</td>\n",
       "      <td>01-May-22</td>\n",
       "      <td>RT1</td>\n",
       "      <td>28</td>\n",
       "      <td>30.0</td>\n",
       "    </tr>\n",
       "    <tr>\n",
       "      <th>2</th>\n",
       "      <td>19563</td>\n",
       "      <td>01-May-22</td>\n",
       "      <td>RT1</td>\n",
       "      <td>23</td>\n",
       "      <td>30.0</td>\n",
       "    </tr>\n",
       "    <tr>\n",
       "      <th>3</th>\n",
       "      <td>17558</td>\n",
       "      <td>01-May-22</td>\n",
       "      <td>RT1</td>\n",
       "      <td>30</td>\n",
       "      <td>19.0</td>\n",
       "    </tr>\n",
       "    <tr>\n",
       "      <th>4</th>\n",
       "      <td>16558</td>\n",
       "      <td>01-May-22</td>\n",
       "      <td>RT1</td>\n",
       "      <td>18</td>\n",
       "      <td>19.0</td>\n",
       "    </tr>\n",
       "    <tr>\n",
       "      <th>5</th>\n",
       "      <td>17560</td>\n",
       "      <td>01-May-22</td>\n",
       "      <td>RT1</td>\n",
       "      <td>28</td>\n",
       "      <td>40.0</td>\n",
       "    </tr>\n",
       "    <tr>\n",
       "      <th>6</th>\n",
       "      <td>19558</td>\n",
       "      <td>01-May-22</td>\n",
       "      <td>RT1</td>\n",
       "      <td>25</td>\n",
       "      <td>40.0</td>\n",
       "    </tr>\n",
       "    <tr>\n",
       "      <th>7</th>\n",
       "      <td>19560</td>\n",
       "      <td>01-May-22</td>\n",
       "      <td>RT1</td>\n",
       "      <td>23</td>\n",
       "      <td>26.0</td>\n",
       "    </tr>\n",
       "    <tr>\n",
       "      <th>8</th>\n",
       "      <td>17561</td>\n",
       "      <td>01-May-22</td>\n",
       "      <td>RT1</td>\n",
       "      <td>22</td>\n",
       "      <td>NaN</td>\n",
       "    </tr>\n",
       "    <tr>\n",
       "      <th>9</th>\n",
       "      <td>16560</td>\n",
       "      <td>01-May-22</td>\n",
       "      <td>RT1</td>\n",
       "      <td>24</td>\n",
       "      <td>34.0</td>\n",
       "    </tr>\n",
       "  </tbody>\n",
       "</table>\n",
       "</div>"
      ],
      "text/plain": [
       "   property_id check_in_date room_category  successful_bookings  capacity\n",
       "0        16559     01-May-22           RT1                   25      30.0\n",
       "1        19562     01-May-22           RT1                   28      30.0\n",
       "2        19563     01-May-22           RT1                   23      30.0\n",
       "3        17558     01-May-22           RT1                   30      19.0\n",
       "4        16558     01-May-22           RT1                   18      19.0\n",
       "5        17560     01-May-22           RT1                   28      40.0\n",
       "6        19558     01-May-22           RT1                   25      40.0\n",
       "7        19560     01-May-22           RT1                   23      26.0\n",
       "8        17561     01-May-22           RT1                   22       NaN\n",
       "9        16560     01-May-22           RT1                   24      34.0"
      ]
     },
     "execution_count": 33,
     "metadata": {},
     "output_type": "execute_result"
    }
   ],
   "source": [
    "df_agg_bookings[df_agg_bookings['room_category'] == 'RT1'].head(10)"
   ]
  },
  {
   "cell_type": "code",
   "execution_count": 34,
   "metadata": {},
   "outputs": [
    {
     "data": {
      "text/plain": [
       "(np.float64(28.89), np.float64(30.0))"
      ]
     },
     "execution_count": 34,
     "metadata": {},
     "output_type": "execute_result"
    }
   ],
   "source": [
    "mean_rt1_capacity = df_agg_bookings[df_agg_bookings['room_category'] == 'RT1']['capacity'].mean().round(2)\n",
    "median_rt1_capacity = df_agg_bookings[df_agg_bookings['room_category'] == 'RT1']['capacity'].median().round(2)\n",
    "mean_rt1_capacity, median_rt1_capacity"
   ]
  },
  {
   "cell_type": "code",
   "execution_count": 35,
   "metadata": {},
   "outputs": [
    {
     "data": {
      "application/vnd.microsoft.datawrangler.viewer.v0+json": {
       "columns": [
        {
         "name": "index",
         "rawType": "int64",
         "type": "integer"
        },
        {
         "name": "property_id",
         "rawType": "int64",
         "type": "integer"
        },
        {
         "name": "check_in_date",
         "rawType": "object",
         "type": "string"
        },
        {
         "name": "room_category",
         "rawType": "object",
         "type": "string"
        },
        {
         "name": "successful_bookings",
         "rawType": "int64",
         "type": "integer"
        },
        {
         "name": "capacity",
         "rawType": "float64",
         "type": "float"
        }
       ],
       "conversionMethod": "pd.DataFrame",
       "ref": "285a3b09-7681-4d04-9e34-04329cc68053",
       "rows": [],
       "shape": {
        "columns": 5,
        "rows": 0
       }
      },
      "text/html": [
       "<div>\n",
       "<style scoped>\n",
       "    .dataframe tbody tr th:only-of-type {\n",
       "        vertical-align: middle;\n",
       "    }\n",
       "\n",
       "    .dataframe tbody tr th {\n",
       "        vertical-align: top;\n",
       "    }\n",
       "\n",
       "    .dataframe thead th {\n",
       "        text-align: right;\n",
       "    }\n",
       "</style>\n",
       "<table border=\"1\" class=\"dataframe\">\n",
       "  <thead>\n",
       "    <tr style=\"text-align: right;\">\n",
       "      <th></th>\n",
       "      <th>property_id</th>\n",
       "      <th>check_in_date</th>\n",
       "      <th>room_category</th>\n",
       "      <th>successful_bookings</th>\n",
       "      <th>capacity</th>\n",
       "    </tr>\n",
       "  </thead>\n",
       "  <tbody>\n",
       "  </tbody>\n",
       "</table>\n",
       "</div>"
      ],
      "text/plain": [
       "Empty DataFrame\n",
       "Columns: [property_id, check_in_date, room_category, successful_bookings, capacity]\n",
       "Index: []"
      ]
     },
     "execution_count": 35,
     "metadata": {},
     "output_type": "execute_result"
    }
   ],
   "source": [
    "df_agg_bookings.loc[\n",
    "    (df_agg_bookings['room_category'] == 'RT1') & (df_agg_bookings['capacity'].isna()), \n",
    "    'capacity'\n",
    "] = median_rt1_capacity\n",
    "df_agg_bookings[df_agg_bookings.isna().any(axis=1)]"
   ]
  },
  {
   "cell_type": "markdown",
   "metadata": {},
   "source": [
    "***\n",
    "**Data Transformation**\n",
    "***"
   ]
  },
  {
   "cell_type": "code",
   "execution_count": 36,
   "metadata": {},
   "outputs": [
    {
     "data": {
      "application/vnd.microsoft.datawrangler.viewer.v0+json": {
       "columns": [
        {
         "name": "index",
         "rawType": "int64",
         "type": "integer"
        },
        {
         "name": "property_id",
         "rawType": "int64",
         "type": "integer"
        },
        {
         "name": "check_in_date",
         "rawType": "object",
         "type": "string"
        },
        {
         "name": "room_category",
         "rawType": "object",
         "type": "string"
        },
        {
         "name": "successful_bookings",
         "rawType": "int64",
         "type": "integer"
        },
        {
         "name": "capacity",
         "rawType": "float64",
         "type": "float"
        }
       ],
       "conversionMethod": "pd.DataFrame",
       "ref": "06da3c46-56bb-4971-a2f2-b2320a844363",
       "rows": [
        [
         "0",
         "16559",
         "01-May-22",
         "RT1",
         "25",
         "30.0"
        ],
        [
         "1",
         "19562",
         "01-May-22",
         "RT1",
         "28",
         "30.0"
        ],
        [
         "2",
         "19563",
         "01-May-22",
         "RT1",
         "23",
         "30.0"
        ],
        [
         "3",
         "17558",
         "01-May-22",
         "RT1",
         "30",
         "19.0"
        ],
        [
         "4",
         "16558",
         "01-May-22",
         "RT1",
         "18",
         "19.0"
        ],
        [
         "5",
         "17560",
         "01-May-22",
         "RT1",
         "28",
         "40.0"
        ],
        [
         "6",
         "19558",
         "01-May-22",
         "RT1",
         "25",
         "40.0"
        ],
        [
         "7",
         "19560",
         "01-May-22",
         "RT1",
         "23",
         "26.0"
        ],
        [
         "8",
         "17561",
         "01-May-22",
         "RT1",
         "22",
         "30.0"
        ],
        [
         "9",
         "16560",
         "01-May-22",
         "RT1",
         "24",
         "34.0"
        ]
       ],
       "shape": {
        "columns": 5,
        "rows": 10
       }
      },
      "text/html": [
       "<div>\n",
       "<style scoped>\n",
       "    .dataframe tbody tr th:only-of-type {\n",
       "        vertical-align: middle;\n",
       "    }\n",
       "\n",
       "    .dataframe tbody tr th {\n",
       "        vertical-align: top;\n",
       "    }\n",
       "\n",
       "    .dataframe thead th {\n",
       "        text-align: right;\n",
       "    }\n",
       "</style>\n",
       "<table border=\"1\" class=\"dataframe\">\n",
       "  <thead>\n",
       "    <tr style=\"text-align: right;\">\n",
       "      <th></th>\n",
       "      <th>property_id</th>\n",
       "      <th>check_in_date</th>\n",
       "      <th>room_category</th>\n",
       "      <th>successful_bookings</th>\n",
       "      <th>capacity</th>\n",
       "    </tr>\n",
       "  </thead>\n",
       "  <tbody>\n",
       "    <tr>\n",
       "      <th>0</th>\n",
       "      <td>16559</td>\n",
       "      <td>01-May-22</td>\n",
       "      <td>RT1</td>\n",
       "      <td>25</td>\n",
       "      <td>30.0</td>\n",
       "    </tr>\n",
       "    <tr>\n",
       "      <th>1</th>\n",
       "      <td>19562</td>\n",
       "      <td>01-May-22</td>\n",
       "      <td>RT1</td>\n",
       "      <td>28</td>\n",
       "      <td>30.0</td>\n",
       "    </tr>\n",
       "    <tr>\n",
       "      <th>2</th>\n",
       "      <td>19563</td>\n",
       "      <td>01-May-22</td>\n",
       "      <td>RT1</td>\n",
       "      <td>23</td>\n",
       "      <td>30.0</td>\n",
       "    </tr>\n",
       "    <tr>\n",
       "      <th>3</th>\n",
       "      <td>17558</td>\n",
       "      <td>01-May-22</td>\n",
       "      <td>RT1</td>\n",
       "      <td>30</td>\n",
       "      <td>19.0</td>\n",
       "    </tr>\n",
       "    <tr>\n",
       "      <th>4</th>\n",
       "      <td>16558</td>\n",
       "      <td>01-May-22</td>\n",
       "      <td>RT1</td>\n",
       "      <td>18</td>\n",
       "      <td>19.0</td>\n",
       "    </tr>\n",
       "    <tr>\n",
       "      <th>5</th>\n",
       "      <td>17560</td>\n",
       "      <td>01-May-22</td>\n",
       "      <td>RT1</td>\n",
       "      <td>28</td>\n",
       "      <td>40.0</td>\n",
       "    </tr>\n",
       "    <tr>\n",
       "      <th>6</th>\n",
       "      <td>19558</td>\n",
       "      <td>01-May-22</td>\n",
       "      <td>RT1</td>\n",
       "      <td>25</td>\n",
       "      <td>40.0</td>\n",
       "    </tr>\n",
       "    <tr>\n",
       "      <th>7</th>\n",
       "      <td>19560</td>\n",
       "      <td>01-May-22</td>\n",
       "      <td>RT1</td>\n",
       "      <td>23</td>\n",
       "      <td>26.0</td>\n",
       "    </tr>\n",
       "    <tr>\n",
       "      <th>8</th>\n",
       "      <td>17561</td>\n",
       "      <td>01-May-22</td>\n",
       "      <td>RT1</td>\n",
       "      <td>22</td>\n",
       "      <td>30.0</td>\n",
       "    </tr>\n",
       "    <tr>\n",
       "      <th>9</th>\n",
       "      <td>16560</td>\n",
       "      <td>01-May-22</td>\n",
       "      <td>RT1</td>\n",
       "      <td>24</td>\n",
       "      <td>34.0</td>\n",
       "    </tr>\n",
       "  </tbody>\n",
       "</table>\n",
       "</div>"
      ],
      "text/plain": [
       "   property_id check_in_date room_category  successful_bookings  capacity\n",
       "0        16559     01-May-22           RT1                   25      30.0\n",
       "1        19562     01-May-22           RT1                   28      30.0\n",
       "2        19563     01-May-22           RT1                   23      30.0\n",
       "3        17558     01-May-22           RT1                   30      19.0\n",
       "4        16558     01-May-22           RT1                   18      19.0\n",
       "5        17560     01-May-22           RT1                   28      40.0\n",
       "6        19558     01-May-22           RT1                   25      40.0\n",
       "7        19560     01-May-22           RT1                   23      26.0\n",
       "8        17561     01-May-22           RT1                   22      30.0\n",
       "9        16560     01-May-22           RT1                   24      34.0"
      ]
     },
     "execution_count": 36,
     "metadata": {},
     "output_type": "execute_result"
    }
   ],
   "source": [
    "df_agg_bookings.head(10)"
   ]
  },
  {
   "cell_type": "code",
   "execution_count": 37,
   "metadata": {},
   "outputs": [
    {
     "data": {
      "application/vnd.microsoft.datawrangler.viewer.v0+json": {
       "columns": [
        {
         "name": "index",
         "rawType": "int64",
         "type": "integer"
        },
        {
         "name": "property_id",
         "rawType": "int64",
         "type": "integer"
        },
        {
         "name": "check_in_date",
         "rawType": "object",
         "type": "string"
        },
        {
         "name": "room_category",
         "rawType": "object",
         "type": "string"
        },
        {
         "name": "successful_bookings",
         "rawType": "int64",
         "type": "integer"
        },
        {
         "name": "capacity",
         "rawType": "float64",
         "type": "float"
        },
        {
         "name": "occupancy_rate",
         "rawType": "float64",
         "type": "float"
        }
       ],
       "conversionMethod": "pd.DataFrame",
       "ref": "42940bde-7adc-446a-b230-b055e84a5cd0",
       "rows": [
        [
         "0",
         "16559",
         "01-May-22",
         "RT1",
         "25",
         "30.0",
         "0.83"
        ],
        [
         "1",
         "19562",
         "01-May-22",
         "RT1",
         "28",
         "30.0",
         "0.93"
        ],
        [
         "2",
         "19563",
         "01-May-22",
         "RT1",
         "23",
         "30.0",
         "0.77"
        ],
        [
         "3",
         "17558",
         "01-May-22",
         "RT1",
         "30",
         "19.0",
         "1.58"
        ],
        [
         "4",
         "16558",
         "01-May-22",
         "RT1",
         "18",
         "19.0",
         "0.95"
        ],
        [
         "5",
         "17560",
         "01-May-22",
         "RT1",
         "28",
         "40.0",
         "0.7"
        ],
        [
         "6",
         "19558",
         "01-May-22",
         "RT1",
         "25",
         "40.0",
         "0.62"
        ],
        [
         "7",
         "19560",
         "01-May-22",
         "RT1",
         "23",
         "26.0",
         "0.88"
        ],
        [
         "8",
         "17561",
         "01-May-22",
         "RT1",
         "22",
         "30.0",
         "0.73"
        ],
        [
         "9",
         "16560",
         "01-May-22",
         "RT1",
         "24",
         "34.0",
         "0.71"
        ]
       ],
       "shape": {
        "columns": 6,
        "rows": 10
       }
      },
      "text/html": [
       "<div>\n",
       "<style scoped>\n",
       "    .dataframe tbody tr th:only-of-type {\n",
       "        vertical-align: middle;\n",
       "    }\n",
       "\n",
       "    .dataframe tbody tr th {\n",
       "        vertical-align: top;\n",
       "    }\n",
       "\n",
       "    .dataframe thead th {\n",
       "        text-align: right;\n",
       "    }\n",
       "</style>\n",
       "<table border=\"1\" class=\"dataframe\">\n",
       "  <thead>\n",
       "    <tr style=\"text-align: right;\">\n",
       "      <th></th>\n",
       "      <th>property_id</th>\n",
       "      <th>check_in_date</th>\n",
       "      <th>room_category</th>\n",
       "      <th>successful_bookings</th>\n",
       "      <th>capacity</th>\n",
       "      <th>occupancy_rate</th>\n",
       "    </tr>\n",
       "  </thead>\n",
       "  <tbody>\n",
       "    <tr>\n",
       "      <th>0</th>\n",
       "      <td>16559</td>\n",
       "      <td>01-May-22</td>\n",
       "      <td>RT1</td>\n",
       "      <td>25</td>\n",
       "      <td>30.0</td>\n",
       "      <td>0.83</td>\n",
       "    </tr>\n",
       "    <tr>\n",
       "      <th>1</th>\n",
       "      <td>19562</td>\n",
       "      <td>01-May-22</td>\n",
       "      <td>RT1</td>\n",
       "      <td>28</td>\n",
       "      <td>30.0</td>\n",
       "      <td>0.93</td>\n",
       "    </tr>\n",
       "    <tr>\n",
       "      <th>2</th>\n",
       "      <td>19563</td>\n",
       "      <td>01-May-22</td>\n",
       "      <td>RT1</td>\n",
       "      <td>23</td>\n",
       "      <td>30.0</td>\n",
       "      <td>0.77</td>\n",
       "    </tr>\n",
       "    <tr>\n",
       "      <th>3</th>\n",
       "      <td>17558</td>\n",
       "      <td>01-May-22</td>\n",
       "      <td>RT1</td>\n",
       "      <td>30</td>\n",
       "      <td>19.0</td>\n",
       "      <td>1.58</td>\n",
       "    </tr>\n",
       "    <tr>\n",
       "      <th>4</th>\n",
       "      <td>16558</td>\n",
       "      <td>01-May-22</td>\n",
       "      <td>RT1</td>\n",
       "      <td>18</td>\n",
       "      <td>19.0</td>\n",
       "      <td>0.95</td>\n",
       "    </tr>\n",
       "    <tr>\n",
       "      <th>5</th>\n",
       "      <td>17560</td>\n",
       "      <td>01-May-22</td>\n",
       "      <td>RT1</td>\n",
       "      <td>28</td>\n",
       "      <td>40.0</td>\n",
       "      <td>0.70</td>\n",
       "    </tr>\n",
       "    <tr>\n",
       "      <th>6</th>\n",
       "      <td>19558</td>\n",
       "      <td>01-May-22</td>\n",
       "      <td>RT1</td>\n",
       "      <td>25</td>\n",
       "      <td>40.0</td>\n",
       "      <td>0.62</td>\n",
       "    </tr>\n",
       "    <tr>\n",
       "      <th>7</th>\n",
       "      <td>19560</td>\n",
       "      <td>01-May-22</td>\n",
       "      <td>RT1</td>\n",
       "      <td>23</td>\n",
       "      <td>26.0</td>\n",
       "      <td>0.88</td>\n",
       "    </tr>\n",
       "    <tr>\n",
       "      <th>8</th>\n",
       "      <td>17561</td>\n",
       "      <td>01-May-22</td>\n",
       "      <td>RT1</td>\n",
       "      <td>22</td>\n",
       "      <td>30.0</td>\n",
       "      <td>0.73</td>\n",
       "    </tr>\n",
       "    <tr>\n",
       "      <th>9</th>\n",
       "      <td>16560</td>\n",
       "      <td>01-May-22</td>\n",
       "      <td>RT1</td>\n",
       "      <td>24</td>\n",
       "      <td>34.0</td>\n",
       "      <td>0.71</td>\n",
       "    </tr>\n",
       "  </tbody>\n",
       "</table>\n",
       "</div>"
      ],
      "text/plain": [
       "   property_id check_in_date room_category  successful_bookings  capacity  \\\n",
       "0        16559     01-May-22           RT1                   25      30.0   \n",
       "1        19562     01-May-22           RT1                   28      30.0   \n",
       "2        19563     01-May-22           RT1                   23      30.0   \n",
       "3        17558     01-May-22           RT1                   30      19.0   \n",
       "4        16558     01-May-22           RT1                   18      19.0   \n",
       "5        17560     01-May-22           RT1                   28      40.0   \n",
       "6        19558     01-May-22           RT1                   25      40.0   \n",
       "7        19560     01-May-22           RT1                   23      26.0   \n",
       "8        17561     01-May-22           RT1                   22      30.0   \n",
       "9        16560     01-May-22           RT1                   24      34.0   \n",
       "\n",
       "   occupancy_rate  \n",
       "0            0.83  \n",
       "1            0.93  \n",
       "2            0.77  \n",
       "3            1.58  \n",
       "4            0.95  \n",
       "5            0.70  \n",
       "6            0.62  \n",
       "7            0.88  \n",
       "8            0.73  \n",
       "9            0.71  "
      ]
     },
     "execution_count": 37,
     "metadata": {},
     "output_type": "execute_result"
    }
   ],
   "source": [
    "df_agg_bookings[\"occupancy_rate\"] = (\n",
    "    df_agg_bookings[\"successful_bookings\"] / df_agg_bookings[\"capacity\"]\n",
    ").round(2)\n",
    "\n",
    "df_agg_bookings.head(10)"
   ]
  },
  {
   "cell_type": "code",
   "execution_count": 38,
   "metadata": {},
   "outputs": [
    {
     "data": {
      "application/vnd.microsoft.datawrangler.viewer.v0+json": {
       "columns": [
        {
         "name": "index",
         "rawType": "int64",
         "type": "integer"
        },
        {
         "name": "property_id",
         "rawType": "int64",
         "type": "integer"
        },
        {
         "name": "check_in_date",
         "rawType": "object",
         "type": "string"
        },
        {
         "name": "room_category",
         "rawType": "object",
         "type": "string"
        },
        {
         "name": "successful_bookings",
         "rawType": "int64",
         "type": "integer"
        },
        {
         "name": "capacity",
         "rawType": "float64",
         "type": "float"
        },
        {
         "name": "occupancy_rate",
         "rawType": "float64",
         "type": "float"
        }
       ],
       "conversionMethod": "pd.DataFrame",
       "ref": "a9adde3e-f4df-4638-ab9b-54d36a7dfb9f",
       "rows": [
        [
         "0",
         "16559",
         "01-May-22",
         "RT1",
         "25",
         "30.0",
         "83.0"
        ],
        [
         "1",
         "19562",
         "01-May-22",
         "RT1",
         "28",
         "30.0",
         "93.0"
        ],
        [
         "2",
         "19563",
         "01-May-22",
         "RT1",
         "23",
         "30.0",
         "77.0"
        ],
        [
         "3",
         "17558",
         "01-May-22",
         "RT1",
         "30",
         "19.0",
         "158.0"
        ],
        [
         "4",
         "16558",
         "01-May-22",
         "RT1",
         "18",
         "19.0",
         "95.0"
        ],
        [
         "5",
         "17560",
         "01-May-22",
         "RT1",
         "28",
         "40.0",
         "70.0"
        ],
        [
         "6",
         "19558",
         "01-May-22",
         "RT1",
         "25",
         "40.0",
         "62.0"
        ],
        [
         "7",
         "19560",
         "01-May-22",
         "RT1",
         "23",
         "26.0",
         "88.0"
        ],
        [
         "8",
         "17561",
         "01-May-22",
         "RT1",
         "22",
         "30.0",
         "73.0"
        ],
        [
         "9",
         "16560",
         "01-May-22",
         "RT1",
         "24",
         "34.0",
         "71.0"
        ]
       ],
       "shape": {
        "columns": 6,
        "rows": 10
       }
      },
      "text/html": [
       "<div>\n",
       "<style scoped>\n",
       "    .dataframe tbody tr th:only-of-type {\n",
       "        vertical-align: middle;\n",
       "    }\n",
       "\n",
       "    .dataframe tbody tr th {\n",
       "        vertical-align: top;\n",
       "    }\n",
       "\n",
       "    .dataframe thead th {\n",
       "        text-align: right;\n",
       "    }\n",
       "</style>\n",
       "<table border=\"1\" class=\"dataframe\">\n",
       "  <thead>\n",
       "    <tr style=\"text-align: right;\">\n",
       "      <th></th>\n",
       "      <th>property_id</th>\n",
       "      <th>check_in_date</th>\n",
       "      <th>room_category</th>\n",
       "      <th>successful_bookings</th>\n",
       "      <th>capacity</th>\n",
       "      <th>occupancy_rate</th>\n",
       "    </tr>\n",
       "  </thead>\n",
       "  <tbody>\n",
       "    <tr>\n",
       "      <th>0</th>\n",
       "      <td>16559</td>\n",
       "      <td>01-May-22</td>\n",
       "      <td>RT1</td>\n",
       "      <td>25</td>\n",
       "      <td>30.0</td>\n",
       "      <td>83.0</td>\n",
       "    </tr>\n",
       "    <tr>\n",
       "      <th>1</th>\n",
       "      <td>19562</td>\n",
       "      <td>01-May-22</td>\n",
       "      <td>RT1</td>\n",
       "      <td>28</td>\n",
       "      <td>30.0</td>\n",
       "      <td>93.0</td>\n",
       "    </tr>\n",
       "    <tr>\n",
       "      <th>2</th>\n",
       "      <td>19563</td>\n",
       "      <td>01-May-22</td>\n",
       "      <td>RT1</td>\n",
       "      <td>23</td>\n",
       "      <td>30.0</td>\n",
       "      <td>77.0</td>\n",
       "    </tr>\n",
       "    <tr>\n",
       "      <th>3</th>\n",
       "      <td>17558</td>\n",
       "      <td>01-May-22</td>\n",
       "      <td>RT1</td>\n",
       "      <td>30</td>\n",
       "      <td>19.0</td>\n",
       "      <td>158.0</td>\n",
       "    </tr>\n",
       "    <tr>\n",
       "      <th>4</th>\n",
       "      <td>16558</td>\n",
       "      <td>01-May-22</td>\n",
       "      <td>RT1</td>\n",
       "      <td>18</td>\n",
       "      <td>19.0</td>\n",
       "      <td>95.0</td>\n",
       "    </tr>\n",
       "    <tr>\n",
       "      <th>5</th>\n",
       "      <td>17560</td>\n",
       "      <td>01-May-22</td>\n",
       "      <td>RT1</td>\n",
       "      <td>28</td>\n",
       "      <td>40.0</td>\n",
       "      <td>70.0</td>\n",
       "    </tr>\n",
       "    <tr>\n",
       "      <th>6</th>\n",
       "      <td>19558</td>\n",
       "      <td>01-May-22</td>\n",
       "      <td>RT1</td>\n",
       "      <td>25</td>\n",
       "      <td>40.0</td>\n",
       "      <td>62.0</td>\n",
       "    </tr>\n",
       "    <tr>\n",
       "      <th>7</th>\n",
       "      <td>19560</td>\n",
       "      <td>01-May-22</td>\n",
       "      <td>RT1</td>\n",
       "      <td>23</td>\n",
       "      <td>26.0</td>\n",
       "      <td>88.0</td>\n",
       "    </tr>\n",
       "    <tr>\n",
       "      <th>8</th>\n",
       "      <td>17561</td>\n",
       "      <td>01-May-22</td>\n",
       "      <td>RT1</td>\n",
       "      <td>22</td>\n",
       "      <td>30.0</td>\n",
       "      <td>73.0</td>\n",
       "    </tr>\n",
       "    <tr>\n",
       "      <th>9</th>\n",
       "      <td>16560</td>\n",
       "      <td>01-May-22</td>\n",
       "      <td>RT1</td>\n",
       "      <td>24</td>\n",
       "      <td>34.0</td>\n",
       "      <td>71.0</td>\n",
       "    </tr>\n",
       "  </tbody>\n",
       "</table>\n",
       "</div>"
      ],
      "text/plain": [
       "   property_id check_in_date room_category  successful_bookings  capacity  \\\n",
       "0        16559     01-May-22           RT1                   25      30.0   \n",
       "1        19562     01-May-22           RT1                   28      30.0   \n",
       "2        19563     01-May-22           RT1                   23      30.0   \n",
       "3        17558     01-May-22           RT1                   30      19.0   \n",
       "4        16558     01-May-22           RT1                   18      19.0   \n",
       "5        17560     01-May-22           RT1                   28      40.0   \n",
       "6        19558     01-May-22           RT1                   25      40.0   \n",
       "7        19560     01-May-22           RT1                   23      26.0   \n",
       "8        17561     01-May-22           RT1                   22      30.0   \n",
       "9        16560     01-May-22           RT1                   24      34.0   \n",
       "\n",
       "   occupancy_rate  \n",
       "0            83.0  \n",
       "1            93.0  \n",
       "2            77.0  \n",
       "3           158.0  \n",
       "4            95.0  \n",
       "5            70.0  \n",
       "6            62.0  \n",
       "7            88.0  \n",
       "8            73.0  \n",
       "9            71.0  "
      ]
     },
     "execution_count": 38,
     "metadata": {},
     "output_type": "execute_result"
    }
   ],
   "source": [
    "df_agg_bookings[\"occupancy_rate\"] = (df_agg_bookings[\"occupancy_rate\"] * 100).round(2)\n",
    "df_agg_bookings.head(10)"
   ]
  },
  {
   "cell_type": "code",
   "execution_count": 39,
   "metadata": {},
   "outputs": [
    {
     "data": {
      "text/plain": [
       "count    9200.000000\n",
       "mean       58.398478\n",
       "std        16.078103\n",
       "min        21.000000\n",
       "25%        47.000000\n",
       "50%        56.000000\n",
       "75%        67.000000\n",
       "max       473.000000\n",
       "Name: occupancy_rate, dtype: float64"
      ]
     },
     "execution_count": 39,
     "metadata": {},
     "output_type": "execute_result"
    }
   ],
   "source": [
    "df_agg_bookings['occupancy_rate'].describe()"
   ]
  },
  {
   "cell_type": "code",
   "execution_count": 40,
   "metadata": {},
   "outputs": [
    {
     "data": {
      "application/vnd.microsoft.datawrangler.viewer.v0+json": {
       "columns": [
        {
         "name": "index",
         "rawType": "int64",
         "type": "integer"
        },
        {
         "name": "property_id",
         "rawType": "int64",
         "type": "integer"
        },
        {
         "name": "check_in_date",
         "rawType": "object",
         "type": "string"
        },
        {
         "name": "room_category",
         "rawType": "object",
         "type": "string"
        },
        {
         "name": "successful_bookings",
         "rawType": "int64",
         "type": "integer"
        },
        {
         "name": "capacity",
         "rawType": "float64",
         "type": "float"
        },
        {
         "name": "occupancy_rate",
         "rawType": "float64",
         "type": "float"
        }
       ],
       "conversionMethod": "pd.DataFrame",
       "ref": "9353d393-372b-424f-bd47-283e71af8bd3",
       "rows": [
        [
         "3",
         "17558",
         "01-May-22",
         "RT1",
         "30",
         "19.0",
         "158.0"
        ],
        [
         "12",
         "16563",
         "01-May-22",
         "RT1",
         "100",
         "41.0",
         "244.0"
        ],
        [
         "4136",
         "19558",
         "11-Jun-22",
         "RT2",
         "50",
         "39.0",
         "128.0"
        ],
        [
         "6209",
         "19560",
         "02-Jul-22",
         "RT1",
         "123",
         "26.0",
         "473.0"
        ],
        [
         "8522",
         "19559",
         "25-Jul-22",
         "RT1",
         "35",
         "24.0",
         "146.0"
        ],
        [
         "9194",
         "18563",
         "31-Jul-22",
         "RT4",
         "20",
         "18.0",
         "111.0"
        ]
       ],
       "shape": {
        "columns": 6,
        "rows": 6
       }
      },
      "text/html": [
       "<div>\n",
       "<style scoped>\n",
       "    .dataframe tbody tr th:only-of-type {\n",
       "        vertical-align: middle;\n",
       "    }\n",
       "\n",
       "    .dataframe tbody tr th {\n",
       "        vertical-align: top;\n",
       "    }\n",
       "\n",
       "    .dataframe thead th {\n",
       "        text-align: right;\n",
       "    }\n",
       "</style>\n",
       "<table border=\"1\" class=\"dataframe\">\n",
       "  <thead>\n",
       "    <tr style=\"text-align: right;\">\n",
       "      <th></th>\n",
       "      <th>property_id</th>\n",
       "      <th>check_in_date</th>\n",
       "      <th>room_category</th>\n",
       "      <th>successful_bookings</th>\n",
       "      <th>capacity</th>\n",
       "      <th>occupancy_rate</th>\n",
       "    </tr>\n",
       "  </thead>\n",
       "  <tbody>\n",
       "    <tr>\n",
       "      <th>3</th>\n",
       "      <td>17558</td>\n",
       "      <td>01-May-22</td>\n",
       "      <td>RT1</td>\n",
       "      <td>30</td>\n",
       "      <td>19.0</td>\n",
       "      <td>158.0</td>\n",
       "    </tr>\n",
       "    <tr>\n",
       "      <th>12</th>\n",
       "      <td>16563</td>\n",
       "      <td>01-May-22</td>\n",
       "      <td>RT1</td>\n",
       "      <td>100</td>\n",
       "      <td>41.0</td>\n",
       "      <td>244.0</td>\n",
       "    </tr>\n",
       "    <tr>\n",
       "      <th>4136</th>\n",
       "      <td>19558</td>\n",
       "      <td>11-Jun-22</td>\n",
       "      <td>RT2</td>\n",
       "      <td>50</td>\n",
       "      <td>39.0</td>\n",
       "      <td>128.0</td>\n",
       "    </tr>\n",
       "    <tr>\n",
       "      <th>6209</th>\n",
       "      <td>19560</td>\n",
       "      <td>02-Jul-22</td>\n",
       "      <td>RT1</td>\n",
       "      <td>123</td>\n",
       "      <td>26.0</td>\n",
       "      <td>473.0</td>\n",
       "    </tr>\n",
       "    <tr>\n",
       "      <th>8522</th>\n",
       "      <td>19559</td>\n",
       "      <td>25-Jul-22</td>\n",
       "      <td>RT1</td>\n",
       "      <td>35</td>\n",
       "      <td>24.0</td>\n",
       "      <td>146.0</td>\n",
       "    </tr>\n",
       "    <tr>\n",
       "      <th>9194</th>\n",
       "      <td>18563</td>\n",
       "      <td>31-Jul-22</td>\n",
       "      <td>RT4</td>\n",
       "      <td>20</td>\n",
       "      <td>18.0</td>\n",
       "      <td>111.0</td>\n",
       "    </tr>\n",
       "  </tbody>\n",
       "</table>\n",
       "</div>"
      ],
      "text/plain": [
       "      property_id check_in_date room_category  successful_bookings  capacity  \\\n",
       "3           17558     01-May-22           RT1                   30      19.0   \n",
       "12          16563     01-May-22           RT1                  100      41.0   \n",
       "4136        19558     11-Jun-22           RT2                   50      39.0   \n",
       "6209        19560     02-Jul-22           RT1                  123      26.0   \n",
       "8522        19559     25-Jul-22           RT1                   35      24.0   \n",
       "9194        18563     31-Jul-22           RT4                   20      18.0   \n",
       "\n",
       "      occupancy_rate  \n",
       "3              158.0  \n",
       "12             244.0  \n",
       "4136           128.0  \n",
       "6209           473.0  \n",
       "8522           146.0  \n",
       "9194           111.0  "
      ]
     },
     "execution_count": 40,
     "metadata": {},
     "output_type": "execute_result"
    }
   ],
   "source": [
    "df_agg_bookings[df_agg_bookings['occupancy_rate'] > 100]"
   ]
  },
  {
   "cell_type": "markdown",
   "metadata": {},
   "source": [
    "***\n",
    "**Insights Generation**\n",
    "***"
   ]
  },
  {
   "cell_type": "markdown",
   "metadata": {},
   "source": [
    "**1. What is an average occupancy rate in each of the room categories?**"
   ]
  },
  {
   "cell_type": "code",
   "execution_count": 41,
   "metadata": {},
   "outputs": [
    {
     "data": {
      "text/plain": [
       "room_category\n",
       "RT1    58.24\n",
       "RT2    58.04\n",
       "RT3    58.01\n",
       "RT4    59.30\n",
       "Name: occupancy_rate, dtype: float64"
      ]
     },
     "execution_count": 41,
     "metadata": {},
     "output_type": "execute_result"
    }
   ],
   "source": [
    "df_agg_bookings.groupby('room_category')['occupancy_rate'].mean().round(2)"
   ]
  },
  {
   "cell_type": "code",
   "execution_count": 42,
   "metadata": {},
   "outputs": [
    {
     "data": {
      "application/vnd.microsoft.datawrangler.viewer.v0+json": {
       "columns": [
        {
         "name": "index",
         "rawType": "int64",
         "type": "integer"
        },
        {
         "name": "room_category",
         "rawType": "object",
         "type": "string"
        },
        {
         "name": "room_class",
         "rawType": "object",
         "type": "string"
        }
       ],
       "conversionMethod": "pd.DataFrame",
       "ref": "80271dab-fdb6-4bce-bcab-664ccc9c3583",
       "rows": [
        [
         "0",
         "RT1",
         "Standard"
        ],
        [
         "1",
         "RT2",
         "Elite"
        ],
        [
         "2",
         "RT3",
         "Premium"
        ],
        [
         "3",
         "RT4",
         "Presidential"
        ]
       ],
       "shape": {
        "columns": 2,
        "rows": 4
       }
      },
      "text/html": [
       "<div>\n",
       "<style scoped>\n",
       "    .dataframe tbody tr th:only-of-type {\n",
       "        vertical-align: middle;\n",
       "    }\n",
       "\n",
       "    .dataframe tbody tr th {\n",
       "        vertical-align: top;\n",
       "    }\n",
       "\n",
       "    .dataframe thead th {\n",
       "        text-align: right;\n",
       "    }\n",
       "</style>\n",
       "<table border=\"1\" class=\"dataframe\">\n",
       "  <thead>\n",
       "    <tr style=\"text-align: right;\">\n",
       "      <th></th>\n",
       "      <th>room_category</th>\n",
       "      <th>room_class</th>\n",
       "    </tr>\n",
       "  </thead>\n",
       "  <tbody>\n",
       "    <tr>\n",
       "      <th>0</th>\n",
       "      <td>RT1</td>\n",
       "      <td>Standard</td>\n",
       "    </tr>\n",
       "    <tr>\n",
       "      <th>1</th>\n",
       "      <td>RT2</td>\n",
       "      <td>Elite</td>\n",
       "    </tr>\n",
       "    <tr>\n",
       "      <th>2</th>\n",
       "      <td>RT3</td>\n",
       "      <td>Premium</td>\n",
       "    </tr>\n",
       "    <tr>\n",
       "      <th>3</th>\n",
       "      <td>RT4</td>\n",
       "      <td>Presidential</td>\n",
       "    </tr>\n",
       "  </tbody>\n",
       "</table>\n",
       "</div>"
      ],
      "text/plain": [
       "  room_category    room_class\n",
       "0           RT1      Standard\n",
       "1           RT2         Elite\n",
       "2           RT3       Premium\n",
       "3           RT4  Presidential"
      ]
     },
     "execution_count": 42,
     "metadata": {},
     "output_type": "execute_result"
    }
   ],
   "source": [
    "df_rooms.rename(columns={\"room_id\": \"room_category\"}, inplace=True)\n",
    "df_rooms.head()"
   ]
  },
  {
   "cell_type": "code",
   "execution_count": 43,
   "metadata": {},
   "outputs": [
    {
     "data": {
      "application/vnd.microsoft.datawrangler.viewer.v0+json": {
       "columns": [
        {
         "name": "index",
         "rawType": "int64",
         "type": "integer"
        },
        {
         "name": "property_id",
         "rawType": "int64",
         "type": "integer"
        },
        {
         "name": "check_in_date",
         "rawType": "object",
         "type": "string"
        },
        {
         "name": "room_category",
         "rawType": "object",
         "type": "string"
        },
        {
         "name": "successful_bookings",
         "rawType": "int64",
         "type": "integer"
        },
        {
         "name": "capacity",
         "rawType": "float64",
         "type": "float"
        },
        {
         "name": "occupancy_rate",
         "rawType": "float64",
         "type": "float"
        },
        {
         "name": "room_class",
         "rawType": "object",
         "type": "string"
        }
       ],
       "conversionMethod": "pd.DataFrame",
       "ref": "a27813cf-64c4-4f44-b61a-c97e05ffd43a",
       "rows": [
        [
         "0",
         "16559",
         "01-May-22",
         "RT1",
         "25",
         "30.0",
         "83.0",
         "Standard"
        ],
        [
         "1",
         "19562",
         "01-May-22",
         "RT1",
         "28",
         "30.0",
         "93.0",
         "Standard"
        ],
        [
         "2",
         "19563",
         "01-May-22",
         "RT1",
         "23",
         "30.0",
         "77.0",
         "Standard"
        ],
        [
         "3",
         "17558",
         "01-May-22",
         "RT1",
         "30",
         "19.0",
         "158.0",
         "Standard"
        ],
        [
         "4",
         "16558",
         "01-May-22",
         "RT1",
         "18",
         "19.0",
         "95.0",
         "Standard"
        ]
       ],
       "shape": {
        "columns": 7,
        "rows": 5
       }
      },
      "text/html": [
       "<div>\n",
       "<style scoped>\n",
       "    .dataframe tbody tr th:only-of-type {\n",
       "        vertical-align: middle;\n",
       "    }\n",
       "\n",
       "    .dataframe tbody tr th {\n",
       "        vertical-align: top;\n",
       "    }\n",
       "\n",
       "    .dataframe thead th {\n",
       "        text-align: right;\n",
       "    }\n",
       "</style>\n",
       "<table border=\"1\" class=\"dataframe\">\n",
       "  <thead>\n",
       "    <tr style=\"text-align: right;\">\n",
       "      <th></th>\n",
       "      <th>property_id</th>\n",
       "      <th>check_in_date</th>\n",
       "      <th>room_category</th>\n",
       "      <th>successful_bookings</th>\n",
       "      <th>capacity</th>\n",
       "      <th>occupancy_rate</th>\n",
       "      <th>room_class</th>\n",
       "    </tr>\n",
       "  </thead>\n",
       "  <tbody>\n",
       "    <tr>\n",
       "      <th>0</th>\n",
       "      <td>16559</td>\n",
       "      <td>01-May-22</td>\n",
       "      <td>RT1</td>\n",
       "      <td>25</td>\n",
       "      <td>30.0</td>\n",
       "      <td>83.0</td>\n",
       "      <td>Standard</td>\n",
       "    </tr>\n",
       "    <tr>\n",
       "      <th>1</th>\n",
       "      <td>19562</td>\n",
       "      <td>01-May-22</td>\n",
       "      <td>RT1</td>\n",
       "      <td>28</td>\n",
       "      <td>30.0</td>\n",
       "      <td>93.0</td>\n",
       "      <td>Standard</td>\n",
       "    </tr>\n",
       "    <tr>\n",
       "      <th>2</th>\n",
       "      <td>19563</td>\n",
       "      <td>01-May-22</td>\n",
       "      <td>RT1</td>\n",
       "      <td>23</td>\n",
       "      <td>30.0</td>\n",
       "      <td>77.0</td>\n",
       "      <td>Standard</td>\n",
       "    </tr>\n",
       "    <tr>\n",
       "      <th>3</th>\n",
       "      <td>17558</td>\n",
       "      <td>01-May-22</td>\n",
       "      <td>RT1</td>\n",
       "      <td>30</td>\n",
       "      <td>19.0</td>\n",
       "      <td>158.0</td>\n",
       "      <td>Standard</td>\n",
       "    </tr>\n",
       "    <tr>\n",
       "      <th>4</th>\n",
       "      <td>16558</td>\n",
       "      <td>01-May-22</td>\n",
       "      <td>RT1</td>\n",
       "      <td>18</td>\n",
       "      <td>19.0</td>\n",
       "      <td>95.0</td>\n",
       "      <td>Standard</td>\n",
       "    </tr>\n",
       "  </tbody>\n",
       "</table>\n",
       "</div>"
      ],
      "text/plain": [
       "   property_id check_in_date room_category  successful_bookings  capacity  \\\n",
       "0        16559     01-May-22           RT1                   25      30.0   \n",
       "1        19562     01-May-22           RT1                   28      30.0   \n",
       "2        19563     01-May-22           RT1                   23      30.0   \n",
       "3        17558     01-May-22           RT1                   30      19.0   \n",
       "4        16558     01-May-22           RT1                   18      19.0   \n",
       "\n",
       "   occupancy_rate room_class  \n",
       "0            83.0   Standard  \n",
       "1            93.0   Standard  \n",
       "2            77.0   Standard  \n",
       "3           158.0   Standard  \n",
       "4            95.0   Standard  "
      ]
     },
     "execution_count": 43,
     "metadata": {},
     "output_type": "execute_result"
    }
   ],
   "source": [
    "df = pd.merge(df_agg_bookings, df_rooms, on='room_category', how='left')\n",
    "df.head()"
   ]
  },
  {
   "cell_type": "code",
   "execution_count": 44,
   "metadata": {},
   "outputs": [
    {
     "data": {
      "text/plain": [
       "room_class\n",
       "Elite           58.04\n",
       "Premium         58.01\n",
       "Presidential    59.30\n",
       "Standard        58.24\n",
       "Name: occupancy_rate, dtype: float64"
      ]
     },
     "execution_count": 44,
     "metadata": {},
     "output_type": "execute_result"
    }
   ],
   "source": [
    "df.groupby('room_class')['occupancy_rate'].mean().round(2)"
   ]
  },
  {
   "cell_type": "markdown",
   "metadata": {},
   "source": [
    "**2. Print average occupancy rate per city**"
   ]
  },
  {
   "cell_type": "code",
   "execution_count": 45,
   "metadata": {},
   "outputs": [
    {
     "data": {
      "application/vnd.microsoft.datawrangler.viewer.v0+json": {
       "columns": [
        {
         "name": "index",
         "rawType": "int64",
         "type": "integer"
        },
        {
         "name": "property_id",
         "rawType": "int64",
         "type": "integer"
        },
        {
         "name": "check_in_date",
         "rawType": "object",
         "type": "string"
        },
        {
         "name": "room_category",
         "rawType": "object",
         "type": "string"
        },
        {
         "name": "successful_bookings",
         "rawType": "int64",
         "type": "integer"
        },
        {
         "name": "capacity",
         "rawType": "float64",
         "type": "float"
        },
        {
         "name": "occupancy_rate",
         "rawType": "float64",
         "type": "float"
        },
        {
         "name": "room_class",
         "rawType": "object",
         "type": "string"
        },
        {
         "name": "property_name",
         "rawType": "object",
         "type": "string"
        },
        {
         "name": "category",
         "rawType": "object",
         "type": "string"
        },
        {
         "name": "city",
         "rawType": "object",
         "type": "string"
        }
       ],
       "conversionMethod": "pd.DataFrame",
       "ref": "d966d0c5-a3f4-4f5b-848d-12ac0ad315ff",
       "rows": [
        [
         "0",
         "16559",
         "01-May-22",
         "RT1",
         "25",
         "30.0",
         "83.0",
         "Standard",
         "Atliq Exotica",
         "Luxury",
         "Mumbai"
        ],
        [
         "1",
         "19562",
         "01-May-22",
         "RT1",
         "28",
         "30.0",
         "93.0",
         "Standard",
         "Atliq Bay",
         "Luxury",
         "Bangalore"
        ],
        [
         "2",
         "19563",
         "01-May-22",
         "RT1",
         "23",
         "30.0",
         "77.0",
         "Standard",
         "Atliq Palace",
         "Business",
         "Bangalore"
        ],
        [
         "3",
         "17558",
         "01-May-22",
         "RT1",
         "30",
         "19.0",
         "158.0",
         "Standard",
         "Atliq Grands",
         "Luxury",
         "Mumbai"
        ],
        [
         "4",
         "16558",
         "01-May-22",
         "RT1",
         "18",
         "19.0",
         "95.0",
         "Standard",
         "Atliq Grands",
         "Luxury",
         "Delhi"
        ]
       ],
       "shape": {
        "columns": 10,
        "rows": 5
       }
      },
      "text/html": [
       "<div>\n",
       "<style scoped>\n",
       "    .dataframe tbody tr th:only-of-type {\n",
       "        vertical-align: middle;\n",
       "    }\n",
       "\n",
       "    .dataframe tbody tr th {\n",
       "        vertical-align: top;\n",
       "    }\n",
       "\n",
       "    .dataframe thead th {\n",
       "        text-align: right;\n",
       "    }\n",
       "</style>\n",
       "<table border=\"1\" class=\"dataframe\">\n",
       "  <thead>\n",
       "    <tr style=\"text-align: right;\">\n",
       "      <th></th>\n",
       "      <th>property_id</th>\n",
       "      <th>check_in_date</th>\n",
       "      <th>room_category</th>\n",
       "      <th>successful_bookings</th>\n",
       "      <th>capacity</th>\n",
       "      <th>occupancy_rate</th>\n",
       "      <th>room_class</th>\n",
       "      <th>property_name</th>\n",
       "      <th>category</th>\n",
       "      <th>city</th>\n",
       "    </tr>\n",
       "  </thead>\n",
       "  <tbody>\n",
       "    <tr>\n",
       "      <th>0</th>\n",
       "      <td>16559</td>\n",
       "      <td>01-May-22</td>\n",
       "      <td>RT1</td>\n",
       "      <td>25</td>\n",
       "      <td>30.0</td>\n",
       "      <td>83.0</td>\n",
       "      <td>Standard</td>\n",
       "      <td>Atliq Exotica</td>\n",
       "      <td>Luxury</td>\n",
       "      <td>Mumbai</td>\n",
       "    </tr>\n",
       "    <tr>\n",
       "      <th>1</th>\n",
       "      <td>19562</td>\n",
       "      <td>01-May-22</td>\n",
       "      <td>RT1</td>\n",
       "      <td>28</td>\n",
       "      <td>30.0</td>\n",
       "      <td>93.0</td>\n",
       "      <td>Standard</td>\n",
       "      <td>Atliq Bay</td>\n",
       "      <td>Luxury</td>\n",
       "      <td>Bangalore</td>\n",
       "    </tr>\n",
       "    <tr>\n",
       "      <th>2</th>\n",
       "      <td>19563</td>\n",
       "      <td>01-May-22</td>\n",
       "      <td>RT1</td>\n",
       "      <td>23</td>\n",
       "      <td>30.0</td>\n",
       "      <td>77.0</td>\n",
       "      <td>Standard</td>\n",
       "      <td>Atliq Palace</td>\n",
       "      <td>Business</td>\n",
       "      <td>Bangalore</td>\n",
       "    </tr>\n",
       "    <tr>\n",
       "      <th>3</th>\n",
       "      <td>17558</td>\n",
       "      <td>01-May-22</td>\n",
       "      <td>RT1</td>\n",
       "      <td>30</td>\n",
       "      <td>19.0</td>\n",
       "      <td>158.0</td>\n",
       "      <td>Standard</td>\n",
       "      <td>Atliq Grands</td>\n",
       "      <td>Luxury</td>\n",
       "      <td>Mumbai</td>\n",
       "    </tr>\n",
       "    <tr>\n",
       "      <th>4</th>\n",
       "      <td>16558</td>\n",
       "      <td>01-May-22</td>\n",
       "      <td>RT1</td>\n",
       "      <td>18</td>\n",
       "      <td>19.0</td>\n",
       "      <td>95.0</td>\n",
       "      <td>Standard</td>\n",
       "      <td>Atliq Grands</td>\n",
       "      <td>Luxury</td>\n",
       "      <td>Delhi</td>\n",
       "    </tr>\n",
       "  </tbody>\n",
       "</table>\n",
       "</div>"
      ],
      "text/plain": [
       "   property_id check_in_date room_category  successful_bookings  capacity  \\\n",
       "0        16559     01-May-22           RT1                   25      30.0   \n",
       "1        19562     01-May-22           RT1                   28      30.0   \n",
       "2        19563     01-May-22           RT1                   23      30.0   \n",
       "3        17558     01-May-22           RT1                   30      19.0   \n",
       "4        16558     01-May-22           RT1                   18      19.0   \n",
       "\n",
       "   occupancy_rate room_class  property_name  category       city  \n",
       "0            83.0   Standard  Atliq Exotica    Luxury     Mumbai  \n",
       "1            93.0   Standard      Atliq Bay    Luxury  Bangalore  \n",
       "2            77.0   Standard   Atliq Palace  Business  Bangalore  \n",
       "3           158.0   Standard   Atliq Grands    Luxury     Mumbai  \n",
       "4            95.0   Standard   Atliq Grands    Luxury      Delhi  "
      ]
     },
     "execution_count": 45,
     "metadata": {},
     "output_type": "execute_result"
    }
   ],
   "source": [
    "df = pd.merge(df, df_hotels, on='property_id', how='left')\n",
    "df.head()"
   ]
  },
  {
   "cell_type": "code",
   "execution_count": 46,
   "metadata": {},
   "outputs": [
    {
     "data": {
      "text/plain": [
       "city\n",
       "Bangalore    56.59\n",
       "Delhi        61.62\n",
       "Hyderabad    58.15\n",
       "Mumbai       57.92\n",
       "Name: occupancy_rate, dtype: float64"
      ]
     },
     "execution_count": 46,
     "metadata": {},
     "output_type": "execute_result"
    }
   ],
   "source": [
    "df.groupby('city')['occupancy_rate'].mean().round(2)"
   ]
  },
  {
   "cell_type": "markdown",
   "metadata": {},
   "source": [
    "**3. When was the occupancy better? Weekday or Weekend?**"
   ]
  },
  {
   "cell_type": "code",
   "execution_count": 47,
   "metadata": {},
   "outputs": [
    {
     "data": {
      "application/vnd.microsoft.datawrangler.viewer.v0+json": {
       "columns": [
        {
         "name": "index",
         "rawType": "int64",
         "type": "integer"
        },
        {
         "name": "date",
         "rawType": "object",
         "type": "string"
        },
        {
         "name": "mmm yy",
         "rawType": "object",
         "type": "string"
        },
        {
         "name": "week no",
         "rawType": "object",
         "type": "string"
        },
        {
         "name": "day_type",
         "rawType": "object",
         "type": "string"
        }
       ],
       "conversionMethod": "pd.DataFrame",
       "ref": "2910a691-b46a-4bd5-85e2-712668829556",
       "rows": [
        [
         "0",
         "01-May-22",
         "May-22",
         "W 19",
         "weekend"
        ],
        [
         "1",
         "02-May-22",
         "May-22",
         "W 19",
         "weekeday"
        ],
        [
         "2",
         "03-May-22",
         "May-22",
         "W 19",
         "weekeday"
        ],
        [
         "3",
         "04-May-22",
         "May-22",
         "W 19",
         "weekeday"
        ],
        [
         "4",
         "05-May-22",
         "May-22",
         "W 19",
         "weekeday"
        ]
       ],
       "shape": {
        "columns": 4,
        "rows": 5
       }
      },
      "text/html": [
       "<div>\n",
       "<style scoped>\n",
       "    .dataframe tbody tr th:only-of-type {\n",
       "        vertical-align: middle;\n",
       "    }\n",
       "\n",
       "    .dataframe tbody tr th {\n",
       "        vertical-align: top;\n",
       "    }\n",
       "\n",
       "    .dataframe thead th {\n",
       "        text-align: right;\n",
       "    }\n",
       "</style>\n",
       "<table border=\"1\" class=\"dataframe\">\n",
       "  <thead>\n",
       "    <tr style=\"text-align: right;\">\n",
       "      <th></th>\n",
       "      <th>date</th>\n",
       "      <th>mmm yy</th>\n",
       "      <th>week no</th>\n",
       "      <th>day_type</th>\n",
       "    </tr>\n",
       "  </thead>\n",
       "  <tbody>\n",
       "    <tr>\n",
       "      <th>0</th>\n",
       "      <td>01-May-22</td>\n",
       "      <td>May-22</td>\n",
       "      <td>W 19</td>\n",
       "      <td>weekend</td>\n",
       "    </tr>\n",
       "    <tr>\n",
       "      <th>1</th>\n",
       "      <td>02-May-22</td>\n",
       "      <td>May-22</td>\n",
       "      <td>W 19</td>\n",
       "      <td>weekeday</td>\n",
       "    </tr>\n",
       "    <tr>\n",
       "      <th>2</th>\n",
       "      <td>03-May-22</td>\n",
       "      <td>May-22</td>\n",
       "      <td>W 19</td>\n",
       "      <td>weekeday</td>\n",
       "    </tr>\n",
       "    <tr>\n",
       "      <th>3</th>\n",
       "      <td>04-May-22</td>\n",
       "      <td>May-22</td>\n",
       "      <td>W 19</td>\n",
       "      <td>weekeday</td>\n",
       "    </tr>\n",
       "    <tr>\n",
       "      <th>4</th>\n",
       "      <td>05-May-22</td>\n",
       "      <td>May-22</td>\n",
       "      <td>W 19</td>\n",
       "      <td>weekeday</td>\n",
       "    </tr>\n",
       "  </tbody>\n",
       "</table>\n",
       "</div>"
      ],
      "text/plain": [
       "        date  mmm yy week no  day_type\n",
       "0  01-May-22  May-22    W 19   weekend\n",
       "1  02-May-22  May-22    W 19  weekeday\n",
       "2  03-May-22  May-22    W 19  weekeday\n",
       "3  04-May-22  May-22    W 19  weekeday\n",
       "4  05-May-22  May-22    W 19  weekeday"
      ]
     },
     "execution_count": 47,
     "metadata": {},
     "output_type": "execute_result"
    }
   ],
   "source": [
    "df_date.head()"
   ]
  },
  {
   "cell_type": "code",
   "execution_count": 48,
   "metadata": {},
   "outputs": [
    {
     "data": {
      "application/vnd.microsoft.datawrangler.viewer.v0+json": {
       "columns": [
        {
         "name": "index",
         "rawType": "int64",
         "type": "integer"
        },
        {
         "name": "property_id",
         "rawType": "int64",
         "type": "integer"
        },
        {
         "name": "check_in_date",
         "rawType": "object",
         "type": "string"
        },
        {
         "name": "room_category",
         "rawType": "object",
         "type": "string"
        },
        {
         "name": "successful_bookings",
         "rawType": "int64",
         "type": "integer"
        },
        {
         "name": "capacity",
         "rawType": "float64",
         "type": "float"
        },
        {
         "name": "occupancy_rate",
         "rawType": "float64",
         "type": "float"
        },
        {
         "name": "room_class",
         "rawType": "object",
         "type": "string"
        },
        {
         "name": "property_name",
         "rawType": "object",
         "type": "string"
        },
        {
         "name": "category",
         "rawType": "object",
         "type": "string"
        },
        {
         "name": "city",
         "rawType": "object",
         "type": "string"
        },
        {
         "name": "date",
         "rawType": "object",
         "type": "string"
        },
        {
         "name": "mmm yy",
         "rawType": "object",
         "type": "string"
        },
        {
         "name": "week no",
         "rawType": "object",
         "type": "string"
        },
        {
         "name": "day_type",
         "rawType": "object",
         "type": "string"
        }
       ],
       "conversionMethod": "pd.DataFrame",
       "ref": "aa26029a-1dcf-4413-b7f1-256a4ad3d7ab",
       "rows": [
        [
         "0",
         "16559",
         "01-May-22",
         "RT1",
         "25",
         "30.0",
         "83.0",
         "Standard",
         "Atliq Exotica",
         "Luxury",
         "Mumbai",
         "01-May-22",
         "May-22",
         "W 19",
         "weekend"
        ],
        [
         "1",
         "19562",
         "01-May-22",
         "RT1",
         "28",
         "30.0",
         "93.0",
         "Standard",
         "Atliq Bay",
         "Luxury",
         "Bangalore",
         "01-May-22",
         "May-22",
         "W 19",
         "weekend"
        ],
        [
         "2",
         "19563",
         "01-May-22",
         "RT1",
         "23",
         "30.0",
         "77.0",
         "Standard",
         "Atliq Palace",
         "Business",
         "Bangalore",
         "01-May-22",
         "May-22",
         "W 19",
         "weekend"
        ],
        [
         "3",
         "17558",
         "01-May-22",
         "RT1",
         "30",
         "19.0",
         "158.0",
         "Standard",
         "Atliq Grands",
         "Luxury",
         "Mumbai",
         "01-May-22",
         "May-22",
         "W 19",
         "weekend"
        ],
        [
         "4",
         "16558",
         "01-May-22",
         "RT1",
         "18",
         "19.0",
         "95.0",
         "Standard",
         "Atliq Grands",
         "Luxury",
         "Delhi",
         "01-May-22",
         "May-22",
         "W 19",
         "weekend"
        ],
        [
         "5",
         "17560",
         "01-May-22",
         "RT1",
         "28",
         "40.0",
         "70.0",
         "Standard",
         "Atliq City",
         "Business",
         "Mumbai",
         "01-May-22",
         "May-22",
         "W 19",
         "weekend"
        ],
        [
         "6",
         "19558",
         "01-May-22",
         "RT1",
         "25",
         "40.0",
         "62.0",
         "Standard",
         "Atliq Grands",
         "Luxury",
         "Bangalore",
         "01-May-22",
         "May-22",
         "W 19",
         "weekend"
        ],
        [
         "7",
         "19560",
         "01-May-22",
         "RT1",
         "23",
         "26.0",
         "88.0",
         "Standard",
         "Atliq City",
         "Business",
         "Bangalore",
         "01-May-22",
         "May-22",
         "W 19",
         "weekend"
        ],
        [
         "8",
         "17561",
         "01-May-22",
         "RT1",
         "22",
         "30.0",
         "73.0",
         "Standard",
         "Atliq Blu",
         "Luxury",
         "Mumbai",
         "01-May-22",
         "May-22",
         "W 19",
         "weekend"
        ],
        [
         "9",
         "16560",
         "01-May-22",
         "RT1",
         "24",
         "34.0",
         "71.0",
         "Standard",
         "Atliq City",
         "Business",
         "Delhi",
         "01-May-22",
         "May-22",
         "W 19",
         "weekend"
        ]
       ],
       "shape": {
        "columns": 14,
        "rows": 10
       }
      },
      "text/html": [
       "<div>\n",
       "<style scoped>\n",
       "    .dataframe tbody tr th:only-of-type {\n",
       "        vertical-align: middle;\n",
       "    }\n",
       "\n",
       "    .dataframe tbody tr th {\n",
       "        vertical-align: top;\n",
       "    }\n",
       "\n",
       "    .dataframe thead th {\n",
       "        text-align: right;\n",
       "    }\n",
       "</style>\n",
       "<table border=\"1\" class=\"dataframe\">\n",
       "  <thead>\n",
       "    <tr style=\"text-align: right;\">\n",
       "      <th></th>\n",
       "      <th>property_id</th>\n",
       "      <th>check_in_date</th>\n",
       "      <th>room_category</th>\n",
       "      <th>successful_bookings</th>\n",
       "      <th>capacity</th>\n",
       "      <th>occupancy_rate</th>\n",
       "      <th>room_class</th>\n",
       "      <th>property_name</th>\n",
       "      <th>category</th>\n",
       "      <th>city</th>\n",
       "      <th>date</th>\n",
       "      <th>mmm yy</th>\n",
       "      <th>week no</th>\n",
       "      <th>day_type</th>\n",
       "    </tr>\n",
       "  </thead>\n",
       "  <tbody>\n",
       "    <tr>\n",
       "      <th>0</th>\n",
       "      <td>16559</td>\n",
       "      <td>01-May-22</td>\n",
       "      <td>RT1</td>\n",
       "      <td>25</td>\n",
       "      <td>30.0</td>\n",
       "      <td>83.0</td>\n",
       "      <td>Standard</td>\n",
       "      <td>Atliq Exotica</td>\n",
       "      <td>Luxury</td>\n",
       "      <td>Mumbai</td>\n",
       "      <td>01-May-22</td>\n",
       "      <td>May-22</td>\n",
       "      <td>W 19</td>\n",
       "      <td>weekend</td>\n",
       "    </tr>\n",
       "    <tr>\n",
       "      <th>1</th>\n",
       "      <td>19562</td>\n",
       "      <td>01-May-22</td>\n",
       "      <td>RT1</td>\n",
       "      <td>28</td>\n",
       "      <td>30.0</td>\n",
       "      <td>93.0</td>\n",
       "      <td>Standard</td>\n",
       "      <td>Atliq Bay</td>\n",
       "      <td>Luxury</td>\n",
       "      <td>Bangalore</td>\n",
       "      <td>01-May-22</td>\n",
       "      <td>May-22</td>\n",
       "      <td>W 19</td>\n",
       "      <td>weekend</td>\n",
       "    </tr>\n",
       "    <tr>\n",
       "      <th>2</th>\n",
       "      <td>19563</td>\n",
       "      <td>01-May-22</td>\n",
       "      <td>RT1</td>\n",
       "      <td>23</td>\n",
       "      <td>30.0</td>\n",
       "      <td>77.0</td>\n",
       "      <td>Standard</td>\n",
       "      <td>Atliq Palace</td>\n",
       "      <td>Business</td>\n",
       "      <td>Bangalore</td>\n",
       "      <td>01-May-22</td>\n",
       "      <td>May-22</td>\n",
       "      <td>W 19</td>\n",
       "      <td>weekend</td>\n",
       "    </tr>\n",
       "    <tr>\n",
       "      <th>3</th>\n",
       "      <td>17558</td>\n",
       "      <td>01-May-22</td>\n",
       "      <td>RT1</td>\n",
       "      <td>30</td>\n",
       "      <td>19.0</td>\n",
       "      <td>158.0</td>\n",
       "      <td>Standard</td>\n",
       "      <td>Atliq Grands</td>\n",
       "      <td>Luxury</td>\n",
       "      <td>Mumbai</td>\n",
       "      <td>01-May-22</td>\n",
       "      <td>May-22</td>\n",
       "      <td>W 19</td>\n",
       "      <td>weekend</td>\n",
       "    </tr>\n",
       "    <tr>\n",
       "      <th>4</th>\n",
       "      <td>16558</td>\n",
       "      <td>01-May-22</td>\n",
       "      <td>RT1</td>\n",
       "      <td>18</td>\n",
       "      <td>19.0</td>\n",
       "      <td>95.0</td>\n",
       "      <td>Standard</td>\n",
       "      <td>Atliq Grands</td>\n",
       "      <td>Luxury</td>\n",
       "      <td>Delhi</td>\n",
       "      <td>01-May-22</td>\n",
       "      <td>May-22</td>\n",
       "      <td>W 19</td>\n",
       "      <td>weekend</td>\n",
       "    </tr>\n",
       "    <tr>\n",
       "      <th>5</th>\n",
       "      <td>17560</td>\n",
       "      <td>01-May-22</td>\n",
       "      <td>RT1</td>\n",
       "      <td>28</td>\n",
       "      <td>40.0</td>\n",
       "      <td>70.0</td>\n",
       "      <td>Standard</td>\n",
       "      <td>Atliq City</td>\n",
       "      <td>Business</td>\n",
       "      <td>Mumbai</td>\n",
       "      <td>01-May-22</td>\n",
       "      <td>May-22</td>\n",
       "      <td>W 19</td>\n",
       "      <td>weekend</td>\n",
       "    </tr>\n",
       "    <tr>\n",
       "      <th>6</th>\n",
       "      <td>19558</td>\n",
       "      <td>01-May-22</td>\n",
       "      <td>RT1</td>\n",
       "      <td>25</td>\n",
       "      <td>40.0</td>\n",
       "      <td>62.0</td>\n",
       "      <td>Standard</td>\n",
       "      <td>Atliq Grands</td>\n",
       "      <td>Luxury</td>\n",
       "      <td>Bangalore</td>\n",
       "      <td>01-May-22</td>\n",
       "      <td>May-22</td>\n",
       "      <td>W 19</td>\n",
       "      <td>weekend</td>\n",
       "    </tr>\n",
       "    <tr>\n",
       "      <th>7</th>\n",
       "      <td>19560</td>\n",
       "      <td>01-May-22</td>\n",
       "      <td>RT1</td>\n",
       "      <td>23</td>\n",
       "      <td>26.0</td>\n",
       "      <td>88.0</td>\n",
       "      <td>Standard</td>\n",
       "      <td>Atliq City</td>\n",
       "      <td>Business</td>\n",
       "      <td>Bangalore</td>\n",
       "      <td>01-May-22</td>\n",
       "      <td>May-22</td>\n",
       "      <td>W 19</td>\n",
       "      <td>weekend</td>\n",
       "    </tr>\n",
       "    <tr>\n",
       "      <th>8</th>\n",
       "      <td>17561</td>\n",
       "      <td>01-May-22</td>\n",
       "      <td>RT1</td>\n",
       "      <td>22</td>\n",
       "      <td>30.0</td>\n",
       "      <td>73.0</td>\n",
       "      <td>Standard</td>\n",
       "      <td>Atliq Blu</td>\n",
       "      <td>Luxury</td>\n",
       "      <td>Mumbai</td>\n",
       "      <td>01-May-22</td>\n",
       "      <td>May-22</td>\n",
       "      <td>W 19</td>\n",
       "      <td>weekend</td>\n",
       "    </tr>\n",
       "    <tr>\n",
       "      <th>9</th>\n",
       "      <td>16560</td>\n",
       "      <td>01-May-22</td>\n",
       "      <td>RT1</td>\n",
       "      <td>24</td>\n",
       "      <td>34.0</td>\n",
       "      <td>71.0</td>\n",
       "      <td>Standard</td>\n",
       "      <td>Atliq City</td>\n",
       "      <td>Business</td>\n",
       "      <td>Delhi</td>\n",
       "      <td>01-May-22</td>\n",
       "      <td>May-22</td>\n",
       "      <td>W 19</td>\n",
       "      <td>weekend</td>\n",
       "    </tr>\n",
       "  </tbody>\n",
       "</table>\n",
       "</div>"
      ],
      "text/plain": [
       "   property_id check_in_date room_category  successful_bookings  capacity  \\\n",
       "0        16559     01-May-22           RT1                   25      30.0   \n",
       "1        19562     01-May-22           RT1                   28      30.0   \n",
       "2        19563     01-May-22           RT1                   23      30.0   \n",
       "3        17558     01-May-22           RT1                   30      19.0   \n",
       "4        16558     01-May-22           RT1                   18      19.0   \n",
       "5        17560     01-May-22           RT1                   28      40.0   \n",
       "6        19558     01-May-22           RT1                   25      40.0   \n",
       "7        19560     01-May-22           RT1                   23      26.0   \n",
       "8        17561     01-May-22           RT1                   22      30.0   \n",
       "9        16560     01-May-22           RT1                   24      34.0   \n",
       "\n",
       "   occupancy_rate room_class  property_name  category       city       date  \\\n",
       "0            83.0   Standard  Atliq Exotica    Luxury     Mumbai  01-May-22   \n",
       "1            93.0   Standard      Atliq Bay    Luxury  Bangalore  01-May-22   \n",
       "2            77.0   Standard   Atliq Palace  Business  Bangalore  01-May-22   \n",
       "3           158.0   Standard   Atliq Grands    Luxury     Mumbai  01-May-22   \n",
       "4            95.0   Standard   Atliq Grands    Luxury      Delhi  01-May-22   \n",
       "5            70.0   Standard     Atliq City  Business     Mumbai  01-May-22   \n",
       "6            62.0   Standard   Atliq Grands    Luxury  Bangalore  01-May-22   \n",
       "7            88.0   Standard     Atliq City  Business  Bangalore  01-May-22   \n",
       "8            73.0   Standard      Atliq Blu    Luxury     Mumbai  01-May-22   \n",
       "9            71.0   Standard     Atliq City  Business      Delhi  01-May-22   \n",
       "\n",
       "   mmm yy week no day_type  \n",
       "0  May-22    W 19  weekend  \n",
       "1  May-22    W 19  weekend  \n",
       "2  May-22    W 19  weekend  \n",
       "3  May-22    W 19  weekend  \n",
       "4  May-22    W 19  weekend  \n",
       "5  May-22    W 19  weekend  \n",
       "6  May-22    W 19  weekend  \n",
       "7  May-22    W 19  weekend  \n",
       "8  May-22    W 19  weekend  \n",
       "9  May-22    W 19  weekend  "
      ]
     },
     "execution_count": 48,
     "metadata": {},
     "output_type": "execute_result"
    }
   ],
   "source": [
    "df = pd.merge(df, df_date, left_on='check_in_date', right_on='date')\n",
    "df.head(10)"
   ]
  },
  {
   "cell_type": "code",
   "execution_count": 49,
   "metadata": {},
   "outputs": [
    {
     "data": {
      "text/plain": [
       "day_type\n",
       "weekeday    51.82\n",
       "weekend     74.23\n",
       "Name: occupancy_rate, dtype: float64"
      ]
     },
     "execution_count": 49,
     "metadata": {},
     "output_type": "execute_result"
    }
   ],
   "source": [
    "df.groupby('day_type')['occupancy_rate'].mean().round(2)"
   ]
  },
  {
   "cell_type": "markdown",
   "metadata": {},
   "source": [
    "**4: In the month of June, what is the occupancy for different cities**"
   ]
  },
  {
   "cell_type": "code",
   "execution_count": 50,
   "metadata": {},
   "outputs": [
    {
     "data": {
      "text/plain": [
       "city\n",
       "Bangalore    55.95\n",
       "Delhi        61.47\n",
       "Hyderabad    57.70\n",
       "Mumbai       57.79\n",
       "Name: occupancy_rate, dtype: float64"
      ]
     },
     "execution_count": 50,
     "metadata": {},
     "output_type": "execute_result"
    }
   ],
   "source": [
    "df_june_22 = df[df['mmm yy'] == 'Jun-22']\n",
    "df_june_22.groupby('city')['occupancy_rate'].mean().round(2)"
   ]
  },
  {
   "cell_type": "code",
   "execution_count": 51,
   "metadata": {},
   "outputs": [
    {
     "data": {
      "text/plain": [
       "<Axes: ylabel='city'>"
      ]
     },
     "execution_count": 51,
     "metadata": {},
     "output_type": "execute_result"
    },
    {
     "data": {
      "image/png": "[encoded data removed]",
      "text/plain": [
       "<Figure size 640x480 with 1 Axes>"
      ]
     },
     "metadata": {},
     "output_type": "display_data"
    }
   ],
   "source": [
    "df_june_22.groupby('city')['occupancy_rate'].mean().round(2).sort_values(ascending=False).plot(kind=\"barh\")"
   ]
  },
  {
   "cell_type": "code",
   "execution_count": 52,
   "metadata": {},
   "outputs": [
    {
     "data": {
      "application/vnd.microsoft.datawrangler.viewer.v0+json": {
       "columns": [
        {
         "name": "index",
         "rawType": "int64",
         "type": "integer"
        },
        {
         "name": "booking_id",
         "rawType": "float64",
         "type": "float"
        },
        {
         "name": "property_id",
         "rawType": "int64",
         "type": "integer"
        },
        {
         "name": "property_name",
         "rawType": "object",
         "type": "string"
        },
        {
         "name": "category",
         "rawType": "object",
         "type": "string"
        },
        {
         "name": "city",
         "rawType": "object",
         "type": "string"
        },
        {
         "name": "room_category",
         "rawType": "object",
         "type": "string"
        },
        {
         "name": "room_class",
         "rawType": "object",
         "type": "string"
        },
        {
         "name": "check_in_date",
         "rawType": "object",
         "type": "string"
        },
        {
         "name": "mmm yy",
         "rawType": "object",
         "type": "string"
        },
        {
         "name": "week no",
         "rawType": "object",
         "type": "string"
        },
        {
         "name": "day_type",
         "rawType": "object",
         "type": "string"
        },
        {
         "name": "successful_bookings",
         "rawType": "int64",
         "type": "integer"
        },
        {
         "name": "capacity",
         "rawType": "int64",
         "type": "integer"
        },
        {
         "name": "occ%",
         "rawType": "float64",
         "type": "float"
        }
       ],
       "conversionMethod": "pd.DataFrame",
       "ref": "e2afcf62-8df5-428f-b856-1957d9377d90",
       "rows": [
        [
         "0",
         null,
         "16559",
         "Atliq Exotica",
         "Luxury",
         "Mumbai",
         "RT1",
         "Standard",
         "01-Aug-22",
         "Aug-22",
         "W 32",
         "weekeday",
         "30",
         "30",
         "100.0"
        ],
        [
         "1",
         null,
         "19562",
         "Atliq Bay",
         "Luxury",
         "Bangalore",
         "RT1",
         "Standard",
         "01-Aug-22",
         "Aug-22",
         "W 32",
         "weekeday",
         "21",
         "30",
         "70.0"
        ],
        [
         "2",
         null,
         "19563",
         "Atliq Palace",
         "Business",
         "Bangalore",
         "RT1",
         "Standard",
         "01-Aug-22",
         "Aug-22",
         "W 32",
         "weekeday",
         "23",
         "30",
         "76.67"
        ],
        [
         "3",
         null,
         "19558",
         "Atliq Grands",
         "Luxury",
         "Bangalore",
         "RT1",
         "Standard",
         "01-Aug-22",
         "Aug-22",
         "W 32",
         "weekeday",
         "30",
         "40",
         "75.0"
        ],
        [
         "4",
         null,
         "19560",
         "Atliq City",
         "Business",
         "Bangalore",
         "RT1",
         "Standard",
         "01-Aug-22",
         "Aug-22",
         "W 32",
         "weekeday",
         "20",
         "26",
         "76.92"
        ],
        [
         "5",
         null,
         "17561",
         "Atliq Blu",
         "Luxury",
         "Mumbai",
         "RT1",
         "Standard",
         "01-Aug-22",
         "Aug-22",
         "W 32",
         "weekeday",
         "18",
         "26",
         "69.23"
        ],
        [
         "6",
         null,
         "17564",
         "Atliq Seasons",
         "Business",
         "Mumbai",
         "RT1",
         "Standard",
         "01-Aug-22",
         "Aug-22",
         "W 32",
         "weekeday",
         "10",
         "16",
         "62.5"
        ]
       ],
       "shape": {
        "columns": 14,
        "rows": 7
       }
      },
      "text/html": [
       "<div>\n",
       "<style scoped>\n",
       "    .dataframe tbody tr th:only-of-type {\n",
       "        vertical-align: middle;\n",
       "    }\n",
       "\n",
       "    .dataframe tbody tr th {\n",
       "        vertical-align: top;\n",
       "    }\n",
       "\n",
       "    .dataframe thead th {\n",
       "        text-align: right;\n",
       "    }\n",
       "</style>\n",
       "<table border=\"1\" class=\"dataframe\">\n",
       "  <thead>\n",
       "    <tr style=\"text-align: right;\">\n",
       "      <th></th>\n",
       "      <th>booking_id</th>\n",
       "      <th>property_id</th>\n",
       "      <th>property_name</th>\n",
       "      <th>category</th>\n",
       "      <th>city</th>\n",
       "      <th>room_category</th>\n",
       "      <th>room_class</th>\n",
       "      <th>check_in_date</th>\n",
       "      <th>mmm yy</th>\n",
       "      <th>week no</th>\n",
       "      <th>day_type</th>\n",
       "      <th>successful_bookings</th>\n",
       "      <th>capacity</th>\n",
       "      <th>occ%</th>\n",
       "    </tr>\n",
       "  </thead>\n",
       "  <tbody>\n",
       "    <tr>\n",
       "      <th>0</th>\n",
       "      <td>NaN</td>\n",
       "      <td>16559</td>\n",
       "      <td>Atliq Exotica</td>\n",
       "      <td>Luxury</td>\n",
       "      <td>Mumbai</td>\n",
       "      <td>RT1</td>\n",
       "      <td>Standard</td>\n",
       "      <td>01-Aug-22</td>\n",
       "      <td>Aug-22</td>\n",
       "      <td>W 32</td>\n",
       "      <td>weekeday</td>\n",
       "      <td>30</td>\n",
       "      <td>30</td>\n",
       "      <td>100.00</td>\n",
       "    </tr>\n",
       "    <tr>\n",
       "      <th>1</th>\n",
       "      <td>NaN</td>\n",
       "      <td>19562</td>\n",
       "      <td>Atliq Bay</td>\n",
       "      <td>Luxury</td>\n",
       "      <td>Bangalore</td>\n",
       "      <td>RT1</td>\n",
       "      <td>Standard</td>\n",
       "      <td>01-Aug-22</td>\n",
       "      <td>Aug-22</td>\n",
       "      <td>W 32</td>\n",
       "      <td>weekeday</td>\n",
       "      <td>21</td>\n",
       "      <td>30</td>\n",
       "      <td>70.00</td>\n",
       "    </tr>\n",
       "    <tr>\n",
       "      <th>2</th>\n",
       "      <td>NaN</td>\n",
       "      <td>19563</td>\n",
       "      <td>Atliq Palace</td>\n",
       "      <td>Business</td>\n",
       "      <td>Bangalore</td>\n",
       "      <td>RT1</td>\n",
       "      <td>Standard</td>\n",
       "      <td>01-Aug-22</td>\n",
       "      <td>Aug-22</td>\n",
       "      <td>W 32</td>\n",
       "      <td>weekeday</td>\n",
       "      <td>23</td>\n",
       "      <td>30</td>\n",
       "      <td>76.67</td>\n",
       "    </tr>\n",
       "    <tr>\n",
       "      <th>3</th>\n",
       "      <td>NaN</td>\n",
       "      <td>19558</td>\n",
       "      <td>Atliq Grands</td>\n",
       "      <td>Luxury</td>\n",
       "      <td>Bangalore</td>\n",
       "      <td>RT1</td>\n",
       "      <td>Standard</td>\n",
       "      <td>01-Aug-22</td>\n",
       "      <td>Aug-22</td>\n",
       "      <td>W 32</td>\n",
       "      <td>weekeday</td>\n",
       "      <td>30</td>\n",
       "      <td>40</td>\n",
       "      <td>75.00</td>\n",
       "    </tr>\n",
       "    <tr>\n",
       "      <th>4</th>\n",
       "      <td>NaN</td>\n",
       "      <td>19560</td>\n",
       "      <td>Atliq City</td>\n",
       "      <td>Business</td>\n",
       "      <td>Bangalore</td>\n",
       "      <td>RT1</td>\n",
       "      <td>Standard</td>\n",
       "      <td>01-Aug-22</td>\n",
       "      <td>Aug-22</td>\n",
       "      <td>W 32</td>\n",
       "      <td>weekeday</td>\n",
       "      <td>20</td>\n",
       "      <td>26</td>\n",
       "      <td>76.92</td>\n",
       "    </tr>\n",
       "    <tr>\n",
       "      <th>5</th>\n",
       "      <td>NaN</td>\n",
       "      <td>17561</td>\n",
       "      <td>Atliq Blu</td>\n",
       "      <td>Luxury</td>\n",
       "      <td>Mumbai</td>\n",
       "      <td>RT1</td>\n",
       "      <td>Standard</td>\n",
       "      <td>01-Aug-22</td>\n",
       "      <td>Aug-22</td>\n",
       "      <td>W 32</td>\n",
       "      <td>weekeday</td>\n",
       "      <td>18</td>\n",
       "      <td>26</td>\n",
       "      <td>69.23</td>\n",
       "    </tr>\n",
       "    <tr>\n",
       "      <th>6</th>\n",
       "      <td>NaN</td>\n",
       "      <td>17564</td>\n",
       "      <td>Atliq Seasons</td>\n",
       "      <td>Business</td>\n",
       "      <td>Mumbai</td>\n",
       "      <td>RT1</td>\n",
       "      <td>Standard</td>\n",
       "      <td>01-Aug-22</td>\n",
       "      <td>Aug-22</td>\n",
       "      <td>W 32</td>\n",
       "      <td>weekeday</td>\n",
       "      <td>10</td>\n",
       "      <td>16</td>\n",
       "      <td>62.50</td>\n",
       "    </tr>\n",
       "  </tbody>\n",
       "</table>\n",
       "</div>"
      ],
      "text/plain": [
       "   booking_id  property_id  property_name  category       city room_category  \\\n",
       "0         NaN        16559  Atliq Exotica    Luxury     Mumbai           RT1   \n",
       "1         NaN        19562      Atliq Bay    Luxury  Bangalore           RT1   \n",
       "2         NaN        19563   Atliq Palace  Business  Bangalore           RT1   \n",
       "3         NaN        19558   Atliq Grands    Luxury  Bangalore           RT1   \n",
       "4         NaN        19560     Atliq City  Business  Bangalore           RT1   \n",
       "5         NaN        17561      Atliq Blu    Luxury     Mumbai           RT1   \n",
       "6         NaN        17564  Atliq Seasons  Business     Mumbai           RT1   \n",
       "\n",
       "  room_class check_in_date  mmm yy week no  day_type  successful_bookings  \\\n",
       "0   Standard     01-Aug-22  Aug-22    W 32  weekeday                   30   \n",
       "1   Standard     01-Aug-22  Aug-22    W 32  weekeday                   21   \n",
       "2   Standard     01-Aug-22  Aug-22    W 32  weekeday                   23   \n",
       "3   Standard     01-Aug-22  Aug-22    W 32  weekeday                   30   \n",
       "4   Standard     01-Aug-22  Aug-22    W 32  weekeday                   20   \n",
       "5   Standard     01-Aug-22  Aug-22    W 32  weekeday                   18   \n",
       "6   Standard     01-Aug-22  Aug-22    W 32  weekeday                   10   \n",
       "\n",
       "   capacity    occ%  \n",
       "0        30  100.00  \n",
       "1        30   70.00  \n",
       "2        30   76.67  \n",
       "3        40   75.00  \n",
       "4        26   76.92  \n",
       "5        26   69.23  \n",
       "6        16   62.50  "
      ]
     },
     "execution_count": 52,
     "metadata": {},
     "output_type": "execute_result"
    }
   ],
   "source": [
    "df_august = pd.read_csv('./datasets/new_data_august.csv')\n",
    "df_august.head(10)"
   ]
  },
  {
   "cell_type": "code",
   "execution_count": 53,
   "metadata": {},
   "outputs": [
    {
     "data": {
      "application/vnd.microsoft.datawrangler.viewer.v0+json": {
       "columns": [
        {
         "name": "index",
         "rawType": "int64",
         "type": "integer"
        },
        {
         "name": "property_id",
         "rawType": "int64",
         "type": "integer"
        },
        {
         "name": "property_name",
         "rawType": "object",
         "type": "string"
        },
        {
         "name": "category",
         "rawType": "object",
         "type": "string"
        },
        {
         "name": "city",
         "rawType": "object",
         "type": "string"
        },
        {
         "name": "room_category",
         "rawType": "object",
         "type": "string"
        },
        {
         "name": "room_class",
         "rawType": "object",
         "type": "string"
        },
        {
         "name": "check_in_date",
         "rawType": "object",
         "type": "string"
        },
        {
         "name": "mmm yy",
         "rawType": "object",
         "type": "string"
        },
        {
         "name": "week no",
         "rawType": "object",
         "type": "string"
        },
        {
         "name": "day_type",
         "rawType": "object",
         "type": "string"
        },
        {
         "name": "successful_bookings",
         "rawType": "int64",
         "type": "integer"
        },
        {
         "name": "capacity",
         "rawType": "int64",
         "type": "integer"
        },
        {
         "name": "occ%",
         "rawType": "float64",
         "type": "float"
        }
       ],
       "conversionMethod": "pd.DataFrame",
       "ref": "1cf2b79f-0bc9-4505-b18d-6e042e87e279",
       "rows": [
        [
         "0",
         "16559",
         "Atliq Exotica",
         "Luxury",
         "Mumbai",
         "RT1",
         "Standard",
         "01-Aug-22",
         "Aug-22",
         "W 32",
         "weekeday",
         "30",
         "30",
         "100.0"
        ],
        [
         "1",
         "19562",
         "Atliq Bay",
         "Luxury",
         "Bangalore",
         "RT1",
         "Standard",
         "01-Aug-22",
         "Aug-22",
         "W 32",
         "weekeday",
         "21",
         "30",
         "70.0"
        ],
        [
         "2",
         "19563",
         "Atliq Palace",
         "Business",
         "Bangalore",
         "RT1",
         "Standard",
         "01-Aug-22",
         "Aug-22",
         "W 32",
         "weekeday",
         "23",
         "30",
         "76.67"
        ],
        [
         "3",
         "19558",
         "Atliq Grands",
         "Luxury",
         "Bangalore",
         "RT1",
         "Standard",
         "01-Aug-22",
         "Aug-22",
         "W 32",
         "weekeday",
         "30",
         "40",
         "75.0"
        ],
        [
         "4",
         "19560",
         "Atliq City",
         "Business",
         "Bangalore",
         "RT1",
         "Standard",
         "01-Aug-22",
         "Aug-22",
         "W 32",
         "weekeday",
         "20",
         "26",
         "76.92"
        ],
        [
         "5",
         "17561",
         "Atliq Blu",
         "Luxury",
         "Mumbai",
         "RT1",
         "Standard",
         "01-Aug-22",
         "Aug-22",
         "W 32",
         "weekeday",
         "18",
         "26",
         "69.23"
        ],
        [
         "6",
         "17564",
         "Atliq Seasons",
         "Business",
         "Mumbai",
         "RT1",
         "Standard",
         "01-Aug-22",
         "Aug-22",
         "W 32",
         "weekeday",
         "10",
         "16",
         "62.5"
        ]
       ],
       "shape": {
        "columns": 13,
        "rows": 7
       }
      },
      "text/html": [
       "<div>\n",
       "<style scoped>\n",
       "    .dataframe tbody tr th:only-of-type {\n",
       "        vertical-align: middle;\n",
       "    }\n",
       "\n",
       "    .dataframe tbody tr th {\n",
       "        vertical-align: top;\n",
       "    }\n",
       "\n",
       "    .dataframe thead th {\n",
       "        text-align: right;\n",
       "    }\n",
       "</style>\n",
       "<table border=\"1\" class=\"dataframe\">\n",
       "  <thead>\n",
       "    <tr style=\"text-align: right;\">\n",
       "      <th></th>\n",
       "      <th>property_id</th>\n",
       "      <th>property_name</th>\n",
       "      <th>category</th>\n",
       "      <th>city</th>\n",
       "      <th>room_category</th>\n",
       "      <th>room_class</th>\n",
       "      <th>check_in_date</th>\n",
       "      <th>mmm yy</th>\n",
       "      <th>week no</th>\n",
       "      <th>day_type</th>\n",
       "      <th>successful_bookings</th>\n",
       "      <th>capacity</th>\n",
       "      <th>occ%</th>\n",
       "    </tr>\n",
       "  </thead>\n",
       "  <tbody>\n",
       "    <tr>\n",
       "      <th>0</th>\n",
       "      <td>16559</td>\n",
       "      <td>Atliq Exotica</td>\n",
       "      <td>Luxury</td>\n",
       "      <td>Mumbai</td>\n",
       "      <td>RT1</td>\n",
       "      <td>Standard</td>\n",
       "      <td>01-Aug-22</td>\n",
       "      <td>Aug-22</td>\n",
       "      <td>W 32</td>\n",
       "      <td>weekeday</td>\n",
       "      <td>30</td>\n",
       "      <td>30</td>\n",
       "      <td>100.00</td>\n",
       "    </tr>\n",
       "    <tr>\n",
       "      <th>1</th>\n",
       "      <td>19562</td>\n",
       "      <td>Atliq Bay</td>\n",
       "      <td>Luxury</td>\n",
       "      <td>Bangalore</td>\n",
       "      <td>RT1</td>\n",
       "      <td>Standard</td>\n",
       "      <td>01-Aug-22</td>\n",
       "      <td>Aug-22</td>\n",
       "      <td>W 32</td>\n",
       "      <td>weekeday</td>\n",
       "      <td>21</td>\n",
       "      <td>30</td>\n",
       "      <td>70.00</td>\n",
       "    </tr>\n",
       "    <tr>\n",
       "      <th>2</th>\n",
       "      <td>19563</td>\n",
       "      <td>Atliq Palace</td>\n",
       "      <td>Business</td>\n",
       "      <td>Bangalore</td>\n",
       "      <td>RT1</td>\n",
       "      <td>Standard</td>\n",
       "      <td>01-Aug-22</td>\n",
       "      <td>Aug-22</td>\n",
       "      <td>W 32</td>\n",
       "      <td>weekeday</td>\n",
       "      <td>23</td>\n",
       "      <td>30</td>\n",
       "      <td>76.67</td>\n",
       "    </tr>\n",
       "    <tr>\n",
       "      <th>3</th>\n",
       "      <td>19558</td>\n",
       "      <td>Atliq Grands</td>\n",
       "      <td>Luxury</td>\n",
       "      <td>Bangalore</td>\n",
       "      <td>RT1</td>\n",
       "      <td>Standard</td>\n",
       "      <td>01-Aug-22</td>\n",
       "      <td>Aug-22</td>\n",
       "      <td>W 32</td>\n",
       "      <td>weekeday</td>\n",
       "      <td>30</td>\n",
       "      <td>40</td>\n",
       "      <td>75.00</td>\n",
       "    </tr>\n",
       "    <tr>\n",
       "      <th>4</th>\n",
       "      <td>19560</td>\n",
       "      <td>Atliq City</td>\n",
       "      <td>Business</td>\n",
       "      <td>Bangalore</td>\n",
       "      <td>RT1</td>\n",
       "      <td>Standard</td>\n",
       "      <td>01-Aug-22</td>\n",
       "      <td>Aug-22</td>\n",
       "      <td>W 32</td>\n",
       "      <td>weekeday</td>\n",
       "      <td>20</td>\n",
       "      <td>26</td>\n",
       "      <td>76.92</td>\n",
       "    </tr>\n",
       "    <tr>\n",
       "      <th>5</th>\n",
       "      <td>17561</td>\n",
       "      <td>Atliq Blu</td>\n",
       "      <td>Luxury</td>\n",
       "      <td>Mumbai</td>\n",
       "      <td>RT1</td>\n",
       "      <td>Standard</td>\n",
       "      <td>01-Aug-22</td>\n",
       "      <td>Aug-22</td>\n",
       "      <td>W 32</td>\n",
       "      <td>weekeday</td>\n",
       "      <td>18</td>\n",
       "      <td>26</td>\n",
       "      <td>69.23</td>\n",
       "    </tr>\n",
       "    <tr>\n",
       "      <th>6</th>\n",
       "      <td>17564</td>\n",
       "      <td>Atliq Seasons</td>\n",
       "      <td>Business</td>\n",
       "      <td>Mumbai</td>\n",
       "      <td>RT1</td>\n",
       "      <td>Standard</td>\n",
       "      <td>01-Aug-22</td>\n",
       "      <td>Aug-22</td>\n",
       "      <td>W 32</td>\n",
       "      <td>weekeday</td>\n",
       "      <td>10</td>\n",
       "      <td>16</td>\n",
       "      <td>62.50</td>\n",
       "    </tr>\n",
       "  </tbody>\n",
       "</table>\n",
       "</div>"
      ],
      "text/plain": [
       "   property_id  property_name  category       city room_category room_class  \\\n",
       "0        16559  Atliq Exotica    Luxury     Mumbai           RT1   Standard   \n",
       "1        19562      Atliq Bay    Luxury  Bangalore           RT1   Standard   \n",
       "2        19563   Atliq Palace  Business  Bangalore           RT1   Standard   \n",
       "3        19558   Atliq Grands    Luxury  Bangalore           RT1   Standard   \n",
       "4        19560     Atliq City  Business  Bangalore           RT1   Standard   \n",
       "5        17561      Atliq Blu    Luxury     Mumbai           RT1   Standard   \n",
       "6        17564  Atliq Seasons  Business     Mumbai           RT1   Standard   \n",
       "\n",
       "  check_in_date  mmm yy week no  day_type  successful_bookings  capacity  \\\n",
       "0     01-Aug-22  Aug-22    W 32  weekeday                   30        30   \n",
       "1     01-Aug-22  Aug-22    W 32  weekeday                   21        30   \n",
       "2     01-Aug-22  Aug-22    W 32  weekeday                   23        30   \n",
       "3     01-Aug-22  Aug-22    W 32  weekeday                   30        40   \n",
       "4     01-Aug-22  Aug-22    W 32  weekeday                   20        26   \n",
       "5     01-Aug-22  Aug-22    W 32  weekeday                   18        26   \n",
       "6     01-Aug-22  Aug-22    W 32  weekeday                   10        16   \n",
       "\n",
       "     occ%  \n",
       "0  100.00  \n",
       "1   70.00  \n",
       "2   76.67  \n",
       "3   75.00  \n",
       "4   76.92  \n",
       "5   69.23  \n",
       "6   62.50  "
      ]
     },
     "execution_count": 53,
     "metadata": {},
     "output_type": "execute_result"
    }
   ],
   "source": [
    "df_august.drop(columns='booking_id', inplace=True)  \n",
    "df_august.head(10)"
   ]
  },
  {
   "cell_type": "code",
   "execution_count": 54,
   "metadata": {},
   "outputs": [
    {
     "data": {
      "text/plain": [
       "Index(['property_id', 'check_in_date', 'room_category', 'successful_bookings',\n",
       "       'capacity', 'occupancy_rate', 'room_class', 'property_name', 'category',\n",
       "       'city', 'date', 'mmm yy', 'week no', 'day_type'],\n",
       "      dtype='object')"
      ]
     },
     "execution_count": 54,
     "metadata": {},
     "output_type": "execute_result"
    }
   ],
   "source": [
    "df.columns"
   ]
  },
  {
   "cell_type": "code",
   "execution_count": 55,
   "metadata": {},
   "outputs": [
    {
     "data": {
      "text/plain": [
       "Index(['property_id', 'property_name', 'category', 'city', 'room_category',\n",
       "       'room_class', 'check_in_date', 'mmm yy', 'week no', 'day_type',\n",
       "       'successful_bookings', 'capacity', 'occ%'],\n",
       "      dtype='object')"
      ]
     },
     "execution_count": 55,
     "metadata": {},
     "output_type": "execute_result"
    }
   ],
   "source": [
    "df_august.columns"
   ]
  },
  {
   "cell_type": "code",
   "execution_count": 56,
   "metadata": {},
   "outputs": [
    {
     "data": {
      "application/vnd.microsoft.datawrangler.viewer.v0+json": {
       "columns": [
        {
         "name": "index",
         "rawType": "int64",
         "type": "integer"
        },
        {
         "name": "property_id",
         "rawType": "int64",
         "type": "integer"
        },
        {
         "name": "property_name",
         "rawType": "object",
         "type": "string"
        },
        {
         "name": "category",
         "rawType": "object",
         "type": "string"
        },
        {
         "name": "city",
         "rawType": "object",
         "type": "string"
        },
        {
         "name": "room_category",
         "rawType": "object",
         "type": "string"
        },
        {
         "name": "room_class",
         "rawType": "object",
         "type": "string"
        },
        {
         "name": "check_in_date",
         "rawType": "object",
         "type": "string"
        },
        {
         "name": "mmm yy",
         "rawType": "object",
         "type": "string"
        },
        {
         "name": "week no",
         "rawType": "object",
         "type": "string"
        },
        {
         "name": "day_type",
         "rawType": "object",
         "type": "string"
        },
        {
         "name": "successful_bookings",
         "rawType": "int64",
         "type": "integer"
        },
        {
         "name": "capacity",
         "rawType": "int64",
         "type": "integer"
        },
        {
         "name": "occupancy_rate",
         "rawType": "float64",
         "type": "float"
        }
       ],
       "conversionMethod": "pd.DataFrame",
       "ref": "75f78049-7f5f-4b55-bf48-fe9db7363ddd",
       "rows": [
        [
         "0",
         "16559",
         "Atliq Exotica",
         "Luxury",
         "Mumbai",
         "RT1",
         "Standard",
         "01-Aug-22",
         "Aug-22",
         "W 32",
         "weekeday",
         "30",
         "30",
         "100.0"
        ],
        [
         "1",
         "19562",
         "Atliq Bay",
         "Luxury",
         "Bangalore",
         "RT1",
         "Standard",
         "01-Aug-22",
         "Aug-22",
         "W 32",
         "weekeday",
         "21",
         "30",
         "70.0"
        ],
        [
         "2",
         "19563",
         "Atliq Palace",
         "Business",
         "Bangalore",
         "RT1",
         "Standard",
         "01-Aug-22",
         "Aug-22",
         "W 32",
         "weekeday",
         "23",
         "30",
         "76.67"
        ],
        [
         "3",
         "19558",
         "Atliq Grands",
         "Luxury",
         "Bangalore",
         "RT1",
         "Standard",
         "01-Aug-22",
         "Aug-22",
         "W 32",
         "weekeday",
         "30",
         "40",
         "75.0"
        ],
        [
         "4",
         "19560",
         "Atliq City",
         "Business",
         "Bangalore",
         "RT1",
         "Standard",
         "01-Aug-22",
         "Aug-22",
         "W 32",
         "weekeday",
         "20",
         "26",
         "76.92"
        ],
        [
         "5",
         "17561",
         "Atliq Blu",
         "Luxury",
         "Mumbai",
         "RT1",
         "Standard",
         "01-Aug-22",
         "Aug-22",
         "W 32",
         "weekeday",
         "18",
         "26",
         "69.23"
        ],
        [
         "6",
         "17564",
         "Atliq Seasons",
         "Business",
         "Mumbai",
         "RT1",
         "Standard",
         "01-Aug-22",
         "Aug-22",
         "W 32",
         "weekeday",
         "10",
         "16",
         "62.5"
        ]
       ],
       "shape": {
        "columns": 13,
        "rows": 7
       }
      },
      "text/html": [
       "<div>\n",
       "<style scoped>\n",
       "    .dataframe tbody tr th:only-of-type {\n",
       "        vertical-align: middle;\n",
       "    }\n",
       "\n",
       "    .dataframe tbody tr th {\n",
       "        vertical-align: top;\n",
       "    }\n",
       "\n",
       "    .dataframe thead th {\n",
       "        text-align: right;\n",
       "    }\n",
       "</style>\n",
       "<table border=\"1\" class=\"dataframe\">\n",
       "  <thead>\n",
       "    <tr style=\"text-align: right;\">\n",
       "      <th></th>\n",
       "      <th>property_id</th>\n",
       "      <th>property_name</th>\n",
       "      <th>category</th>\n",
       "      <th>city</th>\n",
       "      <th>room_category</th>\n",
       "      <th>room_class</th>\n",
       "      <th>check_in_date</th>\n",
       "      <th>mmm yy</th>\n",
       "      <th>week no</th>\n",
       "      <th>day_type</th>\n",
       "      <th>successful_bookings</th>\n",
       "      <th>capacity</th>\n",
       "      <th>occupancy_rate</th>\n",
       "    </tr>\n",
       "  </thead>\n",
       "  <tbody>\n",
       "    <tr>\n",
       "      <th>0</th>\n",
       "      <td>16559</td>\n",
       "      <td>Atliq Exotica</td>\n",
       "      <td>Luxury</td>\n",
       "      <td>Mumbai</td>\n",
       "      <td>RT1</td>\n",
       "      <td>Standard</td>\n",
       "      <td>01-Aug-22</td>\n",
       "      <td>Aug-22</td>\n",
       "      <td>W 32</td>\n",
       "      <td>weekeday</td>\n",
       "      <td>30</td>\n",
       "      <td>30</td>\n",
       "      <td>100.00</td>\n",
       "    </tr>\n",
       "    <tr>\n",
       "      <th>1</th>\n",
       "      <td>19562</td>\n",
       "      <td>Atliq Bay</td>\n",
       "      <td>Luxury</td>\n",
       "      <td>Bangalore</td>\n",
       "      <td>RT1</td>\n",
       "      <td>Standard</td>\n",
       "      <td>01-Aug-22</td>\n",
       "      <td>Aug-22</td>\n",
       "      <td>W 32</td>\n",
       "      <td>weekeday</td>\n",
       "      <td>21</td>\n",
       "      <td>30</td>\n",
       "      <td>70.00</td>\n",
       "    </tr>\n",
       "    <tr>\n",
       "      <th>2</th>\n",
       "      <td>19563</td>\n",
       "      <td>Atliq Palace</td>\n",
       "      <td>Business</td>\n",
       "      <td>Bangalore</td>\n",
       "      <td>RT1</td>\n",
       "      <td>Standard</td>\n",
       "      <td>01-Aug-22</td>\n",
       "      <td>Aug-22</td>\n",
       "      <td>W 32</td>\n",
       "      <td>weekeday</td>\n",
       "      <td>23</td>\n",
       "      <td>30</td>\n",
       "      <td>76.67</td>\n",
       "    </tr>\n",
       "    <tr>\n",
       "      <th>3</th>\n",
       "      <td>19558</td>\n",
       "      <td>Atliq Grands</td>\n",
       "      <td>Luxury</td>\n",
       "      <td>Bangalore</td>\n",
       "      <td>RT1</td>\n",
       "      <td>Standard</td>\n",
       "      <td>01-Aug-22</td>\n",
       "      <td>Aug-22</td>\n",
       "      <td>W 32</td>\n",
       "      <td>weekeday</td>\n",
       "      <td>30</td>\n",
       "      <td>40</td>\n",
       "      <td>75.00</td>\n",
       "    </tr>\n",
       "    <tr>\n",
       "      <th>4</th>\n",
       "      <td>19560</td>\n",
       "      <td>Atliq City</td>\n",
       "      <td>Business</td>\n",
       "      <td>Bangalore</td>\n",
       "      <td>RT1</td>\n",
       "      <td>Standard</td>\n",
       "      <td>01-Aug-22</td>\n",
       "      <td>Aug-22</td>\n",
       "      <td>W 32</td>\n",
       "      <td>weekeday</td>\n",
       "      <td>20</td>\n",
       "      <td>26</td>\n",
       "      <td>76.92</td>\n",
       "    </tr>\n",
       "    <tr>\n",
       "      <th>5</th>\n",
       "      <td>17561</td>\n",
       "      <td>Atliq Blu</td>\n",
       "      <td>Luxury</td>\n",
       "      <td>Mumbai</td>\n",
       "      <td>RT1</td>\n",
       "      <td>Standard</td>\n",
       "      <td>01-Aug-22</td>\n",
       "      <td>Aug-22</td>\n",
       "      <td>W 32</td>\n",
       "      <td>weekeday</td>\n",
       "      <td>18</td>\n",
       "      <td>26</td>\n",
       "      <td>69.23</td>\n",
       "    </tr>\n",
       "    <tr>\n",
       "      <th>6</th>\n",
       "      <td>17564</td>\n",
       "      <td>Atliq Seasons</td>\n",
       "      <td>Business</td>\n",
       "      <td>Mumbai</td>\n",
       "      <td>RT1</td>\n",
       "      <td>Standard</td>\n",
       "      <td>01-Aug-22</td>\n",
       "      <td>Aug-22</td>\n",
       "      <td>W 32</td>\n",
       "      <td>weekeday</td>\n",
       "      <td>10</td>\n",
       "      <td>16</td>\n",
       "      <td>62.50</td>\n",
       "    </tr>\n",
       "  </tbody>\n",
       "</table>\n",
       "</div>"
      ],
      "text/plain": [
       "   property_id  property_name  category       city room_category room_class  \\\n",
       "0        16559  Atliq Exotica    Luxury     Mumbai           RT1   Standard   \n",
       "1        19562      Atliq Bay    Luxury  Bangalore           RT1   Standard   \n",
       "2        19563   Atliq Palace  Business  Bangalore           RT1   Standard   \n",
       "3        19558   Atliq Grands    Luxury  Bangalore           RT1   Standard   \n",
       "4        19560     Atliq City  Business  Bangalore           RT1   Standard   \n",
       "5        17561      Atliq Blu    Luxury     Mumbai           RT1   Standard   \n",
       "6        17564  Atliq Seasons  Business     Mumbai           RT1   Standard   \n",
       "\n",
       "  check_in_date  mmm yy week no  day_type  successful_bookings  capacity  \\\n",
       "0     01-Aug-22  Aug-22    W 32  weekeday                   30        30   \n",
       "1     01-Aug-22  Aug-22    W 32  weekeday                   21        30   \n",
       "2     01-Aug-22  Aug-22    W 32  weekeday                   23        30   \n",
       "3     01-Aug-22  Aug-22    W 32  weekeday                   30        40   \n",
       "4     01-Aug-22  Aug-22    W 32  weekeday                   20        26   \n",
       "5     01-Aug-22  Aug-22    W 32  weekeday                   18        26   \n",
       "6     01-Aug-22  Aug-22    W 32  weekeday                   10        16   \n",
       "\n",
       "   occupancy_rate  \n",
       "0          100.00  \n",
       "1           70.00  \n",
       "2           76.67  \n",
       "3           75.00  \n",
       "4           76.92  \n",
       "5           69.23  \n",
       "6           62.50  "
      ]
     },
     "execution_count": 56,
     "metadata": {},
     "output_type": "execute_result"
    }
   ],
   "source": [
    "df_august.rename(columns={'occ%': 'occupancy_rate'}, inplace=True)\n",
    "df_august.head(10)"
   ]
  },
  {
   "cell_type": "code",
   "execution_count": 57,
   "metadata": {},
   "outputs": [],
   "source": [
    "latest_df = pd.concat([df, df_august], ignore_index=True, axis=0)"
   ]
  },
  {
   "cell_type": "code",
   "execution_count": 58,
   "metadata": {},
   "outputs": [
    {
     "data": {
      "application/vnd.microsoft.datawrangler.viewer.v0+json": {
       "columns": [
        {
         "name": "index",
         "rawType": "int64",
         "type": "integer"
        },
        {
         "name": "property_id",
         "rawType": "int64",
         "type": "integer"
        },
        {
         "name": "check_in_date",
         "rawType": "object",
         "type": "string"
        },
        {
         "name": "room_category",
         "rawType": "object",
         "type": "string"
        },
        {
         "name": "successful_bookings",
         "rawType": "int64",
         "type": "integer"
        },
        {
         "name": "capacity",
         "rawType": "float64",
         "type": "float"
        },
        {
         "name": "occupancy_rate",
         "rawType": "float64",
         "type": "float"
        },
        {
         "name": "room_class",
         "rawType": "object",
         "type": "string"
        },
        {
         "name": "property_name",
         "rawType": "object",
         "type": "string"
        },
        {
         "name": "category",
         "rawType": "object",
         "type": "string"
        },
        {
         "name": "city",
         "rawType": "object",
         "type": "string"
        },
        {
         "name": "date",
         "rawType": "object",
         "type": "unknown"
        },
        {
         "name": "mmm yy",
         "rawType": "object",
         "type": "string"
        },
        {
         "name": "week no",
         "rawType": "object",
         "type": "string"
        },
        {
         "name": "day_type",
         "rawType": "object",
         "type": "string"
        }
       ],
       "conversionMethod": "pd.DataFrame",
       "ref": "0401e5e0-5139-4732-a509-6a54353c582a",
       "rows": [
        [
         "9187",
         "19560",
         "31-Jul-22",
         "RT4",
         "13",
         "16.0",
         "81.0",
         "Presidential",
         "Atliq City",
         "Business",
         "Bangalore",
         "31-Jul-22",
         "Jul-22",
         "W 32",
         "weekend"
        ],
        [
         "9188",
         "18559",
         "31-Jul-22",
         "RT4",
         "9",
         "19.0",
         "47.0",
         "Presidential",
         "Atliq Exotica",
         "Luxury",
         "Hyderabad",
         "31-Jul-22",
         "Jul-22",
         "W 32",
         "weekend"
        ],
        [
         "9189",
         "17563",
         "31-Jul-22",
         "RT4",
         "13",
         "19.0",
         "68.0",
         "Presidential",
         "Atliq Palace",
         "Business",
         "Mumbai",
         "31-Jul-22",
         "Jul-22",
         "W 32",
         "weekend"
        ],
        [
         "9190",
         "19562",
         "31-Jul-22",
         "RT4",
         "13",
         "14.0",
         "93.0",
         "Presidential",
         "Atliq Bay",
         "Luxury",
         "Bangalore",
         "31-Jul-22",
         "Jul-22",
         "W 32",
         "weekend"
        ],
        [
         "9191",
         "17559",
         "31-Jul-22",
         "RT4",
         "10",
         "14.0",
         "71.0",
         "Presidential",
         "Atliq Exotica",
         "Luxury",
         "Mumbai",
         "31-Jul-22",
         "Jul-22",
         "W 32",
         "weekend"
        ],
        [
         "9192",
         "18558",
         "31-Jul-22",
         "RT4",
         "11",
         "20.0",
         "55.0",
         "Presidential",
         "Atliq Grands",
         "Luxury",
         "Hyderabad",
         "31-Jul-22",
         "Jul-22",
         "W 32",
         "weekend"
        ],
        [
         "9193",
         "18562",
         "31-Jul-22",
         "RT4",
         "16",
         "20.0",
         "80.0",
         "Presidential",
         "Atliq Bay",
         "Luxury",
         "Hyderabad",
         "31-Jul-22",
         "Jul-22",
         "W 32",
         "weekend"
        ],
        [
         "9194",
         "18563",
         "31-Jul-22",
         "RT4",
         "20",
         "18.0",
         "111.0",
         "Presidential",
         "Atliq Palace",
         "Business",
         "Hyderabad",
         "31-Jul-22",
         "Jul-22",
         "W 32",
         "weekend"
        ],
        [
         "9195",
         "16563",
         "31-Jul-22",
         "RT4",
         "13",
         "18.0",
         "72.0",
         "Presidential",
         "Atliq Palace",
         "Business",
         "Delhi",
         "31-Jul-22",
         "Jul-22",
         "W 32",
         "weekend"
        ],
        [
         "9196",
         "16559",
         "31-Jul-22",
         "RT4",
         "13",
         "18.0",
         "72.0",
         "Presidential",
         "Atliq Exotica",
         "Luxury",
         "Mumbai",
         "31-Jul-22",
         "Jul-22",
         "W 32",
         "weekend"
        ],
        [
         "9197",
         "17558",
         "31-Jul-22",
         "RT4",
         "3",
         "6.0",
         "50.0",
         "Presidential",
         "Atliq Grands",
         "Luxury",
         "Mumbai",
         "31-Jul-22",
         "Jul-22",
         "W 32",
         "weekend"
        ],
        [
         "9198",
         "19563",
         "31-Jul-22",
         "RT4",
         "3",
         "6.0",
         "50.0",
         "Presidential",
         "Atliq Palace",
         "Business",
         "Bangalore",
         "31-Jul-22",
         "Jul-22",
         "W 32",
         "weekend"
        ],
        [
         "9199",
         "17561",
         "31-Jul-22",
         "RT4",
         "3",
         "4.0",
         "75.0",
         "Presidential",
         "Atliq Blu",
         "Luxury",
         "Mumbai",
         "31-Jul-22",
         "Jul-22",
         "W 32",
         "weekend"
        ],
        [
         "9200",
         "16559",
         "01-Aug-22",
         "RT1",
         "30",
         "30.0",
         "100.0",
         "Standard",
         "Atliq Exotica",
         "Luxury",
         "Mumbai",
         null,
         "Aug-22",
         "W 32",
         "weekeday"
        ],
        [
         "9201",
         "19562",
         "01-Aug-22",
         "RT1",
         "21",
         "30.0",
         "70.0",
         "Standard",
         "Atliq Bay",
         "Luxury",
         "Bangalore",
         null,
         "Aug-22",
         "W 32",
         "weekeday"
        ],
        [
         "9202",
         "19563",
         "01-Aug-22",
         "RT1",
         "23",
         "30.0",
         "76.67",
         "Standard",
         "Atliq Palace",
         "Business",
         "Bangalore",
         null,
         "Aug-22",
         "W 32",
         "weekeday"
        ],
        [
         "9203",
         "19558",
         "01-Aug-22",
         "RT1",
         "30",
         "40.0",
         "75.0",
         "Standard",
         "Atliq Grands",
         "Luxury",
         "Bangalore",
         null,
         "Aug-22",
         "W 32",
         "weekeday"
        ],
        [
         "9204",
         "19560",
         "01-Aug-22",
         "RT1",
         "20",
         "26.0",
         "76.92",
         "Standard",
         "Atliq City",
         "Business",
         "Bangalore",
         null,
         "Aug-22",
         "W 32",
         "weekeday"
        ],
        [
         "9205",
         "17561",
         "01-Aug-22",
         "RT1",
         "18",
         "26.0",
         "69.23",
         "Standard",
         "Atliq Blu",
         "Luxury",
         "Mumbai",
         null,
         "Aug-22",
         "W 32",
         "weekeday"
        ],
        [
         "9206",
         "17564",
         "01-Aug-22",
         "RT1",
         "10",
         "16.0",
         "62.5",
         "Standard",
         "Atliq Seasons",
         "Business",
         "Mumbai",
         null,
         "Aug-22",
         "W 32",
         "weekeday"
        ]
       ],
       "shape": {
        "columns": 14,
        "rows": 20
       }
      },
      "text/html": [
       "<div>\n",
       "<style scoped>\n",
       "    .dataframe tbody tr th:only-of-type {\n",
       "        vertical-align: middle;\n",
       "    }\n",
       "\n",
       "    .dataframe tbody tr th {\n",
       "        vertical-align: top;\n",
       "    }\n",
       "\n",
       "    .dataframe thead th {\n",
       "        text-align: right;\n",
       "    }\n",
       "</style>\n",
       "<table border=\"1\" class=\"dataframe\">\n",
       "  <thead>\n",
       "    <tr style=\"text-align: right;\">\n",
       "      <th></th>\n",
       "      <th>property_id</th>\n",
       "      <th>check_in_date</th>\n",
       "      <th>room_category</th>\n",
       "      <th>successful_bookings</th>\n",
       "      <th>capacity</th>\n",
       "      <th>occupancy_rate</th>\n",
       "      <th>room_class</th>\n",
       "      <th>property_name</th>\n",
       "      <th>category</th>\n",
       "      <th>city</th>\n",
       "      <th>date</th>\n",
       "      <th>mmm yy</th>\n",
       "      <th>week no</th>\n",
       "      <th>day_type</th>\n",
       "    </tr>\n",
       "  </thead>\n",
       "  <tbody>\n",
       "    <tr>\n",
       "      <th>9187</th>\n",
       "      <td>19560</td>\n",
       "      <td>31-Jul-22</td>\n",
       "      <td>RT4</td>\n",
       "      <td>13</td>\n",
       "      <td>16.0</td>\n",
       "      <td>81.00</td>\n",
       "      <td>Presidential</td>\n",
       "      <td>Atliq City</td>\n",
       "      <td>Business</td>\n",
       "      <td>Bangalore</td>\n",
       "      <td>31-Jul-22</td>\n",
       "      <td>Jul-22</td>\n",
       "      <td>W 32</td>\n",
       "      <td>weekend</td>\n",
       "    </tr>\n",
       "    <tr>\n",
       "      <th>9188</th>\n",
       "      <td>18559</td>\n",
       "      <td>31-Jul-22</td>\n",
       "      <td>RT4</td>\n",
       "      <td>9</td>\n",
       "      <td>19.0</td>\n",
       "      <td>47.00</td>\n",
       "      <td>Presidential</td>\n",
       "      <td>Atliq Exotica</td>\n",
       "      <td>Luxury</td>\n",
       "      <td>Hyderabad</td>\n",
       "      <td>31-Jul-22</td>\n",
       "      <td>Jul-22</td>\n",
       "      <td>W 32</td>\n",
       "      <td>weekend</td>\n",
       "    </tr>\n",
       "    <tr>\n",
       "      <th>9189</th>\n",
       "      <td>17563</td>\n",
       "      <td>31-Jul-22</td>\n",
       "      <td>RT4</td>\n",
       "      <td>13</td>\n",
       "      <td>19.0</td>\n",
       "      <td>68.00</td>\n",
       "      <td>Presidential</td>\n",
       "      <td>Atliq Palace</td>\n",
       "      <td>Business</td>\n",
       "      <td>Mumbai</td>\n",
       "      <td>31-Jul-22</td>\n",
       "      <td>Jul-22</td>\n",
       "      <td>W 32</td>\n",
       "      <td>weekend</td>\n",
       "    </tr>\n",
       "    <tr>\n",
       "      <th>9190</th>\n",
       "      <td>19562</td>\n",
       "      <td>31-Jul-22</td>\n",
       "      <td>RT4</td>\n",
       "      <td>13</td>\n",
       "      <td>14.0</td>\n",
       "      <td>93.00</td>\n",
       "      <td>Presidential</td>\n",
       "      <td>Atliq Bay</td>\n",
       "      <td>Luxury</td>\n",
       "      <td>Bangalore</td>\n",
       "      <td>31-Jul-22</td>\n",
       "      <td>Jul-22</td>\n",
       "      <td>W 32</td>\n",
       "      <td>weekend</td>\n",
       "    </tr>\n",
       "    <tr>\n",
       "      <th>9191</th>\n",
       "      <td>17559</td>\n",
       "      <td>31-Jul-22</td>\n",
       "      <td>RT4</td>\n",
       "      <td>10</td>\n",
       "      <td>14.0</td>\n",
       "      <td>71.00</td>\n",
       "      <td>Presidential</td>\n",
       "      <td>Atliq Exotica</td>\n",
       "      <td>Luxury</td>\n",
       "      <td>Mumbai</td>\n",
       "      <td>31-Jul-22</td>\n",
       "      <td>Jul-22</td>\n",
       "      <td>W 32</td>\n",
       "      <td>weekend</td>\n",
       "    </tr>\n",
       "    <tr>\n",
       "      <th>9192</th>\n",
       "      <td>18558</td>\n",
       "      <td>31-Jul-22</td>\n",
       "      <td>RT4</td>\n",
       "      <td>11</td>\n",
       "      <td>20.0</td>\n",
       "      <td>55.00</td>\n",
       "      <td>Presidential</td>\n",
       "      <td>Atliq Grands</td>\n",
       "      <td>Luxury</td>\n",
       "      <td>Hyderabad</td>\n",
       "      <td>31-Jul-22</td>\n",
       "      <td>Jul-22</td>\n",
       "      <td>W 32</td>\n",
       "      <td>weekend</td>\n",
       "    </tr>\n",
       "    <tr>\n",
       "      <th>9193</th>\n",
       "      <td>18562</td>\n",
       "      <td>31-Jul-22</td>\n",
       "      <td>RT4</td>\n",
       "      <td>16</td>\n",
       "      <td>20.0</td>\n",
       "      <td>80.00</td>\n",
       "      <td>Presidential</td>\n",
       "      <td>Atliq Bay</td>\n",
       "      <td>Luxury</td>\n",
       "      <td>Hyderabad</td>\n",
       "      <td>31-Jul-22</td>\n",
       "      <td>Jul-22</td>\n",
       "      <td>W 32</td>\n",
       "      <td>weekend</td>\n",
       "    </tr>\n",
       "    <tr>\n",
       "      <th>9194</th>\n",
       "      <td>18563</td>\n",
       "      <td>31-Jul-22</td>\n",
       "      <td>RT4</td>\n",
       "      <td>20</td>\n",
       "      <td>18.0</td>\n",
       "      <td>111.00</td>\n",
       "      <td>Presidential</td>\n",
       "      <td>Atliq Palace</td>\n",
       "      <td>Business</td>\n",
       "      <td>Hyderabad</td>\n",
       "      <td>31-Jul-22</td>\n",
       "      <td>Jul-22</td>\n",
       "      <td>W 32</td>\n",
       "      <td>weekend</td>\n",
       "    </tr>\n",
       "    <tr>\n",
       "      <th>9195</th>\n",
       "      <td>16563</td>\n",
       "      <td>31-Jul-22</td>\n",
       "      <td>RT4</td>\n",
       "      <td>13</td>\n",
       "      <td>18.0</td>\n",
       "      <td>72.00</td>\n",
       "      <td>Presidential</td>\n",
       "      <td>Atliq Palace</td>\n",
       "      <td>Business</td>\n",
       "      <td>Delhi</td>\n",
       "      <td>31-Jul-22</td>\n",
       "      <td>Jul-22</td>\n",
       "      <td>W 32</td>\n",
       "      <td>weekend</td>\n",
       "    </tr>\n",
       "    <tr>\n",
       "      <th>9196</th>\n",
       "      <td>16559</td>\n",
       "      <td>31-Jul-22</td>\n",
       "      <td>RT4</td>\n",
       "      <td>13</td>\n",
       "      <td>18.0</td>\n",
       "      <td>72.00</td>\n",
       "      <td>Presidential</td>\n",
       "      <td>Atliq Exotica</td>\n",
       "      <td>Luxury</td>\n",
       "      <td>Mumbai</td>\n",
       "      <td>31-Jul-22</td>\n",
       "      <td>Jul-22</td>\n",
       "      <td>W 32</td>\n",
       "      <td>weekend</td>\n",
       "    </tr>\n",
       "    <tr>\n",
       "      <th>9197</th>\n",
       "      <td>17558</td>\n",
       "      <td>31-Jul-22</td>\n",
       "      <td>RT4</td>\n",
       "      <td>3</td>\n",
       "      <td>6.0</td>\n",
       "      <td>50.00</td>\n",
       "      <td>Presidential</td>\n",
       "      <td>Atliq Grands</td>\n",
       "      <td>Luxury</td>\n",
       "      <td>Mumbai</td>\n",
       "      <td>31-Jul-22</td>\n",
       "      <td>Jul-22</td>\n",
       "      <td>W 32</td>\n",
       "      <td>weekend</td>\n",
       "    </tr>\n",
       "    <tr>\n",
       "      <th>9198</th>\n",
       "      <td>19563</td>\n",
       "      <td>31-Jul-22</td>\n",
       "      <td>RT4</td>\n",
       "      <td>3</td>\n",
       "      <td>6.0</td>\n",
       "      <td>50.00</td>\n",
       "      <td>Presidential</td>\n",
       "      <td>Atliq Palace</td>\n",
       "      <td>Business</td>\n",
       "      <td>Bangalore</td>\n",
       "      <td>31-Jul-22</td>\n",
       "      <td>Jul-22</td>\n",
       "      <td>W 32</td>\n",
       "      <td>weekend</td>\n",
       "    </tr>\n",
       "    <tr>\n",
       "      <th>9199</th>\n",
       "      <td>17561</td>\n",
       "      <td>31-Jul-22</td>\n",
       "      <td>RT4</td>\n",
       "      <td>3</td>\n",
       "      <td>4.0</td>\n",
       "      <td>75.00</td>\n",
       "      <td>Presidential</td>\n",
       "      <td>Atliq Blu</td>\n",
       "      <td>Luxury</td>\n",
       "      <td>Mumbai</td>\n",
       "      <td>31-Jul-22</td>\n",
       "      <td>Jul-22</td>\n",
       "      <td>W 32</td>\n",
       "      <td>weekend</td>\n",
       "    </tr>\n",
       "    <tr>\n",
       "      <th>9200</th>\n",
       "      <td>16559</td>\n",
       "      <td>01-Aug-22</td>\n",
       "      <td>RT1</td>\n",
       "      <td>30</td>\n",
       "      <td>30.0</td>\n",
       "      <td>100.00</td>\n",
       "      <td>Standard</td>\n",
       "      <td>Atliq Exotica</td>\n",
       "      <td>Luxury</td>\n",
       "      <td>Mumbai</td>\n",
       "      <td>NaN</td>\n",
       "      <td>Aug-22</td>\n",
       "      <td>W 32</td>\n",
       "      <td>weekeday</td>\n",
       "    </tr>\n",
       "    <tr>\n",
       "      <th>9201</th>\n",
       "      <td>19562</td>\n",
       "      <td>01-Aug-22</td>\n",
       "      <td>RT1</td>\n",
       "      <td>21</td>\n",
       "      <td>30.0</td>\n",
       "      <td>70.00</td>\n",
       "      <td>Standard</td>\n",
       "      <td>Atliq Bay</td>\n",
       "      <td>Luxury</td>\n",
       "      <td>Bangalore</td>\n",
       "      <td>NaN</td>\n",
       "      <td>Aug-22</td>\n",
       "      <td>W 32</td>\n",
       "      <td>weekeday</td>\n",
       "    </tr>\n",
       "    <tr>\n",
       "      <th>9202</th>\n",
       "      <td>19563</td>\n",
       "      <td>01-Aug-22</td>\n",
       "      <td>RT1</td>\n",
       "      <td>23</td>\n",
       "      <td>30.0</td>\n",
       "      <td>76.67</td>\n",
       "      <td>Standard</td>\n",
       "      <td>Atliq Palace</td>\n",
       "      <td>Business</td>\n",
       "      <td>Bangalore</td>\n",
       "      <td>NaN</td>\n",
       "      <td>Aug-22</td>\n",
       "      <td>W 32</td>\n",
       "      <td>weekeday</td>\n",
       "    </tr>\n",
       "    <tr>\n",
       "      <th>9203</th>\n",
       "      <td>19558</td>\n",
       "      <td>01-Aug-22</td>\n",
       "      <td>RT1</td>\n",
       "      <td>30</td>\n",
       "      <td>40.0</td>\n",
       "      <td>75.00</td>\n",
       "      <td>Standard</td>\n",
       "      <td>Atliq Grands</td>\n",
       "      <td>Luxury</td>\n",
       "      <td>Bangalore</td>\n",
       "      <td>NaN</td>\n",
       "      <td>Aug-22</td>\n",
       "      <td>W 32</td>\n",
       "      <td>weekeday</td>\n",
       "    </tr>\n",
       "    <tr>\n",
       "      <th>9204</th>\n",
       "      <td>19560</td>\n",
       "      <td>01-Aug-22</td>\n",
       "      <td>RT1</td>\n",
       "      <td>20</td>\n",
       "      <td>26.0</td>\n",
       "      <td>76.92</td>\n",
       "      <td>Standard</td>\n",
       "      <td>Atliq City</td>\n",
       "      <td>Business</td>\n",
       "      <td>Bangalore</td>\n",
       "      <td>NaN</td>\n",
       "      <td>Aug-22</td>\n",
       "      <td>W 32</td>\n",
       "      <td>weekeday</td>\n",
       "    </tr>\n",
       "    <tr>\n",
       "      <th>9205</th>\n",
       "      <td>17561</td>\n",
       "      <td>01-Aug-22</td>\n",
       "      <td>RT1</td>\n",
       "      <td>18</td>\n",
       "      <td>26.0</td>\n",
       "      <td>69.23</td>\n",
       "      <td>Standard</td>\n",
       "      <td>Atliq Blu</td>\n",
       "      <td>Luxury</td>\n",
       "      <td>Mumbai</td>\n",
       "      <td>NaN</td>\n",
       "      <td>Aug-22</td>\n",
       "      <td>W 32</td>\n",
       "      <td>weekeday</td>\n",
       "    </tr>\n",
       "    <tr>\n",
       "      <th>9206</th>\n",
       "      <td>17564</td>\n",
       "      <td>01-Aug-22</td>\n",
       "      <td>RT1</td>\n",
       "      <td>10</td>\n",
       "      <td>16.0</td>\n",
       "      <td>62.50</td>\n",
       "      <td>Standard</td>\n",
       "      <td>Atliq Seasons</td>\n",
       "      <td>Business</td>\n",
       "      <td>Mumbai</td>\n",
       "      <td>NaN</td>\n",
       "      <td>Aug-22</td>\n",
       "      <td>W 32</td>\n",
       "      <td>weekeday</td>\n",
       "    </tr>\n",
       "  </tbody>\n",
       "</table>\n",
       "</div>"
      ],
      "text/plain": [
       "      property_id check_in_date room_category  successful_bookings  capacity  \\\n",
       "9187        19560     31-Jul-22           RT4                   13      16.0   \n",
       "9188        18559     31-Jul-22           RT4                    9      19.0   \n",
       "9189        17563     31-Jul-22           RT4                   13      19.0   \n",
       "9190        19562     31-Jul-22           RT4                   13      14.0   \n",
       "9191        17559     31-Jul-22           RT4                   10      14.0   \n",
       "9192        18558     31-Jul-22           RT4                   11      20.0   \n",
       "9193        18562     31-Jul-22           RT4                   16      20.0   \n",
       "9194        18563     31-Jul-22           RT4                   20      18.0   \n",
       "9195        16563     31-Jul-22           RT4                   13      18.0   \n",
       "9196        16559     31-Jul-22           RT4                   13      18.0   \n",
       "9197        17558     31-Jul-22           RT4                    3       6.0   \n",
       "9198        19563     31-Jul-22           RT4                    3       6.0   \n",
       "9199        17561     31-Jul-22           RT4                    3       4.0   \n",
       "9200        16559     01-Aug-22           RT1                   30      30.0   \n",
       "9201        19562     01-Aug-22           RT1                   21      30.0   \n",
       "9202        19563     01-Aug-22           RT1                   23      30.0   \n",
       "9203        19558     01-Aug-22           RT1                   30      40.0   \n",
       "9204        19560     01-Aug-22           RT1                   20      26.0   \n",
       "9205        17561     01-Aug-22           RT1                   18      26.0   \n",
       "9206        17564     01-Aug-22           RT1                   10      16.0   \n",
       "\n",
       "      occupancy_rate    room_class  property_name  category       city  \\\n",
       "9187           81.00  Presidential     Atliq City  Business  Bangalore   \n",
       "9188           47.00  Presidential  Atliq Exotica    Luxury  Hyderabad   \n",
       "9189           68.00  Presidential   Atliq Palace  Business     Mumbai   \n",
       "9190           93.00  Presidential      Atliq Bay    Luxury  Bangalore   \n",
       "9191           71.00  Presidential  Atliq Exotica    Luxury     Mumbai   \n",
       "9192           55.00  Presidential   Atliq Grands    Luxury  Hyderabad   \n",
       "9193           80.00  Presidential      Atliq Bay    Luxury  Hyderabad   \n",
       "9194          111.00  Presidential   Atliq Palace  Business  Hyderabad   \n",
       "9195           72.00  Presidential   Atliq Palace  Business      Delhi   \n",
       "9196           72.00  Presidential  Atliq Exotica    Luxury     Mumbai   \n",
       "9197           50.00  Presidential   Atliq Grands    Luxury     Mumbai   \n",
       "9198           50.00  Presidential   Atliq Palace  Business  Bangalore   \n",
       "9199           75.00  Presidential      Atliq Blu    Luxury     Mumbai   \n",
       "9200          100.00      Standard  Atliq Exotica    Luxury     Mumbai   \n",
       "9201           70.00      Standard      Atliq Bay    Luxury  Bangalore   \n",
       "9202           76.67      Standard   Atliq Palace  Business  Bangalore   \n",
       "9203           75.00      Standard   Atliq Grands    Luxury  Bangalore   \n",
       "9204           76.92      Standard     Atliq City  Business  Bangalore   \n",
       "9205           69.23      Standard      Atliq Blu    Luxury     Mumbai   \n",
       "9206           62.50      Standard  Atliq Seasons  Business     Mumbai   \n",
       "\n",
       "           date  mmm yy week no  day_type  \n",
       "9187  31-Jul-22  Jul-22    W 32   weekend  \n",
       "9188  31-Jul-22  Jul-22    W 32   weekend  \n",
       "9189  31-Jul-22  Jul-22    W 32   weekend  \n",
       "9190  31-Jul-22  Jul-22    W 32   weekend  \n",
       "9191  31-Jul-22  Jul-22    W 32   weekend  \n",
       "9192  31-Jul-22  Jul-22    W 32   weekend  \n",
       "9193  31-Jul-22  Jul-22    W 32   weekend  \n",
       "9194  31-Jul-22  Jul-22    W 32   weekend  \n",
       "9195  31-Jul-22  Jul-22    W 32   weekend  \n",
       "9196  31-Jul-22  Jul-22    W 32   weekend  \n",
       "9197  31-Jul-22  Jul-22    W 32   weekend  \n",
       "9198  31-Jul-22  Jul-22    W 32   weekend  \n",
       "9199  31-Jul-22  Jul-22    W 32   weekend  \n",
       "9200        NaN  Aug-22    W 32  weekeday  \n",
       "9201        NaN  Aug-22    W 32  weekeday  \n",
       "9202        NaN  Aug-22    W 32  weekeday  \n",
       "9203        NaN  Aug-22    W 32  weekeday  \n",
       "9204        NaN  Aug-22    W 32  weekeday  \n",
       "9205        NaN  Aug-22    W 32  weekeday  \n",
       "9206        NaN  Aug-22    W 32  weekeday  "
      ]
     },
     "execution_count": 58,
     "metadata": {},
     "output_type": "execute_result"
    }
   ],
   "source": [
    "latest_df.tail(20)"
   ]
  },
  {
   "cell_type": "code",
   "execution_count": 60,
   "metadata": {},
   "outputs": [
    {
     "data": {
      "application/vnd.microsoft.datawrangler.viewer.v0+json": {
       "columns": [
        {
         "name": "index",
         "rawType": "int64",
         "type": "integer"
        },
        {
         "name": "property_id",
         "rawType": "int64",
         "type": "integer"
        },
        {
         "name": "check_in_date",
         "rawType": "object",
         "type": "string"
        },
        {
         "name": "room_category",
         "rawType": "object",
         "type": "string"
        },
        {
         "name": "successful_bookings",
         "rawType": "int64",
         "type": "integer"
        },
        {
         "name": "capacity",
         "rawType": "float64",
         "type": "float"
        },
        {
         "name": "occupancy_rate",
         "rawType": "float64",
         "type": "float"
        },
        {
         "name": "room_class",
         "rawType": "object",
         "type": "string"
        },
        {
         "name": "property_name",
         "rawType": "object",
         "type": "string"
        },
        {
         "name": "category",
         "rawType": "object",
         "type": "string"
        },
        {
         "name": "city",
         "rawType": "object",
         "type": "string"
        },
        {
         "name": "date",
         "rawType": "object",
         "type": "string"
        },
        {
         "name": "mmm yy",
         "rawType": "object",
         "type": "string"
        },
        {
         "name": "week no",
         "rawType": "object",
         "type": "string"
        },
        {
         "name": "day_type",
         "rawType": "object",
         "type": "string"
        }
       ],
       "conversionMethod": "pd.DataFrame",
       "ref": "c243fda8-3423-430e-a8d9-479ea6c89b3a",
       "rows": [
        [
         "9197",
         "17558",
         "31-Jul-22",
         "RT4",
         "3",
         "6.0",
         "50.0",
         "Presidential",
         "Atliq Grands",
         "Luxury",
         "Mumbai",
         "31-Jul-22",
         "Jul-22",
         "W 32",
         "weekend"
        ],
        [
         "9198",
         "19563",
         "31-Jul-22",
         "RT4",
         "3",
         "6.0",
         "50.0",
         "Presidential",
         "Atliq Palace",
         "Business",
         "Bangalore",
         "31-Jul-22",
         "Jul-22",
         "W 32",
         "weekend"
        ],
        [
         "9199",
         "17561",
         "31-Jul-22",
         "RT4",
         "3",
         "4.0",
         "75.0",
         "Presidential",
         "Atliq Blu",
         "Luxury",
         "Mumbai",
         "31-Jul-22",
         "Jul-22",
         "W 32",
         "weekend"
        ],
        [
         "9200",
         "16559",
         "01-Aug-22",
         "RT1",
         "30",
         "30.0",
         "100.0",
         "Standard",
         "Atliq Exotica",
         "Luxury",
         "Mumbai",
         "01-Aug-22",
         "Aug-22",
         "W 32",
         "weekeday"
        ],
        [
         "9201",
         "19562",
         "01-Aug-22",
         "RT1",
         "21",
         "30.0",
         "70.0",
         "Standard",
         "Atliq Bay",
         "Luxury",
         "Bangalore",
         "01-Aug-22",
         "Aug-22",
         "W 32",
         "weekeday"
        ],
        [
         "9202",
         "19563",
         "01-Aug-22",
         "RT1",
         "23",
         "30.0",
         "76.67",
         "Standard",
         "Atliq Palace",
         "Business",
         "Bangalore",
         "01-Aug-22",
         "Aug-22",
         "W 32",
         "weekeday"
        ],
        [
         "9203",
         "19558",
         "01-Aug-22",
         "RT1",
         "30",
         "40.0",
         "75.0",
         "Standard",
         "Atliq Grands",
         "Luxury",
         "Bangalore",
         "01-Aug-22",
         "Aug-22",
         "W 32",
         "weekeday"
        ],
        [
         "9204",
         "19560",
         "01-Aug-22",
         "RT1",
         "20",
         "26.0",
         "76.92",
         "Standard",
         "Atliq City",
         "Business",
         "Bangalore",
         "01-Aug-22",
         "Aug-22",
         "W 32",
         "weekeday"
        ],
        [
         "9205",
         "17561",
         "01-Aug-22",
         "RT1",
         "18",
         "26.0",
         "69.23",
         "Standard",
         "Atliq Blu",
         "Luxury",
         "Mumbai",
         "01-Aug-22",
         "Aug-22",
         "W 32",
         "weekeday"
        ],
        [
         "9206",
         "17564",
         "01-Aug-22",
         "RT1",
         "10",
         "16.0",
         "62.5",
         "Standard",
         "Atliq Seasons",
         "Business",
         "Mumbai",
         "01-Aug-22",
         "Aug-22",
         "W 32",
         "weekeday"
        ]
       ],
       "shape": {
        "columns": 14,
        "rows": 10
       }
      },
      "text/html": [
       "<div>\n",
       "<style scoped>\n",
       "    .dataframe tbody tr th:only-of-type {\n",
       "        vertical-align: middle;\n",
       "    }\n",
       "\n",
       "    .dataframe tbody tr th {\n",
       "        vertical-align: top;\n",
       "    }\n",
       "\n",
       "    .dataframe thead th {\n",
       "        text-align: right;\n",
       "    }\n",
       "</style>\n",
       "<table border=\"1\" class=\"dataframe\">\n",
       "  <thead>\n",
       "    <tr style=\"text-align: right;\">\n",
       "      <th></th>\n",
       "      <th>property_id</th>\n",
       "      <th>check_in_date</th>\n",
       "      <th>room_category</th>\n",
       "      <th>successful_bookings</th>\n",
       "      <th>capacity</th>\n",
       "      <th>occupancy_rate</th>\n",
       "      <th>room_class</th>\n",
       "      <th>property_name</th>\n",
       "      <th>category</th>\n",
       "      <th>city</th>\n",
       "      <th>date</th>\n",
       "      <th>mmm yy</th>\n",
       "      <th>week no</th>\n",
       "      <th>day_type</th>\n",
       "    </tr>\n",
       "  </thead>\n",
       "  <tbody>\n",
       "    <tr>\n",
       "      <th>9197</th>\n",
       "      <td>17558</td>\n",
       "      <td>31-Jul-22</td>\n",
       "      <td>RT4</td>\n",
       "      <td>3</td>\n",
       "      <td>6.0</td>\n",
       "      <td>50.00</td>\n",
       "      <td>Presidential</td>\n",
       "      <td>Atliq Grands</td>\n",
       "      <td>Luxury</td>\n",
       "      <td>Mumbai</td>\n",
       "      <td>31-Jul-22</td>\n",
       "      <td>Jul-22</td>\n",
       "      <td>W 32</td>\n",
       "      <td>weekend</td>\n",
       "    </tr>\n",
       "    <tr>\n",
       "      <th>9198</th>\n",
       "      <td>19563</td>\n",
       "      <td>31-Jul-22</td>\n",
       "      <td>RT4</td>\n",
       "      <td>3</td>\n",
       "      <td>6.0</td>\n",
       "      <td>50.00</td>\n",
       "      <td>Presidential</td>\n",
       "      <td>Atliq Palace</td>\n",
       "      <td>Business</td>\n",
       "      <td>Bangalore</td>\n",
       "      <td>31-Jul-22</td>\n",
       "      <td>Jul-22</td>\n",
       "      <td>W 32</td>\n",
       "      <td>weekend</td>\n",
       "    </tr>\n",
       "    <tr>\n",
       "      <th>9199</th>\n",
       "      <td>17561</td>\n",
       "      <td>31-Jul-22</td>\n",
       "      <td>RT4</td>\n",
       "      <td>3</td>\n",
       "      <td>4.0</td>\n",
       "      <td>75.00</td>\n",
       "      <td>Presidential</td>\n",
       "      <td>Atliq Blu</td>\n",
       "      <td>Luxury</td>\n",
       "      <td>Mumbai</td>\n",
       "      <td>31-Jul-22</td>\n",
       "      <td>Jul-22</td>\n",
       "      <td>W 32</td>\n",
       "      <td>weekend</td>\n",
       "    </tr>\n",
       "    <tr>\n",
       "      <th>9200</th>\n",
       "      <td>16559</td>\n",
       "      <td>01-Aug-22</td>\n",
       "      <td>RT1</td>\n",
       "      <td>30</td>\n",
       "      <td>30.0</td>\n",
       "      <td>100.00</td>\n",
       "      <td>Standard</td>\n",
       "      <td>Atliq Exotica</td>\n",
       "      <td>Luxury</td>\n",
       "      <td>Mumbai</td>\n",
       "      <td>01-Aug-22</td>\n",
       "      <td>Aug-22</td>\n",
       "      <td>W 32</td>\n",
       "      <td>weekeday</td>\n",
       "    </tr>\n",
       "    <tr>\n",
       "      <th>9201</th>\n",
       "      <td>19562</td>\n",
       "      <td>01-Aug-22</td>\n",
       "      <td>RT1</td>\n",
       "      <td>21</td>\n",
       "      <td>30.0</td>\n",
       "      <td>70.00</td>\n",
       "      <td>Standard</td>\n",
       "      <td>Atliq Bay</td>\n",
       "      <td>Luxury</td>\n",
       "      <td>Bangalore</td>\n",
       "      <td>01-Aug-22</td>\n",
       "      <td>Aug-22</td>\n",
       "      <td>W 32</td>\n",
       "      <td>weekeday</td>\n",
       "    </tr>\n",
       "    <tr>\n",
       "      <th>9202</th>\n",
       "      <td>19563</td>\n",
       "      <td>01-Aug-22</td>\n",
       "      <td>RT1</td>\n",
       "      <td>23</td>\n",
       "      <td>30.0</td>\n",
       "      <td>76.67</td>\n",
       "      <td>Standard</td>\n",
       "      <td>Atliq Palace</td>\n",
       "      <td>Business</td>\n",
       "      <td>Bangalore</td>\n",
       "      <td>01-Aug-22</td>\n",
       "      <td>Aug-22</td>\n",
       "      <td>W 32</td>\n",
       "      <td>weekeday</td>\n",
       "    </tr>\n",
       "    <tr>\n",
       "      <th>9203</th>\n",
       "      <td>19558</td>\n",
       "      <td>01-Aug-22</td>\n",
       "      <td>RT1</td>\n",
       "      <td>30</td>\n",
       "      <td>40.0</td>\n",
       "      <td>75.00</td>\n",
       "      <td>Standard</td>\n",
       "      <td>Atliq Grands</td>\n",
       "      <td>Luxury</td>\n",
       "      <td>Bangalore</td>\n",
       "      <td>01-Aug-22</td>\n",
       "      <td>Aug-22</td>\n",
       "      <td>W 32</td>\n",
       "      <td>weekeday</td>\n",
       "    </tr>\n",
       "    <tr>\n",
       "      <th>9204</th>\n",
       "      <td>19560</td>\n",
       "      <td>01-Aug-22</td>\n",
       "      <td>RT1</td>\n",
       "      <td>20</td>\n",
       "      <td>26.0</td>\n",
       "      <td>76.92</td>\n",
       "      <td>Standard</td>\n",
       "      <td>Atliq City</td>\n",
       "      <td>Business</td>\n",
       "      <td>Bangalore</td>\n",
       "      <td>01-Aug-22</td>\n",
       "      <td>Aug-22</td>\n",
       "      <td>W 32</td>\n",
       "      <td>weekeday</td>\n",
       "    </tr>\n",
       "    <tr>\n",
       "      <th>9205</th>\n",
       "      <td>17561</td>\n",
       "      <td>01-Aug-22</td>\n",
       "      <td>RT1</td>\n",
       "      <td>18</td>\n",
       "      <td>26.0</td>\n",
       "      <td>69.23</td>\n",
       "      <td>Standard</td>\n",
       "      <td>Atliq Blu</td>\n",
       "      <td>Luxury</td>\n",
       "      <td>Mumbai</td>\n",
       "      <td>01-Aug-22</td>\n",
       "      <td>Aug-22</td>\n",
       "      <td>W 32</td>\n",
       "      <td>weekeday</td>\n",
       "    </tr>\n",
       "    <tr>\n",
       "      <th>9206</th>\n",
       "      <td>17564</td>\n",
       "      <td>01-Aug-22</td>\n",
       "      <td>RT1</td>\n",
       "      <td>10</td>\n",
       "      <td>16.0</td>\n",
       "      <td>62.50</td>\n",
       "      <td>Standard</td>\n",
       "      <td>Atliq Seasons</td>\n",
       "      <td>Business</td>\n",
       "      <td>Mumbai</td>\n",
       "      <td>01-Aug-22</td>\n",
       "      <td>Aug-22</td>\n",
       "      <td>W 32</td>\n",
       "      <td>weekeday</td>\n",
       "    </tr>\n",
       "  </tbody>\n",
       "</table>\n",
       "</div>"
      ],
      "text/plain": [
       "      property_id check_in_date room_category  successful_bookings  capacity  \\\n",
       "9197        17558     31-Jul-22           RT4                    3       6.0   \n",
       "9198        19563     31-Jul-22           RT4                    3       6.0   \n",
       "9199        17561     31-Jul-22           RT4                    3       4.0   \n",
       "9200        16559     01-Aug-22           RT1                   30      30.0   \n",
       "9201        19562     01-Aug-22           RT1                   21      30.0   \n",
       "9202        19563     01-Aug-22           RT1                   23      30.0   \n",
       "9203        19558     01-Aug-22           RT1                   30      40.0   \n",
       "9204        19560     01-Aug-22           RT1                   20      26.0   \n",
       "9205        17561     01-Aug-22           RT1                   18      26.0   \n",
       "9206        17564     01-Aug-22           RT1                   10      16.0   \n",
       "\n",
       "      occupancy_rate    room_class  property_name  category       city  \\\n",
       "9197           50.00  Presidential   Atliq Grands    Luxury     Mumbai   \n",
       "9198           50.00  Presidential   Atliq Palace  Business  Bangalore   \n",
       "9199           75.00  Presidential      Atliq Blu    Luxury     Mumbai   \n",
       "9200          100.00      Standard  Atliq Exotica    Luxury     Mumbai   \n",
       "9201           70.00      Standard      Atliq Bay    Luxury  Bangalore   \n",
       "9202           76.67      Standard   Atliq Palace  Business  Bangalore   \n",
       "9203           75.00      Standard   Atliq Grands    Luxury  Bangalore   \n",
       "9204           76.92      Standard     Atliq City  Business  Bangalore   \n",
       "9205           69.23      Standard      Atliq Blu    Luxury     Mumbai   \n",
       "9206           62.50      Standard  Atliq Seasons  Business     Mumbai   \n",
       "\n",
       "           date  mmm yy week no  day_type  \n",
       "9197  31-Jul-22  Jul-22    W 32   weekend  \n",
       "9198  31-Jul-22  Jul-22    W 32   weekend  \n",
       "9199  31-Jul-22  Jul-22    W 32   weekend  \n",
       "9200  01-Aug-22  Aug-22    W 32  weekeday  \n",
       "9201  01-Aug-22  Aug-22    W 32  weekeday  \n",
       "9202  01-Aug-22  Aug-22    W 32  weekeday  \n",
       "9203  01-Aug-22  Aug-22    W 32  weekeday  \n",
       "9204  01-Aug-22  Aug-22    W 32  weekeday  \n",
       "9205  01-Aug-22  Aug-22    W 32  weekeday  \n",
       "9206  01-Aug-22  Aug-22    W 32  weekeday  "
      ]
     },
     "execution_count": 60,
     "metadata": {},
     "output_type": "execute_result"
    }
   ],
   "source": [
    "latest_df['date'].fillna('01-Aug-22', inplace=True)\n",
    "latest_df.tail(10)"
   ]
  },
  {
   "cell_type": "markdown",
   "metadata": {},
   "source": [
    "**6. Print revenue realized per city**"
   ]
  },
  {
   "cell_type": "code",
   "execution_count": 61,
   "metadata": {},
   "outputs": [
    {
     "data": {
      "application/vnd.microsoft.datawrangler.viewer.v0+json": {
       "columns": [
        {
         "name": "index",
         "rawType": "int64",
         "type": "integer"
        },
        {
         "name": "booking_id",
         "rawType": "object",
         "type": "string"
        },
        {
         "name": "property_id",
         "rawType": "int64",
         "type": "integer"
        },
        {
         "name": "booking_date",
         "rawType": "object",
         "type": "string"
        },
        {
         "name": "check_in_date",
         "rawType": "object",
         "type": "string"
        },
        {
         "name": "checkout_date",
         "rawType": "object",
         "type": "string"
        },
        {
         "name": "no_guests",
         "rawType": "float64",
         "type": "float"
        },
        {
         "name": "room_category",
         "rawType": "object",
         "type": "string"
        },
        {
         "name": "booking_platform",
         "rawType": "object",
         "type": "string"
        },
        {
         "name": "ratings_given",
         "rawType": "float64",
         "type": "float"
        },
        {
         "name": "booking_status",
         "rawType": "object",
         "type": "string"
        },
        {
         "name": "revenue_generated",
         "rawType": "int64",
         "type": "integer"
        },
        {
         "name": "revenue_realized",
         "rawType": "int64",
         "type": "integer"
        }
       ],
       "conversionMethod": "pd.DataFrame",
       "ref": "f6d8ace8-5625-493d-9d9a-56b9f8d5c3ef",
       "rows": [
        [
         "1",
         "May012216558RT12",
         "16558",
         "30-04-2022",
         "01-05-2022",
         "02-05-2022",
         "2.0",
         "RT1",
         "others",
         null,
         "Cancelled",
         "9100",
         "3640"
        ],
        [
         "2",
         "May012216558RT13",
         "16558",
         "28-04-2022",
         "01-05-2022",
         "04-05-2022",
         "2.0",
         "RT1",
         "logtrip",
         "5.0",
         "Checked Out",
         "9100",
         "9100"
        ],
        [
         "4",
         "May012216558RT15",
         "16558",
         "27-04-2022",
         "01-05-2022",
         "02-05-2022",
         "4.0",
         "RT1",
         "direct online",
         "5.0",
         "Checked Out",
         "10920",
         "10920"
        ],
        [
         "5",
         "May012216558RT16",
         "16558",
         "01-05-2022",
         "01-05-2022",
         "03-05-2022",
         "2.0",
         "RT1",
         "others",
         "4.0",
         "Checked Out",
         "9100",
         "9100"
        ],
        [
         "6",
         "May012216558RT17",
         "16558",
         "28-04-2022",
         "01-05-2022",
         "06-05-2022",
         "2.0",
         "RT1",
         "others",
         null,
         "Cancelled",
         "9100",
         "3640"
        ]
       ],
       "shape": {
        "columns": 12,
        "rows": 5
       }
      },
      "text/html": [
       "<div>\n",
       "<style scoped>\n",
       "    .dataframe tbody tr th:only-of-type {\n",
       "        vertical-align: middle;\n",
       "    }\n",
       "\n",
       "    .dataframe tbody tr th {\n",
       "        vertical-align: top;\n",
       "    }\n",
       "\n",
       "    .dataframe thead th {\n",
       "        text-align: right;\n",
       "    }\n",
       "</style>\n",
       "<table border=\"1\" class=\"dataframe\">\n",
       "  <thead>\n",
       "    <tr style=\"text-align: right;\">\n",
       "      <th></th>\n",
       "      <th>booking_id</th>\n",
       "      <th>property_id</th>\n",
       "      <th>booking_date</th>\n",
       "      <th>check_in_date</th>\n",
       "      <th>checkout_date</th>\n",
       "      <th>no_guests</th>\n",
       "      <th>room_category</th>\n",
       "      <th>booking_platform</th>\n",
       "      <th>ratings_given</th>\n",
       "      <th>booking_status</th>\n",
       "      <th>revenue_generated</th>\n",
       "      <th>revenue_realized</th>\n",
       "    </tr>\n",
       "  </thead>\n",
       "  <tbody>\n",
       "    <tr>\n",
       "      <th>1</th>\n",
       "      <td>May012216558RT12</td>\n",
       "      <td>16558</td>\n",
       "      <td>30-04-2022</td>\n",
       "      <td>01-05-2022</td>\n",
       "      <td>02-05-2022</td>\n",
       "      <td>2.0</td>\n",
       "      <td>RT1</td>\n",
       "      <td>others</td>\n",
       "      <td>NaN</td>\n",
       "      <td>Cancelled</td>\n",
       "      <td>9100</td>\n",
       "      <td>3640</td>\n",
       "    </tr>\n",
       "    <tr>\n",
       "      <th>2</th>\n",
       "      <td>May012216558RT13</td>\n",
       "      <td>16558</td>\n",
       "      <td>28-04-2022</td>\n",
       "      <td>01-05-2022</td>\n",
       "      <td>04-05-2022</td>\n",
       "      <td>2.0</td>\n",
       "      <td>RT1</td>\n",
       "      <td>logtrip</td>\n",
       "      <td>5.0</td>\n",
       "      <td>Checked Out</td>\n",
       "      <td>9100</td>\n",
       "      <td>9100</td>\n",
       "    </tr>\n",
       "    <tr>\n",
       "      <th>4</th>\n",
       "      <td>May012216558RT15</td>\n",
       "      <td>16558</td>\n",
       "      <td>27-04-2022</td>\n",
       "      <td>01-05-2022</td>\n",
       "      <td>02-05-2022</td>\n",
       "      <td>4.0</td>\n",
       "      <td>RT1</td>\n",
       "      <td>direct online</td>\n",
       "      <td>5.0</td>\n",
       "      <td>Checked Out</td>\n",
       "      <td>10920</td>\n",
       "      <td>10920</td>\n",
       "    </tr>\n",
       "    <tr>\n",
       "      <th>5</th>\n",
       "      <td>May012216558RT16</td>\n",
       "      <td>16558</td>\n",
       "      <td>01-05-2022</td>\n",
       "      <td>01-05-2022</td>\n",
       "      <td>03-05-2022</td>\n",
       "      <td>2.0</td>\n",
       "      <td>RT1</td>\n",
       "      <td>others</td>\n",
       "      <td>4.0</td>\n",
       "      <td>Checked Out</td>\n",
       "      <td>9100</td>\n",
       "      <td>9100</td>\n",
       "    </tr>\n",
       "    <tr>\n",
       "      <th>6</th>\n",
       "      <td>May012216558RT17</td>\n",
       "      <td>16558</td>\n",
       "      <td>28-04-2022</td>\n",
       "      <td>01-05-2022</td>\n",
       "      <td>06-05-2022</td>\n",
       "      <td>2.0</td>\n",
       "      <td>RT1</td>\n",
       "      <td>others</td>\n",
       "      <td>NaN</td>\n",
       "      <td>Cancelled</td>\n",
       "      <td>9100</td>\n",
       "      <td>3640</td>\n",
       "    </tr>\n",
       "  </tbody>\n",
       "</table>\n",
       "</div>"
      ],
      "text/plain": [
       "         booking_id  property_id booking_date check_in_date checkout_date  \\\n",
       "1  May012216558RT12        16558   30-04-2022    01-05-2022    02-05-2022   \n",
       "2  May012216558RT13        16558   28-04-2022    01-05-2022    04-05-2022   \n",
       "4  May012216558RT15        16558   27-04-2022    01-05-2022    02-05-2022   \n",
       "5  May012216558RT16        16558   01-05-2022    01-05-2022    03-05-2022   \n",
       "6  May012216558RT17        16558   28-04-2022    01-05-2022    06-05-2022   \n",
       "\n",
       "   no_guests room_category booking_platform  ratings_given booking_status  \\\n",
       "1        2.0           RT1           others            NaN      Cancelled   \n",
       "2        2.0           RT1          logtrip            5.0    Checked Out   \n",
       "4        4.0           RT1    direct online            5.0    Checked Out   \n",
       "5        2.0           RT1           others            4.0    Checked Out   \n",
       "6        2.0           RT1           others            NaN      Cancelled   \n",
       "\n",
       "   revenue_generated  revenue_realized  \n",
       "1               9100              3640  \n",
       "2               9100              9100  \n",
       "4              10920             10920  \n",
       "5               9100              9100  \n",
       "6               9100              3640  "
      ]
     },
     "execution_count": 61,
     "metadata": {},
     "output_type": "execute_result"
    }
   ],
   "source": [
    "df_bookings.head()"
   ]
  },
  {
   "cell_type": "code",
   "execution_count": 62,
   "metadata": {},
   "outputs": [
    {
     "data": {
      "application/vnd.microsoft.datawrangler.viewer.v0+json": {
       "columns": [
        {
         "name": "index",
         "rawType": "int64",
         "type": "integer"
        },
        {
         "name": "property_id",
         "rawType": "int64",
         "type": "integer"
        },
        {
         "name": "property_name",
         "rawType": "object",
         "type": "string"
        },
        {
         "name": "category",
         "rawType": "object",
         "type": "string"
        },
        {
         "name": "city",
         "rawType": "object",
         "type": "string"
        }
       ],
       "conversionMethod": "pd.DataFrame",
       "ref": "7c49975e-ff0e-457f-a35d-29a2a4e95b33",
       "rows": [
        [
         "0",
         "16558",
         "Atliq Grands",
         "Luxury",
         "Delhi"
        ],
        [
         "1",
         "16559",
         "Atliq Exotica",
         "Luxury",
         "Mumbai"
        ],
        [
         "2",
         "16560",
         "Atliq City",
         "Business",
         "Delhi"
        ],
        [
         "3",
         "16561",
         "Atliq Blu",
         "Luxury",
         "Delhi"
        ],
        [
         "4",
         "16562",
         "Atliq Bay",
         "Luxury",
         "Delhi"
        ]
       ],
       "shape": {
        "columns": 4,
        "rows": 5
       }
      },
      "text/html": [
       "<div>\n",
       "<style scoped>\n",
       "    .dataframe tbody tr th:only-of-type {\n",
       "        vertical-align: middle;\n",
       "    }\n",
       "\n",
       "    .dataframe tbody tr th {\n",
       "        vertical-align: top;\n",
       "    }\n",
       "\n",
       "    .dataframe thead th {\n",
       "        text-align: right;\n",
       "    }\n",
       "</style>\n",
       "<table border=\"1\" class=\"dataframe\">\n",
       "  <thead>\n",
       "    <tr style=\"text-align: right;\">\n",
       "      <th></th>\n",
       "      <th>property_id</th>\n",
       "      <th>property_name</th>\n",
       "      <th>category</th>\n",
       "      <th>city</th>\n",
       "    </tr>\n",
       "  </thead>\n",
       "  <tbody>\n",
       "    <tr>\n",
       "      <th>0</th>\n",
       "      <td>16558</td>\n",
       "      <td>Atliq Grands</td>\n",
       "      <td>Luxury</td>\n",
       "      <td>Delhi</td>\n",
       "    </tr>\n",
       "    <tr>\n",
       "      <th>1</th>\n",
       "      <td>16559</td>\n",
       "      <td>Atliq Exotica</td>\n",
       "      <td>Luxury</td>\n",
       "      <td>Mumbai</td>\n",
       "    </tr>\n",
       "    <tr>\n",
       "      <th>2</th>\n",
       "      <td>16560</td>\n",
       "      <td>Atliq City</td>\n",
       "      <td>Business</td>\n",
       "      <td>Delhi</td>\n",
       "    </tr>\n",
       "    <tr>\n",
       "      <th>3</th>\n",
       "      <td>16561</td>\n",
       "      <td>Atliq Blu</td>\n",
       "      <td>Luxury</td>\n",
       "      <td>Delhi</td>\n",
       "    </tr>\n",
       "    <tr>\n",
       "      <th>4</th>\n",
       "      <td>16562</td>\n",
       "      <td>Atliq Bay</td>\n",
       "      <td>Luxury</td>\n",
       "      <td>Delhi</td>\n",
       "    </tr>\n",
       "  </tbody>\n",
       "</table>\n",
       "</div>"
      ],
      "text/plain": [
       "   property_id  property_name  category    city\n",
       "0        16558   Atliq Grands    Luxury   Delhi\n",
       "1        16559  Atliq Exotica    Luxury  Mumbai\n",
       "2        16560     Atliq City  Business   Delhi\n",
       "3        16561      Atliq Blu    Luxury   Delhi\n",
       "4        16562      Atliq Bay    Luxury   Delhi"
      ]
     },
     "execution_count": 62,
     "metadata": {},
     "output_type": "execute_result"
    }
   ],
   "source": [
    "df_hotels.head()"
   ]
  },
  {
   "cell_type": "code",
   "execution_count": 65,
   "metadata": {},
   "outputs": [
    {
     "data": {
      "application/vnd.microsoft.datawrangler.viewer.v0+json": {
       "columns": [
        {
         "name": "index",
         "rawType": "int64",
         "type": "integer"
        },
        {
         "name": "booking_id",
         "rawType": "object",
         "type": "string"
        },
        {
         "name": "property_id",
         "rawType": "int64",
         "type": "integer"
        },
        {
         "name": "booking_date",
         "rawType": "object",
         "type": "string"
        },
        {
         "name": "check_in_date",
         "rawType": "object",
         "type": "string"
        },
        {
         "name": "checkout_date",
         "rawType": "object",
         "type": "string"
        },
        {
         "name": "no_guests",
         "rawType": "float64",
         "type": "float"
        },
        {
         "name": "room_category",
         "rawType": "object",
         "type": "string"
        },
        {
         "name": "booking_platform",
         "rawType": "object",
         "type": "string"
        },
        {
         "name": "ratings_given",
         "rawType": "float64",
         "type": "float"
        },
        {
         "name": "booking_status",
         "rawType": "object",
         "type": "string"
        },
        {
         "name": "revenue_generated",
         "rawType": "int64",
         "type": "integer"
        },
        {
         "name": "revenue_realized",
         "rawType": "int64",
         "type": "integer"
        },
        {
         "name": "property_name",
         "rawType": "object",
         "type": "string"
        },
        {
         "name": "category",
         "rawType": "object",
         "type": "string"
        },
        {
         "name": "city",
         "rawType": "object",
         "type": "string"
        }
       ],
       "conversionMethod": "pd.DataFrame",
       "ref": "9c33fd70-c228-432f-8a0a-3fc29e047199",
       "rows": [
        [
         "0",
         "May012216558RT12",
         "16558",
         "30-04-2022",
         "01-05-2022",
         "02-05-2022",
         "2.0",
         "RT1",
         "others",
         null,
         "Cancelled",
         "9100",
         "3640",
         "Atliq Grands",
         "Luxury",
         "Delhi"
        ],
        [
         "1",
         "May012216558RT13",
         "16558",
         "28-04-2022",
         "01-05-2022",
         "04-05-2022",
         "2.0",
         "RT1",
         "logtrip",
         "5.0",
         "Checked Out",
         "9100",
         "9100",
         "Atliq Grands",
         "Luxury",
         "Delhi"
        ],
        [
         "2",
         "May012216558RT15",
         "16558",
         "27-04-2022",
         "01-05-2022",
         "02-05-2022",
         "4.0",
         "RT1",
         "direct online",
         "5.0",
         "Checked Out",
         "10920",
         "10920",
         "Atliq Grands",
         "Luxury",
         "Delhi"
        ],
        [
         "3",
         "May012216558RT16",
         "16558",
         "01-05-2022",
         "01-05-2022",
         "03-05-2022",
         "2.0",
         "RT1",
         "others",
         "4.0",
         "Checked Out",
         "9100",
         "9100",
         "Atliq Grands",
         "Luxury",
         "Delhi"
        ],
        [
         "4",
         "May012216558RT17",
         "16558",
         "28-04-2022",
         "01-05-2022",
         "06-05-2022",
         "2.0",
         "RT1",
         "others",
         null,
         "Cancelled",
         "9100",
         "3640",
         "Atliq Grands",
         "Luxury",
         "Delhi"
        ]
       ],
       "shape": {
        "columns": 15,
        "rows": 5
       }
      },
      "text/html": [
       "<div>\n",
       "<style scoped>\n",
       "    .dataframe tbody tr th:only-of-type {\n",
       "        vertical-align: middle;\n",
       "    }\n",
       "\n",
       "    .dataframe tbody tr th {\n",
       "        vertical-align: top;\n",
       "    }\n",
       "\n",
       "    .dataframe thead th {\n",
       "        text-align: right;\n",
       "    }\n",
       "</style>\n",
       "<table border=\"1\" class=\"dataframe\">\n",
       "  <thead>\n",
       "    <tr style=\"text-align: right;\">\n",
       "      <th></th>\n",
       "      <th>booking_id</th>\n",
       "      <th>property_id</th>\n",
       "      <th>booking_date</th>\n",
       "      <th>check_in_date</th>\n",
       "      <th>checkout_date</th>\n",
       "      <th>no_guests</th>\n",
       "      <th>room_category</th>\n",
       "      <th>booking_platform</th>\n",
       "      <th>ratings_given</th>\n",
       "      <th>booking_status</th>\n",
       "      <th>revenue_generated</th>\n",
       "      <th>revenue_realized</th>\n",
       "      <th>property_name</th>\n",
       "      <th>category</th>\n",
       "      <th>city</th>\n",
       "    </tr>\n",
       "  </thead>\n",
       "  <tbody>\n",
       "    <tr>\n",
       "      <th>0</th>\n",
       "      <td>May012216558RT12</td>\n",
       "      <td>16558</td>\n",
       "      <td>30-04-2022</td>\n",
       "      <td>01-05-2022</td>\n",
       "      <td>02-05-2022</td>\n",
       "      <td>2.0</td>\n",
       "      <td>RT1</td>\n",
       "      <td>others</td>\n",
       "      <td>NaN</td>\n",
       "      <td>Cancelled</td>\n",
       "      <td>9100</td>\n",
       "      <td>3640</td>\n",
       "      <td>Atliq Grands</td>\n",
       "      <td>Luxury</td>\n",
       "      <td>Delhi</td>\n",
       "    </tr>\n",
       "    <tr>\n",
       "      <th>1</th>\n",
       "      <td>May012216558RT13</td>\n",
       "      <td>16558</td>\n",
       "      <td>28-04-2022</td>\n",
       "      <td>01-05-2022</td>\n",
       "      <td>04-05-2022</td>\n",
       "      <td>2.0</td>\n",
       "      <td>RT1</td>\n",
       "      <td>logtrip</td>\n",
       "      <td>5.0</td>\n",
       "      <td>Checked Out</td>\n",
       "      <td>9100</td>\n",
       "      <td>9100</td>\n",
       "      <td>Atliq Grands</td>\n",
       "      <td>Luxury</td>\n",
       "      <td>Delhi</td>\n",
       "    </tr>\n",
       "    <tr>\n",
       "      <th>2</th>\n",
       "      <td>May012216558RT15</td>\n",
       "      <td>16558</td>\n",
       "      <td>27-04-2022</td>\n",
       "      <td>01-05-2022</td>\n",
       "      <td>02-05-2022</td>\n",
       "      <td>4.0</td>\n",
       "      <td>RT1</td>\n",
       "      <td>direct online</td>\n",
       "      <td>5.0</td>\n",
       "      <td>Checked Out</td>\n",
       "      <td>10920</td>\n",
       "      <td>10920</td>\n",
       "      <td>Atliq Grands</td>\n",
       "      <td>Luxury</td>\n",
       "      <td>Delhi</td>\n",
       "    </tr>\n",
       "    <tr>\n",
       "      <th>3</th>\n",
       "      <td>May012216558RT16</td>\n",
       "      <td>16558</td>\n",
       "      <td>01-05-2022</td>\n",
       "      <td>01-05-2022</td>\n",
       "      <td>03-05-2022</td>\n",
       "      <td>2.0</td>\n",
       "      <td>RT1</td>\n",
       "      <td>others</td>\n",
       "      <td>4.0</td>\n",
       "      <td>Checked Out</td>\n",
       "      <td>9100</td>\n",
       "      <td>9100</td>\n",
       "      <td>Atliq Grands</td>\n",
       "      <td>Luxury</td>\n",
       "      <td>Delhi</td>\n",
       "    </tr>\n",
       "    <tr>\n",
       "      <th>4</th>\n",
       "      <td>May012216558RT17</td>\n",
       "      <td>16558</td>\n",
       "      <td>28-04-2022</td>\n",
       "      <td>01-05-2022</td>\n",
       "      <td>06-05-2022</td>\n",
       "      <td>2.0</td>\n",
       "      <td>RT1</td>\n",
       "      <td>others</td>\n",
       "      <td>NaN</td>\n",
       "      <td>Cancelled</td>\n",
       "      <td>9100</td>\n",
       "      <td>3640</td>\n",
       "      <td>Atliq Grands</td>\n",
       "      <td>Luxury</td>\n",
       "      <td>Delhi</td>\n",
       "    </tr>\n",
       "  </tbody>\n",
       "</table>\n",
       "</div>"
      ],
      "text/plain": [
       "         booking_id  property_id booking_date check_in_date checkout_date  \\\n",
       "0  May012216558RT12        16558   30-04-2022    01-05-2022    02-05-2022   \n",
       "1  May012216558RT13        16558   28-04-2022    01-05-2022    04-05-2022   \n",
       "2  May012216558RT15        16558   27-04-2022    01-05-2022    02-05-2022   \n",
       "3  May012216558RT16        16558   01-05-2022    01-05-2022    03-05-2022   \n",
       "4  May012216558RT17        16558   28-04-2022    01-05-2022    06-05-2022   \n",
       "\n",
       "   no_guests room_category booking_platform  ratings_given booking_status  \\\n",
       "0        2.0           RT1           others            NaN      Cancelled   \n",
       "1        2.0           RT1          logtrip            5.0    Checked Out   \n",
       "2        4.0           RT1    direct online            5.0    Checked Out   \n",
       "3        2.0           RT1           others            4.0    Checked Out   \n",
       "4        2.0           RT1           others            NaN      Cancelled   \n",
       "\n",
       "   revenue_generated  revenue_realized property_name category   city  \n",
       "0               9100              3640  Atliq Grands   Luxury  Delhi  \n",
       "1               9100              9100  Atliq Grands   Luxury  Delhi  \n",
       "2              10920             10920  Atliq Grands   Luxury  Delhi  \n",
       "3               9100              9100  Atliq Grands   Luxury  Delhi  \n",
       "4               9100              3640  Atliq Grands   Luxury  Delhi  "
      ]
     },
     "execution_count": 65,
     "metadata": {},
     "output_type": "execute_result"
    }
   ],
   "source": [
    "df_bookings_new = pd.merge(df_bookings, df_hotels, on='property_id', how='left')\n",
    "df_bookings_new.head()"
   ]
  },
  {
   "cell_type": "code",
   "execution_count": 66,
   "metadata": {},
   "outputs": [
    {
     "data": {
      "text/plain": [
       "city\n",
       "Mumbai       784815540\n",
       "Bangalore    494814675\n",
       "Hyderabad    381333250\n",
       "Delhi        346384850\n",
       "Name: revenue_generated, dtype: int64"
      ]
     },
     "execution_count": 66,
     "metadata": {},
     "output_type": "execute_result"
    }
   ],
   "source": [
    "df_bookings_new.groupby('city')['revenue_generated'].sum().sort_values(ascending=False)"
   ]
  },
  {
   "cell_type": "code",
   "execution_count": 67,
   "metadata": {},
   "outputs": [
    {
     "data": {
      "application/vnd.microsoft.datawrangler.viewer.v0+json": {
       "columns": [
        {
         "name": "index",
         "rawType": "int64",
         "type": "integer"
        },
        {
         "name": "date",
         "rawType": "object",
         "type": "string"
        },
        {
         "name": "mmm yy",
         "rawType": "object",
         "type": "string"
        },
        {
         "name": "week no",
         "rawType": "object",
         "type": "string"
        },
        {
         "name": "day_type",
         "rawType": "object",
         "type": "string"
        }
       ],
       "conversionMethod": "pd.DataFrame",
       "ref": "17b50f83-de76-42d7-a9bb-4db90d8849ee",
       "rows": [
        [
         "0",
         "01-May-22",
         "May-22",
         "W 19",
         "weekend"
        ],
        [
         "1",
         "02-May-22",
         "May-22",
         "W 19",
         "weekeday"
        ],
        [
         "2",
         "03-May-22",
         "May-22",
         "W 19",
         "weekeday"
        ],
        [
         "3",
         "04-May-22",
         "May-22",
         "W 19",
         "weekeday"
        ],
        [
         "4",
         "05-May-22",
         "May-22",
         "W 19",
         "weekeday"
        ]
       ],
       "shape": {
        "columns": 4,
        "rows": 5
       }
      },
      "text/html": [
       "<div>\n",
       "<style scoped>\n",
       "    .dataframe tbody tr th:only-of-type {\n",
       "        vertical-align: middle;\n",
       "    }\n",
       "\n",
       "    .dataframe tbody tr th {\n",
       "        vertical-align: top;\n",
       "    }\n",
       "\n",
       "    .dataframe thead th {\n",
       "        text-align: right;\n",
       "    }\n",
       "</style>\n",
       "<table border=\"1\" class=\"dataframe\">\n",
       "  <thead>\n",
       "    <tr style=\"text-align: right;\">\n",
       "      <th></th>\n",
       "      <th>date</th>\n",
       "      <th>mmm yy</th>\n",
       "      <th>week no</th>\n",
       "      <th>day_type</th>\n",
       "    </tr>\n",
       "  </thead>\n",
       "  <tbody>\n",
       "    <tr>\n",
       "      <th>0</th>\n",
       "      <td>01-May-22</td>\n",
       "      <td>May-22</td>\n",
       "      <td>W 19</td>\n",
       "      <td>weekend</td>\n",
       "    </tr>\n",
       "    <tr>\n",
       "      <th>1</th>\n",
       "      <td>02-May-22</td>\n",
       "      <td>May-22</td>\n",
       "      <td>W 19</td>\n",
       "      <td>weekeday</td>\n",
       "    </tr>\n",
       "    <tr>\n",
       "      <th>2</th>\n",
       "      <td>03-May-22</td>\n",
       "      <td>May-22</td>\n",
       "      <td>W 19</td>\n",
       "      <td>weekeday</td>\n",
       "    </tr>\n",
       "    <tr>\n",
       "      <th>3</th>\n",
       "      <td>04-May-22</td>\n",
       "      <td>May-22</td>\n",
       "      <td>W 19</td>\n",
       "      <td>weekeday</td>\n",
       "    </tr>\n",
       "    <tr>\n",
       "      <th>4</th>\n",
       "      <td>05-May-22</td>\n",
       "      <td>May-22</td>\n",
       "      <td>W 19</td>\n",
       "      <td>weekeday</td>\n",
       "    </tr>\n",
       "  </tbody>\n",
       "</table>\n",
       "</div>"
      ],
      "text/plain": [
       "        date  mmm yy week no  day_type\n",
       "0  01-May-22  May-22    W 19   weekend\n",
       "1  02-May-22  May-22    W 19  weekeday\n",
       "2  03-May-22  May-22    W 19  weekeday\n",
       "3  04-May-22  May-22    W 19  weekeday\n",
       "4  05-May-22  May-22    W 19  weekeday"
      ]
     },
     "execution_count": 67,
     "metadata": {},
     "output_type": "execute_result"
    }
   ],
   "source": [
    "df_date.head()"
   ]
  },
  {
   "cell_type": "code",
   "execution_count": 69,
   "metadata": {},
   "outputs": [],
   "source": [
    "df_bookings_new['check_in_date'] = pd.to_datetime(df_bookings_new['check_in_date'], format='%d-%m-%Y')\n",
    "df_date['date'] = pd.to_datetime(df_date['date'], format='%d-%b-%y')"
   ]
  },
  {
   "cell_type": "code",
   "execution_count": 70,
   "metadata": {},
   "outputs": [
    {
     "data": {
      "application/vnd.microsoft.datawrangler.viewer.v0+json": {
       "columns": [
        {
         "name": "index",
         "rawType": "int64",
         "type": "integer"
        },
        {
         "name": "booking_id",
         "rawType": "object",
         "type": "string"
        },
        {
         "name": "property_id",
         "rawType": "int64",
         "type": "integer"
        },
        {
         "name": "booking_date",
         "rawType": "object",
         "type": "string"
        },
        {
         "name": "check_in_date",
         "rawType": "datetime64[ns]",
         "type": "datetime"
        },
        {
         "name": "checkout_date",
         "rawType": "object",
         "type": "string"
        },
        {
         "name": "no_guests",
         "rawType": "float64",
         "type": "float"
        },
        {
         "name": "room_category",
         "rawType": "object",
         "type": "string"
        },
        {
         "name": "booking_platform",
         "rawType": "object",
         "type": "string"
        },
        {
         "name": "ratings_given",
         "rawType": "float64",
         "type": "float"
        },
        {
         "name": "booking_status",
         "rawType": "object",
         "type": "string"
        },
        {
         "name": "revenue_generated",
         "rawType": "int64",
         "type": "integer"
        },
        {
         "name": "revenue_realized",
         "rawType": "int64",
         "type": "integer"
        },
        {
         "name": "property_name",
         "rawType": "object",
         "type": "string"
        },
        {
         "name": "category",
         "rawType": "object",
         "type": "string"
        },
        {
         "name": "city",
         "rawType": "object",
         "type": "string"
        },
        {
         "name": "date",
         "rawType": "datetime64[ns]",
         "type": "datetime"
        },
        {
         "name": "mmm yy",
         "rawType": "object",
         "type": "string"
        },
        {
         "name": "week no",
         "rawType": "object",
         "type": "string"
        },
        {
         "name": "day_type",
         "rawType": "object",
         "type": "string"
        }
       ],
       "conversionMethod": "pd.DataFrame",
       "ref": "51dc3949-330a-47cc-9d5e-5273fdb071f6",
       "rows": [
        [
         "0",
         "May012216558RT12",
         "16558",
         "30-04-2022",
         "2022-05-01 00:00:00",
         "02-05-2022",
         "2.0",
         "RT1",
         "others",
         null,
         "Cancelled",
         "9100",
         "3640",
         "Atliq Grands",
         "Luxury",
         "Delhi",
         "2022-05-01 00:00:00",
         "May-22",
         "W 19",
         "weekend"
        ],
        [
         "1",
         "May012216558RT13",
         "16558",
         "28-04-2022",
         "2022-05-01 00:00:00",
         "04-05-2022",
         "2.0",
         "RT1",
         "logtrip",
         "5.0",
         "Checked Out",
         "9100",
         "9100",
         "Atliq Grands",
         "Luxury",
         "Delhi",
         "2022-05-01 00:00:00",
         "May-22",
         "W 19",
         "weekend"
        ],
        [
         "2",
         "May012216558RT15",
         "16558",
         "27-04-2022",
         "2022-05-01 00:00:00",
         "02-05-2022",
         "4.0",
         "RT1",
         "direct online",
         "5.0",
         "Checked Out",
         "10920",
         "10920",
         "Atliq Grands",
         "Luxury",
         "Delhi",
         "2022-05-01 00:00:00",
         "May-22",
         "W 19",
         "weekend"
        ],
        [
         "3",
         "May012216558RT16",
         "16558",
         "01-05-2022",
         "2022-05-01 00:00:00",
         "03-05-2022",
         "2.0",
         "RT1",
         "others",
         "4.0",
         "Checked Out",
         "9100",
         "9100",
         "Atliq Grands",
         "Luxury",
         "Delhi",
         "2022-05-01 00:00:00",
         "May-22",
         "W 19",
         "weekend"
        ],
        [
         "4",
         "May012216558RT17",
         "16558",
         "28-04-2022",
         "2022-05-01 00:00:00",
         "06-05-2022",
         "2.0",
         "RT1",
         "others",
         null,
         "Cancelled",
         "9100",
         "3640",
         "Atliq Grands",
         "Luxury",
         "Delhi",
         "2022-05-01 00:00:00",
         "May-22",
         "W 19",
         "weekend"
        ]
       ],
       "shape": {
        "columns": 19,
        "rows": 5
       }
      },
      "text/html": [
       "<div>\n",
       "<style scoped>\n",
       "    .dataframe tbody tr th:only-of-type {\n",
       "        vertical-align: middle;\n",
       "    }\n",
       "\n",
       "    .dataframe tbody tr th {\n",
       "        vertical-align: top;\n",
       "    }\n",
       "\n",
       "    .dataframe thead th {\n",
       "        text-align: right;\n",
       "    }\n",
       "</style>\n",
       "<table border=\"1\" class=\"dataframe\">\n",
       "  <thead>\n",
       "    <tr style=\"text-align: right;\">\n",
       "      <th></th>\n",
       "      <th>booking_id</th>\n",
       "      <th>property_id</th>\n",
       "      <th>booking_date</th>\n",
       "      <th>check_in_date</th>\n",
       "      <th>checkout_date</th>\n",
       "      <th>no_guests</th>\n",
       "      <th>room_category</th>\n",
       "      <th>booking_platform</th>\n",
       "      <th>ratings_given</th>\n",
       "      <th>booking_status</th>\n",
       "      <th>revenue_generated</th>\n",
       "      <th>revenue_realized</th>\n",
       "      <th>property_name</th>\n",
       "      <th>category</th>\n",
       "      <th>city</th>\n",
       "      <th>date</th>\n",
       "      <th>mmm yy</th>\n",
       "      <th>week no</th>\n",
       "      <th>day_type</th>\n",
       "    </tr>\n",
       "  </thead>\n",
       "  <tbody>\n",
       "    <tr>\n",
       "      <th>0</th>\n",
       "      <td>May012216558RT12</td>\n",
       "      <td>16558</td>\n",
       "      <td>30-04-2022</td>\n",
       "      <td>2022-05-01</td>\n",
       "      <td>02-05-2022</td>\n",
       "      <td>2.0</td>\n",
       "      <td>RT1</td>\n",
       "      <td>others</td>\n",
       "      <td>NaN</td>\n",
       "      <td>Cancelled</td>\n",
       "      <td>9100</td>\n",
       "      <td>3640</td>\n",
       "      <td>Atliq Grands</td>\n",
       "      <td>Luxury</td>\n",
       "      <td>Delhi</td>\n",
       "      <td>2022-05-01</td>\n",
       "      <td>May-22</td>\n",
       "      <td>W 19</td>\n",
       "      <td>weekend</td>\n",
       "    </tr>\n",
       "    <tr>\n",
       "      <th>1</th>\n",
       "      <td>May012216558RT13</td>\n",
       "      <td>16558</td>\n",
       "      <td>28-04-2022</td>\n",
       "      <td>2022-05-01</td>\n",
       "      <td>04-05-2022</td>\n",
       "      <td>2.0</td>\n",
       "      <td>RT1</td>\n",
       "      <td>logtrip</td>\n",
       "      <td>5.0</td>\n",
       "      <td>Checked Out</td>\n",
       "      <td>9100</td>\n",
       "      <td>9100</td>\n",
       "      <td>Atliq Grands</td>\n",
       "      <td>Luxury</td>\n",
       "      <td>Delhi</td>\n",
       "      <td>2022-05-01</td>\n",
       "      <td>May-22</td>\n",
       "      <td>W 19</td>\n",
       "      <td>weekend</td>\n",
       "    </tr>\n",
       "    <tr>\n",
       "      <th>2</th>\n",
       "      <td>May012216558RT15</td>\n",
       "      <td>16558</td>\n",
       "      <td>27-04-2022</td>\n",
       "      <td>2022-05-01</td>\n",
       "      <td>02-05-2022</td>\n",
       "      <td>4.0</td>\n",
       "      <td>RT1</td>\n",
       "      <td>direct online</td>\n",
       "      <td>5.0</td>\n",
       "      <td>Checked Out</td>\n",
       "      <td>10920</td>\n",
       "      <td>10920</td>\n",
       "      <td>Atliq Grands</td>\n",
       "      <td>Luxury</td>\n",
       "      <td>Delhi</td>\n",
       "      <td>2022-05-01</td>\n",
       "      <td>May-22</td>\n",
       "      <td>W 19</td>\n",
       "      <td>weekend</td>\n",
       "    </tr>\n",
       "    <tr>\n",
       "      <th>3</th>\n",
       "      <td>May012216558RT16</td>\n",
       "      <td>16558</td>\n",
       "      <td>01-05-2022</td>\n",
       "      <td>2022-05-01</td>\n",
       "      <td>03-05-2022</td>\n",
       "      <td>2.0</td>\n",
       "      <td>RT1</td>\n",
       "      <td>others</td>\n",
       "      <td>4.0</td>\n",
       "      <td>Checked Out</td>\n",
       "      <td>9100</td>\n",
       "      <td>9100</td>\n",
       "      <td>Atliq Grands</td>\n",
       "      <td>Luxury</td>\n",
       "      <td>Delhi</td>\n",
       "      <td>2022-05-01</td>\n",
       "      <td>May-22</td>\n",
       "      <td>W 19</td>\n",
       "      <td>weekend</td>\n",
       "    </tr>\n",
       "    <tr>\n",
       "      <th>4</th>\n",
       "      <td>May012216558RT17</td>\n",
       "      <td>16558</td>\n",
       "      <td>28-04-2022</td>\n",
       "      <td>2022-05-01</td>\n",
       "      <td>06-05-2022</td>\n",
       "      <td>2.0</td>\n",
       "      <td>RT1</td>\n",
       "      <td>others</td>\n",
       "      <td>NaN</td>\n",
       "      <td>Cancelled</td>\n",
       "      <td>9100</td>\n",
       "      <td>3640</td>\n",
       "      <td>Atliq Grands</td>\n",
       "      <td>Luxury</td>\n",
       "      <td>Delhi</td>\n",
       "      <td>2022-05-01</td>\n",
       "      <td>May-22</td>\n",
       "      <td>W 19</td>\n",
       "      <td>weekend</td>\n",
       "    </tr>\n",
       "  </tbody>\n",
       "</table>\n",
       "</div>"
      ],
      "text/plain": [
       "         booking_id  property_id booking_date check_in_date checkout_date  \\\n",
       "0  May012216558RT12        16558   30-04-2022    2022-05-01    02-05-2022   \n",
       "1  May012216558RT13        16558   28-04-2022    2022-05-01    04-05-2022   \n",
       "2  May012216558RT15        16558   27-04-2022    2022-05-01    02-05-2022   \n",
       "3  May012216558RT16        16558   01-05-2022    2022-05-01    03-05-2022   \n",
       "4  May012216558RT17        16558   28-04-2022    2022-05-01    06-05-2022   \n",
       "\n",
       "   no_guests room_category booking_platform  ratings_given booking_status  \\\n",
       "0        2.0           RT1           others            NaN      Cancelled   \n",
       "1        2.0           RT1          logtrip            5.0    Checked Out   \n",
       "2        4.0           RT1    direct online            5.0    Checked Out   \n",
       "3        2.0           RT1           others            4.0    Checked Out   \n",
       "4        2.0           RT1           others            NaN      Cancelled   \n",
       "\n",
       "   revenue_generated  revenue_realized property_name category   city  \\\n",
       "0               9100              3640  Atliq Grands   Luxury  Delhi   \n",
       "1               9100              9100  Atliq Grands   Luxury  Delhi   \n",
       "2              10920             10920  Atliq Grands   Luxury  Delhi   \n",
       "3               9100              9100  Atliq Grands   Luxury  Delhi   \n",
       "4               9100              3640  Atliq Grands   Luxury  Delhi   \n",
       "\n",
       "        date  mmm yy week no day_type  \n",
       "0 2022-05-01  May-22    W 19  weekend  \n",
       "1 2022-05-01  May-22    W 19  weekend  \n",
       "2 2022-05-01  May-22    W 19  weekend  \n",
       "3 2022-05-01  May-22    W 19  weekend  \n",
       "4 2022-05-01  May-22    W 19  weekend  "
      ]
     },
     "execution_count": 70,
     "metadata": {},
     "output_type": "execute_result"
    }
   ],
   "source": [
    "df_bookings_new = pd.merge(df_bookings_new, df_date, left_on='check_in_date', right_on='date', how='left')\n",
    "df_bookings_new.head()"
   ]
  },
  {
   "cell_type": "code",
   "execution_count": 71,
   "metadata": {},
   "outputs": [
    {
     "data": {
      "text/plain": [
       "mmm yy\n",
       "May-22    581817656\n",
       "Jul-22    572855948\n",
       "Jun-22    553925855\n",
       "Name: revenue_realized, dtype: int64"
      ]
     },
     "execution_count": 71,
     "metadata": {},
     "output_type": "execute_result"
    }
   ],
   "source": [
    "df_bookings_new.groupby('mmm yy')['revenue_realized'].sum().sort_values(ascending=False)"
   ]
  },
  {
   "cell_type": "code",
   "execution_count": 72,
   "metadata": {},
   "outputs": [
    {
     "data": {
      "application/vnd.microsoft.datawrangler.viewer.v0+json": {
       "columns": [
        {
         "name": "index",
         "rawType": "int64",
         "type": "integer"
        },
        {
         "name": "property_id",
         "rawType": "int64",
         "type": "integer"
        },
        {
         "name": "property_name",
         "rawType": "object",
         "type": "string"
        },
        {
         "name": "category",
         "rawType": "object",
         "type": "string"
        },
        {
         "name": "city",
         "rawType": "object",
         "type": "string"
        }
       ],
       "conversionMethod": "pd.DataFrame",
       "ref": "03716d5c-707f-4dbf-96d6-68a5b6159f4d",
       "rows": [
        [
         "0",
         "16558",
         "Atliq Grands",
         "Luxury",
         "Delhi"
        ],
        [
         "1",
         "16559",
         "Atliq Exotica",
         "Luxury",
         "Mumbai"
        ],
        [
         "2",
         "16560",
         "Atliq City",
         "Business",
         "Delhi"
        ],
        [
         "3",
         "16561",
         "Atliq Blu",
         "Luxury",
         "Delhi"
        ],
        [
         "4",
         "16562",
         "Atliq Bay",
         "Luxury",
         "Delhi"
        ]
       ],
       "shape": {
        "columns": 4,
        "rows": 5
       }
      },
      "text/html": [
       "<div>\n",
       "<style scoped>\n",
       "    .dataframe tbody tr th:only-of-type {\n",
       "        vertical-align: middle;\n",
       "    }\n",
       "\n",
       "    .dataframe tbody tr th {\n",
       "        vertical-align: top;\n",
       "    }\n",
       "\n",
       "    .dataframe thead th {\n",
       "        text-align: right;\n",
       "    }\n",
       "</style>\n",
       "<table border=\"1\" class=\"dataframe\">\n",
       "  <thead>\n",
       "    <tr style=\"text-align: right;\">\n",
       "      <th></th>\n",
       "      <th>property_id</th>\n",
       "      <th>property_name</th>\n",
       "      <th>category</th>\n",
       "      <th>city</th>\n",
       "    </tr>\n",
       "  </thead>\n",
       "  <tbody>\n",
       "    <tr>\n",
       "      <th>0</th>\n",
       "      <td>16558</td>\n",
       "      <td>Atliq Grands</td>\n",
       "      <td>Luxury</td>\n",
       "      <td>Delhi</td>\n",
       "    </tr>\n",
       "    <tr>\n",
       "      <th>1</th>\n",
       "      <td>16559</td>\n",
       "      <td>Atliq Exotica</td>\n",
       "      <td>Luxury</td>\n",
       "      <td>Mumbai</td>\n",
       "    </tr>\n",
       "    <tr>\n",
       "      <th>2</th>\n",
       "      <td>16560</td>\n",
       "      <td>Atliq City</td>\n",
       "      <td>Business</td>\n",
       "      <td>Delhi</td>\n",
       "    </tr>\n",
       "    <tr>\n",
       "      <th>3</th>\n",
       "      <td>16561</td>\n",
       "      <td>Atliq Blu</td>\n",
       "      <td>Luxury</td>\n",
       "      <td>Delhi</td>\n",
       "    </tr>\n",
       "    <tr>\n",
       "      <th>4</th>\n",
       "      <td>16562</td>\n",
       "      <td>Atliq Bay</td>\n",
       "      <td>Luxury</td>\n",
       "      <td>Delhi</td>\n",
       "    </tr>\n",
       "  </tbody>\n",
       "</table>\n",
       "</div>"
      ],
      "text/plain": [
       "   property_id  property_name  category    city\n",
       "0        16558   Atliq Grands    Luxury   Delhi\n",
       "1        16559  Atliq Exotica    Luxury  Mumbai\n",
       "2        16560     Atliq City  Business   Delhi\n",
       "3        16561      Atliq Blu    Luxury   Delhi\n",
       "4        16562      Atliq Bay    Luxury   Delhi"
      ]
     },
     "execution_count": 72,
     "metadata": {},
     "output_type": "execute_result"
    }
   ],
   "source": [
    "df_hotels.head()"
   ]
  },
  {
   "cell_type": "markdown",
   "metadata": {},
   "source": [
    "**Print revenue realized per hotel type**"
   ]
  },
  {
   "cell_type": "code",
   "execution_count": 73,
   "metadata": {},
   "outputs": [
    {
     "data": {
      "text/plain": [
       "category\n",
       "Luxury      1052632422\n",
       "Business     655967037\n",
       "Name: revenue_realized, dtype: int64"
      ]
     },
     "execution_count": 73,
     "metadata": {},
     "output_type": "execute_result"
    }
   ],
   "source": [
    "df_bookings_new.groupby('category')['revenue_realized'].sum().sort_values(ascending=False)"
   ]
  },
  {
   "cell_type": "markdown",
   "metadata": {},
   "source": [
    "**Print average rating per city**"
   ]
  },
  {
   "cell_type": "code",
   "execution_count": 76,
   "metadata": {},
   "outputs": [
    {
     "data": {
      "text/plain": [
       "city\n",
       "Delhi        3.8\n",
       "Hyderabad    3.7\n",
       "Mumbai       3.7\n",
       "Bangalore    3.4\n",
       "Name: ratings_given, dtype: float64"
      ]
     },
     "execution_count": 76,
     "metadata": {},
     "output_type": "execute_result"
    }
   ],
   "source": [
    "df_bookings_new.groupby('city')['ratings_given'].mean().round(1).sort_values(ascending=False)"
   ]
  },
  {
   "cell_type": "markdown",
   "metadata": {},
   "source": [
    "**Print a pie chart of revenue realized per booking platform**"
   ]
  },
  {
   "cell_type": "code",
   "execution_count": 77,
   "metadata": {},
   "outputs": [
    {
     "data": {
      "text/plain": [
       "<Axes: ylabel='revenue_realized'>"
      ]
     },
     "execution_count": 77,
     "metadata": {},
     "output_type": "execute_result"
    },
    {
     "data": {
      "image/png": "[encoded data removed]",
      "text/plain": [
       "<Figure size 640x480 with 1 Axes>"
      ]
     },
     "metadata": {},
     "output_type": "display_data"
    }
   ],
   "source": [
    "df_bookings_new.groupby('booking_platform')['revenue_realized'].sum().plot(kind='pie', autopct='%1.1f%%')"
   ]
  }
 ],
 "metadata": {
  "kernelspec": {
   "display_name": ".venv",
   "language": "python",
   "name": "python3"
  },
  "language_info": {
   "codemirror_mode": {
    "name": "ipython",
    "version": 3
   },
   "file_extension": ".py",
   "mimetype": "text/x-python",
   "name": "python",
   "nbconvert_exporter": "python",
   "pygments_lexer": "ipython3",
   "version": "3.12.4"
  }
 },
 "nbformat": 4,
 "nbformat_minor": 2
}
