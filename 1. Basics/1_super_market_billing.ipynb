{
 "cells": [
  {
   "cell_type": "markdown",
   "metadata": {},
   "source": [
    "# Super Market Billing System"
   ]
  },
  {
   "cell_type": "code",
   "execution_count": 1,
   "metadata": {},
   "outputs": [
    {
     "name": "stdout",
     "output_type": "stream",
     "text": [
      "\n",
      "Enter the price and quantity of the item:\n",
      "----------------------------------------\n",
      "Customer Name: Azam\n",
      "Total Amount: ₹1250.00\n",
      "----------------------------------------\n",
      "\n",
      "Enter the price and quantity of the item:\n",
      "\n",
      "Enter the price and quantity of the item:\n",
      "----------------------------------------\n",
      "Customer Name: Ajay\n",
      "Total Amount: ₹7110.00\n",
      "----------------------------------------\n",
      "\n",
      "Thank you for shopping with us! Have a great day! 😊\n"
     ]
    }
   ],
   "source": [
    "while True:\n",
    "    amount = 0\n",
    "    name = input(\"Enter your name: \").strip()\n",
    "\n",
    "    while True:\n",
    "        print(\"\\nEnter the price and quantity of the item:\")\n",
    "\n",
    "        while True:\n",
    "            price_str = input(\"Price: \").strip()\n",
    "            if price_str.replace(\n",
    "                \".\", \"\", 1\n",
    "            ).isdigit():\n",
    "                price = float(price_str)\n",
    "                if price > 0:\n",
    "                    break\n",
    "                else:\n",
    "                    print(\"Price must be greater than zero.\")\n",
    "            else:\n",
    "                print(\"Invalid input. Please enter a valid numeric price.\")\n",
    "\n",
    "        while True:\n",
    "            quantity_str = input(\"Quantity: \").strip()\n",
    "            if quantity_str.isdigit():\n",
    "                quantity = int(quantity_str)\n",
    "                if quantity > 0:\n",
    "                    break\n",
    "                else:\n",
    "                    print(\"Quantity must be greater than zero.\")\n",
    "            else:\n",
    "                print(\"Invalid input. Please enter a valid quantity.\")\n",
    "\n",
    "        amount += price * quantity\n",
    "\n",
    "        repeat = input(\"Do you want to enter another item? (yes/no): \").strip().lower()\n",
    "        while repeat not in [\"yes\", \"no\"]:\n",
    "            repeat = (\n",
    "                input(\"Invalid input. Please enter 'yes' or 'no': \").strip().lower()\n",
    "            )\n",
    "        if repeat == \"no\":\n",
    "            break\n",
    "\n",
    "    print(\"-\" * 40)\n",
    "    print(f\"Customer Name: {name}\")\n",
    "    print(f\"Total Amount: ₹{amount:.2f}\")\n",
    "    print(\"-\" * 40)\n",
    "\n",
    "    n_person = input(\"Do you want to enter another person? (yes/no): \").strip().lower()\n",
    "    while n_person not in [\"yes\", \"no\"]:\n",
    "        n_person = input(\"Invalid input. Please enter 'yes' or 'no': \").strip().lower()\n",
    "    if n_person == \"no\":\n",
    "        break\n",
    "\n",
    "print(\"\\nThank you for shopping with us! Have a great day! 😊\")"
   ]
  },
  {
   "cell_type": "code",
   "execution_count": null,
   "metadata": {},
   "outputs": [],
   "source": []
  }
 ],
 "metadata": {
  "kernelspec": {
   "display_name": "Python 3",
   "language": "python",
   "name": "python3"
  },
  "language_info": {
   "codemirror_mode": {
    "name": "ipython",
    "version": 3
   },
   "file_extension": ".py",
   "mimetype": "text/x-python",
   "name": "python",
   "nbconvert_exporter": "python",
   "pygments_lexer": "ipython3",
   "version": "3.12.4"
  }
 },
 "nbformat": 4,
 "nbformat_minor": 2
}
