{
 "cells": [
  {
   "cell_type": "markdown",
   "metadata": {},
   "source": [
    "# Super Market Billing System"
   ]
  },
  {
   "cell_type": "code",
   "execution_count": null,
   "metadata": {},
   "outputs": [],
   "source": [
    "while True:\n",
    "    amount = 0\n",
    "    name = input(\"Enter your name: \")\n",
    "    while True:\n",
    "        print(\"Enter the price and quantity: \")\n",
    "        price = float(input(\"Price: \"))\n",
    "        quantity = int(input(\"Quantity: \"))\n",
    "        amount += price * quantity\n",
    "        repeat = input(\"Do you want to enter another item? (yes/no): \")\n",
    "        if repeat == \"no\":\n",
    "            break\n",
    "\n",
    "    print(\"-\" * 40)\n",
    "    print(f\"Customer Name: {name}\")\n",
    "    print(f\"The total amount is: {amount}\")\n",
    "    print(\"-\" * 40)\n",
    "\n",
    "    n_person = print(input(\"Do you want to enter another person? (yes/no): \"))\n",
    "    if n_person == \"no\":\n",
    "        break\n",
    "\n",
    "print(\"Thank you for shopping with us!\")"
   ]
  }
 ],
 "metadata": {
  "language_info": {
   "name": "python"
  }
 },
 "nbformat": 4,
 "nbformat_minor": 2
}
